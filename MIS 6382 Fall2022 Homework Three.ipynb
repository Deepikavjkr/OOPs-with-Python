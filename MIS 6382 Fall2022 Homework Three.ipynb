{
 "cells": [
  {
   "cell_type": "markdown",
   "id": "8e96aa19",
   "metadata": {},
   "source": [
    "<h1><center>MIS 6382 Fall 2022 Homework Three</center></h1>\n",
    "\n",
    "This assignment is worth __6%__ of the course grade and is due by __11:00 pm of 10/30/2022__.\n",
    "\n",
    "\n",
    "The following guidelines should be followed and will be used to grade your homework: \n",
    "-  Write code as directed for the questions below.\n",
    "-  This is an individual homework assignment; no group submissions will be accepted. Any evidence of cheating will result in severe penalties being imposed.\n",
    "-  Sample runs shown in the question should be used as a guide for implementation. However extensive testing needs to be done on your code to deal with all test cases that might possibly be executed.\n",
    "-  <font color = red>Any code with syntax errors will be awarded zero points.</font>\n",
    "-  Write your answers to each question in a cell immediately below the cell containing the question. \n",
    "-  Rename your .ipynb file by adding the first two letters of your firstname followed by the first two letters of your last name and submit the file as your response for this assignment."
   ]
  },
  {
   "cell_type": "markdown",
   "id": "9a6fed8d",
   "metadata": {},
   "source": [
    "<h2>Question One </h2>\n",
    " \n",
    "Write a program that accepts the __names__ and __prices__ and __quantities available__ of all the fruits in inventory.\n",
    "Next ask the user to enter name and quantity of each fruit that is purchased. Update your inventory as each sale is made. Once sales stop, your program should print out the total amount in sales.  \n",
    "You should make the following assumptions:  \n",
    "1.  The initial input for each fruit will be provided as a list. First accept the number of the types of fruits that will be sold.  \n",
    "2.  Each sale will consist of only one type of fruit sold.  \n",
    "3.  Sales stop as soon as the user requests more of a fruit than is available."
   ]
  },
  {
   "cell_type": "markdown",
   "id": "1785cdf9",
   "metadata": {},
   "source": [
    "<img src=\"HW3Q1Interaction.png\"\n",
    "     style=\"float: left; margin-right: 10px;\" />"
   ]
  },
  {
   "cell_type": "markdown",
   "id": "833c8749",
   "metadata": {},
   "source": [
    "<h2>Question Two </h2>\n",
    "\n",
    "Write a program that accepts the following information:\n",
    "1. Reads in the names of people who attended one or both events together with their total donation (if any) from `MIS6382 Fall2022-HW3Q2IInput.csv`.  \n",
    "2. Accepts a list of the donors who donated at the concert\n",
    "3. Accepts a list of the students who donated at the gala\n",
    "Your program should then do the following:  \n",
    "1. If a donor donated at both events, and their donation was greater than \\$5000, label them as 'Grade I'.  \n",
    "2. If a donor donated at both events, label them as 'Grade II'.  \n",
    "3. If a donor only donated at the gala, label them as 'Grade III'.  \n",
    "4. If a donor only donated at the concert, label them as 'Grade IV'.  \n",
    "5. If a donor donated at neither event, label them as 'Grade V'\n",
    "\n",
    "\n",
    "Your program should then print out the following information:\n",
    "1. The names of all people who only donated at the concert\n",
    "2. The names of all people who only donated at the gala\n",
    "3. The names of all people who donated at both events\n",
    "4. The names of all people who did not donate at either event\n",
    "5. The names and labels for all people\n",
    "\n",
    "<h3>To read a csv file</h3>\n",
    "\n",
    "The following lines of code open a csv file and read in the rows, one at a time. Each row is read in as a list.  The first element of the list contains the data from the first column and so on.  Copy these lines of code to the cell that will contain your solution to this question. You can then add whatever else is necessary to complete the question.  \n",
    "```python\n",
    "import csv\n",
    "with open('MIS6382 Fall2022-HW3Q2IInput.csv', newline='') as csvfile:\n",
    "    csvreader = csv.reader(csvfile, delimiter=',')\n",
    "    for row in csvreader:\n",
    "        st_name = row[0].strip()\n",
    "        st_score = int(row[1])\n",
    "```\n",
    "\n",
    "Note:   `MIS6382 Fall2022-HW3Q2IInput.csv` is only for test purposes.  You assignment will be graded with another file."
   ]
  },
  {
   "cell_type": "markdown",
   "id": "516870aa",
   "metadata": {},
   "source": [
    "<img src=\"HW3Q2Interaction.png\"\n",
    "     style=\"float: left; margin-right: 10px;\" />"
   ]
  },
  {
   "cell_type": "markdown",
   "id": "e2c04c2f",
   "metadata": {},
   "source": [
    " <h2>Question Three </h2>\n",
    "Write a function `process_lst()` that accepts a list as input. The list consists of integers or lists containing integers.  Your function should return a list that is the same length as the input list.  If the element in the input list is an integer, the output should contain the square of that element, if the element in the input list is a list of integers, then the output list should contain the sum of elements in the inner list.\n",
    "\n",
    "Then test out your function by calling it and printing out the result. Some sample interactions are shown below."
   ]
  },
  {
   "cell_type": "markdown",
   "id": "f72c0624",
   "metadata": {},
   "source": [
    "<img src=\"HW3Q3Interaction.png\"\n",
    "     style=\"float: left; margin-right: 10px;\" />"
   ]
  },
  {
   "cell_type": "markdown",
   "id": "729821ee",
   "metadata": {},
   "source": [
    "<h2>Question Four </h2>\n",
    "\n",
    "Write a Python program that accepts a list of passwords (separated by commas) from the user. For each password in the list, the program should call a function to verify whether or not the password is valid.  Valid passwords should meet the following rules:\n",
    "\n",
    "-  a.\tAt least 8 characters and no more than 15 characters\n",
    "-  b.   Must begin with two lower case alphabets   \n",
    "-  c.\tAt least one occurance of two consecutive uppercase letters\n",
    "-  d.   At least one occurance of a two digit number\n",
    "-  e.\tExactly one of one of the following special characters (#, %, @, &)\t"
   ]
  },
  {
   "cell_type": "markdown",
   "id": "4427b52f",
   "metadata": {},
   "source": [
    "<img src=\"HW3Q4Interaction.png\"\n",
    "     style=\"float: left; margin-right: 10px;\" />"
   ]
  }
 ],
 "metadata": {
  "kernelspec": {
   "display_name": "Python 3",
   "language": "python",
   "name": "python3"
  },
  "language_info": {
   "codemirror_mode": {
    "name": "ipython",
    "version": 3
   },
   "file_extension": ".py",
   "mimetype": "text/x-python",
   "name": "python",
   "nbconvert_exporter": "python",
   "pygments_lexer": "ipython3",
   "version": "3.8.8"
  }
 },
 "nbformat": 4,
 "nbformat_minor": 5
}
