{
 "cells": [
  {
   "cell_type": "markdown",
   "metadata": {},
   "source": [
    "<h2> Help  With Homework Four</h2>"
   ]
  },
  {
   "cell_type": "markdown",
   "metadata": {},
   "source": [
    "<font color = blue>This notebook provides some help with homework four.  This example is similar to the requirements of the homework.  I have used extensive commenting and markdown to explain the various steps.  You can follow the same logic or choose another approach.  The functionality of your code should meet all requirements stated in the assignment.</font>"
   ]
  },
  {
   "cell_type": "markdown",
   "metadata": {},
   "source": [
    "In this example we have a parent class called `LibraryBook` with two child classes \\-\\- `TextBook` and `Fiction`.  One of the instance variables of the parent class is of class type `Author`.  Revenue for the two derived classes is computed differently and hence both classes contain a method that overrides the method in the parent class.  \n",
    "\n",
    "_Instance Variables for the LibraryBook class:_ bookid, bookname, price, noOfCopies, bookAuthor\n",
    "\n",
    "_Instance Variables for the TextBook class:_ subject, discount\n",
    "\n",
    "_Instance Variables for the Fiction class:_ isHardCover?\n",
    "\n",
    "_Instance Variables for the Author class:_ author_name, genre\n",
    "\n",
    "_Revenue for Fiction books is computed as follows:_\n",
    "Number of books times the price for soft cover books.  If the book is a hardcover book, then revenue is number of books times 3 times the price.\n",
    "\n",
    "_Revenue for Textbooks is computed as follows:_\n",
    "If the number of books is greater than or equal to 15, then revenue is  (1- discount/100) * the book price * the number of books.  Otherwise, revenue is book price * the number of books.\n",
    "\n",
    "The basic structure for this problem definition is provided in the example.  You can follow this structure to deal with homework four.  \n",
    "You must write an application that will allow the user to:\n",
    "1. add a new book, \n",
    "2. display all books together with their revenue and \n",
    "3. exit the system\n",
    "\n",
    "The menu options above will be repeatedly displayed to the user until the user selects option 3 and exits the system.  Every time the application is executed, books added in previous rounds must also be available in the file.\n",
    "\n",
    "These requirements are very similar to the requirements for your homework.  You can use this example as a template for doing homework four.\n"
   ]
  },
  {
   "cell_type": "markdown",
   "metadata": {},
   "source": [
    "</h2><font color = blue>The Color Class</font></h2>\n",
    "\n",
    "The `Color` class defined below can be used to print out formatted output.  For example to print out your string in blue, use:  `print(color.BLUE+'Your text'+color.END)`\n",
    "\n",
    "You can use this formatting in your homework if you desire."
   ]
  },
  {
   "cell_type": "code",
   "execution_count": null,
   "metadata": {},
   "outputs": [],
   "source": [
    "class color:\n",
    "   PURPLE = '\\033[95m'\n",
    "   CYAN = '\\033[96m'\n",
    "   DARKCYAN = '\\033[36m'\n",
    "   BLUE = '\\033[94m'\n",
    "   GREEN = '\\033[92m'\n",
    "   YELLOW = '\\033[93m'\n",
    "   RED = '\\033[91m'\n",
    "   BOLD = '\\033[1m'\n",
    "   UNDERLINE = '\\033[4m'\n",
    "   END = '\\033[0m'\n"
   ]
  },
  {
   "cell_type": "code",
   "execution_count": null,
   "metadata": {},
   "outputs": [],
   "source": [
    "import sys\n",
    "import pickle"
   ]
  },
  {
   "cell_type": "markdown",
   "metadata": {},
   "source": [
    "<h3><font color = blue>Class Definition for Author class</font></h3>\n",
    "\n",
    "The `__init()__` method of the Author class accepts parameters for all instance variables.\n",
    "\n",
    "The redefined `__str__()` method and returns a string that contains the values  of the two instance variables of the Author object"
   ]
  },
  {
   "cell_type": "code",
   "execution_count": null,
   "metadata": {},
   "outputs": [],
   "source": [
    "class Author:\n",
    "    def __init__(self, aunm, bkgn):\n",
    "        self.author_name = aunm\n",
    "        self.__book_genre = bkgn\n",
    "        \n",
    "    def __str__(self):\n",
    "        return \"Author Name: \" + self.author_name + \"; Book Genre: \" + self.book_genre "
   ]
  },
  {
   "cell_type": "markdown",
   "metadata": {},
   "source": [
    "<h3><font color = blue>Class Definition for LibraryBook class</font></h3>\n",
    "\n",
    "The `__init()__` method of the LibraryBook class accepts parameters for all instance variables including the ones needed for the Author class.   Since this example uses Aggregation to associate the Author object with the LibraryBook object, an object of the Author class is passed as an argument.\n",
    "\n",
    "The `compute_revenue()` method defined below just serves as a placeholder.  It will be overridden by the `compute_revenue()` method defined in the TextBook class or Fiction class as appropriate. The keyword `pass` is needed to complete the class definition.\n",
    "\n",
    "The `__str__()` method creates a string containing the values of all the instance variables of the LibraryBook class.  It then calls the Author class's `__str__()` method and concatenates to the string that is returned."
   ]
  },
  {
   "cell_type": "code",
   "execution_count": null,
   "metadata": {},
   "outputs": [],
   "source": [
    "class LibraryBook:\n",
    " \n",
    "    def __init__(self, bkid, bknm, bkprice,noCopies,bkauthor):\n",
    "        self.book_id = bkid\n",
    "        self.book_name = bknm\n",
    "        self.book_price = bkprice\n",
    "        self.no_of_copies = noCopies\n",
    "        self.book_author = bkauthor\n",
    "\n",
    "    def compute_revenue(self):\n",
    "        pass\n",
    "    \n",
    "    def __str__(self):\n",
    "        allData = \"\\nBook Id: \" + self.book_id + \"; Book Name: \" + self.book_name\n",
    "        allData += \"; Book Price: \" + self.book_price + \"; Number of Copies: \" + self.no_of_copies\n",
    "        allData +=  \"\\n\" + self.book_author.__str__()\n",
    "        return allData\n"
   ]
  },
  {
   "cell_type": "markdown",
   "metadata": {},
   "source": [
    "<h3><font color = blue>Class Definition for Fiction class</font></h3>\n",
    "\n",
    "The `__init()__` method of the Fiction class accepts parameters for all instance variables inncluding the ones needed for the LibraryBook class as well as the ones for the Author class.  Note that the `__init__()` method defined below calls the superclass `__init__()` method passing to it all arguments required by the LibraryBook class as well as the Author class.\n",
    "\n",
    "The `compute_revenue()` method defined below will override the `compute_revenue()` method defined in the LibraryBook class for all objects which are instances of the Fiction class\n",
    "\n",
    "The `__str__()` method first calls the super class's `__str__()` method and then concatenates to the string that is returned, the values of all instance variables that are specific to the Fiction class."
   ]
  },
  {
   "cell_type": "code",
   "execution_count": null,
   "metadata": {},
   "outputs": [],
   "source": [
    "class Fiction(LibraryBook):\n",
    "\n",
    "    def __init__(self, bkid, bknm, bkprice,noCopies,bkauthor, isHC):\n",
    "        super().__init__(bkid, bknm, bkprice,noCopies,bkauthor)\n",
    "        self.isHardCover = isHC\n",
    "        \n",
    "    def compute_revenue(self):\n",
    "        nc = self.no_of_copies\n",
    "        if self.isHardCover: \n",
    "            return 3 * nc * self.book_price\n",
    "        else:\n",
    "            return nc * self.book_price\n",
    "\n",
    "    def __str__(self):\n",
    "\n",
    "        childData = super().__str__()\n",
    "        childData = \"\\nDetails of this Fiction Book are:\" + childData\n",
    "        childData += \"\\nIs the Book Hard Cover?: \" + self.isHardCover\n",
    "        return childData\n"
   ]
  },
  {
   "cell_type": "markdown",
   "metadata": {},
   "source": [
    "<h3><font color = blue>Class Definition for Textbook class</font></h3>\n",
    "\n",
    "The `__init()__` method of the Textbook class accepts parameters for all instance variables inncluding the ones needed for the LibraryBook class as well as the ones for the Author class.  Note that the `__init__()` method defined below calls the superclass `__init__()` method passing to it all arguments required by the LibraryBook class as well as the Author class.\n",
    "\n",
    "The `compute_revenue()` method defined below will override the `compute_revenue()` method defined in the LibraryBook class for all objects which are instances of the Textbook class\n",
    "\n",
    "The `__str__()` method first calls the super class's `__str__()` method and then concatenates to the string that is returned, the values of all instance variables that are specific to the Fiction class."
   ]
  },
  {
   "cell_type": "code",
   "execution_count": null,
   "metadata": {},
   "outputs": [],
   "source": [
    "class TextBook(LibraryBook): #The TextBook class inherits from the LibraryBook class\n",
    "\n",
    "    def __init__(self, bkid, bknm, bkprice,noCopies,bkauthor, sub, disc):\n",
    "        super().__init__(bkid, bknm, bkprice,noCopies,bkauthor)\n",
    "        self.discount = disc\n",
    "        self.subject = sub\n",
    "\n",
    "    def compute_revenue(self):\n",
    "        nc = self.no_of_copies\n",
    "        if nc > 15:\n",
    "            return (1 - self.__discount/100) * nc * self.book_price\n",
    "        else:\n",
    "            return nc * self.book_price\n",
    "\n",
    "    def __str__(self):\n",
    "\n",
    "        childData = super().__str__()\n",
    "        childData = \"\\nDetails of this Textbook are:\" + childData\n",
    "        childData += f\"\\nSubject: \" + self.subject + '; Discount: ' + '{self.discount:.2f}'\n",
    "        return childData"
   ]
  },
  {
   "cell_type": "markdown",
   "metadata": {},
   "source": [
    "<h2><font color = blue>The Library Book Application</font></h2>\n",
    "<h3><font color = blue>The run_menu_options() function</font></h3>\n",
    "\n",
    "The program is started by executing the `run_menu_options()` function.\n",
    "\n",
    "The run_menu_options() first calls the `read_file_data()` method and stores the returned list into book_list.  It then asks the user to enter one of three option, add a book, print the revenue or exit the application.  Based on the option selected, the method calls `run_option1()`, `run_option2()`, or `run_option3()`.  Asking the user to select an option and executing the appropriate method is done repeatedly until the user exits the program.\n",
    "\n",
    "When the user selects 3 to exit the program, `runoption_3()` will be executed.  This function returns a value other than 1, 2, or 3.  (I have arbitrarily chosen 6, but anything other than 1, 2, or 3 can be returned).  This will cause the `while` loop in the `run_options_menu()` to terminate and the program will terminate after printing out a message."
   ]
  },
  {
   "cell_type": "code",
   "execution_count": null,
   "metadata": {},
   "outputs": [],
   "source": [
    "def run_menu_options():\n",
    "    book_list = read_file_data()\n",
    "    cur_book_count = len(book_list)\n",
    "    sel = 1\n",
    "\n",
    "    # Setup a while loop to get a response from the user and call the appropriate method.\n",
    "    while sel >=  1 and sel <= 3:\n",
    "        print(\"\\n==== Menu ====\")\n",
    "        print(\"1. To add a Book\")\n",
    "        print(\"2. To print the names of all books together with their revenue\")\n",
    "        print(\"3. To exit program\")\n",
    "\n",
    "        # If the user enters an invalid value, a message is printed and the options are displayed again.\n",
    "        try:\n",
    "            sel = int(input(\"Your selection: \"))\n",
    "            if sel < 1 or sel > 3:\n",
    "                raise ValueError\n",
    "        except ValueError:\n",
    "            print('You must enter an integer between 1 and 3!')\n",
    "            print('Try again')\n",
    "            sel = 1\n",
    "            continue\t\t\n",
    "\n",
    "        if sel == 1:\n",
    "            book_list.append(run_option1())\n",
    "        elif sel == 2:\n",
    "            if len(book_list) == 0: #This check displays an appropriate message if the user selects option 2 when there is no data in the file,\n",
    "                print(\"No books in database!\")\n",
    "            else:\n",
    "                run_option2(book_list) #call run_option2() by passing it a list containing the current book objects in the inventory\n",
    "        elif sel == 3:\n",
    "            sel = run_option3(book_list, cur_book_count) #call run_option3() by passing it a list containing the current book objects in the inventory\n",
    "    print(color.BOLD+color.RED+\"Exiting the program!  Goodbye!\"+color.END)\n",
    "    "
   ]
  },
  {
   "cell_type": "markdown",
   "metadata": {},
   "source": [
    "<h3><font color = blue>The read_file_data() function</font></h3>\n",
    "\n",
    "This method reads the binary file containing all the library books that are currently in the database and stores it in a list. Once all the book objects have been read into the list, it returns the list to the calling method.\t"
   ]
  },
  {
   "cell_type": "code",
   "execution_count": null,
   "metadata": {},
   "outputs": [],
   "source": [
    "def read_file_data():\n",
    "    my_lst = [] #Create an empty list\n",
    "    try:\n",
    "        #Call the open command within a try block.  Note that the file is opend for binary read.\n",
    "        fb = open('bookdata.dat', 'rb') \n",
    "    except FileNotFoundError:\n",
    "\n",
    "        #If the file is not there (this will be the case, the first time the program is executed), \n",
    "        #the empty file is returned.\n",
    "        return my_lst \n",
    "\n",
    "    #If there is no error reading the file, the rest of the code is executed.\n",
    "    else: \n",
    "        try:\n",
    "\n",
    "            #This is a repeated loop which will terminate only when the EOFError occurs.\n",
    "            while (True): \n",
    "\n",
    "                #This statement reads the next object from the file and appends it to the list\n",
    "                my_lst.append(pickle.load(fb))\n",
    "\n",
    "        #When the EOFError occurs, the file is closed and the list \n",
    "        #(containing all the book objects that have just been read) is returned.\n",
    "        except EOFError: \n",
    "            \n",
    "            fb.close()\n",
    "            return my_lst"
   ]
  },
  {
   "cell_type": "markdown",
   "metadata": {},
   "source": [
    "\n",
    "<h3><font color = blue>The run_option1() function</font></h3>"
   ]
  },
  {
   "cell_type": "code",
   "execution_count": null,
   "metadata": {},
   "outputs": [],
   "source": [
    "def run_option1():\n",
    "    sel = 0\n",
    "    # Ask the user to enter the type of book to be added. \n",
    "    while sel < 1 or sel > 3: #Repeat the prompt until the user enters an valid value of 1, 2, or 3\n",
    "        try:\n",
    "            sel = int(input(\"Type of Library Book?(1-Text Book;2-Fiction) : \"))\n",
    "        except ValueError: \n",
    "            print('Wrong selection!')\n",
    "            continue\t\t\n",
    "    # Call the get_book_input() method and store the values in the appropriate variables\n",
    "    id, nm, pr, nc = get_book_input()\n",
    "\n",
    "    # Call the get_author_input() method and store the values in the appropriate variables\n",
    "    a_nm, g = get_author_input()\n",
    "    an_auth = Author(a_nm, g) #Create an Author object\n",
    "\n",
    "    #Call the get_textbook_input() or the get_fiction_input() method based on the user's selection\n",
    "    #and then create the appropriate book object\n",
    "    if sel == 1:\n",
    "        sub, disc = get_textbook_input()\n",
    "        a_book = TextBook(id, nm, pr, nc, an_auth,sub, disc)\n",
    "    elif sel == 2:\n",
    "        ishc = get_fiction_input()\n",
    "        a_book = Fiction(id, nm, pr, nc, an_auth,ishc)\n",
    "    return a_book #Return the book object to the calling method\n",
    "\n"
   ]
  },
  {
   "cell_type": "markdown",
   "metadata": {},
   "source": [
    "<h3><font color = blue>The run_option2() function</font></h3>\n"
   ]
  },
  {
   "cell_type": "code",
   "execution_count": null,
   "metadata": {},
   "outputs": [],
   "source": [
    "def run_option2(my_lst):\n",
    "\n",
    "    #First print the column headings\n",
    "    print(\"\\nBook Name\\t\\t\\tRevenue\")\n",
    "    print(\"=======================\\t\\t===========\")\n",
    "\n",
    "    '''\n",
    "        Then, for each object in the list that was passed as an argument to this method, compute the\n",
    "        revenue and print out the revenue together with the book name.\n",
    "        Note the role of polymorphism here.  The list contains both TextBook objects as well as Fiction objects.\n",
    "        When the compute_revenue() method is called, the appropriate method is executed based on whether the calling\n",
    "        object is a Fiction object or a TextBook object.\n",
    "    '''\n",
    "    for obj in my_lst:\n",
    "        rev = obj.compute_revenue()\n",
    "        print('{0} \\t\\t${1:0.2f}'.format(obj.book_name, rev))\n"
   ]
  },
  {
   "cell_type": "markdown",
   "metadata": {},
   "source": [
    "<h3><font color = blue>The run_option3() function</font></h3>\n",
    "\n",
    "This function is executed when the user selects option 3.  After confirming that the user really wants to exit the program, the new books that were added to the application are written out to the `bookdata.dat` file after opening the file in `ab` mode.  The file is closed and a value other than 1, 2 or 3 is returned.  This will "
   ]
  },
  {
   "cell_type": "code",
   "execution_count": null,
   "metadata": {},
   "outputs": [],
   "source": [
    "\n",
    "def run_option3(my_lst, cur_count):\n",
    "\n",
    "    #The program first confirms that the user really wants to exit the program\n",
    "    print(color.BLUE+\"You chose to exit the program\"+color.END)\n",
    "    yes_no = input(color.BOLD+color.BLUE+\"Are you sure (Y/N)? \"+color.END)\n",
    "    '''\n",
    "        Then the bookdata.dat file is opened for output and all the book objects in the list are written out to the file.\n",
    "        The file is then closed.\n",
    "        Finally we exit the program.\n",
    "    '''\n",
    "    if yes_no.lower() == 'y':\n",
    "        fb = open('bookdata.dat', 'ab')\n",
    "        for obj in my_lst[cur_count:]:\n",
    "            pickle.dump(obj, fb)\n",
    "        fb.close()\n",
    "        return(6)\n"
   ]
  },
  {
   "cell_type": "markdown",
   "metadata": {},
   "source": [
    "<h3><font color = blue>Functions to get user input</font></h3>\n",
    "\n",
    "Each of the four methods below accept input for the relevant instance variables.  Exception handling is used to ensure that the user enters valid values for the variables."
   ]
  },
  {
   "cell_type": "code",
   "execution_count": null,
   "metadata": {},
   "outputs": [],
   "source": [
    "\n",
    "def get_book_input():\n",
    "    bk_id = input('Enter the book\\'s id: ')\n",
    "    bk_name = input('Enter the book\\'s name: ')\n",
    "    err_flg = True\t\n",
    "    while err_flg:\n",
    "        try:\n",
    "            bk_price = float(input('Enter the price of the book: '))\n",
    "        except ValueError:\n",
    "            print('\\nEnter a numerical value for price!!')\n",
    "        else:\n",
    "            err_flg = False\n",
    "    err_flg = True\n",
    "    while err_flg:\n",
    "        try:\n",
    "            bk_no_copies = int(input('Enter the number of copies of this book: '))\n",
    "        except ValueError:\n",
    "            print('\\nEnter an integer value for the number of copies!!')\n",
    "        else:\n",
    "            err_flg = False\t\n",
    "    return (bk_id, bk_name, bk_price, bk_no_copies)\n",
    "\n",
    "def get_author_input():\n",
    "    au_name = input('Enter the author\\'s name: ')\n",
    "    bk_gn = input('Enter the book genre the author specializes in: ')\n",
    "    return (au_name, bk_gn)\n",
    "\n",
    "def get_textbook_input():\n",
    "    err_flg = True\n",
    "    while err_flg:\n",
    "        try:\n",
    "            disc = float(input('Enter the quantity discount in percentage: '))\n",
    "        except ValueError:\n",
    "            print('\\nEnter a numerical value for the discount!!')\n",
    "        else:\n",
    "            err_flg = False\n",
    "    sub =input('Enter the subject the book deals with: ')\n",
    "    return (sub, disc)\n",
    "\n",
    "def get_fiction_input():\n",
    "    err_flg = True\n",
    "    while err_flg:\n",
    "        try:\n",
    "            ishc = input('Does the book have a hard cover? Enter \"Yes\" or \"No\": ')\n",
    "            if ishc == 'Yes':\n",
    "                ishc = True\n",
    "            elif ishc == 'No':\n",
    "                ishc = False\n",
    "            else:\n",
    "                raise ValueError\n",
    "        except ValueError:\n",
    "            print('\\nEnter a value of \\'Yes\\' or \\'No\\' only!!')\n",
    "        else:\n",
    "            err_flg = False\n",
    "    err_flg = True\n",
    "\n",
    "    return (ishc)"
   ]
  },
  {
   "cell_type": "code",
   "execution_count": null,
   "metadata": {},
   "outputs": [],
   "source": [
    "run_menu_options()"
   ]
  }
 ],
 "metadata": {
  "kernelspec": {
   "display_name": "Python 3 (ipykernel)",
   "language": "python",
   "name": "python3"
  },
  "language_info": {
   "codemirror_mode": {
    "name": "ipython",
    "version": 3
   },
   "file_extension": ".py",
   "mimetype": "text/x-python",
   "name": "python",
   "nbconvert_exporter": "python",
   "pygments_lexer": "ipython3",
   "version": "3.9.12"
  }
 },
 "nbformat": 4,
 "nbformat_minor": 4
}
