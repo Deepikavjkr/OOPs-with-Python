{
 "cells": [
  {
   "cell_type": "markdown",
   "id": "c75d9f9b",
   "metadata": {},
   "source": [
    "<h2>Some other useful functions</h2>\n",
    "\n",
    "In this notebook, we discuss a few other useful functions."
   ]
  },
  {
   "cell_type": "markdown",
   "id": "19cf2719",
   "metadata": {},
   "source": [
    "<h3>The <font color=blue>zip()</font> function</h3>"
   ]
  },
  {
   "cell_type": "markdown",
   "id": "da6533f0",
   "metadata": {},
   "source": [
    "The `zip()` function returns a zip object, which is an iterable of tuples where the first item from each passed iterable are paired together, then the second item from each iterable are paired together etc.\n",
    "\n",
    "If the passed iterables have different lengths, the iterable with the least items decides the length of the new iterable.\n",
    "The syntax is as shown below:\n",
    "`zip(*iterables)`\n",
    "\n",
    "As can be seen from the syntax the `zip()` function can accept multiple iterables"
   ]
  },
  {
   "cell_type": "code",
   "execution_count": 1,
   "id": "4ee6f092",
   "metadata": {},
   "outputs": [
    {
     "name": "stdout",
     "output_type": "stream",
     "text": [
      "('John', 'Jenny')\n",
      "('Charles', 'Christy')\n",
      "('Mike', 'Monica')\n"
     ]
    }
   ],
   "source": [
    "a = (\"John\", \"Charles\", \"Mike\")\n",
    "b = (\"Jenny\", \"Christy\", \"Monica\", \"Vicky\")\n",
    "\n",
    "x = zip(a, b)\n",
    "for i in x:\n",
    "    print(i)"
   ]
  },
  {
   "cell_type": "markdown",
   "id": "9c1dbd80",
   "metadata": {},
   "source": [
    "In the example below, the three iterables passed to `zip()` are of different types. Also note that the length of each of the iterables is different.  The length of the iterable that is returned is equal to the shortest iterable among the arguments passed to the function"
   ]
  },
  {
   "cell_type": "code",
   "execution_count": 2,
   "id": "6f1e1ac7",
   "metadata": {},
   "outputs": [
    {
     "name": "stdout",
     "output_type": "stream",
     "text": [
      "(1, 'one', 'ONE')\n",
      "(2, 'two', 'TWO')\n"
     ]
    }
   ],
   "source": [
    "num_list = [1, 2, 3]\n",
    "str_list = ['one', 'two']\n",
    "num_tuple = ('ONE', 'TWO', 'THREE', 'FOUR')\n",
    "combo = zip(num_list, str_list, num_tuple)\n",
    "for ele in combo:\n",
    "    print(ele)"
   ]
  },
  {
   "cell_type": "code",
   "execution_count": 1,
   "id": "436f5e21",
   "metadata": {},
   "outputs": [
    {
     "name": "stdout",
     "output_type": "stream",
     "text": [
      "(1, 'one', 'ONE')\n",
      "(2, 'two', 'TWO')\n"
     ]
    }
   ],
   "source": [
    "num_list = [1, 2, 3,4]\n",
    "str_list = ['one', 'two']\n",
    "num_tuple = ('ONE', 'TWO', 'THREE', 'FOUR')\n",
    "combo = zip(num_list, str_list, num_tuple)\n",
    "for ele in combo:\n",
    "    print(ele)"
   ]
  },
  {
   "cell_type": "markdown",
   "id": "7aff16ba",
   "metadata": {},
   "source": [
    "<h3>The <font color = blue>enumerate()</font> function</h3>\n",
    "\n",
    "The `enumerate()` function adds a counter to an iterable and returns it. The returned object is an enumerate object.\n",
    "\n",
    "Syntax is `enumerate(iterable, [start])`"
   ]
  },
  {
   "cell_type": "markdown",
   "id": "033a81af",
   "metadata": {},
   "source": [
    "In the example below we create an `enumerate` object.   "
   ]
  },
  {
   "cell_type": "code",
   "execution_count": 3,
   "id": "d71d73f1",
   "metadata": {},
   "outputs": [
    {
     "name": "stdout",
     "output_type": "stream",
     "text": [
      "<class 'enumerate'>\n",
      "[(0, 'bread'), (1, 'milk'), (2, 'butter')]\n"
     ]
    }
   ],
   "source": [
    "grocery = ['bread', 'milk', 'butter']\n",
    "enumerateGrocery = enumerate(grocery)\n",
    "print(type(enumerateGrocery))\n",
    "\n",
    "# converting to list\n",
    "print(list(enumerateGrocery))"
   ]
  },
  {
   "cell_type": "markdown",
   "id": "cc59b041",
   "metadata": {},
   "source": [
    "The optional `start` argument changes the start value of the counter from a default of 0 to whatever you set it to."
   ]
  },
  {
   "cell_type": "code",
   "execution_count": 4,
   "id": "091ede33",
   "metadata": {},
   "outputs": [
    {
     "name": "stdout",
     "output_type": "stream",
     "text": [
      "[(10, 'bread'), (11, 'milk'), (12, 'butter')]\n"
     ]
    }
   ],
   "source": [
    "# changing the default counter\n",
    "enumerateGrocery = enumerate(grocery, 10)\n",
    "print(list(enumerateGrocery))"
   ]
  },
  {
   "cell_type": "markdown",
   "id": "49d68daf",
   "metadata": {},
   "source": [
    "The most common use of `enumerate()` is when you need both the value of an iterable as well as its index.\n",
    "\n",
    "Let us suppose you have two lists, one with student name and the other with the student's score in an exam and you wish to print out the names of those students who scored more than 90.\n",
    "\n",
    "One option is as shown below."
   ]
  },
  {
   "cell_type": "code",
   "execution_count": 5,
   "id": "2b68ec07",
   "metadata": {},
   "outputs": [
    {
     "name": "stdout",
     "output_type": "stream",
     "text": [
      "Cathy has a score of 95\n",
      "David has a score of 92\n"
     ]
    }
   ],
   "source": [
    "name_lst = ['Amy', 'Bill', 'Cathy', 'David']\n",
    "score_lst = [89, 78, 95, 92]\n",
    "\n",
    "for ele in score_lst:\n",
    "    if ele > 90:\n",
    "        sname = name_lst[score_lst.index(ele)]\n",
    "        print(f'{sname} has a score of {ele}')\n",
    "    "
   ]
  },
  {
   "cell_type": "markdown",
   "id": "183a921a",
   "metadata": {},
   "source": [
    "A simpler and more Pythonic approach is to use the `enumerate()` function.\n",
    "\n",
    "You should use `enumerate()` anytime you need to use both the count of an item as well as the item itself in a loop. \n",
    "In the code below, note the following: \n",
    "1.  we provide the __score_lst__ as an argument to the `enumerate()` function\n",
    "2.  instead of just one variable the `for` loop now returns two variables - __count__ and __ele__.  \n"
   ]
  },
  {
   "cell_type": "code",
   "execution_count": 6,
   "id": "6ceac9e2",
   "metadata": {},
   "outputs": [
    {
     "name": "stdout",
     "output_type": "stream",
     "text": [
      "Bill has a score of 98\n",
      "David has a score of 92\n"
     ]
    }
   ],
   "source": [
    "name_lst = ['Amy', 'Bill', 'Cathy', 'David']\n",
    "score_lst = [89, 98, 75, 92]\n",
    "\n",
    "for count, ele in enumerate(score_lst):\n",
    "    if ele > 90:\n",
    "        sname = name_lst[count]\n",
    "        print(f'{sname} has a score of {ele}')"
   ]
  },
  {
   "cell_type": "markdown",
   "id": "553165de",
   "metadata": {},
   "source": [
    "<h2>The <font color = blue>any()</font> function</h2>\n",
    "\n",
    "The `any()` function accepts an iterable as an argument and return True if at least one of the elements is True"
   ]
  },
  {
   "cell_type": "code",
   "execution_count": 10,
   "id": "0527ceed",
   "metadata": {},
   "outputs": [
    {
     "name": "stdout",
     "output_type": "stream",
     "text": [
      "True\n"
     ]
    }
   ],
   "source": [
    "l1 = [False, 0, 'fgf']\n",
    "print(any(l1))"
   ]
  },
  {
   "cell_type": "code",
   "execution_count": null,
   "id": "35bf1a23",
   "metadata": {},
   "outputs": [],
   "source": [
    "# anyting except o is True, '' is False."
   ]
  },
  {
   "cell_type": "code",
   "execution_count": 2,
   "id": "c1194fc1",
   "metadata": {},
   "outputs": [
    {
     "name": "stdout",
     "output_type": "stream",
     "text": [
      "True\n"
     ]
    }
   ],
   "source": [
    "my_lst = [5,(5,8),(9,12,14),16]\n",
    "print(any(type(x)==tuple for x in my_lst))"
   ]
  },
  {
   "cell_type": "code",
   "execution_count": 3,
   "id": "8231a702",
   "metadata": {},
   "outputs": [
    {
     "name": "stdout",
     "output_type": "stream",
     "text": [
      "True\n"
     ]
    }
   ],
   "source": [
    "h = [2, 3, 7, 9, 8, 11]\n",
    "\n",
    "print(any(x>5 for x in h))"
   ]
  },
  {
   "cell_type": "markdown",
   "id": "d54d6c22",
   "metadata": {},
   "source": [
    "When the `any()` function is applied on a dictionary, True will be returned if at least one of the __keys__ of the dictionary are True"
   ]
  },
  {
   "cell_type": "code",
   "execution_count": 5,
   "id": "edef4779",
   "metadata": {},
   "outputs": [
    {
     "name": "stdout",
     "output_type": "stream",
     "text": [
      "True\n"
     ]
    }
   ],
   "source": [
    "my_dict = {0:'Hello', True:15, False:23}\n",
    "print(any(my_dict))"
   ]
  },
  {
   "cell_type": "markdown",
   "id": "97f8a3ee",
   "metadata": {},
   "source": [
    "<h3>The <font color = blue>all()</font> function</h3>\n",
    "\n",
    "The `all()` function accepts an iterable as an argument and return True if every one of the elements is True"
   ]
  },
  {
   "cell_type": "code",
   "execution_count": 19,
   "id": "0ac7438f",
   "metadata": {},
   "outputs": [
    {
     "name": "stdout",
     "output_type": "stream",
     "text": [
      "True\n"
     ]
    }
   ],
   "source": [
    "l1 = [False, 0, '', True]\n",
    "print(all(l1))"
   ]
  },
  {
   "cell_type": "code",
   "execution_count": 21,
   "id": "182778f2",
   "metadata": {},
   "outputs": [
    {
     "name": "stdout",
     "output_type": "stream",
     "text": [
      "True\n"
     ]
    }
   ],
   "source": [
    "my_lst = [(5,8),(9,12,14)]\n",
    "print(all(type(x)==tuple for x in my_lst))"
   ]
  },
  {
   "cell_type": "code",
   "execution_count": 23,
   "id": "6c51a377",
   "metadata": {},
   "outputs": [
    {
     "name": "stdout",
     "output_type": "stream",
     "text": [
      "True\n"
     ]
    }
   ],
   "source": [
    "h = [7, 9, 8, 11]\n",
    "\n",
    "print(all(x>5 for x in h))"
   ]
  },
  {
   "cell_type": "markdown",
   "id": "475eeb7c",
   "metadata": {},
   "source": [
    "When the `all()` function is applied on a dictionary, True will be returned only if all of the __keys__ of the dictionary are True"
   ]
  },
  {
   "cell_type": "code",
   "execution_count": 25,
   "id": "19876cc5",
   "metadata": {},
   "outputs": [
    {
     "name": "stdout",
     "output_type": "stream",
     "text": [
      "True\n"
     ]
    }
   ],
   "source": [
    "my_dict = {10:'Hello', 'True':15, 'False':23} # true since they are strings\n",
    "print(all(my_dict))"
   ]
  },
  {
   "cell_type": "markdown",
   "id": "f2f5b77d",
   "metadata": {},
   "source": [
    "<h2>Finding the execution time for a program</h2>\n",
    "\n",
    "We often need to find out how long it takes for a program, or a particulkar segment of the code, to execute.\n",
    "To do this we use the `time` module.\n",
    "\n",
    "The `time()` function in the __time__ module is used to find the total clock time taken for a program to execute.  We call the `time()` function just before the start of the main code whose execution time we want to determine.  We call the `time()` function again after the main code.  The difference between these two times will give us the total (clock) time taken to execute the code.\n",
    "\n",
    "The `process_time()` function in the __time__ module is used to find the total cpu time taken for a program to execute.  Using the same logic as above, we call the `process_time()` function before and after the main code.  The difference will give us the cpu time used by the code."
   ]
  },
  {
   "cell_type": "code",
   "execution_count": 30,
   "id": "07dd8a18",
   "metadata": {},
   "outputs": [
    {
     "name": "stdout",
     "output_type": "stream",
     "text": [
      "Sum of first 1 million numbers is: 499999500000\n",
      "Elapsed Execution time: 0.07301712036132812 seconds\n",
      "CPU Execution time: 0.0625 seconds\n"
     ]
    }
   ],
   "source": [
    "import time\n",
    "\n",
    "# get the start time\n",
    "st_elapsed_time = time.time()\n",
    "st_cpu_time = time.process_time()\n",
    "\n",
    "# main program\n",
    "# find sum to first 1 million numbers\n",
    "sum_x = 0\n",
    "for i in range(1000000):\n",
    "    sum_x += i\n",
    "\n",
    "# wait for 3 seconds\n",
    "#time.sleep(3)\n",
    "print('Sum of first 1 million numbers is:', sum_x)\n",
    "\n",
    "# get the end time\n",
    "et_elapsed_time = time.time()\n",
    "et_cpu_time = time.process_time()\n",
    "# get the execution time\n",
    "elapsed_time = et_elapsed_time - st_elapsed_time\n",
    "cpu_time = et_cpu_time - st_cpu_time\n",
    "print(f'Elapsed Execution time: {elapsed_time} seconds')\n",
    "print(f'CPU Execution time: {cpu_time} seconds')\n"
   ]
  }
 ],
 "metadata": {
  "kernelspec": {
   "display_name": "Python 3 (ipykernel)",
   "language": "python",
   "name": "python3"
  },
  "language_info": {
   "codemirror_mode": {
    "name": "ipython",
    "version": 3
   },
   "file_extension": ".py",
   "mimetype": "text/x-python",
   "name": "python",
   "nbconvert_exporter": "python",
   "pygments_lexer": "ipython3",
   "version": "3.9.12"
  }
 },
 "nbformat": 4,
 "nbformat_minor": 5
}
