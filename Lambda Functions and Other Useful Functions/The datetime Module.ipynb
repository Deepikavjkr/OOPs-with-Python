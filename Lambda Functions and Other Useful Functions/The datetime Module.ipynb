{
 "cells": [
  {
   "cell_type": "markdown",
   "metadata": {},
   "source": [
    "<h2>Working with Dates in Python</h2>\n",
    "\n",
    "In this notebook we will take a look at the `datetime` module.\n",
    "\n",
    "Specifically, we will study the following classes:  \n",
    "\n",
    "- `date`  \n",
    "- `time`  \n",
    "- `datetime`  \n",
    "- `timedelta`  \n",
    "\n",
    "We will also study the `strftime()` method."
   ]
  },
  {
   "cell_type": "markdown",
   "metadata": {},
   "source": [
    "<h3><font color=blue>Date class</font></h3>\n",
    "\n",
    "The constructor for the `date` class accepts three parameters for `year`, `month` and `day` in that order.  All three are required parameters.  If invalid values are passed for any of the parameters, an `ValueError` will result.\n"
   ]
  },
  {
   "cell_type": "code",
   "execution_count": 1,
   "metadata": {},
   "outputs": [
    {
     "name": "stdout",
     "output_type": "stream",
     "text": [
      "Date passed as argument is 2016-11-21\n"
     ]
    }
   ],
   "source": [
    "from datetime import date\n",
    " \n",
    "my_date = date(2016, 11, 21)\n",
    "print(\"Date passed as argument is\", my_date)"
   ]
  },
  {
   "cell_type": "markdown",
   "metadata": {},
   "source": [
    "You can retrieve the individual components of a date  by using the appropriate attributes:  `year`, `month`, `day`"
   ]
  },
  {
   "cell_type": "code",
   "execution_count": 2,
   "metadata": {},
   "outputs": [
    {
     "name": "stdout",
     "output_type": "stream",
     "text": [
      "The year for a_date is  2008.\n",
      "The month for a_date is  7.\n",
      "The day for a_date is  1.\n"
     ]
    }
   ],
   "source": [
    "from datetime import date\n",
    "a_date = date(2008,7,1)\n",
    "print(f'The year for a_date is  {a_date.year}.')\n",
    "print(f'The month for a_date is  {a_date.month}.')\n",
    "print(f'The day for a_date is  {a_date.day}.')"
   ]
  },
  {
   "cell_type": "markdown",
   "metadata": {},
   "source": [
    "You can get the current (today's) date by using the `today()` method of the `Date` class."
   ]
  },
  {
   "cell_type": "code",
   "execution_count": 3,
   "metadata": {},
   "outputs": [
    {
     "name": "stdout",
     "output_type": "stream",
     "text": [
      "Today is 2022-10-13\n"
     ]
    }
   ],
   "source": [
    "from datetime import date\n",
    "today = date.today()\n",
    "print(f'Today is {today}')"
   ]
  },
  {
   "cell_type": "markdown",
   "metadata": {},
   "source": [
    "<h3><font color = blue>Time class</font> </h3>\n",
    "\n",
    "The constructor for the `time` class accepts three parameters for `hour`, `minutes`, `seconds` and `microsecond` in that order.  All are optional arguments and the default value of 0 will be used for any argument whose value is omitted.  If invalid values are passed for any of the parameters, an `ValueError` will result.\n"
   ]
  },
  {
   "cell_type": "code",
   "execution_count": 4,
   "metadata": {},
   "outputs": [
    {
     "name": "stdout",
     "output_type": "stream",
     "text": [
      "Entered time 15:21:38.000990\n"
     ]
    }
   ],
   "source": [
    "from datetime import time\n",
    " \n",
    "my_time = time(15, 21, 38, 990)\n",
    " print(\"Entered time\", my_time)"
   ]
  },
  {
   "cell_type": "markdown",
   "metadata": {},
   "source": [
    "You can also create a `time` object by passing it none or only some of the arguments"
   ]
  },
  {
   "cell_type": "code",
   "execution_count": 6,
   "metadata": {},
   "outputs": [
    {
     "name": "stdout",
     "output_type": "stream",
     "text": [
      "Entered time 00:00:00 15:00:00 00:15:00 00:00:15 00:00:15.000800\n"
     ]
    }
   ],
   "source": [
    "from datetime import time\n",
    "\n",
    "my_time1 = time()\n",
    "my_time2 = time(hour=15)\n",
    "my_time3 = time(minute=15)\n",
    "my_time4 = time(second=15)\n",
    "my_time5 = time(second=15, microsecond=800)\n",
    " \n",
    "print(\"Entered time\", my_time1, my_time2, my_time3, my_time4, my_time5)"
   ]
  },
  {
   "cell_type": "markdown",
   "metadata": {},
   "source": [
    "You can retrieve the individual components of a time object  by using the appropriate attributes:  `hour`, `minute`, `second`, `microsecond`"
   ]
  },
  {
   "cell_type": "code",
   "execution_count": 7,
   "metadata": {},
   "outputs": [
    {
     "name": "stdout",
     "output_type": "stream",
     "text": [
      "Entered hour 15\n",
      "Entered minutes 21\n",
      "Entered seconds 38\n",
      "Entered microseconds 526\n"
     ]
    }
   ],
   "source": [
    "from datetime import time\n",
    " \n",
    "my_time = time(15, 21, 38, 526)\n",
    " \n",
    "print(\"Entered hour\", my_time.hour)\n",
    "print(\"Entered minutes\", my_time.minute)\n",
    "print(\"Entered seconds\", my_time.second)\n",
    "print(\"Entered microseconds\", my_time.microsecond)"
   ]
  },
  {
   "cell_type": "markdown",
   "metadata": {},
   "source": [
    "<h2>The <font color=blue>datetime</font> class</h2>\n",
    "\n",
    "The `datetime` class combines information about both date and time.\n",
    "\n",
    "The constructor for the `datetime` class accepts seven parameters for `year`, `month`, `day` `hour`, `minute`, `second` aand `microsecond` in that order.  Of these, the first three are required and the rest are optional. If invalid values are passed for any of the parameters, an `ValueError` will result.\n"
   ]
  },
  {
   "cell_type": "code",
   "execution_count": 9,
   "metadata": {},
   "outputs": [
    {
     "name": "stdout",
     "output_type": "stream",
     "text": [
      "2016-08-12 15:23:56.001890\n"
     ]
    }
   ],
   "source": [
    "from datetime import datetime\n",
    "time1 = datetime(2016,8,12, 15,23,56,1890)\n",
    "print(time1)"
   ]
  },
  {
   "cell_type": "markdown",
   "metadata": {},
   "source": [
    "You can get the current time by calling the `now()` method."
   ]
  },
  {
   "cell_type": "code",
   "execution_count": 10,
   "metadata": {},
   "outputs": [
    {
     "name": "stdout",
     "output_type": "stream",
     "text": [
      "2022-10-13 13:33:57.361142\n"
     ]
    }
   ],
   "source": [
    "from datetime import datetime\n",
    "now = datetime.now()\n",
    "print(now)"
   ]
  },
  {
   "cell_type": "markdown",
   "metadata": {},
   "source": [
    "Just like with the `date` and `time` objects individual components of the `datetime` objects can also be separately retrieved."
   ]
  },
  {
   "cell_type": "code",
   "execution_count": 11,
   "metadata": {},
   "outputs": [
    {
     "name": "stdout",
     "output_type": "stream",
     "text": [
      "2016 12 31 23 59 59 876\n"
     ]
    }
   ],
   "source": [
    "from datetime import datetime\n",
    "t = datetime(2016,12,31,23,59,59, 876)\n",
    "print(t.year, t.month, t.day, t.hour, t.minute, t.second, t.microsecond)"
   ]
  },
  {
   "cell_type": "markdown",
   "metadata": {},
   "source": [
    "<h2>The <font color=blue>timedelta</font> class </h2>\n",
    "\n",
    "The `timedelta` class provides an easy way to perform date manipulations"
   ]
  },
  {
   "cell_type": "markdown",
   "metadata": {},
   "source": [
    "In the example below, you can use the `-` operator to find the difference between two `datetime` objects or two `date` objects."
   ]
  },
  {
   "cell_type": "code",
   "execution_count": 12,
   "metadata": {},
   "outputs": [
    {
     "name": "stdout",
     "output_type": "stream",
     "text": [
      "2120 days, 13:35:38.066636\n",
      "2120 days, 0:00:00\n"
     ]
    }
   ],
   "source": [
    "from datetime import date, time, datetime, timedelta\n",
    "dt1 = datetime(2016,12,23)\n",
    "dt2 = datetime.now()\n",
    "print(dt2-dt1)\n",
    "\n",
    "d1 = date(2016,12,23)\n",
    "d2 = date.today()\n",
    "print(d2-d1)\n"
   ]
  },
  {
   "cell_type": "markdown",
   "metadata": {},
   "source": [
    "You can also use the `+` and `-` operators together with a `date` or `datetime` object and a `timedelta` object as shown below"
   ]
  },
  {
   "cell_type": "code",
   "execution_count": 29,
   "metadata": {},
   "outputs": [
    {
     "name": "stdout",
     "output_type": "stream",
     "text": [
      "Date before two days was: 2022-12-02, today is: 2022-12-04, date after 2 days is: 2022-12-06\n"
     ]
    }
   ],
   "source": [
    "from datetime import date, time, datetime, timedelta\n",
    "\n",
    "current_date = date.today()\n",
    "date_before_2days = current_date - timedelta(days=2)\n",
    "date_after_2days = current_date + timedelta(days=2)\n",
    "\n",
    "print(f'Date before two days was: {date_before_2days}, today is: {current_date}, \\\n",
    "date after 2 days is: {date_after_2days}')"
   ]
  },
  {
   "cell_type": "code",
   "execution_count": 33,
   "metadata": {},
   "outputs": [
    {
     "name": "stdout",
     "output_type": "stream",
     "text": [
      "2022-12-06\n"
     ]
    }
   ],
   "source": [
    "c = datetime.now()\n",
    "date_after_2days = current_date + timedelta(days=2,hours=1,minutes=2)\n",
    "print(date_after_2days)"
   ]
  },
  {
   "cell_type": "markdown",
   "metadata": {},
   "source": [
    "<h2>The <font color = blue>strftime()</font> method</h2>\n",
    "\n",
    "The `strftime()` method converts the given date, time or datetime object to a string representation of the given format.\n",
    "\n",
    "The table below gives the format codes for different components of a date or time.\n",
    "\n",
    "<img src='strftimeCodeList.png' style=\"width: 600px;\"/>"
   ]
  },
  {
   "cell_type": "code",
   "execution_count": 15,
   "metadata": {},
   "outputs": [
    {
     "name": "stdout",
     "output_type": "stream",
     "text": [
      "Date time object: 2022-10-13 13:42:00.265600\n",
      "Output 1: 10/13/2022, 13:42:00\n",
      "Output 2: Thursday Oct 13, 2022\n",
      "Output 3: 13 October, 2022\n",
      "Output 4: 01PM\n",
      "Output 5: 13:42\n"
     ]
    }
   ],
   "source": [
    "from datetime import datetime\n",
    "\n",
    "\n",
    "date_time = datetime.now()\n",
    "\n",
    "print(\"Date time object:\", date_time)\n",
    "\n",
    "#print the month, year, day, hour, minutes and seconds.  Each is a zero padded decimal\n",
    "formatted_date = date_time.strftime(\"%m/%d/%Y, %H:%M:%S\")\n",
    "print(\"Output 1:\", formatted_date)\t\n",
    "\n",
    "#print the full weekday, abbreviated month name, day of month as zero padded decimal, year with century\n",
    "formatted_date = date_time.strftime(\"%A %b %d, %Y\")\n",
    "print(\"Output 2:\", formatted_date)\n",
    "\n",
    "#print day of month as zero padded decimal,full month name, year with century\n",
    "formatted_date = date_time.strftime(\"%d %B, %Y\")\n",
    "print(\"Output 3:\", formatted_date)\n",
    "\n",
    "#print Hour with 12 hour clock and locale's AM or PM\n",
    "formatted_date = date_time.strftime(\"%I%p\")\n",
    "print(\"Output 4:\", formatted_date)\n",
    "\n",
    "#print Hour with 24 hour clock and minutes as zero padded decimal\n",
    "formatted_date = date_time.strftime(\"%H:%M\")\n",
    "print(\"Output 5:\", formatted_date)"
   ]
  },
  {
   "cell_type": "code",
   "execution_count": 2,
   "metadata": {},
   "outputs": [
    {
     "name": "stdout",
     "output_type": "stream",
     "text": [
      "[(2, 4), (3, 5), (4, 6)]\n"
     ]
    }
   ],
   "source": [
    "randomlist = [2,3,4]\n",
    "list2=[4,5,6]\n",
    "\n",
    "\n",
    "l_zip = []\n",
    "for s1, s2 in zip( randomlist, list2):\n",
    "    if s1 > 0:\n",
    "        l_zip.append((s1, s2))\n",
    "print(l_zip)"
   ]
  },
  {
   "cell_type": "code",
   "execution_count": 4,
   "metadata": {},
   "outputs": [
    {
     "name": "stdout",
     "output_type": "stream",
     "text": [
      "[(2, 4), (3, 5), (4, 6)]\n"
     ]
    }
   ],
   "source": [
    "randomlist = [2,3,4]\n",
    "list2=[4,5,6]\n",
    "\n",
    "\n",
    "h=[]\n",
    "for i, numb in enumerate(randomlist):\n",
    "    if numb > 0:\n",
    "        h.append((numb,list2[i]))\n",
    "       \n",
    "print(h)"
   ]
  },
  {
   "cell_type": "code",
   "execution_count": 19,
   "metadata": {},
   "outputs": [
    {
     "name": "stdout",
     "output_type": "stream",
     "text": [
      "[-2, -5, -4, -1, 2, 5]\n"
     ]
    }
   ],
   "source": [
    "import random\n",
    "randomlist = random.sample(range(-5, 5+1), 6)\n",
    "print(randomlist)"
   ]
  },
  {
   "cell_type": "code",
   "execution_count": 21,
   "metadata": {},
   "outputs": [
    {
     "name": "stdout",
     "output_type": "stream",
     "text": [
      "[4, 25, 16, 1, 4, 25]\n"
     ]
    }
   ],
   "source": [
    "list2 = [x ** 2 for x in randomlist]\n",
    "print(list2)"
   ]
  },
  {
   "cell_type": "code",
   "execution_count": 27,
   "metadata": {},
   "outputs": [
    {
     "name": "stdout",
     "output_type": "stream",
     "text": [
      "4\n",
      "25\n",
      "16\n",
      "1\n",
      "4\n",
      "25\n"
     ]
    }
   ],
   "source": [
    "o=(filter(lambda x: isinstance(x, int),list2))\n",
    "for i in o:\n",
    "    print(i)"
   ]
  },
  {
   "cell_type": "code",
   "execution_count": null,
   "metadata": {},
   "outputs": [],
   "source": []
  }
 ],
 "metadata": {
  "kernelspec": {
   "display_name": "Python 3 (ipykernel)",
   "language": "python",
   "name": "python3"
  },
  "language_info": {
   "codemirror_mode": {
    "name": "ipython",
    "version": 3
   },
   "file_extension": ".py",
   "mimetype": "text/x-python",
   "name": "python",
   "nbconvert_exporter": "python",
   "pygments_lexer": "ipython3",
   "version": "3.9.12"
  }
 },
 "nbformat": 4,
 "nbformat_minor": 2
}
