{
 "cells": [
  {
   "cell_type": "markdown",
   "metadata": {},
   "source": [
    "<h3>Lambda Functions</h3>\n",
    "\n",
    "In this notebook, we will discuss Lambda functions and see some of their applications.\n",
    "\n",
    "Some common applications of lambda functions we will look at are:\n",
    "1. sort()  \n",
    "2. sorted()  \n",
    "3. min()  \n",
    "4. max()  \n",
    "5. filter()  \n",
    "6. map()  \n",
    "7. reduce()"
   ]
  },
  {
   "cell_type": "markdown",
   "metadata": {},
   "source": [
    "Lambda functions are anonymous, single use, throw away functions.\n",
    "\n",
    "The syntax of a lambda function is as follows:\n",
    "    `lambda <argument list> : expression`\n",
    "    \n",
    "Multiple arguments can be passed, but the expression must be a single expression.\n",
    "\n",
    "The most common use of lambda functions is inside other functions.  "
   ]
  },
  {
   "cell_type": "markdown",
   "metadata": {},
   "source": [
    "<h3>Simple examples of lambda functions</h3>"
   ]
  },
  {
   "cell_type": "code",
   "execution_count": 1,
   "metadata": {},
   "outputs": [
    {
     "name": "stdout",
     "output_type": "stream",
     "text": [
      "9\n"
     ]
    }
   ],
   "source": [
    "square_num = lambda num: num*num\n",
    "print(square_num(3))"
   ]
  },
  {
   "cell_type": "markdown",
   "metadata": {},
   "source": [
    "Lambda functions can be defined and called immediately at the end of the definition."
   ]
  },
  {
   "cell_type": "code",
   "execution_count": 2,
   "metadata": {},
   "outputs": [
    {
     "name": "stdout",
     "output_type": "stream",
     "text": [
      "9\n"
     ]
    }
   ],
   "source": [
    "print((lambda num: num*num)(3))"
   ]
  },
  {
   "cell_type": "code",
   "execution_count": 3,
   "metadata": {},
   "outputs": [
    {
     "name": "stdout",
     "output_type": "stream",
     "text": [
      "2\n"
     ]
    }
   ],
   "source": [
    "compute_remainder = lambda x, y: x % y\n",
    "print(compute_remainder(18, 4))"
   ]
  },
  {
   "cell_type": "code",
   "execution_count": 4,
   "metadata": {},
   "outputs": [
    {
     "name": "stdout",
     "output_type": "stream",
     "text": [
      "2\n"
     ]
    }
   ],
   "source": [
    "print((lambda x, y: x % y)(18,4))"
   ]
  },
  {
   "cell_type": "markdown",
   "metadata": {},
   "source": [
    "A lambda function can call another function as shown below."
   ]
  },
  {
   "cell_type": "code",
   "execution_count": 5,
   "metadata": {},
   "outputs": [
    {
     "name": "stdout",
     "output_type": "stream",
     "text": [
      "256\n"
     ]
    }
   ],
   "source": [
    "high_square = lambda x : sum(x)*sum(x)\n",
    "print(high_square([5,3,2,6]))"
   ]
  },
  {
   "cell_type": "markdown",
   "metadata": {},
   "source": [
    "<h3> Lambda expressions in <font color = blue>Key Functions</font></h3>\n",
    "\n",
    "`Key functions` in Python are functions that take a keyword parameter `key` as a named argument. `key` receives a function that can be a `lambda function`. \n",
    "\n",
    "We will study the use of `lambda functions` inside the following `key functions`:\n",
    "\n",
    "1.  sort()\n",
    "2.  sorted()\n",
    "3.  min()\n",
    "4.  max()"
   ]
  },
  {
   "cell_type": "markdown",
   "metadata": {},
   "source": [
    "<h4>Lambda expressions inside the <font color = blue>sort()</font> method</h4>\n",
    "\n",
    "Recall that the `sort()` method does an inplace sort and does not return anything.  \n",
    "In the example below, by default, the key for sorting is the first element in each tuple."
   ]
  },
  {
   "cell_type": "code",
   "execution_count": 6,
   "metadata": {},
   "outputs": [
    {
     "name": "stdout",
     "output_type": "stream",
     "text": [
      "[('carrots', 1.1), ('eggs', 5.25), ('honey', 9.7), ('peaches', 2.45)]\n"
     ]
    }
   ],
   "source": [
    "alist = [('eggs', 5.25), ('honey', 9.70), ('carrots', 1.10), ('peaches', 2.45)]\n",
    "alist.sort()\n",
    "print(alist)"
   ]
  },
  {
   "cell_type": "markdown",
   "metadata": {},
   "source": [
    "We can change the key by which the sort occurs using lambda expressions."
   ]
  },
  {
   "cell_type": "code",
   "execution_count": 7,
   "metadata": {},
   "outputs": [
    {
     "name": "stdout",
     "output_type": "stream",
     "text": [
      "[('carrots', 1.1), ('peaches', 2.45), ('eggs', 5.25), ('honey', 9.7)]\n"
     ]
    }
   ],
   "source": [
    "alist = [('eggs', 5.25), ('honey', 9.70), ('carrots', 1.10), ('peaches', 2.45)]\n",
    "alist.sort(key = lambda x: x[1])\n",
    "print(alist)\n"
   ]
  },
  {
   "cell_type": "markdown",
   "metadata": {},
   "source": [
    "<h4>Lambda expressions inside the <font color = blue>sorted()</font> method</h4>\n",
    "\n",
    "This is another example of changing the key for sorting.  \n",
    "Recall the `sorted()` function returns a sorted value while retaining the original sequence.\n",
    "\n",
    "In this example, we also make use of the `pprint` function from the `pprint` module.\n",
    "This function can be used to print output in a more easy to read format."
   ]
  },
  {
   "cell_type": "code",
   "execution_count": 9,
   "metadata": {},
   "outputs": [
    {
     "name": "stdout",
     "output_type": "stream",
     "text": [
      "[{'make': 'Tesla', 'model': 'X', 'year': 1999},\n",
      " {'make': 'Mercedes', 'model': 'C350E', 'year': 2008},\n",
      " {'make': 'Ford', 'model': 'Focus', 'year': 2013}]\n"
     ]
    }
   ],
   "source": [
    "import pprint as pp  ##pp - pretty print \n",
    "list1 = [{'make':'Ford', 'model':'Focus', 'year':2013}, {'make':'Tesla', 'model':'X', 'year':1999}, \\\n",
    "         {'make':'Mercedes', 'model':'C350E', 'year':2008}]  #list of dictionary\n",
    "list2 = sorted(list1, key = lambda x: x['year'], reverse=False) #reverse = True is descending\n",
    "pp.pprint(list2) ##pp - pretty print\n",
    "#print(list2)"
   ]
  },
  {
   "cell_type": "markdown",
   "metadata": {},
   "source": [
    "<h4>Lambda expressions inside the <font color = blue>max()</font> method</h4>\n",
    "\n",
    "The `min()` and `max()` functions are two more examples of key functions.  If a dictionary is provided as an argument to the `max()` method without the optional `key` parameter, the key with the maximum key value is returned.  As with the `sort()` and `sorted()` examples, we can change this default behavior by specifying a different `key` as shown in the example below.\n",
    "\n"
   ]
  },
  {
   "cell_type": "markdown",
   "metadata": {},
   "source": [
    "In the example below, `country_dict` is a dictionary containing the population and the area for different countries."
   ]
  },
  {
   "cell_type": "code",
   "execution_count": 10,
   "metadata": {},
   "outputs": [
    {
     "name": "stdout",
     "output_type": "stream",
     "text": [
      "maximum key from dictionary: USA\n"
     ]
    }
   ],
   "source": [
    "country_dict = {'China':[1402,3705], 'India':[1380,1269], 'USA' : [329, 3797]}\n",
    "\n",
    "new_val = max(country_dict)\n",
    "print(\"maximum key from dictionary:\",new_val)"
   ]
  },
  {
   "cell_type": "code",
   "execution_count": 5,
   "metadata": {},
   "outputs": [
    {
     "name": "stdout",
     "output_type": "stream",
     "text": [
      "maximum population from dictionary: USA\n"
     ]
    }
   ],
   "source": [
    "country_dict = {'China':[1402,3705], 'India':[1380,1269], 'USA' : [329, 3797]}\n",
    "\n",
    "new_val = max(country_dict, key= lambda x: country_dict[x][0])\n",
    "print(\"maximum population from dictionary:\",new_val)"
   ]
  },
  {
   "cell_type": "markdown",
   "metadata": {},
   "source": [
    "<h4>The <font color = blue>min()</font> function works similarly.</h4>\n",
    "\n",
    "In the cell below, we find the key-value pair where the price of the vegetable is the lowest."
   ]
  },
  {
   "cell_type": "code",
   "execution_count": 12,
   "metadata": {},
   "outputs": [
    {
     "name": "stdout",
     "output_type": "stream",
     "text": [
      "('carrots', 1.1)\n"
     ]
    }
   ],
   "source": [
    "alist = [('eggs', 5.25), ('honey', 9.70), ('carrots', 1.10), ('peaches', 2.45)]\n",
    "print(min(alist, key=lambda x:  x[1]))"
   ]
  },
  {
   "cell_type": "markdown",
   "metadata": {},
   "source": [
    "<h3>Common applications of Lambda functions</h3>\n",
    "\n",
    "The most common applications of lambda functions are together with the `filter()`, `map()`, and `reduce()` methods"
   ]
  },
  {
   "cell_type": "markdown",
   "metadata": {},
   "source": [
    "<h4>Lambda expressions inside the <font color = blue>filter()</font> function</h4>\n",
    "\n",
    "The `filter()` method accepts two arguments, a function and an iterable object.\n",
    "It returns an iterator object containing elements of the iterable for which the function returns true. The syntax is given below\n",
    "\n",
    "`filter(function, iterable)`"
   ]
  },
  {
   "cell_type": "markdown",
   "metadata": {},
   "source": [
    "The `filter()` function without lambda expressions"
   ]
  },
  {
   "cell_type": "code",
   "execution_count": 13,
   "metadata": {},
   "outputs": [
    {
     "name": "stdout",
     "output_type": "stream",
     "text": [
      "8\n",
      "10\n",
      "12\n"
     ]
    }
   ],
   "source": [
    "def test_even(n):\n",
    "    if n%2 == 0:\n",
    "        return True\n",
    "    else:\n",
    "        return False\n",
    "num_lst = [5,3,8,10,12,3]\n",
    "results = filter(test_even, num_lst)\n",
    "for i in results:\n",
    "    print(i)"
   ]
  },
  {
   "cell_type": "markdown",
   "metadata": {},
   "source": [
    "The same example with a lambda expression"
   ]
  },
  {
   "cell_type": "code",
   "execution_count": 14,
   "metadata": {},
   "outputs": [
    {
     "name": "stdout",
     "output_type": "stream",
     "text": [
      "8\n",
      "10\n",
      "12\n"
     ]
    }
   ],
   "source": [
    "def test_even(n):\n",
    "    if n%2 == 0:\n",
    "        return True\n",
    "    else:\n",
    "        return False\n",
    "num_lst = [5,3,8,10,12,3]\n",
    "results = filter(test_even, num_lst)\n",
    "for i in results:\n",
    "    print(i)"
   ]
  },
  {
   "cell_type": "markdown",
   "metadata": {},
   "source": [
    "<h4>Lambda expressions inside the <font color = blue>map()</font> function</h4>\n",
    "\n",
    "The `map()` function accepts two arguments $\\rightarrow$ a function and an iterable object.\n",
    "It applies the function to each item of the iterable and returns a iterator object that can be looped through to get the results. The syntax is given below:\n",
    "\n",
    "`map(function, iterable, ...)`"
   ]
  },
  {
   "cell_type": "markdown",
   "metadata": {},
   "source": [
    "The `map()` function without lambda expressions"
   ]
  },
  {
   "cell_type": "code",
   "execution_count": 15,
   "metadata": {},
   "outputs": [
    {
     "name": "stdout",
     "output_type": "stream",
     "text": [
      "125\n",
      "27\n",
      "512\n",
      "1000\n",
      "1728\n",
      "27\n"
     ]
    }
   ],
   "source": [
    "def cube(n):\n",
    "    return n*n*n\n",
    "\n",
    "num_lst = [5,3,8,10,12,3]\n",
    "results = map(cube, num_lst)\n",
    "for i in results:\n",
    "    print(i)"
   ]
  },
  {
   "cell_type": "markdown",
   "metadata": {},
   "source": [
    "The same example using lambda expressions"
   ]
  },
  {
   "cell_type": "code",
   "execution_count": 16,
   "metadata": {},
   "outputs": [
    {
     "name": "stdout",
     "output_type": "stream",
     "text": [
      "125\n",
      "27\n",
      "512\n",
      "1000\n",
      "1728\n",
      "27\n"
     ]
    }
   ],
   "source": [
    "num_lst = [5,3,8,10,12,3]\n",
    "results = map(lambda x:x*x*x, num_lst)\n",
    "for i in results:\n",
    "    print(i)"
   ]
  },
  {
   "cell_type": "markdown",
   "metadata": {},
   "source": [
    "<h4>Lambda expressions inside the <font color = blue>reduce()</font> function</h4>\n",
    "\n",
    "The `reduce()` function accepts a function and an iterable and returns a single value by first applying the function to \n",
    "the first and second element in the iterable, then repeatedly applying the function to the result and the next element\n",
    "until the iterable is exhausted.\n",
    "\n",
    "The syntax is given below:\n",
    "   \n",
    "   `functools.reduce(function, iterable[, initializer])`\n",
    "\n",
    "Note that the `reduce()` method must be imported from the `functools` module"
   ]
  },
  {
   "cell_type": "markdown",
   "metadata": {},
   "source": [
    "The `reduce()` function without lambda expressions"
   ]
  },
  {
   "cell_type": "code",
   "execution_count": 19,
   "metadata": {},
   "outputs": [
    {
     "name": "stdout",
     "output_type": "stream",
     "text": [
      "41\n"
     ]
    }
   ],
   "source": [
    "from functools import reduce\n",
    "def add_two(n,m):\n",
    "    return n + m\n",
    "num_lst = [5,3,8,10,12,3]\n",
    "results = reduce(add_two, num_lst)\n",
    "print(results)"
   ]
  },
  {
   "cell_type": "markdown",
   "metadata": {},
   "source": [
    "The same example using lambda expressions"
   ]
  },
  {
   "cell_type": "code",
   "execution_count": 20,
   "metadata": {},
   "outputs": [
    {
     "name": "stdout",
     "output_type": "stream",
     "text": [
      "41\n"
     ]
    }
   ],
   "source": [
    "from functools import reduce\n",
    "num_lst = [5,3,8,10,12,3]\n",
    "print(reduce(lambda n,m:n+m,num_lst))"
   ]
  }
 ],
 "metadata": {
  "kernelspec": {
   "display_name": "Python 3 (ipykernel)",
   "language": "python",
   "name": "python3"
  },
  "language_info": {
   "codemirror_mode": {
    "name": "ipython",
    "version": 3
   },
   "file_extension": ".py",
   "mimetype": "text/x-python",
   "name": "python",
   "nbconvert_exporter": "python",
   "pygments_lexer": "ipython3",
   "version": "3.9.12"
  }
 },
 "nbformat": 4,
 "nbformat_minor": 2
}
