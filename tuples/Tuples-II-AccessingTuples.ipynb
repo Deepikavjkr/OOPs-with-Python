{
 "cells": [
  {
   "cell_type": "markdown",
   "metadata": {},
   "source": [
    "<h3>Accessing Tuple elements and Tuple immutability</h3>\n",
    "This notebook looks at:  \n",
    "\n",
    "1. How tuple elements can be accessed - using positive or negative indexes just like in the case of strings and lists.  This is because tuples, like strings and lists, are an ordered collection of items.  \n",
    "2. the immutability of tuples - you cannot alter the contents of a tuple.\n",
    "\n",
    "However, it is important to understand that if an individual element of a tuple is mutable, than the contents of that element can be altered inside a tuple.\n"
   ]
  },
  {
   "cell_type": "markdown",
   "metadata": {},
   "source": [
    "Tuples can be accessed using indexes, just like we did for strings and lists.  As in the case of strings and lists, the index begins at 0 and ends at a value one less than the number of items in the tuple.  Negative indexes can also be used.\n",
    "\n",
    "Below are some examples:"
   ]
  },
  {
   "cell_type": "code",
   "execution_count": null,
   "metadata": {},
   "outputs": [],
   "source": [
    "tuple1 = ('physics', 'chemistry', 1997, 2000)\n",
    "tuple2 = (1, 2, 3, 4, 5, 6, 7 )"
   ]
  },
  {
   "cell_type": "code",
   "execution_count": null,
   "metadata": {},
   "outputs": [],
   "source": [
    "print(tuple1)"
   ]
  },
  {
   "cell_type": "code",
   "execution_count": null,
   "metadata": {},
   "outputs": [],
   "source": [
    "print(tuple2)"
   ]
  },
  {
   "cell_type": "code",
   "execution_count": null,
   "metadata": {},
   "outputs": [],
   "source": [
    "print(tuple1[3])"
   ]
  },
  {
   "cell_type": "code",
   "execution_count": null,
   "metadata": {},
   "outputs": [],
   "source": [
    "print(tuple2[-7])"
   ]
  },
  {
   "cell_type": "markdown",
   "metadata": {},
   "source": [
    "Like strings, tuples are also immutable.  This means that individual elements of a tuple cannot be changed or removed.  Remember however, this is __not__ true for lists.  Lists are mutable.\n",
    "\n",
    "Once a tuple is created, we cannot change its contents by adding new values or deleting existing values. You cannot change elements in a tuple by replacing one element with another.  Hence statements attempting to change a tuple are not valid and will generate errors.  "
   ]
  },
  {
   "cell_type": "code",
   "execution_count": null,
   "metadata": {},
   "outputs": [],
   "source": [
    "my_str = 'this is a test'\n",
    "my_int = 45\n",
    "my_list =[4,8,9,10]\n",
    "my_tuple = (my_str, my_int, my_list, 67, 'hello', [5,9,11])"
   ]
  },
  {
   "cell_type": "markdown",
   "metadata": {},
   "source": [
    "The statements below will generate errors"
   ]
  },
  {
   "cell_type": "code",
   "execution_count": null,
   "metadata": {},
   "outputs": [],
   "source": [
    "my_tuple[3] = 67 "
   ]
  },
  {
   "cell_type": "code",
   "execution_count": null,
   "metadata": {},
   "outputs": [],
   "source": [
    "my_tuple[5] = 7 "
   ]
  },
  {
   "cell_type": "markdown",
   "metadata": {},
   "source": [
    "Tuples are immutable.  Therefore if individual elements of a tuple are assigned different values, \n",
    "the tuple still remains unchanged.\n",
    "\n",
    "In the example below, once "
   ]
  },
  {
   "cell_type": "code",
   "execution_count": null,
   "metadata": {},
   "outputs": [],
   "source": [
    "my_str = 'this is a test'\n",
    "my_int = 45\n",
    "my_list =[4,8,9,10]\n",
    "\n",
    "my_tuple = (my_str, my_int, my_list, 67, 'hello', [5,9,11])\n",
    "print(my_tuple)\n",
    "\n",
    "my_str = 'this string is now different' \n",
    "my_int = 78\n",
    "my_list = [15, 20]\n",
    "\n",
    "print(my_tuple) \n",
    "print(my_list)"
   ]
  },
  {
   "cell_type": "markdown",
   "metadata": {},
   "source": [
    "However, it is important to understand that if the individual element of a tuple is mutable, than the contents of that element can be altered and this will be reflected in the contents of the tuple as well.\n",
    "\n",
    "Look at this example below.  In the tuple, `my_tuple`,  created below, `my_str`, `my_int`, the integer constant and the string literal are all immutable.  However, `my_list` and the list constant are both mutable.  We can change the list contents inside the tuple as shown below"
   ]
  },
  {
   "cell_type": "code",
   "execution_count": null,
   "metadata": {},
   "outputs": [],
   "source": [
    "my_str = 'this is a test'\n",
    "my_int = 45\n",
    "my_list =[4,8,9,10] #lobj1\n",
    "\n",
    "my_tuple = (my_str, my_int, my_list, 67, 'hello', [5,9,11])\n",
    "\n",
    "my_list =[9,12,9,10]\n",
    "\n",
    "# If the contents of a mutable element in a tuple are changed, this change is also reflected when we look at the tuple directly\n",
    "my_tuple[2][2] = 15\n",
    "print('line 18',my_tuple)\n",
    "print('line 19', my_list)\n",
    "my_list[3] = 16\n",
    "print(my_tuple)"
   ]
  }
 ],
 "metadata": {
  "kernelspec": {
   "display_name": "Python 3",
   "language": "python",
   "name": "python3"
  },
  "language_info": {
   "codemirror_mode": {
    "name": "ipython",
    "version": 3
   },
   "file_extension": ".py",
   "mimetype": "text/x-python",
   "name": "python",
   "nbconvert_exporter": "python",
   "pygments_lexer": "ipython3",
   "version": "3.8.8"
  }
 },
 "nbformat": 4,
 "nbformat_minor": 2
}
