{
 "cells": [
  {
   "cell_type": "markdown",
   "id": "3a86c0bc",
   "metadata": {},
   "source": [
    "# Question 1"
   ]
  },
  {
   "cell_type": "markdown",
   "id": "59f11be1",
   "metadata": {},
   "source": [
    "Write a program that accepts the names and prices and quantities available of all the fruits in inventory. Next ask the user to enter name and quantity of each fruit that is purchased. Update your inventory as each sale is made. Once sales stop, your program should print out the total amount in sales.\n",
    "You should make the following assumptions:\n",
    "\n",
    "The initial input for each fruit will be provided as a list. First accept the number of the types of fruits that will be sold.\n",
    "Each sale will consist of only one type of fruit sold.\n",
    "Sales stop as soon as the user requests more of a fruit than is available."
   ]
  },
  {
   "cell_type": "code",
   "execution_count": 35,
   "id": "a51c164e",
   "metadata": {},
   "outputs": [
    {
     "name": "stdout",
     "output_type": "stream",
     "text": [
      "How many types of fruits will you sell?2\n",
      "Enter the name, price and quantity of the fruits separated by commas:apple,1.25,8\n",
      "Enter the name, price and quantity of the fruits separated by commas:banana,0.45,12\n",
      "Beginning Sales\n",
      "What fruit do you wish to purchase?banana\n",
      "How many fruits do you wish to purchase?5\n",
      "What fruit do you wish to purchase?apple\n",
      "How many fruits do you wish to purchase?3\n",
      "What fruit do you wish to purchase?apple\n",
      "How many fruits do you wish to purchase?1\n",
      "What fruit do you wish to purchase?banana\n",
      "How many fruits do you wish to purchase?5\n",
      "What fruit do you wish to purchase?apple\n",
      "How many fruits do you wish to purchase?5\n",
      "Not enough apple available! Closing shop!! Done for the day. Total sales was $9.50\n"
     ]
    }
   ],
   "source": [
    "n = int(input(\"How many types of fruits will you sell?\"))\n",
    "s=[]\n",
    "fruits = dict()\n",
    "for i in range(0,n):\n",
    "        k = (input(\"Enter the name, price and quantity of the fruits separated by commas:\"))\n",
    "        s = k.split(\",\")\n",
    "        price_int = float(s[1])\n",
    "        quan_int = int(s[2])\n",
    "        fruits[s[0]] = [price_int, quan_int]\n",
    "#print(\"fruits\", fruits)\n",
    "\n",
    "print(\"Beginning Sales\")\n",
    "\n",
    "\n",
    "quantity = []\n",
    "for key in fruits.keys():\n",
    "    quantity.append(fruits[key][1])\n",
    "#print(\"quan\", quantity)\n",
    "# print(\"price\")\n",
    "\n",
    "total_sales = 0.0\n",
    "while 0 not in quantity:\n",
    "    fruit_type = input(\"What fruit do you wish to purchase?\")\n",
    "    if fruit_type in fruits:\n",
    "        purchase = int(input(\"How many fruits do you wish to purchase?\"))\n",
    "        if purchase>fruits[fruit_type][1]:\n",
    "            print(f\"Not enough {fruit_type} available! Closing shop!! Done for the day. Total sales was ${total_sales:.2f}\")\n",
    "            break\n",
    "        else:\n",
    "            fruits[fruit_type][1]-=purchase\n",
    "            total_sales += purchase * fruits[fruit_type][0]\n",
    "    \n",
    "    else:\n",
    "        import sys\n",
    "        print(f\"We do not sell {fruit_type}!\")\n",
    "        sys.exit(0)\n",
    "        "
   ]
  },
  {
   "cell_type": "code",
   "execution_count": null,
   "id": "4c2ce8bb",
   "metadata": {},
   "outputs": [],
   "source": []
  },
  {
   "cell_type": "markdown",
   "id": "d4eef75f",
   "metadata": {},
   "source": [
    "# Question 2"
   ]
  },
  {
   "cell_type": "markdown",
   "id": "5026e1a2",
   "metadata": {},
   "source": [
    "Write a program that accepts the following information:\n",
    "\n",
    "Reads in the names of people who attended one or both events together with their total donation (if any) from MIS6382 Fall2022-HW3Q2IInput.csv.\n",
    "Accepts a list of the donors who donated at the concert\n",
    "Accepts a list of the students who donated at the gala Your program should then do the following:\n",
    "If a donor donated at both events, and their donation was greater than $5000, label them as 'Grade I'.\n",
    "If a donor donated at both events, label them as 'Grade II'.\n",
    "If a donor only donated at the gala, label them as 'Grade III'.\n",
    "If a donor only donated at the concert, label them as 'Grade IV'.\n",
    "If a donor donated at neither event, label them as 'Grade V'\n",
    "Your program should then print out the following information:\n",
    "\n",
    "The names of all people who only donated at the concert\n",
    "The names of all people who only donated at the gala\n",
    "The names of all people who donated at both events\n",
    "The names of all people who did not donate at either event\n",
    "The names and labels for all people\n",
    "To read a csv file\n",
    "The following lines of code open a csv file and read in the rows, one at a time. Each row is read in as a list. The first element of the list contains the data from the first column and so on. Copy these lines of code to the cell that will contain your solution to this question. You can then add whatever else is necessary to complete the question.\n",
    "\n",
    "import csv\n",
    "with open('MIS6382 Fall2022-HW3Q2IInput.csv', newline='') as csvfile:\n",
    "    csvreader = csv.reader(csvfile, delimiter=',')\n",
    "    for row in csvreader:\n",
    "        st_name = row[0].strip()\n",
    "        st_score = int(row[1])\n",
    "Note: MIS6382 Fall2022-HW3Q2IInput.csv is only for test purposes. You assignment will be graded with another file."
   ]
  },
  {
   "cell_type": "code",
   "execution_count": 22,
   "id": "5b11709c",
   "metadata": {},
   "outputs": [
    {
     "name": "stdout",
     "output_type": "stream",
     "text": [
      "Enter the list of people who donated at the concert. Separate the names with ','\n",
      "Laura,Amit,Seth,Sylvea,Priya,Megha,Ram,Ramya\n",
      "Enter the list of people who donated at the gala. Separate the names with ','\n",
      "Jamie,John,Anjali,Laura,Amit,Seth,Sylvea,Priya\n",
      "\n",
      "People who only donated at the concert: {'Ram', 'Megha', 'Ramya'}\n",
      "\n",
      "People who only donated at the gala: {'John', 'Jamie', 'Anjali'}\n",
      "\n",
      "People who only donated at both events: {'Laura', 'Amit', 'Priya', 'Sylvea', 'Seth'}\n",
      "\n",
      "People who donated at neither events: {'Leif', 'Puneet', 'Leila'}\n",
      "\n",
      "The names of all attended along with their label is:\n",
      "Jamie\t : \tGrade III\n",
      "Megha\t : \tGrade IV\n",
      "Leif\t : \tGrade V\n",
      "Ramya\t : \tGrade IV\n",
      "John\t : \tGrade III\n",
      "Laura\t : \tGrade I\n",
      "Amit\t : \tGrade I\n",
      "Anjali\t : \tGrade III\n",
      "Puneet\t : \tGrade V\n",
      "Sylvea\t : \tGrade II\n",
      "Leila\t : \tGrade V\n",
      "Priya\t : \tGrade II\n",
      "Seth\t : \tGrade I\n",
      "Ram\t : \tGrade IV\n"
     ]
    }
   ],
   "source": [
    "import csv\n",
    "\n",
    "conc = [x.strip() for x in input(\"Enter the list of people who donated at the concert. Separate the names with ','\\n\").split(',')]\n",
    "\n",
    "gala = [x.strip() for x in input(\"Enter the list of people who donated at the gala. Separate the names with ','\\n\").split(',')]\n",
    "\n",
    "only_conc = set()\n",
    "only_gala = set()\n",
    "both = set()\n",
    "neither = set()\n",
    "\n",
    "alldonors = {}\n",
    "       \n",
    "with open('MIS6382 Fall2022-HW3Q2IInput.csv', newline='') as csvfile:\n",
    "    csvreader = csv.reader(csvfile, delimiter=',')\n",
    "    for row in csvreader:\n",
    "        st_name = row[0].strip()\n",
    "        st_score = int(row[1])\n",
    "\n",
    "        if st_name in conc and st_name not in gala:\n",
    "            only_conc.add(st_name)\n",
    "            alldonors[st_name] = \"Grade IV\"\n",
    "\n",
    "        elif (st_name in gala) and (st_name not in conc):\n",
    "            only_gala.add(st_name)\n",
    "            alldonors[st_name] = \"Grade III\"\n",
    "\n",
    "        elif st_name in gala and st_name in conc:\n",
    "            both.add(st_name)\n",
    "            if st_score > 5000:\n",
    "                alldonors[st_name] = \"Grade I\"\n",
    "            else:\n",
    "                alldonors[st_name] = \"Grade II\"\n",
    "\n",
    "        elif st_name not in gala and st_name not in conc:\n",
    "            neither.add(st_name)\n",
    "            alldonors[st_name] = \"Grade V\"\n",
    "\n",
    "print(\"\\nPeople who only donated at the concert: {0}\".format(only_conc))\n",
    "print(\"\\nPeople who only donated at the gala: {0}\".format(only_gala))\n",
    "print(\"\\nPeople who only donated at both events: {0}\".format(both))\n",
    "print(\"\\nPeople who donated at neither events: {0}\".format(neither))\n",
    "print('\\nThe names of all attended along with their label is:')\n",
    "\n",
    "\n",
    "for a, b in alldonors.items():\n",
    "     print(str(a) + \"\\t : \\t\" + str(b))\n",
    "        \n",
    "        \n",
    "        \n",
    "        \n",
    "        \n",
    "#Laura,Amit,Seth,Sylvea,Priya,Megha,Ram,Ramya\n",
    "#Jamie,John,Anjali,Laura,Amit,Seth,Sylvea,Priya"
   ]
  },
  {
   "cell_type": "markdown",
   "id": "a4654c41",
   "metadata": {},
   "source": [
    "# Question 3"
   ]
  },
  {
   "cell_type": "markdown",
   "id": "358566ec",
   "metadata": {},
   "source": [
    "Write a function `process_lst()` that accepts a list as input. The list consists of integers or lists containing integers. Your function should return a list that is the same length as the input list. If the element in the input list is an integer, the output should contain the square of that element, if the element in the input list is a list of integers, then the output list should contain the sum of elements in the inner list.\n",
    "Then test out your function by calling it and printing out the result. Some sample interactions are shown below."
   ]
  },
  {
   "cell_type": "code",
   "execution_count": 26,
   "id": "b9b8233a",
   "metadata": {},
   "outputs": [
    {
     "name": "stdout",
     "output_type": "stream",
     "text": [
      "process_lst([45, 38, [21], [67, 21, 23], 82])\n"
     ]
    },
    {
     "data": {
      "text/plain": [
       "[2025, 1444, 21, 111, 6724]"
      ]
     },
     "execution_count": 26,
     "metadata": {},
     "output_type": "execute_result"
    }
   ],
   "source": [
    "def process_lst(a):\n",
    "    s=[]\n",
    "    for i in a:\n",
    "        t = 0\n",
    "\n",
    "        if type(i) == list:\n",
    "            for ele in i:\n",
    "                t = t+ele\n",
    "            s.append(t)\n",
    "        \n",
    "        if type(i) == int:\n",
    "            b = i*i\n",
    "            s.append(b)\n",
    "    return s\n",
    "            \n",
    "       \n",
    "    \n",
    "#a = [[5,4,3],8,[19,21],[56]]\n",
    "a=[45,38,[21],[67,21,23],82]\n",
    "print(f'process_lst({a})')\n",
    "process_lst(a)"
   ]
  },
  {
   "cell_type": "markdown",
   "id": "e0eb456f",
   "metadata": {},
   "source": [
    "# Question 4"
   ]
  },
  {
   "cell_type": "markdown",
   "id": "a367be5a",
   "metadata": {},
   "source": [
    "Write a Python program that accepts a list of passwords (separated by commas) from the user. For each password in the list, the program should call a function to verify whether or not the password is valid. Valid passwords should meet the following rules:\n",
    "a. At least 8 characters and no more than 15 characters b. Must begin with two lower case alphabets c. At least one occurance of two consecutive uppercase letters d. At least one occurance of a two digit number e. Exactly one of one of the following special characters (#, %, @, &)"
   ]
  },
  {
   "cell_type": "code",
   "execution_count": 30,
   "id": "416d8eb1",
   "metadata": {},
   "outputs": [
    {
     "name": "stdout",
     "output_type": "stream",
     "text": [
      "Enter the passwords separated by commas: chIPmunk@2015,CHIPmunk@2015,chIpmunk@2015,chIPmunk@#20aa,chIPmunk@2,chIPm,chIPmunk@2015chip\n",
      "\n",
      "chIPmunk@2015 matches password rules\n",
      "\n",
      "CHIPmunk@2015 does not match password rules\n",
      "password must start with 2 lowercase letters!\n",
      "\n",
      "chIpmunk@2015 does not match password rules\n",
      "password must contain at least one occurance of 2 consecutive uppercase letters!\n",
      "\n",
      "chIPmunk@#20aa does not match password rules\n",
      "password must contain exactly one occurence of one of the special characters #%@\\$\n",
      "\n",
      "chIPmunk@2 does not match password rules\n",
      "password must contain at least one occurence of 2 consecutive digits!\n",
      "\n",
      "chIPm does not match password rules\n",
      "password must be between 8 and 15 characters long!\n",
      "\n",
      "chIPmunk@2015chip does not match password rules\n",
      "password must be between 8 and 15 characters long!\n"
     ]
    }
   ],
   "source": [
    "def password(a):\n",
    "    print()\n",
    "    if len(a)<8 or len(a)>15:\n",
    "        print(a,'does not match password rules')\n",
    "        print('password must be between 8 and 15 characters long!')\n",
    "        return False\n",
    "    if not (a[:2].isalpha() and a[:2].islower()):\n",
    "        print(a,'does not match password rules')\n",
    "        print('password must start with 2 lowercase letters!')\n",
    "        return False\n",
    "    capital=False\n",
    "    numbers=False\n",
    "    for i in range(len(a)-1):\n",
    "        if (a[i:i+2].isalpha() and a[i:i+2].isupper()):\n",
    "            capital=True\n",
    "        if (a[i:i+2].isdigit()):\n",
    "            numbers=True\n",
    "    if not capital:\n",
    "        print(a,'does not match password rules')\n",
    "        print('password must contain at least one occurance of 2 consecutive uppercase letters!')\n",
    "        return False\n",
    "    if not numbers:\n",
    "        print(a,'does not match password rules')\n",
    "        print('password must contain at least one occurence of 2 consecutive digits!')\n",
    "        return False\n",
    "    specialcharacter=0\n",
    "    for i in a:\n",
    "        if i in [\"#\",\"%\",\"@\",\"&\"]:\n",
    "            specialcharacter+=1\n",
    "    if specialcharacter!=1:\n",
    "        print(a,'does not match password rules')\n",
    "        print('password must contain exactly one occurence of one of the special characters #%@\\$')\n",
    "        return False\n",
    "    print(a,'matches password rules')\n",
    "    return True\n",
    "    \n",
    "def mpass():\n",
    "    passw=input(\"Enter the passwords separated by commas: \")\n",
    "    for i in passw.split(\",\"):\n",
    "        password(i.strip())\n",
    "        \n",
    "mpass()\n",
    "\n",
    "\n",
    "#chIPmunk@2015,CHIPmunk@2015,chIpmunk@2015,chIPmunk@#20aa,chIPmunk@2,chIPm,chIPmunk@2015chip"
   ]
  },
  {
   "cell_type": "code",
   "execution_count": null,
   "id": "1c1aa7d4",
   "metadata": {},
   "outputs": [],
   "source": []
  },
  {
   "cell_type": "code",
   "execution_count": null,
   "id": "2d752fc4",
   "metadata": {},
   "outputs": [],
   "source": []
  }
 ],
 "metadata": {
  "kernelspec": {
   "display_name": "Python 3 (ipykernel)",
   "language": "python",
   "name": "python3"
  },
  "language_info": {
   "codemirror_mode": {
    "name": "ipython",
    "version": 3
   },
   "file_extension": ".py",
   "mimetype": "text/x-python",
   "name": "python",
   "nbconvert_exporter": "python",
   "pygments_lexer": "ipython3",
   "version": "3.9.12"
  }
 },
 "nbformat": 4,
 "nbformat_minor": 5
}
