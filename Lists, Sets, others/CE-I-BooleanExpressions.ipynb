{
 "cells": [
  {
   "cell_type": "markdown",
   "metadata": {
    "id": "kmlLyJmCe_W5"
   },
   "source": [
    "**This set of notebooks discusses conditional execution.**"
   ]
  },
  {
   "cell_type": "markdown",
   "metadata": {
    "id": "GGZSohdIfIgz"
   },
   "source": [
    "We begin by introducing the boolean (`bool`) data type.  The `bool` data type allows only two values:\n",
    "1. True\n",
    "2. False\n",
    "\n",
    "Note both values are case sensitive and should be written exactly as shown above.\n",
    "\n",
    "We also take a look at the comparison operators that can be used to compare arithmetic expressions with each other \n",
    "or string expressions with each other.  While comparing string values with numeric values will not result in an error the results are often surprising and unpredictable.  \n",
    "\n",
    "Expressions involving comparison operators will return a `bool` value"
   ]
  },
  {
   "cell_type": "code",
   "execution_count": 2,
   "metadata": {
    "id": "u-d2lM9XbYx2"
   },
   "outputs": [
    {
     "name": "stdout",
     "output_type": "stream",
     "text": [
      "<class 'bool'>\n",
      "<class 'bool'>\n"
     ]
    }
   ],
   "source": [
    "print(type(False))\n",
    "print(type(True))"
   ]
  },
  {
   "cell_type": "markdown",
   "metadata": {
    "id": "_EUUe_54hops"
   },
   "source": [
    "The following operators are called relational or comparison operators.  \n",
    "`>`  \n",
    "`>=`  \n",
    "`<`  \n",
    "`<=`  \n",
    "`==` (equal to - note the two equal signs)  \n",
    "`!=` (not equal to)  \n",
    "\n",
    "These operators can be used to compare arithmetic or string expressions with each other."
   ]
  },
  {
   "cell_type": "markdown",
   "metadata": {},
   "source": [
    "<h4>Comparing numeric values, numeric variables and / or numeric expressions</h4>\n",
    "\n",
    "Given the following assignment statements:\n",
    "```Python\n",
    "x = 18\n",
    "y = 20\n",
    "```\n",
    "Evaluate each of the print statements below."
   ]
  },
  {
   "cell_type": "code",
   "execution_count": 4,
   "metadata": {},
   "outputs": [],
   "source": [
    "x = 18\n",
    "y = 20"
   ]
  },
  {
   "cell_type": "code",
   "execution_count": 5,
   "metadata": {
    "id": "AUdSODnUbYx3"
   },
   "outputs": [
    {
     "name": "stdout",
     "output_type": "stream",
     "text": [
      "x > y: False\n"
     ]
    }
   ],
   "source": [
    "print(f'x > y: {x > y}')  "
   ]
  },
  {
   "cell_type": "code",
   "execution_count": 6,
   "metadata": {
    "id": "AUdSODnUbYx3"
   },
   "outputs": [
    {
     "name": "stdout",
     "output_type": "stream",
     "text": [
      "y > 15: True\n"
     ]
    }
   ],
   "source": [
    "print(f'y > 15: {y > 15}')"
   ]
  },
  {
   "cell_type": "code",
   "execution_count": 7,
   "metadata": {
    "id": "AUdSODnUbYx3"
   },
   "outputs": [
    {
     "name": "stdout",
     "output_type": "stream",
     "text": [
      "x * y > 350: True\n"
     ]
    }
   ],
   "source": [
    "print(f'x * y > 350: {x*y > 350}')"
   ]
  },
  {
   "cell_type": "markdown",
   "metadata": {},
   "source": [
    "<h4>Comparing string values and / or string variables.</h4>\n",
    "\n",
    "Given the following assignment statements:\n",
    "```Python\n",
    "str1 = 'hzzzzzzzzzz'\n",
    "str2 = 'Hello'\n",
    "str3 = 'hell'\n",
    "str4 = 'hello'\n",
    "str5 = 'k'\n",
    "```\n",
    "Evaluate each of the print statements below."
   ]
  },
  {
   "cell_type": "code",
   "execution_count": 8,
   "metadata": {},
   "outputs": [],
   "source": [
    "str1 = 'hzzzzzzzzzz'\n",
    "str2 = 'Hello'\n",
    "str3 = 'hell'\n",
    "str4 = 'hello'\n",
    "str5 = 'k'"
   ]
  },
  {
   "cell_type": "code",
   "execution_count": 9,
   "metadata": {
    "id": "y62yJsLNbYx4"
   },
   "outputs": [
    {
     "name": "stdout",
     "output_type": "stream",
     "text": [
      "str1 > str2: True\n"
     ]
    }
   ],
   "source": [
    "print(f'str1 > str2: {str1 > str2}')"
   ]
  },
  {
   "cell_type": "code",
   "execution_count": 10,
   "metadata": {},
   "outputs": [
    {
     "name": "stdout",
     "output_type": "stream",
     "text": [
      "str1 > str3: True\n"
     ]
    }
   ],
   "source": [
    "print(f'str1 > str3: {str1 > str3}')"
   ]
  },
  {
   "cell_type": "code",
   "execution_count": 11,
   "metadata": {},
   "outputs": [
    {
     "name": "stdout",
     "output_type": "stream",
     "text": [
      "str1 > str4: True\n"
     ]
    }
   ],
   "source": [
    "print(f'str1 > str4: {str1 > str4}')"
   ]
  },
  {
   "cell_type": "code",
   "execution_count": 12,
   "metadata": {},
   "outputs": [
    {
     "name": "stdout",
     "output_type": "stream",
     "text": [
      "str1 > str5: False\n"
     ]
    }
   ],
   "source": [
    "print(f'str1 > str5: {str1 > str5}')"
   ]
  }
 ],
 "metadata": {
  "colab": {
   "collapsed_sections": [],
   "name": "CE-I-BooleanExpressionss.ipynb",
   "provenance": []
  },
  "kernelspec": {
   "display_name": "Python 3 (ipykernel)",
   "language": "python",
   "name": "python3"
  },
  "language_info": {
   "codemirror_mode": {
    "name": "ipython",
    "version": 3
   },
   "file_extension": ".py",
   "mimetype": "text/x-python",
   "name": "python",
   "nbconvert_exporter": "python",
   "pygments_lexer": "ipython3",
   "version": "3.9.12"
  }
 },
 "nbformat": 4,
 "nbformat_minor": 1
}
