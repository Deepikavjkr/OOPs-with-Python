{
 "cells": [
  {
   "cell_type": "markdown",
   "metadata": {},
   "source": [
    "This notebook demonstrates how you can use the __`for`__ construct to traverse a string.  The __`for`__ construct can be applied to go through each character in a string and process it as desired."
   ]
  },
  {
   "cell_type": "markdown",
   "metadata": {},
   "source": [
    "<font color=blue>Problem Statement</font>\n",
    "\n",
    "Write a program to traverse a string and count the number of times the character 'b' appears in it."
   ]
  },
  {
   "cell_type": "code",
   "execution_count": null,
   "metadata": {},
   "outputs": [],
   "source": [
    "my_str = input('Enter a string: ')\n",
    "b_count = 0\n",
    "\n",
    "#In each iteration of the loop, the next character in my_str is assigned to the variable `cur_char`\n",
    "for cur_char in my_str:\n",
    "    if cur_char == 'b':\n",
    "        b_count +=1\n",
    "print('The number of times \"b\" appears in the input string is:' +  str(b_count))"
   ]
  }
 ],
 "metadata": {
  "kernelspec": {
   "display_name": "Python 3 (ipykernel)",
   "language": "python",
   "name": "python3"
  },
  "language_info": {
   "codemirror_mode": {
    "name": "ipython",
    "version": 3
   },
   "file_extension": ".py",
   "mimetype": "text/x-python",
   "name": "python",
   "nbconvert_exporter": "python",
   "pygments_lexer": "ipython3",
   "version": "3.9.12"
  }
 },
 "nbformat": 4,
 "nbformat_minor": 2
}
