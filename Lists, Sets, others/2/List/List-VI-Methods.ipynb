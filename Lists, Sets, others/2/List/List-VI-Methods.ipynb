{
 "cells": [
  {
   "cell_type": "markdown",
   "metadata": {},
   "source": [
    "<h3>List Methods</h3>\n",
    "\n",
    "This notebook looks at list methods.  We will first study the concatenation (`+`) operator and the multiplication (`*`) operator in the context of lists and then turn our attention to list methods.\n",
    "\n",
    "There are a number of list methods available for list processing.  These methods are accessed in the following way:\n",
    "\n",
    "`nameoflistvariable.methodname()`.\n",
    "\n",
    "We will discuss the following methods in this class:\n",
    "    `append()`: adds a passed object to the end of an existing list.      \n",
    "    `extend()`: adds the contents of a sequence to the end of an existing list.      \n",
    "    `count()`:  counts the number of times an element occurs in a list.      \n",
    "    `index()`:  returns the index of the first occurence of the argument.      \n",
    "    `insert()`: inserts the object at the index provided.      \n",
    "    `pop()`:    removes and returns an item from the list.  If no argument is provided, the method returns the last item from the list.  If an argument is provided (it should be a valid index), the method returns the element at that index.      \n",
    "    `remove()`: removes an item from the list.  It accepts the item to be removed as an argument and returns the first matching value.  It returns nothing.      \n",
    "    `reverse()`: reverses the objects of a list in place.  That means, nothing is returned and the list is changed.      \n",
    "    `sort()`:   sorts objects in a list."
   ]
  },
  {
   "cell_type": "markdown",
   "metadata": {},
   "source": [
    "We can concatenate two lists together using the concatenation (`+`) operator.  \n",
    "Note that applying the `+` operator to a mix of a list and a single value is not allowed."
   ]
  },
  {
   "cell_type": "code",
   "execution_count": 1,
   "metadata": {},
   "outputs": [
    {
     "name": "stdout",
     "output_type": "stream",
     "text": [
      "[1, 2, 3, 4, 5, 6]\n",
      "[1, 2, 3]\n",
      "[4, 5, 6]\n"
     ]
    }
   ],
   "source": [
    "a = [1, 2, 3]\n",
    "b = [4, 5, 6]\n",
    "c = a + b\n",
    "\n",
    "print(c)\n",
    "print(a)\n",
    "print(b)"
   ]
  },
  {
   "cell_type": "markdown",
   "metadata": {},
   "source": [
    "We can use the multiplication operator (`*`) to repeat a list multiple times.\n",
    "Note that you cannot multiply a list with another list. The `*` operator is commutative."
   ]
  },
  {
   "cell_type": "code",
   "execution_count": 2,
   "metadata": {},
   "outputs": [
    {
     "ename": "TypeError",
     "evalue": "can't multiply sequence by non-int of type 'list'",
     "output_type": "error",
     "traceback": [
      "\u001b[1;31m---------------------------------------------------------------------------\u001b[0m",
      "\u001b[1;31mTypeError\u001b[0m                                 Traceback (most recent call last)",
      "Input \u001b[1;32mIn [2]\u001b[0m, in \u001b[0;36m<cell line: 2>\u001b[1;34m()\u001b[0m\n\u001b[0;32m      1\u001b[0m aList \u001b[38;5;241m=\u001b[39m [\u001b[38;5;124m'\u001b[39m\u001b[38;5;124mxyz\u001b[39m\u001b[38;5;124m'\u001b[39m, \u001b[38;5;124m'\u001b[39m\u001b[38;5;124mzara\u001b[39m\u001b[38;5;124m'\u001b[39m, \u001b[38;5;124m'\u001b[39m\u001b[38;5;124mabc\u001b[39m\u001b[38;5;124m'\u001b[39m, \u001b[38;5;124m'\u001b[39m\u001b[38;5;124mxyz\u001b[39m\u001b[38;5;124m'\u001b[39m]\n\u001b[1;32m----> 2\u001b[0m newList \u001b[38;5;241m=\u001b[39m \u001b[43maList\u001b[49m\u001b[38;5;241;43m*\u001b[39;49m\u001b[43m[\u001b[49m\u001b[38;5;241;43m2\u001b[39;49m\u001b[43m,\u001b[49m\u001b[38;5;241;43m3\u001b[39;49m\u001b[43m]\u001b[49m\n\u001b[0;32m      3\u001b[0m \u001b[38;5;28mprint\u001b[39m(aList)\n\u001b[0;32m      4\u001b[0m \u001b[38;5;28mprint\u001b[39m(newList)\n",
      "\u001b[1;31mTypeError\u001b[0m: can't multiply sequence by non-int of type 'list'"
     ]
    }
   ],
   "source": [
    "aList = ['xyz', 'zara', 'abc', 'xyz']\n",
    "newList = aList*[2,3]\n",
    "print(aList)\n",
    "print(newList)"
   ]
  },
  {
   "cell_type": "markdown",
   "metadata": {},
   "source": [
    "The `append()` method adds a passed object to the end of an existing list.  This method modifies the original list. This is a `void` method."
   ]
  },
  {
   "cell_type": "code",
   "execution_count": 2,
   "metadata": {},
   "outputs": [
    {
     "name": "stdout",
     "output_type": "stream",
     "text": [
      "Updated List :  [123, 'xyz', 'zara', 'abc', 2009]\n"
     ]
    }
   ],
   "source": [
    "aList = [123, 'xyz', 'zara', 'abc']\n",
    "aList.append(2009)\n",
    "print(\"Updated List : \", aList)\n"
   ]
  },
  {
   "cell_type": "markdown",
   "metadata": {},
   "source": [
    "You can append any element to a list including another list."
   ]
  },
  {
   "cell_type": "code",
   "execution_count": 3,
   "metadata": {},
   "outputs": [
    {
     "name": "stdout",
     "output_type": "stream",
     "text": [
      "Updated List :  [123, 'xyz', 'zara', 'abc', [2009, 'a', 15.9]]\n"
     ]
    }
   ],
   "source": [
    "aList = [123, 'xyz', 'zara', 'abc']\n",
    "aList.append( [2009, 'a', 15.9])\n",
    "print(\"Updated List : \", aList)"
   ]
  },
  {
   "cell_type": "markdown",
   "metadata": {},
   "source": [
    "The `extend()` method adds the contents of a sequence to the end of an existing list.  This method modifies the original list. This is a `void` method."
   ]
  },
  {
   "cell_type": "code",
   "execution_count": 12,
   "metadata": {},
   "outputs": [
    {
     "name": "stdout",
     "output_type": "stream",
     "text": [
      "Updated List :  [123, 'xyz', 'zara', 'abc', 'a', 's', 'd', 'f']\n"
     ]
    }
   ],
   "source": [
    "aList = [123, 'xyz', 'zara', 'abc']\n",
    "aList.extend('asdf')\n",
    "print(\"Updated List : \", aList)"
   ]
  },
  {
   "cell_type": "markdown",
   "metadata": {},
   "source": [
    "The `count()` method counts the number of times an element occurs in a list.  "
   ]
  },
  {
   "cell_type": "code",
   "execution_count": 5,
   "metadata": {},
   "outputs": [
    {
     "name": "stdout",
     "output_type": "stream",
     "text": [
      "Count for 123 :  2\n",
      "Count for zara :  1\n"
     ]
    }
   ],
   "source": [
    "aList = [123, 'xyz', 'zara', 'abc', 123]\n",
    "print(\"Count for 123 : \", aList.count(123))\n",
    "print(\"Count for zara : \", aList.count('zara'))"
   ]
  },
  {
   "cell_type": "code",
   "execution_count": 13,
   "metadata": {},
   "outputs": [
    {
     "name": "stdout",
     "output_type": "stream",
     "text": [
      "Index for xyz :  1\n",
      "Index for zara :  2\n",
      "Index for xyz starting at index 3:  4\n",
      "Index for xyz starting at index -4:  4\n",
      "Index for xyz starting at index -3:  7\n"
     ]
    },
    {
     "ename": "ValueError",
     "evalue": "'zzz' is not in list",
     "output_type": "error",
     "traceback": [
      "\u001b[1;31m---------------------------------------------------------------------------\u001b[0m",
      "\u001b[1;31mValueError\u001b[0m                                Traceback (most recent call last)",
      "Input \u001b[1;32mIn [13]\u001b[0m, in \u001b[0;36m<cell line: 11>\u001b[1;34m()\u001b[0m\n\u001b[0;32m      9\u001b[0m \u001b[38;5;28mprint\u001b[39m(\u001b[38;5;124m\"\u001b[39m\u001b[38;5;124mIndex for xyz starting at index -4: \u001b[39m\u001b[38;5;124m\"\u001b[39m, aList\u001b[38;5;241m.\u001b[39mindex( \u001b[38;5;124m'\u001b[39m\u001b[38;5;124mxyz\u001b[39m\u001b[38;5;124m'\u001b[39m, \u001b[38;5;241m-\u001b[39m\u001b[38;5;241m4\u001b[39m))\n\u001b[0;32m     10\u001b[0m \u001b[38;5;28mprint\u001b[39m(\u001b[38;5;124m\"\u001b[39m\u001b[38;5;124mIndex for xyz starting at index -3: \u001b[39m\u001b[38;5;124m\"\u001b[39m, aList\u001b[38;5;241m.\u001b[39mindex( \u001b[38;5;124m'\u001b[39m\u001b[38;5;124mxyz\u001b[39m\u001b[38;5;124m'\u001b[39m, \u001b[38;5;241m-\u001b[39m\u001b[38;5;241m3\u001b[39m))\n\u001b[1;32m---> 11\u001b[0m \u001b[38;5;28mprint\u001b[39m(\u001b[43maList\u001b[49m\u001b[38;5;241;43m.\u001b[39;49m\u001b[43mindex\u001b[49m\u001b[43m(\u001b[49m\u001b[38;5;124;43m'\u001b[39;49m\u001b[38;5;124;43mzzz\u001b[39;49m\u001b[38;5;124;43m'\u001b[39;49m\u001b[43m)\u001b[49m)\n",
      "\u001b[1;31mValueError\u001b[0m: 'zzz' is not in list"
     ]
    }
   ],
   "source": [
    "'''\n",
    "The index() method returns the index of the first occurence of the argument.  The index() method takes an optional argument\n",
    "that is the start index at which the search will begin.\n",
    "'''\n",
    "aList = [123, 'xyz', 'zara', 'abc', 'xyz', 567, 123, 'xyz']\n",
    "print(\"Index for xyz : \", aList.index( 'xyz'))\n",
    "print(\"Index for zara : \", aList.index( 'zara'))\n",
    "print(\"Index for xyz starting at index 3: \", aList.index( 'xyz', 3))\n",
    "print(\"Index for xyz starting at index -4: \", aList.index( 'xyz', -4))\n",
    "print(\"Index for xyz starting at index -3: \", aList.index( 'xyz', -3))\n",
    "print(aList.index('zzz'))\n"
   ]
  },
  {
   "cell_type": "markdown",
   "metadata": {},
   "source": [
    "The `insert()` method inserts the object at the index provided.  The first argument is the index at which the second argument is to be inserted. This method modifies the original list."
   ]
  },
  {
   "cell_type": "code",
   "execution_count": 7,
   "metadata": {},
   "outputs": [
    {
     "name": "stdout",
     "output_type": "stream",
     "text": [
      "Final List :  [123, 'xyz', 'zara', 2009, 'abc']\n",
      "None\n"
     ]
    }
   ],
   "source": [
    "aList = [123, 'xyz', 'zara', 'abc']\n",
    "a = aList.insert(3,2009)\n",
    "print(\"Final List : \", aList)\n",
    "print(a)"
   ]
  },
  {
   "cell_type": "markdown",
   "metadata": {},
   "source": [
    "The `pop()` method removes and returns an item from the list.  This method modifies the original list.  If no argument is provided, the method returns the last item from the list."
   ]
  },
  {
   "cell_type": "code",
   "execution_count": 8,
   "metadata": {},
   "outputs": [
    {
     "name": "stdout",
     "output_type": "stream",
     "text": [
      "[123, 'xyz', 'zara']\n",
      "abc\n"
     ]
    }
   ],
   "source": [
    "aList = [123, 'xyz', 'zara', 'abc']\n",
    "a = aList.pop()\n",
    "print(aList)\n",
    "print(a)"
   ]
  },
  {
   "cell_type": "markdown",
   "metadata": {},
   "source": [
    "The `pop()` method removes and returns an item from the list.  This method modifies the original list.  If an argument is provided (it should be a valid index), the method returns the element at that index."
   ]
  },
  {
   "cell_type": "code",
   "execution_count": 3,
   "metadata": {},
   "outputs": [
    {
     "ename": "IndexError",
     "evalue": "pop index out of range",
     "output_type": "error",
     "traceback": [
      "\u001b[1;31m---------------------------------------------------------------------------\u001b[0m",
      "\u001b[1;31mIndexError\u001b[0m                                Traceback (most recent call last)",
      "Input \u001b[1;32mIn [3]\u001b[0m, in \u001b[0;36m<cell line: 2>\u001b[1;34m()\u001b[0m\n\u001b[0;32m      1\u001b[0m aList \u001b[38;5;241m=\u001b[39m [\u001b[38;5;241m123\u001b[39m, \u001b[38;5;124m'\u001b[39m\u001b[38;5;124mxyz\u001b[39m\u001b[38;5;124m'\u001b[39m, \u001b[38;5;124m'\u001b[39m\u001b[38;5;124mzara\u001b[39m\u001b[38;5;124m'\u001b[39m, \u001b[38;5;124m'\u001b[39m\u001b[38;5;124mabc\u001b[39m\u001b[38;5;124m'\u001b[39m]\n\u001b[1;32m----> 2\u001b[0m b \u001b[38;5;241m=\u001b[39m \u001b[43maList\u001b[49m\u001b[38;5;241;43m.\u001b[39;49m\u001b[43mpop\u001b[49m\u001b[43m(\u001b[49m\u001b[38;5;241;43m-\u001b[39;49m\u001b[38;5;241;43m8\u001b[39;49m\u001b[43m)\u001b[49m\n\u001b[0;32m      3\u001b[0m \u001b[38;5;28mprint\u001b[39m(aList)\n\u001b[0;32m      4\u001b[0m \u001b[38;5;28mprint\u001b[39m(b)\n",
      "\u001b[1;31mIndexError\u001b[0m: pop index out of range"
     ]
    }
   ],
   "source": [
    "aList = [123, 'xyz', 'zara', 'abc']\n",
    "b = aList.pop(-8)\n",
    "print(aList)\n",
    "print(b)"
   ]
  },
  {
   "cell_type": "markdown",
   "metadata": {},
   "source": [
    "The `remove()` method removes an item from the list.  It accepts the item to be removed as an argument and removes the first  matching value.  It returns nothing.  This method modifies the original list. This method returns an error if the element does not exist in the list."
   ]
  },
  {
   "cell_type": "code",
   "execution_count": 15,
   "metadata": {},
   "outputs": [
    {
     "name": "stdout",
     "output_type": "stream",
     "text": [
      "List :  [123, 'xyz', 'zara', 'abc']\n",
      "None\n"
     ]
    }
   ],
   "source": [
    "aList = [123, 'xyz', 'zara', 'abc', 'xyzz']\n",
    "a = aList.remove('xyzz')\n",
    "print(\"List : \", aList)\n",
    "print(a)"
   ]
  },
  {
   "cell_type": "markdown",
   "metadata": {},
   "source": [
    "The following provides the differences between `del`, `remove()` and `pop()`\n",
    "\n",
    "`del` is an operator that removes the item from a list at a specified index.  It can remove multiple items as provided by the slicing feature.It returns nothing.\n",
    "\n",
    "`pop()` removes the item at the index specified by the optional argument.  If no argument is provided, it removes the item at the last index. It returns the value that is removed.\n",
    "\n",
    "`remove()` removes the first matching value.  It accepts a value as an argument not an index.  It returns nothing.\n",
    "\n",
    "Note that all three methods modify the original list."
   ]
  },
  {
   "cell_type": "markdown",
   "metadata": {},
   "source": [
    "The reverse method reverses the objects of a list in place.  That means, nothing is returned and the list is changed."
   ]
  },
  {
   "cell_type": "code",
   "execution_count": 12,
   "metadata": {},
   "outputs": [
    {
     "name": "stdout",
     "output_type": "stream",
     "text": [
      "List :  ['xyz', 'abc', 'zara', 'xyz', 123]\n",
      "None\n"
     ]
    }
   ],
   "source": [
    "aList = [123, 'xyz', 'zara', 'abc', 'xyz']\n",
    "a = aList.reverse()\n",
    "print(\"List : \", aList)\n",
    "print(a)"
   ]
  },
  {
   "cell_type": "markdown",
   "metadata": {},
   "source": [
    "The sort() method sorts the objects of a list in place.  Nothing is returned and the list is changed.  Note that all elements of the list have to be of the same type.  Having a mix of elements will cause an error. "
   ]
  },
  {
   "cell_type": "code",
   "execution_count": 13,
   "metadata": {},
   "outputs": [
    {
     "name": "stdout",
     "output_type": "stream",
     "text": [
      "List :  ['abc', 'xyz', 'xyz', 'zara']\n",
      "None\n"
     ]
    }
   ],
   "source": [
    "aList = ['xyz', 'zara', 'abc', 'xyz']\n",
    "\n",
    "a = aList.sort()\n",
    "print(\"List : \", aList)\n",
    "print(a)\n"
   ]
  },
  {
   "cell_type": "markdown",
   "metadata": {},
   "source": [
    "Some things you can do with a list.  You can create an empty list as shown below.  You can then use the `append()` and `insert()` methods or the concatenation operator to add elements to the list."
   ]
  },
  {
   "cell_type": "code",
   "execution_count": 4,
   "metadata": {},
   "outputs": [
    {
     "name": "stdout",
     "output_type": "stream",
     "text": [
      "[1, 2, 3]\n",
      "[1, 2, 3, 5]\n",
      "[1, 2, 3, 5, 8, 7, 2]\n"
     ]
    }
   ],
   "source": [
    "my_lst = []\n",
    "my_lst = my_lst + [1,2,3]\n",
    "print(my_lst)\n",
    "my_lst.append(5)\n",
    "print(my_lst)\n",
    "my_lst.extend([8,7,2])\n",
    "print(my_lst)"
   ]
  },
  {
   "cell_type": "markdown",
   "metadata": {},
   "source": [
    "You can initialize a list to contain all zeros (for example) by using the multiplication operator as shown below."
   ]
  },
  {
   "cell_type": "code",
   "execution_count": 19,
   "metadata": {},
   "outputs": [
    {
     "name": "stdout",
     "output_type": "stream",
     "text": [
      "[0, 0, 0, 0, 0]\n"
     ]
    }
   ],
   "source": [
    "my_lst = [0]*5\n",
    "print(my_lst)"
   ]
  },
  {
   "cell_type": "code",
   "execution_count": null,
   "metadata": {},
   "outputs": [],
   "source": []
  }
 ],
 "metadata": {
  "kernelspec": {
   "display_name": "Python 3 (ipykernel)",
   "language": "python",
   "name": "python3"
  },
  "language_info": {
   "codemirror_mode": {
    "name": "ipython",
    "version": 3
   },
   "file_extension": ".py",
   "mimetype": "text/x-python",
   "name": "python",
   "nbconvert_exporter": "python",
   "pygments_lexer": "ipython3",
   "version": "3.9.12"
  }
 },
 "nbformat": 4,
 "nbformat_minor": 2
}
