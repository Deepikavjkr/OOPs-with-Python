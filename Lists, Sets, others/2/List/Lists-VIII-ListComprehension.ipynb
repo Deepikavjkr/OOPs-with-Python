{
 "cells": [
  {
   "cell_type": "markdown",
   "metadata": {},
   "source": [
    "<h3> List Comprehension</h3>\n",
    "\n",
    "This notebook introduces you to the basics of list comprehension.\n",
    "\n",
    "- List comprehensions provide a concise way to create lists.  \n",
    "- It consists of square brackets containing an expression followed by a for clause, then zero or more `for` or `if` clauses.  The result is a new list.  \n",
    "- List comprehension starts with a `[` and  ends with a `]` to help you remember that the result is going to be a list.\n",
    "\n",
    "The syntax is:\n",
    "   `[expression for item in list if conditional ]`"
   ]
  },
  {
   "cell_type": "markdown",
   "metadata": {},
   "source": [
    "Create a list of integers between 18 and 27 (inclusive)"
   ]
  },
  {
   "cell_type": "code",
   "execution_count": 9,
   "metadata": {},
   "outputs": [
    {
     "name": "stdout",
     "output_type": "stream",
     "text": [
      "[18, 19, 20, 21, 22, 23, 24, 25, 26, 27]\n"
     ]
    }
   ],
   "source": [
    "my_lst = [x for x in range(18, 28)]\n",
    "print(my_lst)"
   ]
  },
  {
   "cell_type": "markdown",
   "metadata": {},
   "source": [
    "Create a list that contains the squares of the integers between 18 and 27 (inclusive)"
   ]
  },
  {
   "cell_type": "code",
   "execution_count": 10,
   "metadata": {},
   "outputs": [
    {
     "name": "stdout",
     "output_type": "stream",
     "text": [
      "[324, 361, 400, 441, 484, 529, 576, 625, 676, 729]\n"
     ]
    }
   ],
   "source": [
    "my_lst = [x**2 for x in range(18, 28)]\n",
    "print(my_lst)"
   ]
  },
  {
   "cell_type": "markdown",
   "metadata": {},
   "source": [
    "Create a new list consisting of all the non-string values from `my_lst`."
   ]
  },
  {
   "cell_type": "code",
   "execution_count": 11,
   "metadata": {},
   "outputs": [
    {
     "name": "stdout",
     "output_type": "stream",
     "text": [
      "['Abc', 'Wow', 'Xyz']\n"
     ]
    }
   ],
   "source": [
    "my_lst = ['ABC', 23.4, 7, 'Wow', 16, 'xyz', 10]\n",
    "new_lst = [x.capitalize() for x in my_lst if type(x) == str]\n",
    "print(new_lst)"
   ]
  },
  {
   "cell_type": "markdown",
   "metadata": {},
   "source": [
    "Print the first character of each word in the input list."
   ]
  },
  {
   "cell_type": "code",
   "execution_count": 12,
   "metadata": {},
   "outputs": [
    {
     "name": "stdout",
     "output_type": "stream",
     "text": [
      "['t', 'i', 'a', 'w']\n"
     ]
    }
   ],
   "source": [
    "listOfWords = [\"this\",\"is\",\"a\",\"List\",\"Tf\",\"words\"]\n",
    "new_list = [word[0] for word in listOfWords if word.islower()]\n",
    "print(new_list)"
   ]
  },
  {
   "cell_type": "markdown",
   "metadata": {},
   "source": [
    "List comprehension can also be used on functions."
   ]
  },
  {
   "cell_type": "markdown",
   "metadata": {},
   "source": [
    "Suppose we have the following function which accepts an integer and returns the cube of the integer."
   ]
  },
  {
   "cell_type": "code",
   "execution_count": 13,
   "metadata": {},
   "outputs": [],
   "source": [
    "def cube_value(n):\n",
    "    return n*n*n"
   ]
  },
  {
   "cell_type": "markdown",
   "metadata": {},
   "source": [
    "Now suppose we have a list of integers called `my_lst` and we want a new list that contains the cube of the integers."
   ]
  },
  {
   "cell_type": "code",
   "execution_count": 14,
   "metadata": {},
   "outputs": [
    {
     "name": "stdout",
     "output_type": "stream",
     "text": [
      "[512, 1728, 3375, 6859, 10648, 39304]\n"
     ]
    }
   ],
   "source": [
    "my_lst = [8,12,15,19,22,34]\n",
    "cubed_lst = [cube_value(x) for x in my_lst]\n",
    "print(cubed_lst)"
   ]
  },
  {
   "cell_type": "markdown",
   "metadata": {},
   "source": [
    "Now suppose we want a new list that contains the cube of only the odd integers in `my_lst`."
   ]
  },
  {
   "cell_type": "code",
   "execution_count": 15,
   "metadata": {},
   "outputs": [
    {
     "name": "stdout",
     "output_type": "stream",
     "text": [
      "[3375, 6859]\n"
     ]
    }
   ],
   "source": [
    "cubed_odd_lst = [cube_value(x) for x in my_lst if x%2 == 1]\n",
    "print(cubed_odd_lst)"
   ]
  },
  {
   "cell_type": "markdown",
   "metadata": {},
   "source": [
    "You can create new lists by iterating across two lists simultaneously using two iteration variables.  In the example below, each element in the first list is added to every element in the second list resulting in a new list whose length is the product of the lengths of the two input lists."
   ]
  },
  {
   "cell_type": "code",
   "execution_count": 16,
   "metadata": {},
   "outputs": [
    {
     "name": "stdout",
     "output_type": "stream",
     "text": [
      "[11, 24, 28, 15, 10, 12, 14, 27, 31, 18, 13, 15, 21, 34, 38, 25, 20, 22, 25, 38, 42, 29, 24, 26, 31, 44, 48, 35, 30, 32]\n",
      "30\n"
     ]
    }
   ],
   "source": [
    "list1 = [5, 8, 15, 19, 25]\n",
    "list2 = [6, 19, 23, 10, 5, 7]\n",
    "list3 = [x + y for x in list1 for y in list2]\n",
    "print(list3)\n",
    "print(len(list3))"
   ]
  },
  {
   "cell_type": "markdown",
   "metadata": {},
   "source": [
    "Create a new list by summing the corresponding elements in the two input lists."
   ]
  },
  {
   "cell_type": "code",
   "execution_count": 8,
   "metadata": {},
   "outputs": [
    {
     "name": "stdout",
     "output_type": "stream",
     "text": [
      "[11, 27, 38, 29, 30, 25]\n"
     ]
    }
   ],
   "source": [
    "list1 = [5, 8, 15, 19, 25,18]\n",
    "list2 = [6, 19, 23, 10, 5,7]\n",
    "list3 = [x + y for x in list1 for y in list2 if list1.index(x)==list2.index(y)]\n",
    "print(list3)"
   ]
  },
  {
   "cell_type": "code",
   "execution_count": null,
   "metadata": {},
   "outputs": [],
   "source": []
  }
 ],
 "metadata": {
  "kernelspec": {
   "display_name": "Python 3 (ipykernel)",
   "language": "python",
   "name": "python3"
  },
  "language_info": {
   "codemirror_mode": {
    "name": "ipython",
    "version": 3
   },
   "file_extension": ".py",
   "mimetype": "text/x-python",
   "name": "python",
   "nbconvert_exporter": "python",
   "pygments_lexer": "ipython3",
   "version": "3.9.12"
  }
 },
 "nbformat": 4,
 "nbformat_minor": 2
}
