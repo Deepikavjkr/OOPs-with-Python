{
 "cells": [
  {
   "cell_type": "markdown",
   "metadata": {},
   "source": [
    "<h3>List Slicing</h3>\n",
    "In this notebook, we will discuss slicing and the `del` operator in the context of lists.\n",
    "\n",
    "Like in the case of strings, we can use the slicing feature of Python to extract or otherwise manipulate portions of a list. \n",
    "\n",
    "`[start_val:end_val:step_val]`.  \n",
    "\n",
    "Recall that the slicing notation allows us to extract subsets of a list or string.\n",
    "\n",
    "The slice begins with the element whose index is given by `start_val` (default 0), until 1 less than the `end_val`, in increments of the `step_val` (default is 1).\n",
    "\n",
    "If the `end_val` is not provided, the default is until the end of the list.\n",
    "\n",
    "As seen earlier (in the case of strings), each of the parameters can be negative values as well.\n",
    "\n",
    "The `del` operator can used together with list slicing to remove one or more elements from a list."
   ]
  },
  {
   "cell_type": "markdown",
   "metadata": {},
   "source": [
    "The following are a few examples of list slicing."
   ]
  },
  {
   "cell_type": "code",
   "execution_count": 1,
   "metadata": {},
   "outputs": [],
   "source": [
    "my_lst = [1, 2, 3, 4, 5, 6, 7, 8]"
   ]
  },
  {
   "cell_type": "code",
   "execution_count": 2,
   "metadata": {},
   "outputs": [
    {
     "name": "stdout",
     "output_type": "stream",
     "text": [
      "my_lst[2:4]: [3, 4]\n"
     ]
    }
   ],
   "source": [
    "print('my_lst[2:4]:', my_lst[2:4])"
   ]
  },
  {
   "cell_type": "code",
   "execution_count": 22,
   "metadata": {},
   "outputs": [
    {
     "name": "stdout",
     "output_type": "stream",
     "text": [
      "my_lst[5:]: [6, 7, 8]\n"
     ]
    }
   ],
   "source": [
    "print('my_lst[5:]:', my_lst[5:]) "
   ]
  },
  {
   "cell_type": "code",
   "execution_count": 23,
   "metadata": {},
   "outputs": [
    {
     "name": "stdout",
     "output_type": "stream",
     "text": [
      "my_lst[:5]: [1, 2, 3, 4, 5]\n"
     ]
    }
   ],
   "source": [
    "print('my_lst[:5]:', my_lst[:5])"
   ]
  },
  {
   "cell_type": "code",
   "execution_count": 24,
   "metadata": {},
   "outputs": [
    {
     "name": "stdout",
     "output_type": "stream",
     "text": [
      "my_lst[:]: [1, 2, 3, 4, 5, 6, 7, 8]\n"
     ]
    }
   ],
   "source": [
    "print('my_lst[:]:', my_lst[:])"
   ]
  },
  {
   "cell_type": "code",
   "execution_count": 25,
   "metadata": {},
   "outputs": [
    {
     "name": "stdout",
     "output_type": "stream",
     "text": [
      "my_lst[-1:-8:-1]: [8, 7, 6, 5, 4, 3, 2]\n"
     ]
    }
   ],
   "source": [
    "print('my_lst[-1:-8:-1]:', my_lst[-1:-8:-1])"
   ]
  },
  {
   "cell_type": "code",
   "execution_count": 7,
   "metadata": {},
   "outputs": [
    {
     "name": "stdout",
     "output_type": "stream",
     "text": [
      "my_lst[-1:-9:-1]: [8, 7, 6, 5, 4, 3, 2, 1]\n"
     ]
    }
   ],
   "source": [
    "print('my_lst[-1:-9:-1]:', my_lst[-1:-9:-1])"
   ]
  },
  {
   "cell_type": "markdown",
   "metadata": {},
   "source": [
    "The `del` operator can be used together with slicing to delete multiple elements in a list.  Note that this operator changes the original list.  This is possible only because lists are mutable. "
   ]
  },
  {
   "cell_type": "code",
   "execution_count": 8,
   "metadata": {},
   "outputs": [
    {
     "name": "stdout",
     "output_type": "stream",
     "text": [
      "['B', 'C', 'D']\n"
     ]
    }
   ],
   "source": [
    "elements = [\"A\", \"B\", \"C\", \"D\"]\n",
    "del elements[:1]\n",
    "print(elements)"
   ]
  },
  {
   "cell_type": "code",
   "execution_count": 9,
   "metadata": {},
   "outputs": [
    {
     "name": "stdout",
     "output_type": "stream",
     "text": [
      "['A', 'D']\n"
     ]
    }
   ],
   "source": [
    "elements = [\"A\", \"B\", \"C\", \"D\"]\n",
    "del elements[1:3]\n",
    "print(elements)"
   ]
  },
  {
   "cell_type": "code",
   "execution_count": 10,
   "metadata": {},
   "outputs": [
    {
     "name": "stdout",
     "output_type": "stream",
     "text": [
      "['A', 'C', 'D']\n"
     ]
    }
   ],
   "source": [
    "elements = [\"A\", \"B\", \"C\", \"D\"]\n",
    "del elements[1]\n",
    "print(elements)"
   ]
  },
  {
   "cell_type": "markdown",
   "metadata": {},
   "source": [
    "You can copy the contents of one list to another using slicing."
   ]
  },
  {
   "cell_type": "code",
   "execution_count": 11,
   "metadata": {},
   "outputs": [
    {
     "name": "stdout",
     "output_type": "stream",
     "text": [
      "['A', 'B', 'C', 'D']\n"
     ]
    }
   ],
   "source": [
    "elements = [\"A\", \"B\", \"C\", \"D\"]\n",
    "new_elements = elements[:]\n",
    "print(new_elements)"
   ]
  },
  {
   "cell_type": "markdown",
   "metadata": {},
   "source": [
    "List can also be modified using list slicing.  This is known as slice assignment and is done by using an appropriate slice expression on the left hand side of the assignment operator.  In this notebook, we discuss a few possibilities.\n",
    "\n",
    "Note that slice assignment is only applicable with mutable objects like lists.\n",
    "\n",
    "Although tuple slicing and string slicing can be done, slice assignment is not possible with strings and tuples since they are immutable objects."
   ]
  },
  {
   "cell_type": "markdown",
   "metadata": {},
   "source": [
    "If the slice expression on the left hand side has a single subscript, then the length of the list is retained but the value at that subscript is changed."
   ]
  },
  {
   "cell_type": "code",
   "execution_count": 12,
   "metadata": {},
   "outputs": [
    {
     "name": "stdout",
     "output_type": "stream",
     "text": [
      "[5, 8, 'this', 12, 'why']\n"
     ]
    }
   ],
   "source": [
    "my_lst = [5, 8, 'hi', 12, 'why']\n",
    "my_lst[2] = 'this'\n",
    "print(my_lst)"
   ]
  },
  {
   "cell_type": "markdown",
   "metadata": {},
   "source": [
    "If the slice expression has a single subscript, then the element at that index is replaced by a single element.\n",
    "\n",
    "In the example below, the RHS is added as a single element replacing the element at index 2 in the original list"
   ]
  },
  {
   "cell_type": "code",
   "execution_count": 28,
   "metadata": {},
   "outputs": [
    {
     "name": "stdout",
     "output_type": "stream",
     "text": [
      "[5, 8, 1, 2, 3, 7, 12, 'why']\n"
     ]
    }
   ],
   "source": [
    "my_lst = [5, 8, 'hi', 12, 'why']\n",
    "#my_lst[2] = ['hello', 'why','there']  \n",
    "my_lst[2:3] = [1,2,3,7]\n",
    "print(my_lst)"
   ]
  },
  {
   "cell_type": "markdown",
   "metadata": {},
   "source": [
    "If the slice expression is a range of values, those values are replaced by the values on the RHS.  Note that the number of elements on the two sides need not match.\n",
    "\n",
    "In the example below, the number of elements on the LHS (1) does not match the number of elements on the RHS (4)."
   ]
  },
  {
   "cell_type": "code",
   "execution_count": 14,
   "metadata": {},
   "outputs": [
    {
     "name": "stdout",
     "output_type": "stream",
     "text": [
      "[5, 8, 'image', 9, 15, 78, 34, 'guide', 12, 'why']\n"
     ]
    }
   ],
   "source": [
    "my_lst = [5, 8, 'image', 'hi', 'guide', 12, 'why']\n",
    "my_lst[3:4] = [9,15, 78, 34] \n",
    "print(my_lst)"
   ]
  },
  {
   "cell_type": "markdown",
   "metadata": {},
   "source": [
    "If the slice extracted by the slice expression is an empty list, then all elements in the orginal list are retained with some new elements being inserted into the list."
   ]
  },
  {
   "cell_type": "code",
   "execution_count": 15,
   "metadata": {},
   "outputs": [
    {
     "name": "stdout",
     "output_type": "stream",
     "text": [
      "['one', 'two', 'three', 'four', 'five', 'six', 'seven', 'eight']\n"
     ]
    }
   ],
   "source": [
    "my_lst = ['one', 'two', 'three', 'seven', 'eight']\n",
    "my_lst[3:3] = ['four', 'five', 'six'] #insert ['four','five','six'] at index 3\n",
    "print(my_lst)"
   ]
  },
  {
   "cell_type": "markdown",
   "metadata": {},
   "source": [
    "You can use slice assignment to delete portions of a list.  Again this is only possible because lists are mutable."
   ]
  },
  {
   "cell_type": "code",
   "execution_count": 16,
   "metadata": {},
   "outputs": [
    {
     "name": "stdout",
     "output_type": "stream",
     "text": [
      "['one', 'two', 'three', 'four', 'five']\n"
     ]
    }
   ],
   "source": [
    "my_lst = ['one', 'dos', 'tres', 'cuatro', 'two', 'three', 'four', 'five']\n",
    "my_lst[1:4] = []\n",
    "print(my_lst)"
   ]
  },
  {
   "cell_type": "code",
   "execution_count": null,
   "metadata": {},
   "outputs": [],
   "source": []
  }
 ],
 "metadata": {
  "kernelspec": {
   "display_name": "Python 3 (ipykernel)",
   "language": "python",
   "name": "python3"
  },
  "language_info": {
   "codemirror_mode": {
    "name": "ipython",
    "version": 3
   },
   "file_extension": ".py",
   "mimetype": "text/x-python",
   "name": "python",
   "nbconvert_exporter": "python",
   "pygments_lexer": "ipython3",
   "version": "3.9.12"
  }
 },
 "nbformat": 4,
 "nbformat_minor": 2
}
