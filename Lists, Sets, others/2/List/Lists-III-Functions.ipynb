{
 "cells": [
  {
   "cell_type": "markdown",
   "metadata": {},
   "source": [
    "<h3> List Functions</h3>\n",
    "There are a number of built-in functions that can be used with lists. In this notebook, we cover some of them:\n",
    "\n",
    "1.  `list()`:  used to create lists when supplied with a string or any other iterable object as an argument.\n",
    "2.  `len()`:   finding the number of elements in a list using the len() function\n",
    "3.  `range()`: used to generate a sequence of integers\n",
    "4.  `max()`:   used to find the largest value in an iterable\n",
    "5.  `sum()`:   used to find the sum of all elements in an iterable.  Cannot be applied to sequences containing non-numeric values\n",
    "6.  `min()`:   used to find the smallest value in a sequence\n",
    "7.  `in` and `not in` membership operators\n"
   ]
  },
  {
   "cell_type": "markdown",
   "metadata": {},
   "source": [
    "Lists can be created from strings by using the `list()` function.  \n",
    "Note the following:\n",
    "\n",
    "1.  When converting a string to a list, each character (including spaces) is considered a separate element.  \n",
    "2.  A list can have duplicate elements, that is, a list can have the same element repeated multiple times."
   ]
  },
  {
   "cell_type": "code",
   "execution_count": 1,
   "metadata": {},
   "outputs": [
    {
     "name": "stdout",
     "output_type": "stream",
     "text": [
      "['C', 'r', 'e', 'a', 't', 'i', 'n', 'g', ' ', 'a', ' ', 'l', 'i', 's', 't', ' ', 'f', 'r', 'o', 'm', ' ', 'a', ' ', 's', 't', 'r', 'i', 'n', 'g']\n",
      "29\n",
      "29\n"
     ]
    }
   ],
   "source": [
    "my_new_lst = list(\"Creating a list from a string\")\n",
    "print(my_new_lst)\n",
    "print(len(my_new_lst))\n",
    "print(len(\"Creating a list from a string\"))"
   ]
  },
  {
   "cell_type": "markdown",
   "metadata": {},
   "source": [
    "Another Example"
   ]
  },
  {
   "cell_type": "code",
   "execution_count": 2,
   "metadata": {},
   "outputs": [
    {
     "name": "stdout",
     "output_type": "stream",
     "text": [
      "[2, 3, 4, 5, 6]\n",
      "The length of my_lst_2 is: 5\n"
     ]
    }
   ],
   "source": [
    "my_new_lst2 = list((2,3,4,5,6))\n",
    "print(my_new_lst2)\n",
    "print('The length of my_lst_2 is:',len(my_new_lst2))\n"
   ]
  },
  {
   "cell_type": "markdown",
   "metadata": {},
   "source": [
    "List traversal can be done in the following manner and is the recommended approach to traversing a list.   "
   ]
  },
  {
   "cell_type": "code",
   "execution_count": 1,
   "metadata": {},
   "outputs": [
    {
     "name": "stdout",
     "output_type": "stream",
     "text": [
      "2\n",
      "3\n",
      "4\n",
      "5\n",
      "6\n",
      "7\n",
      "8\n"
     ]
    }
   ],
   "source": [
    "my_new_lst2 = list(\"2345678\")\n",
    "for ele in my_new_lst2:\n",
    "    print(ele)\n"
   ]
  },
  {
   "cell_type": "markdown",
   "metadata": {},
   "source": [
    "In the example below, we print out each element of a list.  If an element is itself a list, the individual elements of the list are printed out."
   ]
  },
  {
   "cell_type": "code",
   "execution_count": 3,
   "metadata": {},
   "outputs": [
    {
     "name": "stdout",
     "output_type": "stream",
     "text": [
      "hello\n",
      "5\n",
      "19\n",
      "[5, 'mix']\n",
      "5\n",
      "mix\n",
      "3\n",
      "4\n"
     ]
    }
   ],
   "source": [
    "my_lst = ['hello', 5, 19, [5,'mix'],3,4]\n",
    "for ele in my_lst:\n",
    "    print(ele)\n",
    "    if type(ele) == list:\n",
    "        for i in ele:\n",
    "            print(i)"
   ]
  },
  {
   "cell_type": "markdown",
   "metadata": {},
   "source": [
    "You can find the number of elements in a list, using the `len()` function.  \n",
    "You can then traverse the list using the `for` construct, together with the `range()` function as shown below.  However, this is not the recommended approach since it is more ineficient than the approach discussed in the previous cell."
   ]
  },
  {
   "cell_type": "code",
   "execution_count": 4,
   "metadata": {},
   "outputs": [
    {
     "name": "stdout",
     "output_type": "stream",
     "text": [
      "2\n",
      "3\n",
      "4\n",
      "5\n",
      "6\n",
      "7\n",
      "8\n"
     ]
    }
   ],
   "source": [
    "my_new_lst2 = list(\"2345678\")\n",
    "for i in range(len(my_new_lst2)):\n",
    "    print(my_new_lst2[i])"
   ]
  },
  {
   "cell_type": "markdown",
   "metadata": {},
   "source": [
    "To find the element in a list with the highest value, use the `max()` function.  Note that the max function can be applied to both numeric as well as alpha numeric values but not to a list that contains a mix of both types."
   ]
  },
  {
   "cell_type": "code",
   "execution_count": 8,
   "metadata": {},
   "outputs": [
    {
     "name": "stdout",
     "output_type": "stream",
     "text": [
      "The max of my_lst:  t\n",
      "The max of my_lst1:  8\n"
     ]
    },
    {
     "ename": "TypeError",
     "evalue": "'>' not supported between instances of 'str' and 'int'",
     "output_type": "error",
     "traceback": [
      "\u001b[1;31m---------------------------------------------------------------------------\u001b[0m",
      "\u001b[1;31mTypeError\u001b[0m                                 Traceback (most recent call last)",
      "Input \u001b[1;32mIn [8]\u001b[0m, in \u001b[0;36m<cell line: 6>\u001b[1;34m()\u001b[0m\n\u001b[0;32m      4\u001b[0m \u001b[38;5;28mprint\u001b[39m(\u001b[38;5;124m'\u001b[39m\u001b[38;5;124mThe max of my_lst: \u001b[39m\u001b[38;5;124m'\u001b[39m,\u001b[38;5;28mmax\u001b[39m(my_new_lst))\n\u001b[0;32m      5\u001b[0m \u001b[38;5;28mprint\u001b[39m(\u001b[38;5;124m'\u001b[39m\u001b[38;5;124mThe max of my_lst1: \u001b[39m\u001b[38;5;124m'\u001b[39m,\u001b[38;5;28mmax\u001b[39m(my_new_lst1))\n\u001b[1;32m----> 6\u001b[0m \u001b[38;5;28mprint\u001b[39m(\u001b[38;5;124m'\u001b[39m\u001b[38;5;124mThe max of my_lst2: \u001b[39m\u001b[38;5;124m'\u001b[39m,\u001b[38;5;28;43mmax\u001b[39;49m\u001b[43m(\u001b[49m\u001b[43mmy_new_lst2\u001b[49m\u001b[43m)\u001b[49m)\n",
      "\u001b[1;31mTypeError\u001b[0m: '>' not supported between instances of 'str' and 'int'"
     ]
    }
   ],
   "source": [
    "my_new_lst = list(\"Creating a list from a string\")\n",
    "my_new_lst1 = [2,3,4,5,6,7,8]\n",
    "my_new_lst2 = [2,3,4,5,6,7,8, 'asdsf']\n",
    "print('The max of my_lst: ',max(my_new_lst))\n",
    "print('The max of my_lst1: ',max(my_new_lst1))\n",
    "print('The max of my_lst2: ',max(my_new_lst2))"
   ]
  },
  {
   "cell_type": "markdown",
   "metadata": {},
   "source": [
    "To find the element in a list with the smallest value, use the `min()` function.  Note that the min function can be applied to both numeric as well as alpha numeric values.  The space character is the smallest in the `my_new_lst` list."
   ]
  },
  {
   "cell_type": "code",
   "execution_count": 7,
   "metadata": {},
   "outputs": [
    {
     "name": "stdout",
     "output_type": "stream",
     "text": [
      "1.   \n",
      "2.  2\n",
      "3.  C\n"
     ]
    }
   ],
   "source": [
    "my_new_lst = list(\"Creating a list from a string\")\n",
    "my_new_lst2 = [2,3,4,5,6,7,8]\n",
    "my_new_lst3 = list(\"Creatingalistfromastring\")\n",
    "print('1. ', min(my_new_lst)) # This will display a space\n",
    "print('2. ', min(my_new_lst2))\n",
    "print('3. ', min(my_new_lst3))"
   ]
  },
  {
   "cell_type": "markdown",
   "metadata": {},
   "source": [
    "To find the total of the elements in a list, use the `sum()` function.  The `sum()` function cannot be applied to lists with non-numeric values"
   ]
  },
  {
   "cell_type": "code",
   "execution_count": 9,
   "metadata": {},
   "outputs": [
    {
     "name": "stdout",
     "output_type": "stream",
     "text": [
      "35\n"
     ]
    }
   ],
   "source": [
    "my_new_lst = list(\"Creating a list from a string\")\n",
    "my_new_lst2 = [2,3,4,5,6,7,8]\n",
    "\n",
    "#print(sum(my_new_lst)) #This will result in an error\n",
    "print(sum(my_new_lst2))\n"
   ]
  },
  {
   "cell_type": "markdown",
   "metadata": {},
   "source": [
    "The `in` and `not in` operators, referred to as membership operators are used to specify whether or not an element is in a list"
   ]
  },
  {
   "cell_type": "code",
   "execution_count": 10,
   "metadata": {},
   "outputs": [
    {
     "name": "stdout",
     "output_type": "stream",
     "text": [
      "False\n",
      "False\n",
      "True\n",
      "True\n"
     ]
    }
   ],
   "source": [
    "my_list = [[10], 20, 30, 40, 50 ]\n",
    "print(10 in my_list)\n",
    "print(54 in my_list)\n",
    "\n",
    "print(10 not in my_list)\n",
    "print(54 not in my_list)"
   ]
  },
  {
   "cell_type": "code",
   "execution_count": null,
   "metadata": {},
   "outputs": [],
   "source": []
  }
 ],
 "metadata": {
  "kernelspec": {
   "display_name": "Python 3 (ipykernel)",
   "language": "python",
   "name": "python3"
  },
  "language_info": {
   "codemirror_mode": {
    "name": "ipython",
    "version": 3
   },
   "file_extension": ".py",
   "mimetype": "text/x-python",
   "name": "python",
   "nbconvert_exporter": "python",
   "pygments_lexer": "ipython3",
   "version": "3.9.12"
  }
 },
 "nbformat": 4,
 "nbformat_minor": 2
}
