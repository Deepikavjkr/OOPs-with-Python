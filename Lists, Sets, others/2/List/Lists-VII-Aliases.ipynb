{
 "cells": [
  {
   "cell_type": "markdown",
   "metadata": {},
   "source": [
    "<h3>Aliases</h3>\n",
    "In this notebook we briefly discuss the difference between a memory location and the contents at that location.  We also study aliases.\n",
    "\n",
    "Everything in Python is an object.  Every object has an identity (id) which corresponds to the object's location in memory. The `id()` function can be used to retrieve the memory location of an object.  Variable names point to the memory location.   It is important to understand that two memory locations can contain the same values but are still two distinctly different  objects. Changing or removing the contents in one will not affect the other location.\n",
    "\n",
    "On the other hand, two different names can be used to point to the same memory location.  In this case, the variable names are said to be aliases of each other.\n",
    "\n",
    "When you have two aliases for a mutable object, changing the value of one variable means that the alias also changes.  So, it is good practice to avoid aliasing when working with mutable objects."
   ]
  },
  {
   "cell_type": "markdown",
   "metadata": {},
   "source": [
    "In the following example, the identifiers `lst_1` and `lst_2` point to two different memory locations.  Hence, although their contents are the same, their identities are different.  "
   ]
  },
  {
   "cell_type": "code",
   "execution_count": 1,
   "metadata": {},
   "outputs": [],
   "source": [
    "lst_1 = [1,2,3]\n",
    "lst_2 = [1,2,3]\n"
   ]
  },
  {
   "cell_type": "markdown",
   "metadata": {},
   "source": [
    "The `is` operator will return False as the two memory locations are different."
   ]
  },
  {
   "cell_type": "code",
   "execution_count": 2,
   "metadata": {},
   "outputs": [
    {
     "name": "stdout",
     "output_type": "stream",
     "text": [
      "False\n"
     ]
    }
   ],
   "source": [
    "print(lst_1 is lst_2) "
   ]
  },
  {
   "cell_type": "markdown",
   "metadata": {},
   "source": [
    "The `id()` function will return two different id's for the two objects"
   ]
  },
  {
   "cell_type": "code",
   "execution_count": 3,
   "metadata": {},
   "outputs": [
    {
     "name": "stdout",
     "output_type": "stream",
     "text": [
      "1604355798912 1604355798720\n"
     ]
    }
   ],
   "source": [
    "print(id(lst_1), id(lst_2))"
   ]
  },
  {
   "cell_type": "markdown",
   "metadata": {},
   "source": [
    "However, since the contents are the same, the `==` operator will return `True`"
   ]
  },
  {
   "cell_type": "code",
   "execution_count": 4,
   "metadata": {},
   "outputs": [
    {
     "name": "stdout",
     "output_type": "stream",
     "text": [
      "True\n"
     ]
    }
   ],
   "source": [
    "print(lst_1 == lst_2)"
   ]
  },
  {
   "cell_type": "markdown",
   "metadata": {},
   "source": [
    "In the following assignment statement, the identifier `lst_1` is assigned the same address as that for `lst_2`.  Since both identifiers are therefore pointing to the same memory location, they are the same.  We say `lst_1` and `lst_2` are aliases of each other."
   ]
  },
  {
   "cell_type": "code",
   "execution_count": 5,
   "metadata": {},
   "outputs": [],
   "source": [
    "lst_1 = [1,2,3]\n",
    "lst_2 = lst_1"
   ]
  },
  {
   "cell_type": "markdown",
   "metadata": {},
   "source": [
    "The `is` operator will return `True` as the two variables point to the same memory location."
   ]
  },
  {
   "cell_type": "code",
   "execution_count": 6,
   "metadata": {},
   "outputs": [
    {
     "name": "stdout",
     "output_type": "stream",
     "text": [
      "True\n"
     ]
    }
   ],
   "source": [
    "print(lst_1 is lst_2) "
   ]
  },
  {
   "cell_type": "markdown",
   "metadata": {},
   "source": [
    "The `id()` function will return the same id for the two variables.  "
   ]
  },
  {
   "cell_type": "code",
   "execution_count": 7,
   "metadata": {},
   "outputs": [
    {
     "name": "stdout",
     "output_type": "stream",
     "text": [
      "1604355506944 1604355506944\n"
     ]
    }
   ],
   "source": [
    "print(id(lst_1), id(lst_2))"
   ]
  },
  {
   "cell_type": "markdown",
   "metadata": {},
   "source": [
    "The `==` operator will also return `True`"
   ]
  },
  {
   "cell_type": "code",
   "execution_count": 8,
   "metadata": {},
   "outputs": [
    {
     "name": "stdout",
     "output_type": "stream",
     "text": [
      "True\n"
     ]
    }
   ],
   "source": [
    "print(lst_1 == lst_2)"
   ]
  },
  {
   "cell_type": "markdown",
   "metadata": {},
   "source": [
    "In the above example, since `lst_1` and `lst_2` refer to the same object, changing `lst_2` changes `lst_1`.  Avoid aliasing when working with mutable objects."
   ]
  },
  {
   "cell_type": "code",
   "execution_count": 9,
   "metadata": {},
   "outputs": [],
   "source": [
    "lst_1 = [1,2,3]"
   ]
  },
  {
   "cell_type": "markdown",
   "metadata": {},
   "source": [
    "The statement below sets the memory location of `lst_2` to be the same as the location of `lst_1`. Thus `lst_1` and `lst_2` are aliases of each other."
   ]
  },
  {
   "cell_type": "code",
   "execution_count": 10,
   "metadata": {},
   "outputs": [
    {
     "name": "stdout",
     "output_type": "stream",
     "text": [
      "[1, 2, 3]\n",
      "[1, 2, 3]\n"
     ]
    }
   ],
   "source": [
    "lst_2 = lst_1  \n",
    "print(lst_1)\n",
    "print(lst_2)"
   ]
  },
  {
   "cell_type": "markdown",
   "metadata": {},
   "source": [
    "Since both `lst_1` and `lst_2` are pointing to the same memory location, their id will be the same"
   ]
  },
  {
   "cell_type": "code",
   "execution_count": 11,
   "metadata": {},
   "outputs": [
    {
     "name": "stdout",
     "output_type": "stream",
     "text": [
      "1604355797440\n",
      "1604355797440\n"
     ]
    }
   ],
   "source": [
    "print(id(lst_1))\n",
    "print(id(lst_2))"
   ]
  },
  {
   "cell_type": "markdown",
   "metadata": {},
   "source": [
    "The statement below changes the second element of `lst_2` to 8.  However, this means that `lst_1` is also changed."
   ]
  },
  {
   "cell_type": "code",
   "execution_count": 12,
   "metadata": {},
   "outputs": [
    {
     "name": "stdout",
     "output_type": "stream",
     "text": [
      "[1, 9, 3]\n",
      "[1, 9, 3]\n"
     ]
    }
   ],
   "source": [
    "lst_1[1] = 9\n",
    "print(lst_1)\n",
    "print(lst_2)"
   ]
  },
  {
   "cell_type": "markdown",
   "metadata": {},
   "source": [
    "Lists can be passed as arguments to a function.  What is actually being passed is the address of the location containing the list.  However, since lists are mutable, any change to the list inside the function will permanently modify the list.  Hence care needs to be exerted when passing lists (or any other mutable objects) as arguments."
   ]
  },
  {
   "cell_type": "code",
   "execution_count": null,
   "metadata": {},
   "outputs": [],
   "source": [
    "def delete_head(lst):\n",
    "    del lst[0]\n",
    "\n",
    "def squaren(n):\n",
    "    n = n**2\n",
    "    return n    \n",
    "    \n",
    "numbers=[1,2,3,4,5]\n",
    "delete_head(numbers) #After this statement is executed, the list will be changed\n",
    "print(numbers)\n",
    "\n",
    "n = 5\n",
    "print(squaren(n)) # The value of n stays the same even after this statement is executed.\n",
    "print(n)"
   ]
  }
 ],
 "metadata": {
  "kernelspec": {
   "display_name": "Python 3 (ipykernel)",
   "language": "python",
   "name": "python3"
  },
  "language_info": {
   "codemirror_mode": {
    "name": "ipython",
    "version": 3
   },
   "file_extension": ".py",
   "mimetype": "text/x-python",
   "name": "python",
   "nbconvert_exporter": "python",
   "pygments_lexer": "ipython3",
   "version": "3.9.12"
  }
 },
 "nbformat": 4,
 "nbformat_minor": 2
}
