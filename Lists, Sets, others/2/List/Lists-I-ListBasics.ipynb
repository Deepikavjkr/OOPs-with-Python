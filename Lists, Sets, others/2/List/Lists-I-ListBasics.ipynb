{
 "cells": [
  {
   "cell_type": "markdown",
   "metadata": {},
   "source": [
    "<h3>List Basics</h3>\n",
    "\n",
    "In this course we will study four data structures in Python: lists, tuples, sets, and dictionaries.  \n",
    "\n",
    "`Lists`, `tuples` and `strings` are sequences because the order of the elements they contain is important and each element can be mapped to its position in the data structure by the index value.  \n",
    "\n",
    "`Lists`, `tuples`, `dictionaries` and `strings` are also called iterables, because one can loop through them one value at a time.  Generally speaking, iterables are anything that can be looped over (i.e. you can loop over a string or file).  We also use the term `containers` when referring to `Lists`, `tuples`, `dictionaries` and `sets`."
   ]
  },
  {
   "cell_type": "markdown",
   "metadata": {},
   "source": [
    "This notebook introduces the first of the data structures discussed above - `lists`.  Lists are a sequence of elements enclosed in square brackets and separated by commas.  There is a lot of similarity between lists and strings but also some important differences.\n",
    "\n",
    "Below is a brief comparison between `Lists` and `Strings`\n",
    "\n",
    "Differences between `Strings` and `Lists`:\n",
    "1.  Strings are immutable while lists are mutable.  That means individual elements of a list can be changed as needed.\n",
    "2.  Strings can only contain a sequence of characters while lists are a sequence of any combination of numbers, strings, lists, and other data structures.\n",
    "\n",
    "Similarities between `String` and `Lists`:  \n",
    "\n",
    "1.  Like strings, individual elements of a list can be accessed using the appropriate index. This is because lists, like strings, are an ordered collection.\n",
    "2.  The `len()` function can also be applied on lists to find the number of elements in a list.\n",
    "3.  List slicing works exactly like string slicing and can be used to extract portions of a list.\n",
    "4.  List traversal can be done using the `for` construct just like we did in the case of string traversal. "
   ]
  },
  {
   "cell_type": "markdown",
   "metadata": {},
   "source": [
    "This example displays a few list constants.  "
   ]
  },
  {
   "cell_type": "code",
   "execution_count": 6,
   "metadata": {},
   "outputs": [
    {
     "name": "stdout",
     "output_type": "stream",
     "text": [
      "[15, 22, 32, 25, 11]\n",
      "[0.4563071460368451, 0.07656947793940483, 0.07888585762912981, 0.0793274530110013, 0.0045384596770980945]\n",
      "['a', 'e', 'i', 'o', 'u']\n"
     ]
    }
   ],
   "source": [
    "from random import random\n",
    "print([15,22,32,25,11])\n",
    "print([random(), random(), random(), random(), random()])\n",
    "print(['a', 'e', 'i', 'o', 'u'])"
   ]
  },
  {
   "cell_type": "markdown",
   "metadata": {},
   "source": [
    "List variables can be created by assigning a list constant to a variable name.  Note that a list can contain elements of different types including other lists.  "
   ]
  },
  {
   "cell_type": "code",
   "execution_count": 7,
   "metadata": {},
   "outputs": [
    {
     "name": "stdout",
     "output_type": "stream",
     "text": [
      "['5', 4, 3.3, 2, '1', True, [8, 9]]\n"
     ]
    }
   ],
   "source": [
    "test_lst = ['5', 4, 3.3, 2, '1', True, [8,9]]\n",
    "print(test_lst)"
   ]
  },
  {
   "cell_type": "markdown",
   "metadata": {},
   "source": [
    "List elements can be any valid Python element; `int`, `float`, `strings`, `other lists`, `expressions` or other data structures like objects of a class, `tuples`, `sets`, etc. "
   ]
  },
  {
   "cell_type": "code",
   "execution_count": 8,
   "metadata": {},
   "outputs": [
    {
     "name": "stdout",
     "output_type": "stream",
     "text": [
      "[5, 8]\n",
      "[5, 8, [5, 8], 17]\n"
     ]
    }
   ],
   "source": [
    "x = 5 \n",
    "y = 8\n",
    "z = [x,y]\n",
    "u = [x,y,z,x+12]\n",
    "print(z)\n",
    "print(u)"
   ]
  },
  {
   "cell_type": "markdown",
   "metadata": {},
   "source": [
    "You can use the `type()` function to see if a variable is a list"
   ]
  },
  {
   "cell_type": "code",
   "execution_count": 11,
   "metadata": {},
   "outputs": [
    {
     "name": "stdout",
     "output_type": "stream",
     "text": [
      "[1, 2, 3] is a list\n"
     ]
    }
   ],
   "source": [
    "lst = [1, 2, 3]\n",
    "tpl = (1,2,3)\n",
    "if type(lst) == list:\n",
    "    print(f'{lst} is a list')\n",
    "if (type(tpl) == list):\n",
    "    print(f'{tpl} is a list')"
   ]
  }
 ],
 "metadata": {
  "kernelspec": {
   "display_name": "Python 3 (ipykernel)",
   "language": "python",
   "name": "python3"
  },
  "language_info": {
   "codemirror_mode": {
    "name": "ipython",
    "version": 3
   },
   "file_extension": ".py",
   "mimetype": "text/x-python",
   "name": "python",
   "nbconvert_exporter": "python",
   "pygments_lexer": "ipython3",
   "version": "3.9.12"
  }
 },
 "nbformat": 4,
 "nbformat_minor": 2
}
