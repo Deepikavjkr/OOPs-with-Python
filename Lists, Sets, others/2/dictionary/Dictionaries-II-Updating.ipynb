{
 "cells": [
  {
   "cell_type": "markdown",
   "metadata": {},
   "source": [
    "<h3>Updating a dictionary</h3>\n",
    "\n",
    "In this notebook we see how a dictionary can be updated.  This includes:\n",
    "1. Adding a new `key:value` pair\n",
    "2. Changing the value associated with an existing key\n",
    "3. removing a key:value pair using the `del` operator\n",
    "4. Clearing the contents of the entire dictionary using the `clear()` method\n",
    "5. Deleting the entire dictionary using the del operator"
   ]
  },
  {
   "cell_type": "markdown",
   "metadata": {},
   "source": [
    "You can update a dictionary by modifying an existing entry."
   ]
  },
  {
   "cell_type": "code",
   "execution_count": 1,
   "metadata": {},
   "outputs": [
    {
     "name": "stdout",
     "output_type": "stream",
     "text": [
      "{'Name': 'Zara', 'Age': 8, 'Class': 'First'}\n"
     ]
    }
   ],
   "source": [
    "dict = {'Name': 'Zara', 'Age': 7, 'Class': 'First'}\n",
    "dict['Age'] = 8 \n",
    "print(dict)"
   ]
  },
  {
   "cell_type": "markdown",
   "metadata": {},
   "source": [
    "You can update a dictionary by adding a new entry or a `key-value` pair"
   ]
  },
  {
   "cell_type": "code",
   "execution_count": 2,
   "metadata": {},
   "outputs": [
    {
     "name": "stdout",
     "output_type": "stream",
     "text": [
      "{'Name': 'Zara', 'Age': 7, 'Class': 'First', 'School': 'DPS School'}\n",
      "{'Name': 'Zara', 'Age': 7, 'Class': 'First', 'School': 'DPS School', 'College': 'IIMB'}\n"
     ]
    }
   ],
   "source": [
    "dict = {'Name': 'Zara', 'Age': 7, 'Class': 'First'}\n",
    "dict['School'] = \"DPS School\"\n",
    "print(dict)\n",
    "\n",
    "dict['College'] = 'IIMB'\n",
    "print(dict)"
   ]
  },
  {
   "cell_type": "markdown",
   "metadata": {},
   "source": [
    "You can update a dictionary by deleting an existing entry using the key together with the `del` operator."
   ]
  },
  {
   "cell_type": "code",
   "execution_count": null,
   "metadata": {},
   "outputs": [],
   "source": [
    "dict = {'Name': 'Zara', 'Age': 7, 'Class': 'First', 'Type':'hello'}\n",
    "\n",
    "del dict['Class'] # remove entry with key 'Class'\n",
    "print(dict)\n",
    "\n",
    "del (dict['Name'], dict['Type']) #Removing multiple entries in one statement\n",
    "print(dict)"
   ]
  },
  {
   "cell_type": "markdown",
   "metadata": {},
   "source": [
    "Use the `clear()` method to remove all elements in a dictionary.  Note that this removes all entries from a dictionary but the dictionary still exists."
   ]
  },
  {
   "cell_type": "code",
   "execution_count": null,
   "metadata": {},
   "outputs": [],
   "source": [
    "my_dict = { 'chuck' : 1 , 'fred' : 42, 'jan': 100}\n",
    "print(my_dict)\n",
    "my_dict.clear()\n",
    "print(my_dict) #Prints an empty dictionary"
   ]
  },
  {
   "cell_type": "markdown",
   "metadata": {},
   "source": [
    "use the `del` operator to delete the dictionary completely.  This deletes the dictionary and it no longer exists. "
   ]
  },
  {
   "cell_type": "code",
   "execution_count": null,
   "metadata": {},
   "outputs": [],
   "source": [
    "my_dict = { 'chuck' : 1 , 'fred' : 42, 'jan': 100}\n",
    "print(my_dict)\n",
    "del my_dict\n",
    "print(my_dict) # Will return an error since the dictionary object no longer exists."
   ]
  }
 ],
 "metadata": {
  "kernelspec": {
   "display_name": "Python 3 (ipykernel)",
   "language": "python",
   "name": "python3"
  },
  "language_info": {
   "codemirror_mode": {
    "name": "ipython",
    "version": 3
   },
   "file_extension": ".py",
   "mimetype": "text/x-python",
   "name": "python",
   "nbconvert_exporter": "python",
   "pygments_lexer": "ipython3",
   "version": "3.9.12"
  }
 },
 "nbformat": 4,
 "nbformat_minor": 2
}
