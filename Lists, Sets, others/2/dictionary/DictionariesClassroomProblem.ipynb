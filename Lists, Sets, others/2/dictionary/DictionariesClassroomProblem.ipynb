{
 "cells": [
  {
   "cell_type": "markdown",
   "metadata": {},
   "source": [
    "<h3>Problem Statement</h3>\n",
    "Dictionaries are often used to count things and store the count.  \n",
    "We want to count the number of occurrences of each letter in a text and store it together with the letter.  Write a Python program to create a dictionary that tracks the count of the letters from the string."
   ]
  },
  {
   "cell_type": "code",
   "execution_count": 1,
   "metadata": {},
   "outputs": [
    {
     "name": "stdout",
     "output_type": "stream",
     "text": [
      "{'i': 6, 't': 3, ' ': 7, 's': 2, 'a': 3, 'b': 3, 'e': 2, 'u': 2, 'f': 1, 'l': 1, 'd': 2, 'y': 1, 'n': 2, 'h': 2, 'g': 1, 'o': 3, 'r': 1}\n"
     ]
    }
   ],
   "source": [
    "my_str = 'it is a beautiful day in this neighborbood' \n",
    "my_dict = {}\n",
    "for letter in my_str:\n",
    "    my_dict[letter] = my_dict.get(letter, 0) + 1\n",
    "print(my_dict)"
   ]
  },
  {
   "cell_type": "code",
   "execution_count": null,
   "metadata": {},
   "outputs": [],
   "source": []
  }
 ],
 "metadata": {
  "kernelspec": {
   "display_name": "Python 3 (ipykernel)",
   "language": "python",
   "name": "python3"
  },
  "language_info": {
   "codemirror_mode": {
    "name": "ipython",
    "version": 3
   },
   "file_extension": ".py",
   "mimetype": "text/x-python",
   "name": "python",
   "nbconvert_exporter": "python",
   "pygments_lexer": "ipython3",
   "version": "3.9.12"
  }
 },
 "nbformat": 4,
 "nbformat_minor": 2
}
