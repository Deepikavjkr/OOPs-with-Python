{
 "cells": [
  {
   "cell_type": "markdown",
   "metadata": {},
   "source": [
    "<h3>Dictionary Functions</h3>\n",
    "\n",
    "This notebook demonstrates the dictionary functions that we will cover in this course.\n",
    "These are functions we have already seen in the context of lists.\n",
    "They are:\n",
    "1. `max(dict)`  -  returns the key with the maximum value\n",
    "2. `min(dict)`  -  returns the key with the minimum value\n",
    "3. `sorted(dict)` - returns the keys of the dictionary in a sorted order\n",
    "4. `len(dict)`\n",
    "\n",
    "where `dict` is the name of a dictionary object"
   ]
  },
  {
   "cell_type": "markdown",
   "metadata": {},
   "source": [
    "The `max()` function returns the key with the max value.  Note that all the keys in  the dictionary must be of the same type, otherwise the use of the `max()` function will return an error."
   ]
  },
  {
   "cell_type": "code",
   "execution_count": null,
   "metadata": {},
   "outputs": [],
   "source": [
    "dict1 = {'Name': 'Zara', 'Age': 7, 'Class': 'First', 'Type':[5,8,9]}\n",
    "print(max(dict1))\n",
    "print(dict1)"
   ]
  },
  {
   "cell_type": "markdown",
   "metadata": {},
   "source": [
    "The `min()` function returns the key with the min value.  Note that all the keys in the dictionary must be of the same type, otherwise the use of the `min()` function will return an error."
   ]
  },
  {
   "cell_type": "code",
   "execution_count": null,
   "metadata": {},
   "outputs": [],
   "source": [
    "dict1 = {'Name': 'Zara', 'Age': 7, 'Class': 'First', 'Type':[5,8,9]}\n",
    "print(min(dict1))"
   ]
  },
  {
   "cell_type": "markdown",
   "metadata": {},
   "source": [
    "The `sorted()` function returns the keys of the dictionary in a sorted order.  "
   ]
  },
  {
   "cell_type": "code",
   "execution_count": 1,
   "metadata": {},
   "outputs": [
    {
     "name": "stdout",
     "output_type": "stream",
     "text": [
      "['Age', 'Class', 'Name', 'Type']\n",
      "{'Name': 'Zara', 'Age': 7, 'Class': 'First', 'Type': [5, 8, 9]}\n"
     ]
    }
   ],
   "source": [
    "dict1 = {'Name': 'Zara', 'Age': 7, 'Class': 'First', 'Type':[5,8,9]}\n",
    "print(sorted(dict1))\n",
    "print(dict1)"
   ]
  },
  {
   "cell_type": "markdown",
   "metadata": {},
   "source": [
    "The `len()` function returns the number of key:value pairs in the dictionary."
   ]
  },
  {
   "cell_type": "code",
   "execution_count": null,
   "metadata": {},
   "outputs": [],
   "source": [
    "dict1 = {'a':5, 'b':8, 'c':10}\n",
    "print(len(dict1))"
   ]
  }
 ],
 "metadata": {
  "kernelspec": {
   "display_name": "Python 3 (ipykernel)",
   "language": "python",
   "name": "python3"
  },
  "language_info": {
   "codemirror_mode": {
    "name": "ipython",
    "version": 3
   },
   "file_extension": ".py",
   "mimetype": "text/x-python",
   "name": "python",
   "nbconvert_exporter": "python",
   "pygments_lexer": "ipython3",
   "version": "3.9.12"
  }
 },
 "nbformat": 4,
 "nbformat_minor": 2
}
