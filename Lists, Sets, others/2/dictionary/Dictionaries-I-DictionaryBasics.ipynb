{
 "cells": [
  {
   "cell_type": "markdown",
   "metadata": {},
   "source": [
    "<h3> Dictionary</h3>\n",
    "\n",
    "1.  Dictionaries are the next iterable data structure we will cover in this course.\n",
    "2.  Dictionaries contain unordered `key:value` pairs where each key uniquely maps to a value. Keys cannot be repeated but the values can repeat.  \n",
    "3.  The keys can then be used to loopkup values.  \n",
    "4.  Dictionary literals are stored as `key value` pairs enclosed in a set of curly braces.  Each `key:value` pair is separated by a `:`.  The pairs are separated by commas\n",
    "\n",
    "The examples in this notebook demonstrate how  \n",
    "1. to lookup values using keys\n",
    "2. to create dictionaries\n",
    "3. use the len() function to find the number of key value pairs in a dictionary  \n",
    "4. the use of the `in` operator to check if a specific key exists in the dictionary\n",
    "'''"
   ]
  },
  {
   "cell_type": "markdown",
   "metadata": {},
   "source": [
    "Dictionary literals are stored as key value pairs enclosed in a set of curly braces.\n",
    "Each `key:value` pair is separated by a `:`\n",
    "The pairs are separated by commas.\n",
    "The syntax to look up a value based on the key is:\n",
    "    `dict_name[key]`"
   ]
  },
  {
   "cell_type": "code",
   "execution_count": 1,
   "metadata": {},
   "outputs": [
    {
     "name": "stdout",
     "output_type": "stream",
     "text": [
      "my_dict[Name] Zara\n",
      "my_dict[Class] First\n"
     ]
    }
   ],
   "source": [
    "my_dict = {'Name':'Zara', 'Age': 7, 'Class': 'First'}\n",
    "print('my_dict[Name]', my_dict['Name'])\n",
    "print('my_dict[Class]', my_dict['Class'])"
   ]
  },
  {
   "cell_type": "markdown",
   "metadata": {},
   "source": [
    "We get a  `KeyError` if we try to lookup a value using a key that does not exist."
   ]
  },
  {
   "cell_type": "code",
   "execution_count": 2,
   "metadata": {},
   "outputs": [
    {
     "ename": "KeyError",
     "evalue": "'Type'",
     "output_type": "error",
     "traceback": [
      "\u001b[1;31m---------------------------------------------------------------------------\u001b[0m",
      "\u001b[1;31mKeyError\u001b[0m                                  Traceback (most recent call last)",
      "Input \u001b[1;32mIn [2]\u001b[0m, in \u001b[0;36m<cell line: 1>\u001b[1;34m()\u001b[0m\n\u001b[1;32m----> 1\u001b[0m \u001b[38;5;28mprint\u001b[39m(\u001b[38;5;124m'\u001b[39m\u001b[38;5;124mmy_dict[Type]\u001b[39m\u001b[38;5;124m'\u001b[39m, \u001b[43mmy_dict\u001b[49m\u001b[43m[\u001b[49m\u001b[38;5;124;43m'\u001b[39;49m\u001b[38;5;124;43mType\u001b[39;49m\u001b[38;5;124;43m'\u001b[39;49m\u001b[43m]\u001b[49m)\n",
      "\u001b[1;31mKeyError\u001b[0m: 'Type'"
     ]
    }
   ],
   "source": [
    "print('my_dict[Type]', my_dict['Type']) #This statement will return an error"
   ]
  },
  {
   "cell_type": "markdown",
   "metadata": {},
   "source": [
    "You can create an empty dictionary as follows:"
   ]
  },
  {
   "cell_type": "code",
   "execution_count": 4,
   "metadata": {},
   "outputs": [
    {
     "name": "stdout",
     "output_type": "stream",
     "text": [
      "<class 'dict'>\n"
     ]
    }
   ],
   "source": [
    "my_dict2 = { }\n",
    "print(type(my_dict2))"
   ]
  },
  {
   "cell_type": "markdown",
   "metadata": {},
   "source": [
    "You can also create an empty dictionary using the `dict()` function"
   ]
  },
  {
   "cell_type": "code",
   "execution_count": 6,
   "metadata": {},
   "outputs": [
    {
     "name": "stdout",
     "output_type": "stream",
     "text": [
      "<class 'dict'>\n"
     ]
    }
   ],
   "source": [
    "my_dict3 = dict()\n",
    "print(type(my_dict3))"
   ]
  },
  {
   "cell_type": "markdown",
   "metadata": {},
   "source": [
    "You can also create non-empty dictionaries using the `dict()` function.  The input can be any number of key:value pairs as shown below.  However, the key must be an alphanumeric value and should not be enclosed in quotes."
   ]
  },
  {
   "cell_type": "code",
   "execution_count": 7,
   "metadata": {},
   "outputs": [
    {
     "name": "stdout",
     "output_type": "stream",
     "text": [
      "{'s1': 'Amy', 's2': 'Betty', 's3': 'Cathy', 's4': 'Diana'}\n"
     ]
    }
   ],
   "source": [
    "my_dict4 = dict(s1='Amy', s2='Betty', s3='Cathy', s4='Diana')\n",
    "print(my_dict4)"
   ]
  },
  {
   "cell_type": "markdown",
   "metadata": {},
   "source": [
    "You can find the number of key-value pairs in a dictionary by using the `len()` function."
   ]
  },
  {
   "cell_type": "code",
   "execution_count": 8,
   "metadata": {},
   "outputs": [
    {
     "name": "stdout",
     "output_type": "stream",
     "text": [
      "3\n",
      "0\n",
      "0\n",
      "4\n"
     ]
    }
   ],
   "source": [
    "print(len(my_dict))\n",
    "print(len(my_dict2))\n",
    "print(len(my_dict3))\n",
    "print(len(my_dict4))"
   ]
  },
  {
   "cell_type": "markdown",
   "metadata": {},
   "source": [
    "You can also find out if a dictionary contain a specific key by using the `in` operator"
   ]
  },
  {
   "cell_type": "code",
   "execution_count": 10,
   "metadata": {},
   "outputs": [
    {
     "name": "stdout",
     "output_type": "stream",
     "text": [
      "True\n"
     ]
    }
   ],
   "source": [
    "print('s4' in my_dict4)"
   ]
  }
 ],
 "metadata": {
  "kernelspec": {
   "display_name": "Python 3 (ipykernel)",
   "language": "python",
   "name": "python3"
  },
  "language_info": {
   "codemirror_mode": {
    "name": "ipython",
    "version": 3
   },
   "file_extension": ".py",
   "mimetype": "text/x-python",
   "name": "python",
   "nbconvert_exporter": "python",
   "pygments_lexer": "ipython3",
   "version": "3.9.12"
  }
 },
 "nbformat": 4,
 "nbformat_minor": 2
}
