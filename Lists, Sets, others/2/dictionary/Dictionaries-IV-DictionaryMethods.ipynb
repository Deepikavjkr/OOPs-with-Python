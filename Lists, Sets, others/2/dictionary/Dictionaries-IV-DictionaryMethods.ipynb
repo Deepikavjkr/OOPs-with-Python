{
 "cells": [
  {
   "cell_type": "markdown",
   "metadata": {},
   "source": [
    "This notebook introduces some dictionary methods.  They are:\n",
    "1. `keys()` : used to retrieve the keys in the dictionary.  The method returns a list of keys  containing the keys in the dictonary.\n",
    "2. `get()`  : returns the value associated with the key.  If the key does not exist and the optional value is not provided, the `get()` method returns the reserved word `None`. If the key does not exist and the optional value is provided, the `get()` method will return the optional value.                \n",
    "3. `values()` : used to retrieve the values in the dictionary.  The method returns a list of the values in the dictionary.\n",
    "4. `items()` :  used to retrieve the values in the dictionary.  The method returns a list containing each `key-value` pair as a tuple\n",
    "\n",
    "Methods of an object are accessed using the `objectname.methodname()`.  So to use dictionary methods, we will use `dictionaryname.methodname()`\n"
   ]
  },
  {
   "cell_type": "markdown",
   "metadata": {},
   "source": [
    "The `keys()` method is used to retrieve the keys in the dictionary.  The method returns a list."
   ]
  },
  {
   "cell_type": "code",
   "execution_count": 1,
   "metadata": {},
   "outputs": [
    {
     "name": "stdout",
     "output_type": "stream",
     "text": [
      "dict_keys(['apple', 'orange', 'grapes', 'persimmon', 'mango'])\n"
     ]
    }
   ],
   "source": [
    "sales = { 'apple': 2, 'orange': 3, 'grapes': 4, 'persimmon':1, 'mango':8 }\n",
    "print(sales.keys())"
   ]
  },
  {
   "cell_type": "markdown",
   "metadata": {},
   "source": [
    "The key in a  dictionary be traversed by using the `for` construct together with the `keys()` methods"
   ]
  },
  {
   "cell_type": "code",
   "execution_count": 2,
   "metadata": {},
   "outputs": [
    {
     "name": "stdout",
     "output_type": "stream",
     "text": [
      "apple\n",
      "orange\n",
      "grapes\n",
      "persimmon\n",
      "mango\n"
     ]
    }
   ],
   "source": [
    "sales = { 'apple': 2, 'orange': 3, 'grapes': 4, 'persimmon':1, 'mango':8 }\n",
    "for x in sales.keys():\n",
    "    print(x)"
   ]
  },
  {
   "cell_type": "markdown",
   "metadata": {},
   "source": [
    "The `values()` method is used to retrieve the values in the dictionary.  The method returns a list."
   ]
  },
  {
   "cell_type": "code",
   "execution_count": 3,
   "metadata": {},
   "outputs": [
    {
     "name": "stdout",
     "output_type": "stream",
     "text": [
      "dict_values([2, 3, 3, 1, 8])\n"
     ]
    }
   ],
   "source": [
    "sales = { 'apple': 2, 'orange': 3, 'grapes': 3, 'persimmon':1, 'mango':8 }\n",
    "print(sales.values())"
   ]
  },
  {
   "cell_type": "markdown",
   "metadata": {},
   "source": [
    "The values in a  dictionary be traversed by using the `for` construct together with the `values()` methods."
   ]
  },
  {
   "cell_type": "code",
   "execution_count": null,
   "metadata": {},
   "outputs": [],
   "source": [
    "sales = { 'apple': 2, 'orange': 3, 'grapes': 4, 'persimmon':1, 'mango':8 }\n",
    "for value in sales.values():\n",
    "    print(value)"
   ]
  },
  {
   "cell_type": "markdown",
   "metadata": {},
   "source": [
    "The `items()` method is used to retrieve the keys together with the corresponding values in the dictionary.  The method returns a list containing each key-value pair as a tuple."
   ]
  },
  {
   "cell_type": "code",
   "execution_count": 1,
   "metadata": {},
   "outputs": [
    {
     "name": "stdout",
     "output_type": "stream",
     "text": [
      "dict_items([('apple', 2), ('orange', 3), ('grapes', 4), ('persimmon', 1), ('mango', 8)])\n"
     ]
    }
   ],
   "source": [
    "sales = { 'apple': 2, 'orange': 3, 'grapes': 4, 'persimmon':1, 'mango':8 }\n",
    "print(sales.items())"
   ]
  },
  {
   "cell_type": "markdown",
   "metadata": {},
   "source": [
    "Each key-value pair can be printed out as a tuple using the `for` construct."
   ]
  },
  {
   "cell_type": "code",
   "execution_count": null,
   "metadata": {},
   "outputs": [],
   "source": [
    "sales = { 'apple': 2, 'orange': 3, 'grapes': 4, 'persimmon':1, 'mango':8 }\n",
    "for item in sales.items():\n",
    "    print(item)"
   ]
  },
  {
   "cell_type": "markdown",
   "metadata": {},
   "source": [
    "The key from each key-value pair can be accessed by using index 0."
   ]
  },
  {
   "cell_type": "code",
   "execution_count": 4,
   "metadata": {},
   "outputs": [
    {
     "name": "stdout",
     "output_type": "stream",
     "text": [
      "apple\n",
      "orange\n",
      "grapes\n",
      "persimmon\n",
      "mango\n"
     ]
    }
   ],
   "source": [
    "sales = { 'apple': 2, 'orange': 3, 'grapes': 4, 'persimmon':1, 'mango':8 }\n",
    "for item in sales.items():\n",
    "    print(item[0])"
   ]
  },
  {
   "cell_type": "markdown",
   "metadata": {},
   "source": [
    "The value from each key-value pair can be accessed by using index 1."
   ]
  },
  {
   "cell_type": "code",
   "execution_count": null,
   "metadata": {},
   "outputs": [],
   "source": [
    "sales = { 'apple': 2, 'orange': 3, 'grapes': 4, 'persimmon':1, 'mango':8 }\n",
    "for item in sales.items():\n",
    "    print(item[1])"
   ]
  },
  {
   "cell_type": "markdown",
   "metadata": {},
   "source": [
    "We can use two iterator variables to access both the key and the value in one iteration."
   ]
  },
  {
   "cell_type": "code",
   "execution_count": 5,
   "metadata": {},
   "outputs": [
    {
     "name": "stdout",
     "output_type": "stream",
     "text": [
      "apple 2\n",
      "orange 3\n",
      "grapes 4\n",
      "persimmon 1\n",
      "mango 8\n"
     ]
    }
   ],
   "source": [
    "sales = { 'apple': 2, 'orange': 3, 'grapes': 4, 'persimmon':1, 'mango':8 }\n",
    "for x, y in sales.items():\n",
    "    print(x, y)"
   ]
  },
  {
   "cell_type": "markdown",
   "metadata": {},
   "source": [
    "The syntax for the `get()` method is\n",
    "\n",
    "`dictname.get(key, [value])`\n",
    "\n",
    "This method returns the value associated with the key.  If the key does not exist and the optional value is not provided, the `get()` method returns the reserved word `None`.\n",
    "\n",
    "If the key does not exist and the optional value is provided, the `get()` method will return the optional value.  "
   ]
  },
  {
   "cell_type": "code",
   "execution_count": 7,
   "metadata": {},
   "outputs": [
    {
     "name": "stdout",
     "output_type": "stream",
     "text": [
      "1\n",
      "2\n",
      "8\n"
     ]
    }
   ],
   "source": [
    "sales = {'apple': 2, 'orange': 3, 'grapes': 4, 'persimmon':1, 'mango':8 }\n",
    "print(sales.get('persimmon', 8))\n",
    "print(sales.get('papaya'))\n",
    "print(sales.get('papaya', 8))"
   ]
  },
  {
   "cell_type": "markdown",
   "metadata": {},
   "source": [
    "As discussed earlier, we can also look up values associated with a key by using the `dictionaryname[key]` construct  which also returns the value associated with the key.  However, if the key does not exist, it returns an `KeyError`.  The `get()` method on the other hand does not return an error."
   ]
  },
  {
   "cell_type": "code",
   "execution_count": 1,
   "metadata": {},
   "outputs": [
    {
     "name": "stdout",
     "output_type": "stream",
     "text": [
      "1\n"
     ]
    },
    {
     "ename": "KeyError",
     "evalue": "'papaya'",
     "output_type": "error",
     "traceback": [
      "\u001b[1;31m---------------------------------------------------------------------------\u001b[0m",
      "\u001b[1;31mKeyError\u001b[0m                                  Traceback (most recent call last)",
      "Input \u001b[1;32mIn [1]\u001b[0m, in \u001b[0;36m<cell line: 3>\u001b[1;34m()\u001b[0m\n\u001b[0;32m      1\u001b[0m sales \u001b[38;5;241m=\u001b[39m { \u001b[38;5;124m'\u001b[39m\u001b[38;5;124mapple\u001b[39m\u001b[38;5;124m'\u001b[39m: \u001b[38;5;241m2\u001b[39m, \u001b[38;5;124m'\u001b[39m\u001b[38;5;124morange\u001b[39m\u001b[38;5;124m'\u001b[39m: \u001b[38;5;241m3\u001b[39m, \u001b[38;5;124m'\u001b[39m\u001b[38;5;124mgrapes\u001b[39m\u001b[38;5;124m'\u001b[39m: \u001b[38;5;241m4\u001b[39m, \u001b[38;5;124m'\u001b[39m\u001b[38;5;124mpersimmon\u001b[39m\u001b[38;5;124m'\u001b[39m:\u001b[38;5;241m1\u001b[39m, \u001b[38;5;124m'\u001b[39m\u001b[38;5;124mmango\u001b[39m\u001b[38;5;124m'\u001b[39m:\u001b[38;5;241m8\u001b[39m }\n\u001b[0;32m      2\u001b[0m \u001b[38;5;28mprint\u001b[39m(sales[\u001b[38;5;124m'\u001b[39m\u001b[38;5;124mpersimmon\u001b[39m\u001b[38;5;124m'\u001b[39m])\n\u001b[1;32m----> 3\u001b[0m \u001b[38;5;28mprint\u001b[39m(\u001b[43msales\u001b[49m\u001b[43m[\u001b[49m\u001b[38;5;124;43m'\u001b[39;49m\u001b[38;5;124;43mpapaya\u001b[39;49m\u001b[38;5;124;43m'\u001b[39;49m\u001b[43m]\u001b[49m)\n",
      "\u001b[1;31mKeyError\u001b[0m: 'papaya'"
     ]
    }
   ],
   "source": [
    "sales = { 'apple': 2, 'orange': 3, 'grapes': 4, 'persimmon':1, 'mango':8 }\n",
    "print(sales['persimmon'])\n",
    "print(sales['papaya'])"
   ]
  },
  {
   "cell_type": "code",
   "execution_count": null,
   "metadata": {},
   "outputs": [],
   "source": []
  }
 ],
 "metadata": {
  "kernelspec": {
   "display_name": "Python 3 (ipykernel)",
   "language": "python",
   "name": "python3"
  },
  "language_info": {
   "codemirror_mode": {
    "name": "ipython",
    "version": 3
   },
   "file_extension": ".py",
   "mimetype": "text/x-python",
   "name": "python",
   "nbconvert_exporter": "python",
   "pygments_lexer": "ipython3",
   "version": "3.9.12"
  }
 },
 "nbformat": 4,
 "nbformat_minor": 2
}
