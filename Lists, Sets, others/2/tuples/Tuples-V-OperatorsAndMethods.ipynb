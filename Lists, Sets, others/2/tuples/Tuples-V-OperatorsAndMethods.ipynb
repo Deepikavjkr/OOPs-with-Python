{
 "cells": [
  {
   "cell_type": "markdown",
   "metadata": {},
   "source": [
    "<h3>Tuple Operators and Tuple Methods</h3>\n",
    "\n",
    "This notebook covers the operators and methods applicable to tuples\n",
    "1. The concatenation (`+`) operator\n",
    "2. The multiplication (`*`) operator\n",
    "3. The `del` operator\n",
    "\n",
    "Tuples only have two built-in methods.  As usual, they are accessed as follows: `tuplename.methodname()`  \n",
    "1. The `count()` method : counts the number of times an element occurs in a tuple  \n",
    "2. The `index()` method : returns the index of the first occurence of the argument\n",
    "\n",
    "We also discuss tuple unpacking (aka tuple assignment)."
   ]
  },
  {
   "cell_type": "markdown",
   "metadata": {},
   "source": [
    "We can concatenate two tuples together using the concatenation (`+`) operator."
   ]
  },
  {
   "cell_type": "code",
   "execution_count": 2,
   "metadata": {},
   "outputs": [
    {
     "name": "stdout",
     "output_type": "stream",
     "text": [
      "(4, 1, 2, 3)\n"
     ]
    }
   ],
   "source": [
    "a = (1, 2, 3)\n",
    "b = (4,)\n",
    "c = b + a\n",
    "print(c)"
   ]
  },
  {
   "cell_type": "markdown",
   "metadata": {},
   "source": [
    "We can use the multiplication operator (`*`) to repeat a tuple multiple times. "
   ]
  },
  {
   "cell_type": "code",
   "execution_count": 3,
   "metadata": {},
   "outputs": [
    {
     "name": "stdout",
     "output_type": "stream",
     "text": [
      "('xyz', 'zara', 'abc', 'xyz')\n",
      "('xyz', 'zara', 'abc', 'xyz', 'xyz', 'zara', 'abc', 'xyz')\n",
      "('xyz', 'zara', 'abc', 'xyz', 'xyz', 'zara', 'abc', 'xyz')\n"
     ]
    }
   ],
   "source": [
    "aTuple = ('xyz', 'zara', 'abc', 'xyz')\n",
    "newTuple = aTuple*2\n",
    "newTuple2 = 2*aTuple # The int value can come before or after the tuple\n",
    "print(aTuple)\n",
    "print(newTuple)\n",
    "print(newTuple2)"
   ]
  },
  {
   "cell_type": "markdown",
   "metadata": {},
   "source": [
    "The `count()` method counts the number of times an element occurs in a tuple."
   ]
  },
  {
   "cell_type": "code",
   "execution_count": 4,
   "metadata": {},
   "outputs": [
    {
     "name": "stdout",
     "output_type": "stream",
     "text": [
      "Count for 123 :  2\n",
      "Count for zara :  1\n"
     ]
    }
   ],
   "source": [
    "aTuple = (123, 'xyz', 'zara', 'abc', 123)\n",
    "print(\"Count for 123 : \", aTuple.count(123))\n",
    "print(\"Count for zara : \", aTuple.count('zara'))"
   ]
  },
  {
   "cell_type": "markdown",
   "metadata": {},
   "source": [
    "The `index()` method returns the index of the first occurrence of the argument."
   ]
  },
  {
   "cell_type": "code",
   "execution_count": 6,
   "metadata": {},
   "outputs": [
    {
     "name": "stdout",
     "output_type": "stream",
     "text": [
      "Index for xyz :  1\n",
      "Index for zara :  2\n"
     ]
    }
   ],
   "source": [
    "aTuple = (123, 'xyz', 'zara', 'abc', 123)\n",
    "print(\"Index for xyz : \", aTuple.index( 'xyz'))\n",
    "print(\"Index for zara : \", aTuple.index( 'zara')) # Will return an error since 'zarak' is not in the tuple."
   ]
  },
  {
   "cell_type": "markdown",
   "metadata": {},
   "source": [
    "The `index()` method also accepts an optional argument __start__. If the value for __start__ is provided, the method returns the index of the first occurrence after the __start__ value of the first argument."
   ]
  },
  {
   "cell_type": "code",
   "execution_count": 1,
   "metadata": {},
   "outputs": [
    {
     "name": "stdout",
     "output_type": "stream",
     "text": [
      "Index for 123 :  4\n"
     ]
    }
   ],
   "source": [
    "aTuple = (123, 'xyz', 'zara', 'abc', 123)\n",
    "print(\"Index for 123 : \", aTuple.index( 123, 2))"
   ]
  },
  {
   "cell_type": "markdown",
   "metadata": {},
   "source": [
    "The `del` operator.  While changing elements of a tuple is not possible since tuples are immutable, you can delete the entire tuple using the `del` operator."
   ]
  },
  {
   "cell_type": "code",
   "execution_count": 8,
   "metadata": {},
   "outputs": [
    {
     "name": "stdout",
     "output_type": "stream",
     "text": [
      "(123, 'xyz', 'zara', 'abc', 123)\n"
     ]
    }
   ],
   "source": [
    "aTuple = (123, 'xyz', 'zara', 'abc', 123)\n",
    "print(aTuple)"
   ]
  },
  {
   "cell_type": "code",
   "execution_count": 9,
   "metadata": {},
   "outputs": [
    {
     "ename": "NameError",
     "evalue": "name 'aTuple' is not defined",
     "output_type": "error",
     "traceback": [
      "\u001b[1;31m---------------------------------------------------------------------------\u001b[0m",
      "\u001b[1;31mNameError\u001b[0m                                 Traceback (most recent call last)",
      "Input \u001b[1;32mIn [9]\u001b[0m, in \u001b[0;36m<cell line: 2>\u001b[1;34m()\u001b[0m\n\u001b[0;32m      1\u001b[0m \u001b[38;5;28;01mdel\u001b[39;00m aTuple\n\u001b[1;32m----> 2\u001b[0m \u001b[38;5;28mprint\u001b[39m(\u001b[43maTuple\u001b[49m)\n",
      "\u001b[1;31mNameError\u001b[0m: name 'aTuple' is not defined"
     ]
    }
   ],
   "source": [
    "del aTuple\n",
    "print(aTuple)"
   ]
  },
  {
   "cell_type": "markdown",
   "metadata": {},
   "source": [
    "You can use `tuple unpacking` to assign values to multiple variables in a single Python statement.  Note that the number of variables must exactly equal the number of values.  Note also that we can omit the parentheses in tuple assignment."
   ]
  },
  {
   "cell_type": "code",
   "execution_count": 13,
   "metadata": {},
   "outputs": [
    {
     "name": "stdout",
     "output_type": "stream",
     "text": [
      "123 xyz zara abc 123\n"
     ]
    }
   ],
   "source": [
    "aTuple = (123, 'xyz', 'zara', 'abc', 123)\n",
    "a,b,c,d,e = aTuple\n",
    "print(a,b,c,d,e)"
   ]
  },
  {
   "cell_type": "markdown",
   "metadata": {},
   "source": [
    "You can use slicing if you wish to use `tuple unpacking` to assign values to a fewer number of variables."
   ]
  },
  {
   "cell_type": "code",
   "execution_count": 1,
   "metadata": {},
   "outputs": [
    {
     "name": "stdout",
     "output_type": "stream",
     "text": [
      "123 xyz zara\n"
     ]
    }
   ],
   "source": [
    "aTuple = (123, 'xyz', 'zara', 'abc', 123)\n",
    "a,b,c = aTuple[:3]\n",
    "print(a, b, c)"
   ]
  },
  {
   "cell_type": "markdown",
   "metadata": {},
   "source": [
    "You can also use a dummy variable (`_`) with `tuple unpacking`  to assign values to a fewer number of variables.  Note that depending on the location of the `_`, the values assigned to the other variables will change.\n",
    "\n",
    "Consider the two examples below."
   ]
  },
  {
   "cell_type": "code",
   "execution_count": 2,
   "metadata": {},
   "outputs": [
    {
     "name": "stdout",
     "output_type": "stream",
     "text": [
      "123 xyz zara\n"
     ]
    }
   ],
   "source": [
    "a, b, c,_,_ = aTuple\n",
    "print(a,b,c)"
   ]
  },
  {
   "cell_type": "code",
   "execution_count": 16,
   "metadata": {},
   "outputs": [
    {
     "name": "stdout",
     "output_type": "stream",
     "text": [
      "123 abc 123\n"
     ]
    }
   ],
   "source": [
    "a,_,_,b,c = aTuple\n",
    "print(a,b,c)"
   ]
  },
  {
   "cell_type": "markdown",
   "metadata": {},
   "source": [
    "To use multiple dummy variables, we can use `_` prefixed by `*`. Note that dependeing on the location of the `*_`, the values assigned to the other variables will change.\n",
    "\n",
    "Consider the two examples below."
   ]
  },
  {
   "cell_type": "code",
   "execution_count": 17,
   "metadata": {},
   "outputs": [
    {
     "name": "stdout",
     "output_type": "stream",
     "text": [
      "123 xyz\n"
     ]
    }
   ],
   "source": [
    "a, b,*_ = aTuple\n",
    "print(a,b)"
   ]
  },
  {
   "cell_type": "markdown",
   "metadata": {},
   "source": [
    "You can also use the `*` with a valid variable name.  In this case, the available values from the right hand side will be assigned as a list to the variable with the `*`.\n",
    "\n",
    "Consider the example below"
   ]
  },
  {
   "cell_type": "code",
   "execution_count": 19,
   "metadata": {},
   "outputs": [
    {
     "name": "stdout",
     "output_type": "stream",
     "text": [
      "123\n",
      "['xyz', 'zara', 'abc']\n",
      "123\n"
     ]
    }
   ],
   "source": [
    "a, *b, c = aTuple\n",
    "print(a)\n",
    "print(b)\n",
    "print(c)"
   ]
  }
 ],
 "metadata": {
  "kernelspec": {
   "display_name": "Python 3 (ipykernel)",
   "language": "python",
   "name": "python3"
  },
  "language_info": {
   "codemirror_mode": {
    "name": "ipython",
    "version": 3
   },
   "file_extension": ".py",
   "mimetype": "text/x-python",
   "name": "python",
   "nbconvert_exporter": "python",
   "pygments_lexer": "ipython3",
   "version": "3.9.12"
  }
 },
 "nbformat": 4,
 "nbformat_minor": 2
}
