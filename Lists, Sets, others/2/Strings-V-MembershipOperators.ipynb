{
 "cells": [
  {
   "cell_type": "markdown",
   "metadata": {},
   "source": [
    "This notebook introduces the __membership operators__  \n",
    "1. `in` &nbsp;&nbsp;&nbsp;&nbsp;&nbsp;Evaluates to true if it finds a value in the specified sequence and false otherwise.  \n",
    "2. `not in`&nbsp;&nbsp;&nbsp;&nbsp;&nbsp;Evaluates to true if it does not finds a value in the specified sequence and false otherwise."
   ]
  },
  {
   "cell_type": "markdown",
   "metadata": {},
   "source": [
    "The `in` operator can be used to check whether or not a string (*string1*) contains another string (*string2*).  \n",
    "It returns `True` if it is there and `False` if it is not.\n",
    "look at the examples below."
   ]
  },
  {
   "cell_type": "code",
   "execution_count": null,
   "metadata": {},
   "outputs": [],
   "source": [
    "game = 'basketball'\n",
    "print('k' in game)       #  Will return True\n",
    "print('K' in game)       #  Will return False\n",
    "print('kat' in game)     #  Will return False\n",
    "print('ket' in game)     #  Will return True"
   ]
  },
  {
   "cell_type": "markdown",
   "metadata": {},
   "source": [
    "The `not in` operator is similar to the `in` operator.  However, it returns `False` if *string1* contains *string2* \n",
    "and returns `True` only if *string1* does not contain *string2*"
   ]
  },
  {
   "cell_type": "code",
   "execution_count": null,
   "metadata": {},
   "outputs": [],
   "source": [
    "game = 'basketball'\n",
    "print('k' not in game)       #  Will return False\n",
    "print('K' not in game)         #  Will return True\n",
    "print('kat' not in game)       #  Will return True\n",
    "print('ket' not in game)       #  Will return False"
   ]
  },
  {
   "cell_type": "markdown",
   "metadata": {},
   "source": [
    "The `in` membership operator is commonly used in `for` loops as demonstrated below."
   ]
  },
  {
   "cell_type": "code",
   "execution_count": 1,
   "metadata": {},
   "outputs": [
    {
     "name": "stdout",
     "output_type": "stream",
     "text": [
      "True\n",
      "True\n",
      "False\n",
      "False\n",
      "False\n",
      "False\n",
      "True\n",
      "True\n",
      "False\n",
      "False\n"
     ]
    }
   ],
   "source": [
    "game = 'basketball'\n",
    "for i in game:\n",
    "    print(i in 'abcd')"
   ]
  },
  {
   "cell_type": "code",
   "execution_count": null,
   "metadata": {},
   "outputs": [],
   "source": []
  }
 ],
 "metadata": {
  "kernelspec": {
   "display_name": "Python 3 (ipykernel)",
   "language": "python",
   "name": "python3"
  },
  "language_info": {
   "codemirror_mode": {
    "name": "ipython",
    "version": 3
   },
   "file_extension": ".py",
   "mimetype": "text/x-python",
   "name": "python",
   "nbconvert_exporter": "python",
   "pygments_lexer": "ipython3",
   "version": "3.9.12"
  }
 },
 "nbformat": 4,
 "nbformat_minor": 2
}
