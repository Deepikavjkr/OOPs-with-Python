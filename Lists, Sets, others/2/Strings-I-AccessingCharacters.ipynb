{
 "cells": [
  {
   "cell_type": "markdown",
   "metadata": {},
   "source": [
    "<h3>The <font color=blue>String (str)</font> Data Type</h3>\n",
    "\n",
    "A string is a sequence of characters. Strings are an important data type and commonly used in multiple scenarios. In the set of notebooks that follow, we will discuss various aspects of string manipulation starting with the\n",
    "string concatenation operator `+`. \n",
    "\n",
    "We often wish to extract portions of a string. In this notebook, we will also study how individual characters in a \n",
    "string can be accessed by using the appropriate subscript. \n",
    "\n",
    "The first character in a string has an index (subscript) of 0 while the last character has an index that is \n",
    "one less than the total number of characters in the string.\n",
    "\n",
    "We also take a look at the `len()` function which returns the number of elements in its argument.\n",
    "When called with a string as its argument, the `len()` function returns the number of characters in the string.\n"
   ]
  },
  {
   "cell_type": "markdown",
   "metadata": {},
   "source": [
    "The `+` symbol serves as the addition operator when its operands are numeric values.\n",
    "The `+` symbol serves as the concatenation operator when its operands are string values."
   ]
  },
  {
   "cell_type": "markdown",
   "metadata": {},
   "source": [
    "In the following lines of code, we accept two integer values from the user, compute the sum and then display it.  Here the `+` symbol functions as an addition operator and adds the two integer values together."
   ]
  },
  {
   "cell_type": "code",
   "execution_count": 1,
   "metadata": {},
   "outputs": [
    {
     "name": "stdout",
     "output_type": "stream",
     "text": [
      "Enter integer 1: 5 \n",
      "Enter integer 2: 9 \n",
      "The sum of 5 and 9 is 14\n"
     ]
    }
   ],
   "source": [
    "n1 = int(input('Enter integer 1: '))\n",
    "n2 = int(input('Enter integer 2: '))\n",
    "print('The sum of', n1, 'and', n2, 'is', n1+n2)"
   ]
  },
  {
   "cell_type": "markdown",
   "metadata": {},
   "source": [
    "If we  apply the concatenation operator (the `+` symbol) to string values, the results are very different. \n",
    "\n",
    "In the example below, note that we do not convert the string value returned by the input function to an integer before applying the concatenation operator on the two variables."
   ]
  },
  {
   "cell_type": "code",
   "execution_count": 2,
   "metadata": {},
   "outputs": [
    {
     "name": "stdout",
     "output_type": "stream",
     "text": [
      "Enter integer 1: 5\n",
      "Enter integer 2: 2\n",
      "The concatenation of 5 and 2 is 52\n"
     ]
    }
   ],
   "source": [
    "n1 = input('Enter integer 1: ')\n",
    "n2 = input('Enter integer 2: ')\n",
    "\n",
    "print('The concatenation of', n1, 'and', n2, 'is', n1 + n2)"
   ]
  },
  {
   "cell_type": "markdown",
   "metadata": {},
   "source": [
    "We cannot concatenate string values with numeric values.  We will first have to convert the numeric value to a string before applying the concatenation operator."
   ]
  },
  {
   "cell_type": "code",
   "execution_count": 2,
   "metadata": {},
   "outputs": [
    {
     "name": "stdout",
     "output_type": "stream",
     "text": [
      "Kaazi is 6 years old\n"
     ]
    }
   ],
   "source": [
    "pet_name = 'Kaazi'\n",
    "pet_age = 6\n",
    "#print(pet_name + ' is ' + pet_age + ' years old') #This will result in an error\n",
    "print(pet_name + ' is ' + str(pet_age) + ' years old') # This is correct"
   ]
  },
  {
   "cell_type": "markdown",
   "metadata": {},
   "source": [
    "The cell below demonstrates the use of the `len()` function.  \n",
    "\n",
    "The term __argument(s)__ refers to the input(s) provided to a function.  \n",
    "\n",
    "The `len()` function returns the number of elements in the argument. If the data type of the argument provided to the `len()` function is `str`, then the `len()` function provides the number of characters in the string. \n",
    "\n",
    "\n",
    "In this code, we ask the user to provide a string as input.  We then use the len() function to find the number of characters \n",
    "in the string. The code prints out the nth character in the string where n is a number obtained from the user.\n",
    "'''"
   ]
  },
  {
   "cell_type": "code",
   "execution_count": 4,
   "metadata": {},
   "outputs": [
    {
     "name": "stdout",
     "output_type": "stream",
     "text": [
      "Enter a string: jbkjnjn\n",
      "7\n"
     ]
    }
   ],
   "source": [
    "my_str = input('Enter a string: ')\n",
    "str_len = len(my_str) \n",
    "print(str_len)"
   ]
  },
  {
   "cell_type": "markdown",
   "metadata": {},
   "source": [
    "We can also extract a specific character from a string by using the appropriate index.  Note the valid values for the index are any integer between 0 and 1 less than the total number of characters in the string."
   ]
  },
  {
   "cell_type": "code",
   "execution_count": 5,
   "metadata": {},
   "outputs": [
    {
     "name": "stdout",
     "output_type": "stream",
     "text": [
      "Enter an integer between 0 and 6: 5\n",
      "j\n"
     ]
    }
   ],
   "source": [
    "n1 = int(input('Enter an integer between 0 and ' + str(str_len - 1) + ': ' )) \n",
    "print(my_str[n1])"
   ]
  },
  {
   "cell_type": "markdown",
   "metadata": {},
   "source": [
    "As described above, string indices start at 0 and __n-1__ where __n__ is the number of characters in the string.\n",
    "  \n",
    "However, the indices can also be negative values ranging from __-1__ to __-n__ where __n__ is the number of characters in the string. The last character in the string has an index of __-1__ and the first will have an index of __-n__\n",
    "\n",
    "That is, if a string has 10 characters, valid index values are 0 to 9 and -1 to -10.  \n",
    "\n",
    "*So what happens if we use a negative index?*\n",
    "\n",
    "If the negative index is a valid value as described above, the character associated with the index will be returned.  \n",
    "Otherwise, we get an error."
   ]
  },
  {
   "cell_type": "markdown",
   "metadata": {},
   "source": [
    "Evaluate the following statements based on the value of `my_str`"
   ]
  },
  {
   "cell_type": "code",
   "execution_count": 6,
   "metadata": {},
   "outputs": [],
   "source": [
    "my_str = 'This string has 29 characters'"
   ]
  },
  {
   "cell_type": "code",
   "execution_count": 7,
   "metadata": {},
   "outputs": [
    {
     "name": "stdout",
     "output_type": "stream",
     "text": [
      "29\n"
     ]
    }
   ],
   "source": [
    "print(len(my_str))"
   ]
  },
  {
   "cell_type": "code",
   "execution_count": 8,
   "metadata": {},
   "outputs": [
    {
     "name": "stdout",
     "output_type": "stream",
     "text": [
      "h\n"
     ]
    }
   ],
   "source": [
    "print(my_str[-28])"
   ]
  },
  {
   "cell_type": "code",
   "execution_count": 9,
   "metadata": {},
   "outputs": [
    {
     "name": "stdout",
     "output_type": "stream",
     "text": [
      "T\n"
     ]
    }
   ],
   "source": [
    "print(my_str[-29])"
   ]
  },
  {
   "cell_type": "code",
   "execution_count": null,
   "metadata": {},
   "outputs": [],
   "source": [
    "print(my_str[28])"
   ]
  },
  {
   "cell_type": "code",
   "execution_count": null,
   "metadata": {},
   "outputs": [],
   "source": [
    "print(my_str[89]) #This will result in an error"
   ]
  },
  {
   "cell_type": "code",
   "execution_count": null,
   "metadata": {},
   "outputs": [],
   "source": [
    "#print(my_str[-89]) #This will also result in an error"
   ]
  }
 ],
 "metadata": {
  "kernelspec": {
   "display_name": "Python 3 (ipykernel)",
   "language": "python",
   "name": "python3"
  },
  "language_info": {
   "codemirror_mode": {
    "name": "ipython",
    "version": 3
   },
   "file_extension": ".py",
   "mimetype": "text/x-python",
   "name": "python",
   "nbconvert_exporter": "python",
   "pygments_lexer": "ipython3",
   "version": "3.9.12"
  }
 },
 "nbformat": 4,
 "nbformat_minor": 2
}
