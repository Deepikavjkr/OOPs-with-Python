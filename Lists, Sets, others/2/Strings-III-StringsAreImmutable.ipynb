{
 "cells": [
  {
   "cell_type": "markdown",
   "metadata": {},
   "source": [
    "<h3>Strings are <font color=blue>Immutable</font></h3>\n",
    "\n",
    "Strings are an ordered and immutable collection of characters.  Mutable objects can be changed after they are created but\n",
    "immutable objects cannot be changed after they are created. Since strings are immutable objects, we cannot change a portion of a string."
   ]
  },
  {
   "cell_type": "markdown",
   "metadata": {},
   "source": [
    "<h3>The <font color=blue>randrange()</font> function</h3>\n",
    "\n",
    "The `randrange()` function accepts two integer arguments (inputs) and returns a random number between the first argument and 1 less than the second argument.\n",
    "\n",
    "In the example below\n",
    "```Python \n",
    "randrange(0, str_len)\n",
    "```\n",
    "will return a random integer between 0 and 1 less than the length of the string"
   ]
  },
  {
   "cell_type": "code",
   "execution_count": 2,
   "metadata": {},
   "outputs": [
    {
     "name": "stdout",
     "output_type": "stream",
     "text": [
      "2\n",
      "i\n"
     ]
    }
   ],
   "source": [
    "from random import randrange\n",
    "\n",
    "my_str = 'This is a test string'\n",
    "str_len = len(my_str)\n",
    "n = randrange(0,str_len) \n",
    "print(n)\n",
    "print(my_str[n])"
   ]
  },
  {
   "cell_type": "markdown",
   "metadata": {},
   "source": [
    "Since strings are immutable trying to change a portion of the string to a different value will cause an error as demonstrated in the statement below"
   ]
  },
  {
   "cell_type": "code",
   "execution_count": null,
   "metadata": {},
   "outputs": [],
   "source": [
    "my_str[n] = 'Z'"
   ]
  },
  {
   "cell_type": "markdown",
   "metadata": {},
   "source": [
    " However, though you may not change a portion of a string after it is created. reassigning a different value to the same string variable is valid."
   ]
  },
  {
   "cell_type": "code",
   "execution_count": null,
   "metadata": {},
   "outputs": [],
   "source": [
    "my_str = 'This is a test string'\n",
    "print(my_str)\n",
    "my_str = 'ThisZis a test string' \n",
    "print(my_str)"
   ]
  }
 ],
 "metadata": {
  "kernelspec": {
   "display_name": "Python 3 (ipykernel)",
   "language": "python",
   "name": "python3"
  },
  "language_info": {
   "codemirror_mode": {
    "name": "ipython",
    "version": 3
   },
   "file_extension": ".py",
   "mimetype": "text/x-python",
   "name": "python",
   "nbconvert_exporter": "python",
   "pygments_lexer": "ipython3",
   "version": "3.9.12"
  }
 },
 "nbformat": 4,
 "nbformat_minor": 2
}
