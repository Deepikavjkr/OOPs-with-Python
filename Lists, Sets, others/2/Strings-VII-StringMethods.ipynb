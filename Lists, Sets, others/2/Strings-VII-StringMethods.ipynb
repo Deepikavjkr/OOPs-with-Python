{
 "cells": [
  {
   "cell_type": "markdown",
   "metadata": {},
   "source": [
    "<h3>String Methods</h3>\n",
    "\n",
    "In this notebook we will discuss some of the many String methods.  Note that each of the methods is applied (or called) using the following syntax:  `variablename.methodname(argument values if any)`\n",
    "'variablename' is the name of a string variable.          \n",
    "Also keep in mind that calling the method as above on a string variable does not change the value of the original variable.\n",
    "If you want to retain the results, you will need to store it in another variable\n",
    "\n",
    "Assume you have a string variable called my_str.  \n",
    "1. my_str.find(sub [, start[, end]])\n",
    "   - The find() method returns the index of first occurrence of the substring (if found). If not found, it returns -1.\n",
    "   - if the start value is provided, then the search begins from the start value\n",
    "   - if the end value is provided, the search stops at one index before the end value\n",
    " \n",
    "2. my_str.capitalize()\n",
    "   - the capitalize() method converts first character of a string to uppercase letter and lowercases all other characters, if any.\n",
    "\n",
    "3. my_str.lower()\n",
    "   - lower() method converts all uppercase characters in a string into lowercase characters and returns it.\n",
    "\n",
    "4. my_str.islower()\n",
    "   - islower() method returns True if all alphabets in a string are lowercase alphabets.\n",
    "    If the string contains at least one uppercase alphabet, it returns False.\n",
    "\n",
    "5. my_str.upper()\n",
    "    - lower() method converts all uppercase characters in a string into lowercase characters and returns it\n",
    "\n",
    "6. my_str.isupper()\n",
    "    - isupper() method returns True if all alphabets in a string are uppercase alphabets.\n",
    "    If the string contains at least one lowercase alphabet, it returns False.\n",
    "    \n",
    "7. my_str.lstrip([chars])\n",
    "    - lstrip() removes characters from the left based on the argument (a string specifying the set of characters to be removed).\n",
    "    Default is whitespace\n",
    "    \n",
    "8. my_str.rstrip([chars])\n",
    "    - rstrip() removes characters from the right based on the argument (a string specifying the set of characters to be removed).\n",
    "    Default is whitespace\n",
    "\n",
    "9. my_str.strip()  \n",
    "    - my_str() method removes both leading and trailing characters as specified by the argument.  \n",
    "\n",
    "10. my_str.split([separator [, maxsplit]])\n",
    "    - my_str.split() method breaks up a string at the specified separator and returns a list of strings.\n",
    "   \n",
    "11. my_str.replace(old, new [, count]) \n",
    "    replace() method returns a copy of the string where all occurrences of a substring is replaced with another substring.\n",
    "    The optional count argument specifies the number of times you want to replace the old substring with the new substring\n",
    "\n",
    "12. my_str.startswith(prefix[, start[, end]]) \n",
    "    - str.startswith() method returns True if a string starts with the specified prefix(string). If not, it returns False.\n",
    "\n",
    "Note that all the methods listed above keep the original string unchanged."
   ]
  },
  {
   "attachments": {
    "StringMethods.jpg": {
     "image/jpeg": "[encoded data removed]"
    }
   },
   "cell_type": "markdown",
   "metadata": {},
   "source": [
    "![StringMethods.jpg](attachment:StringMethods.jpg)"
   ]
  },
  {
   "cell_type": "markdown",
   "metadata": {},
   "source": [
    "<h3>The <font color = blue>find()</font> method.</h3>"
   ]
  },
  {
   "cell_type": "markdown",
   "metadata": {},
   "source": [
    " The syntax for the `find()` method is as follows:\n",
    "` my_str.find(sub [, start[, end]])`\n",
    "   \n",
    "   - The `find()` method returns the index of first occurrence of the substring (if found). If not found, it returns -1.\n",
    "   - if the `start` value is provided, then the search begins from the start value\n",
    "   - if the `end` value is provided, the search stops at one index before the end value.  Note that the `end` value is always accompanied by a `start` value."
   ]
  },
  {
   "cell_type": "markdown",
   "metadata": {},
   "source": [
    "The following code will return the index of the first occurrence of 'be'."
   ]
  },
  {
   "cell_type": "code",
   "execution_count": 1,
   "metadata": {},
   "outputs": [
    {
     "name": "stdout",
     "output_type": "stream",
     "text": [
      "7\n",
      "Let it be, let it be, let it be\n"
     ]
    }
   ],
   "source": [
    "quote = 'Let it be, let it be, let it be'\n",
    "s = quote.find('be')\n",
    "print(s)\n",
    "print(quote)"
   ]
  },
  {
   "cell_type": "markdown",
   "metadata": {},
   "source": [
    "The following code will return the index of the first occurrence, after index 27, of 'be'."
   ]
  },
  {
   "cell_type": "code",
   "execution_count": 2,
   "metadata": {},
   "outputs": [
    {
     "name": "stdout",
     "output_type": "stream",
     "text": [
      "29\n",
      "Let it be, let it be, let it be\n"
     ]
    }
   ],
   "source": [
    "quote = 'Let it be, let it be, let it be'\n",
    "s = quote.find('be', 28)\n",
    "print(s)\n",
    "print(quote)"
   ]
  },
  {
   "cell_type": "markdown",
   "metadata": {},
   "source": [
    "The following code will return the index of the first occurrence of 'be', between the indexes 8 and 24."
   ]
  },
  {
   "cell_type": "code",
   "execution_count": null,
   "metadata": {},
   "outputs": [],
   "source": [
    "quote = 'Let it be, let it be, let it be'\n",
    "s = quote.find('be', 8, 25)\n",
    "print(s)\n",
    "print(quote)"
   ]
  },
  {
   "cell_type": "markdown",
   "metadata": {},
   "source": [
    "The following code will return the index of the first occurrence of 'be', between the indexes 0 and 7. Note that the end index __must__ be accompanied by the __start__ index."
   ]
  },
  {
   "cell_type": "code",
   "execution_count": null,
   "metadata": {},
   "outputs": [],
   "source": [
    "quote = 'Let it be, let it be, let it be'\n",
    "s = quote.find('be', 0, 8)\n",
    "print(s)\n",
    "print(quote)"
   ]
  },
  {
   "cell_type": "markdown",
   "metadata": {},
   "source": [
    "<h3> The <font color=blue>capitalize() method</font></h3>"
   ]
  },
  {
   "cell_type": "markdown",
   "metadata": {},
   "source": [
    "The `capitalize()` method converts first character of a string to uppercase letter and all other characters, if any, to lowercase."
   ]
  },
  {
   "cell_type": "code",
   "execution_count": null,
   "metadata": {},
   "outputs": [],
   "source": [
    "my_string = \"1python is AWes09ome.\"\n",
    "\n",
    "capitalized_string = my_string.capitalize()\n",
    "\n",
    "print('Old String: ', my_string)\n",
    "print('Capitalized String:', capitalized_string)"
   ]
  },
  {
   "cell_type": "markdown",
   "metadata": {},
   "source": [
    "<h3> The <font color=blue>lower() method</font></h3>"
   ]
  },
  {
   "cell_type": "markdown",
   "metadata": {},
   "source": [
    " The `lower()` method converts all uppercase characters in a string into lowercase characters and returns a new string. The original string remains unchanged."
   ]
  },
  {
   "cell_type": "code",
   "execution_count": null,
   "metadata": {},
   "outputs": [],
   "source": [
    "my_str = \"THIS Should BE LOWERCASE!\"\n",
    "my_lc_str = my_str.lower()\n",
    "print(my_str)\n",
    "print(my_lc_str)"
   ]
  },
  {
   "cell_type": "markdown",
   "metadata": {},
   "source": [
    "The string can contain a mix of alphanumeric characters. Non-numeric characters will convert to lower case. "
   ]
  },
  {
   "cell_type": "code",
   "execution_count": null,
   "metadata": {},
   "outputs": [],
   "source": [
    "my_str = \"Th!s Sh0uLd B3 L0w3rCas3!\"\n",
    "print(my_str.lower())\n",
    "print(my_str)"
   ]
  },
  {
   "cell_type": "code",
   "execution_count": 1,
   "metadata": {},
   "outputs": [
    {
     "name": "stdout",
     "output_type": "stream",
     "text": [
      "False\n"
     ]
    }
   ],
   "source": [
    "my_str = \"THIS is LOWERCASE!\"\n",
    "print(my_str.islower())"
   ]
  },
  {
   "cell_type": "markdown",
   "metadata": {
    "collapsed": true
   },
   "source": [
    "<font color = blue>`my_str.isupper()` and `my_str.upper()` work similarly for upper case</font>"
   ]
  },
  {
   "cell_type": "markdown",
   "metadata": {},
   "source": [
    "<h3> The <font color = blue>lstrip()</font> method </h3>"
   ]
  },
  {
   "cell_type": "markdown",
   "metadata": {},
   "source": [
    "The `lstrip()` method strips the leading spaces from a string.  The syntax is as follows:\n",
    "`my_str.lstrip([chars])`\n",
    "    \n",
    "The original string remains unchanged.  \n",
    "`lstrip()` takes an optional string argument.  If this argument is provided, any permutation of the characters \n",
    "    (or subset of characters) in the optional argument is removed if they form the start of the string.\n"
   ]
  },
  {
   "cell_type": "code",
   "execution_count": 16,
   "metadata": {},
   "outputs": [
    {
     "name": "stdout",
     "output_type": "stream",
     "text": [
      "this is good \n",
      "   this is good \n"
     ]
    }
   ],
   "source": [
    "random_string = '   this is good '\n",
    "\n",
    "# Leading spaces are removed\n",
    "print(random_string.lstrip())\n",
    "print(random_string)"
   ]
  },
  {
   "cell_type": "code",
   "execution_count": 17,
   "metadata": {},
   "outputs": [
    {
     "name": "stdout",
     "output_type": "stream",
     "text": [
      "s is good \n"
     ]
    }
   ],
   "source": [
    "# Argument doesn't contain leading spaces.  So no characters will be removed.\n",
    "random_string = 'this is good '\n",
    "print(random_string.lstrip('thi'))"
   ]
  },
  {
   "cell_type": "markdown",
   "metadata": {},
   "source": [
    "If the optional `chars` argument is provided, any permutation of the characters provided in the optional argument is removed if they form the leading characters."
   ]
  },
  {
   "cell_type": "code",
   "execution_count": 18,
   "metadata": {},
   "outputs": [
    {
     "name": "stdout",
     "output_type": "stream",
     "text": [
      "s is good \n"
     ]
    }
   ],
   "source": [
    "random_string = 'this is good '\n",
    "print(random_string.lstrip('thi'))"
   ]
  },
  {
   "cell_type": "markdown",
   "metadata": {},
   "source": [
    "In the example below, the first eight characters in the string are a permutation of the characters in the argument.  Hence they will be removed."
   ]
  },
  {
   "cell_type": "code",
   "execution_count": 19,
   "metadata": {},
   "outputs": [
    {
     "name": "stdout",
     "output_type": "stream",
     "text": [
      "good \n"
     ]
    }
   ],
   "source": [
    "random_string = 'this is good '\n",
    "print(random_string.lstrip('this od'))"
   ]
  },
  {
   "cell_type": "markdown",
   "metadata": {},
   "source": [
    "A few more examples."
   ]
  },
  {
   "cell_type": "code",
   "execution_count": 13,
   "metadata": {},
   "outputs": [
    {
     "name": "stdout",
     "output_type": "stream",
     "text": [
      "substring is: ! good !\n"
     ]
    }
   ],
   "source": [
    "random_string = 'thisis! good !'\n",
    "print('substring is:', random_string.lstrip('htis'))"
   ]
  },
  {
   "cell_type": "code",
   "execution_count": 14,
   "metadata": {},
   "outputs": [
    {
     "name": "stdout",
     "output_type": "stream",
     "text": [
      "substring is: sis good !\n"
     ]
    }
   ],
   "source": [
    "random_string = 'thisis good !'\n",
    "print('substring is:', random_string.lstrip('hti'))"
   ]
  },
  {
   "cell_type": "code",
   "execution_count": 20,
   "metadata": {},
   "outputs": [
    {
     "name": "stdout",
     "output_type": "stream",
     "text": [
      "substring is: sis good \n"
     ]
    }
   ],
   "source": [
    "random_string = 'thisis good '\n",
    "print('substring is:', random_string.lstrip('hti '))"
   ]
  },
  {
   "cell_type": "markdown",
   "metadata": {},
   "source": [
    "<h3>The <font color = blue>rstrip()</font> method</h3>"
   ]
  },
  {
   "cell_type": "markdown",
   "metadata": {},
   "source": [
    "The `rstrip()` method strips the leading spaces from a string.  The syntax is as follows:\n",
    "`my_str.rstrip([chars])`\n"
   ]
  },
  {
   "cell_type": "code",
   "execution_count": 15,
   "metadata": {},
   "outputs": [
    {
     "name": "stdout",
     "output_type": "stream",
     "text": [
      ".  this is good\n",
      ".  this is good\n",
      ".  this is g\n",
      "www.programiz.co\n"
     ]
    }
   ],
   "source": [
    "random_string = '.  this is good'\n",
    "\n",
    "# No trailing whitepsaces,so nothing is removed.\n",
    "print(random_string.rstrip())\n",
    "\n",
    "# Argument doesn't contain 'd'.  So no characters will be removed.\n",
    "print(random_string.rstrip('oo'))\n",
    "\n",
    "#Since the last three characters in the string are a permutation of the optional argument, they will be removed.\n",
    "print(random_string.rstrip('doo'))\n",
    "\n",
    "website = 'www.programiz.com/'\n",
    "print(website.rstrip('/m'))"
   ]
  },
  {
   "cell_type": "markdown",
   "metadata": {},
   "source": [
    "<h3> The <font color=blue>strip() method</font></h3>\n",
    "    \n",
    "The strip() method  removes both leading and trailing characters as specified by the argument.  \n"
   ]
  },
  {
   "cell_type": "markdown",
   "metadata": {},
   "source": [
    "<h3>The <font color = blue>split()</font> method.</h3>"
   ]
  },
  {
   "cell_type": "markdown",
   "metadata": {},
   "source": [
    "The `split()` separates a string into components delimited by the separator.   The syntax is as follows:\n",
    "\n",
    "`my_str.split([separator [, maxsplit]])` \n",
    "\n",
    "The default value for the separator is a space.  The individual components, separated by commas are returned as a list.\n",
    "    \n",
    "The optional `maxsplit` argument specifies the number of splits you require.  If `maxsplit` is less than the total number of splits possible, the remaining string is returned as one single element.\n",
    "\n",
    "The original string remains unchanged.\n"
   ]
  },
  {
   "cell_type": "markdown",
   "metadata": {},
   "source": [
    "In the following code, the split occurs at each occurence of a space (the default separator)"
   ]
  },
  {
   "cell_type": "code",
   "execution_count": 21,
   "metadata": {},
   "outputs": [
    {
     "name": "stdout",
     "output_type": "stream",
     "text": [
      "['Love', 'thy', 'neighbor']\n"
     ]
    }
   ],
   "source": [
    "text= 'Love thy neighbor'\n",
    "print(text.split())"
   ]
  },
  {
   "cell_type": "markdown",
   "metadata": {},
   "source": [
    "In the following code, the split occurs at each occurence of  `,`"
   ]
  },
  {
   "cell_type": "code",
   "execution_count": 22,
   "metadata": {},
   "outputs": [
    {
     "name": "stdout",
     "output_type": "stream",
     "text": [
      "['Milke', 'Chicken', 'Bread']\n"
     ]
    }
   ],
   "source": [
    "grocery = 'Milke,Chicken,Bread'\n",
    "print(grocery.split(','))\n"
   ]
  },
  {
   "cell_type": "markdown",
   "metadata": {},
   "source": [
    "In the following code, the separator is `:`.  "
   ]
  },
  {
   "cell_type": "code",
   "execution_count": 23,
   "metadata": {},
   "outputs": [
    {
     "name": "stdout",
     "output_type": "stream",
     "text": [
      "['Milk', 'Chicken', 'Bread']\n"
     ]
    }
   ],
   "source": [
    "grocery = 'Milk:Chicken:Bread'\n",
    "print(grocery.split(':'))"
   ]
  },
  {
   "cell_type": "markdown",
   "metadata": {},
   "source": [
    "In the following code, also the separator is `:`, but since the string does not contain a `:`, no split will occur"
   ]
  },
  {
   "cell_type": "code",
   "execution_count": 24,
   "metadata": {},
   "outputs": [
    {
     "name": "stdout",
     "output_type": "stream",
     "text": [
      "['Milk,Chicken,Bread']\n"
     ]
    }
   ],
   "source": [
    "grocery = 'Milk,Chicken,Bread'\n",
    "print(grocery.split(':'))"
   ]
  },
  {
   "cell_type": "markdown",
   "metadata": {},
   "source": [
    "In the following code, the split occurs at each occurence of the substring `ke`.  Note that the separator is not included in the resultant output"
   ]
  },
  {
   "cell_type": "code",
   "execution_count": 25,
   "metadata": {},
   "outputs": [
    {
     "name": "stdout",
     "output_type": "stream",
     "text": [
      "['Mil', ',Chic', 'n,Bread']\n"
     ]
    }
   ],
   "source": [
    "grocery = 'Milke,Chicken,Bread'\n",
    "print(grocery.split('ke'))"
   ]
  },
  {
   "cell_type": "markdown",
   "metadata": {},
   "source": [
    "The optional argument, `maxsplit` indicates the maximum number of splits that can occur.  \n",
    "In the first example below, since `maxsplit` is equal to the total number of splits that are possible, both splits will occur."
   ]
  },
  {
   "cell_type": "code",
   "execution_count": 7,
   "metadata": {},
   "outputs": [
    {
     "name": "stdout",
     "output_type": "stream",
     "text": [
      "['Milk', 'Chicken', 'Bread', 'Eggs', 'Cookies']\n"
     ]
    }
   ],
   "source": [
    "grocery = 'Milk,Chicken,Bread,Eggs,Cookies'\n",
    "print(grocery.split(',', 4))"
   ]
  },
  {
   "cell_type": "markdown",
   "metadata": {},
   "source": [
    "In the example below, `maxsplit` is less than the the total number of splits that are possible.  In this case, only  two splits will occur.  The rest of the string will be returned as the third element of the list."
   ]
  },
  {
   "cell_type": "code",
   "execution_count": 8,
   "metadata": {},
   "outputs": [
    {
     "name": "stdout",
     "output_type": "stream",
     "text": [
      "['Milk', 'Chicken', 'Bread,Eggs,Cookies']\n"
     ]
    }
   ],
   "source": [
    "grocery = 'Milk,Chicken,Bread,Eggs,Cookies'\n",
    "print(grocery.split(',', 2))"
   ]
  },
  {
   "cell_type": "markdown",
   "metadata": {},
   "source": [
    "<h3>The <font color = blue>replace()</font> method.</h3>"
   ]
  },
  {
   "cell_type": "markdown",
   "metadata": {},
   "source": [
    "The `replace()` method returns a copy of the string where all occurrences of a substring are replaced with another substring.  The syntax is as follows:\n",
    "\n",
    "`my_str.replace(old, new [, count])` \n",
    "    \n",
    "The optional `count` argument specifies the number of times you want to replace the old substring with the new substring.\n",
    "\n",
    "The original string remains unchanged.\n",
    "\n",
    "Given the following assignment statement:\n",
    "```Python\n",
    "song = 'cold, cold heart'\n",
    "```\n",
    "Evaluate the `replace()` statements below."
   ]
  },
  {
   "cell_type": "code",
   "execution_count": 27,
   "metadata": {},
   "outputs": [],
   "source": [
    "song = 'cold, cold heart'"
   ]
  },
  {
   "cell_type": "code",
   "execution_count": 28,
   "metadata": {},
   "outputs": [
    {
     "name": "stdout",
     "output_type": "stream",
     "text": [
      "hurt, hurt heart\n"
     ]
    }
   ],
   "source": [
    "print (song.replace('cold', 'hurt')) # This will replace both occurences of 'cold' with 'hurt'"
   ]
  },
  {
   "cell_type": "code",
   "execution_count": 29,
   "metadata": {},
   "outputs": [
    {
     "name": "stdout",
     "output_type": "stream",
     "text": [
      "hurt, hurt heart\n"
     ]
    }
   ],
   "source": [
    "print(song.replace('cold', 'hurt', 3))"
   ]
  },
  {
   "cell_type": "code",
   "execution_count": 30,
   "metadata": {},
   "outputs": [
    {
     "name": "stdout",
     "output_type": "stream",
     "text": [
      "hurt, hurt heart\n"
     ]
    }
   ],
   "source": [
    "print(song.replace('cold', 'hurt', 2)) #This returns the same result as above"
   ]
  },
  {
   "cell_type": "code",
   "execution_count": 31,
   "metadata": {},
   "outputs": [
    {
     "name": "stdout",
     "output_type": "stream",
     "text": [
      "hurt, hurt heart\n"
     ]
    }
   ],
   "source": [
    "print(song.replace('cold', 'hurt'))"
   ]
  },
  {
   "cell_type": "code",
   "execution_count": 32,
   "metadata": {},
   "outputs": [
    {
     "name": "stdout",
     "output_type": "stream",
     "text": [
      "hurt, cold heart\n"
     ]
    }
   ],
   "source": [
    "print(song.replace('cold', 'hurt', 1)) # This will only replace the first occurence of 'cold' with 'hurt'"
   ]
  },
  {
   "cell_type": "markdown",
   "metadata": {},
   "source": [
    "Notice that the original string remains unchanged.  "
   ]
  },
  {
   "cell_type": "code",
   "execution_count": 33,
   "metadata": {},
   "outputs": [
    {
     "name": "stdout",
     "output_type": "stream",
     "text": [
      "don't let it be, don't let it be, let it be, let it be\n",
      "Let it be, let it be, let it be, let it be\n"
     ]
    }
   ],
   "source": [
    "song = 'Let it be, let it be, let it be, let it be'\n",
    "print(song.lower().replace('let', \"don't let\", 2))\n",
    "print(song)"
   ]
  },
  {
   "cell_type": "markdown",
   "metadata": {},
   "source": [
    "<h3>The <font color = blue>startswith()</font> method.</h3>"
   ]
  },
  {
   "cell_type": "markdown",
   "metadata": {},
   "source": [
    "`startswith()` method returns `True` if a string starts with the specified prefix(string). If not, it returns `False`.\n",
    "The syntax is as follows:\n",
    "\n",
    "`str.startswith(prefix[, start[, end]])`\n",
    "\n",
    "If the optional start and end parameters are provided, the method looks for  the substring only within this range.  The start value defaults to 0 and the end value defaults to the last index.  \n",
    "\n",
    "The original string remains unchanged."
   ]
  },
  {
   "cell_type": "code",
   "execution_count": null,
   "metadata": {},
   "outputs": [],
   "source": [
    "text = \"Python is easy to learn.\""
   ]
  },
  {
   "cell_type": "code",
   "execution_count": null,
   "metadata": {},
   "outputs": [],
   "source": [
    "result = text.lower().startswith('python is ')\n",
    "print('1:', result)"
   ]
  },
  {
   "cell_type": "code",
   "execution_count": null,
   "metadata": {},
   "outputs": [],
   "source": [
    "result = text.startswith('is easy') \n",
    "print('2:', result)"
   ]
  },
  {
   "cell_type": "code",
   "execution_count": null,
   "metadata": {},
   "outputs": [],
   "source": [
    "result = text.startswith('is easy', 7) \n",
    "print('3:', result)"
   ]
  },
  {
   "cell_type": "code",
   "execution_count": null,
   "metadata": {},
   "outputs": [],
   "source": [
    "result = text.startswith('Python is easy to learn.')\n",
    "print('4:', result)"
   ]
  },
  {
   "cell_type": "code",
   "execution_count": null,
   "metadata": {},
   "outputs": [],
   "source": [
    "result = text.startswith('Python is easy to learn.', 0, 20) # Returns False because the end parameter is 20\n",
    "print('5:', result)\n",
    "print(len(text))"
   ]
  }
 ],
 "metadata": {
  "kernelspec": {
   "display_name": "Python 3 (ipykernel)",
   "language": "python",
   "name": "python3"
  },
  "language_info": {
   "codemirror_mode": {
    "name": "ipython",
    "version": 3
   },
   "file_extension": ".py",
   "mimetype": "text/x-python",
   "name": "python",
   "nbconvert_exporter": "python",
   "pygments_lexer": "ipython3",
   "version": "3.9.12"
  }
 },
 "nbformat": 4,
 "nbformat_minor": 2
}
