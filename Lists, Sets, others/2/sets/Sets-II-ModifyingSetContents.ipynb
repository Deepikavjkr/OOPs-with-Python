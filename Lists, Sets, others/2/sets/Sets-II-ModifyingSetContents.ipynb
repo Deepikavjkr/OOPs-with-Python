{
 "cells": [
  {
   "cell_type": "markdown",
   "metadata": {},
   "source": [
    "In this notebook, we will cover set methods that modify the contents of a set: \n",
    "1.  `add()` :  Add new elements to a set\n",
    "2.  `update()`:  add multiple elements to a set\n",
    "3.  `discard()`: Remove an element from a set.  If the element does not exist nothing happens\n",
    "4.  `remove()`:  Remove an element from a set.  If the element does not exist an error is raised.  Hence `remove()` is slightly slower than `discard()`\n",
    "5.  `copy()`:    makes a copy of the set and stores it as a separate object in a different location\n",
    "4.  `clear()`:   removes all elements from a set\n",
    "\n",
    "Since individual elements cannot be accessed directly, they cannot be changed.  \n",
    "That is why we say that while a set is mutable, its individual elements are immutable"
   ]
  },
  {
   "cell_type": "markdown",
   "metadata": {},
   "source": [
    "To add an element to a set use the `add()` method"
   ]
  },
  {
   "cell_type": "code",
   "execution_count": 1,
   "metadata": {},
   "outputs": [
    {
     "name": "stdout",
     "output_type": "stream",
     "text": [
      "{'cabbage', 'potatoes', 'tomatoes', 'peas'}\n",
      "{'tomatoes', 'cabbage', 'onions', 'potatoes', 'peas'}\n",
      "{'tomatoes', 'cabbage', 'onions', 'potatoes', 'peas'}\n"
     ]
    }
   ],
   "source": [
    "vegetables = set(['tomatoes', 'potatoes', 'peas'])\n",
    "\n",
    "vegetables.add('cabbage')\n",
    "print(vegetables)\n",
    "\n",
    "vegetables.add('onions')\n",
    "print(vegetables)\n",
    "\n",
    "vegetables.add('cabbage')\n",
    "print(vegetables)"
   ]
  },
  {
   "cell_type": "markdown",
   "metadata": {},
   "source": [
    "To add multiple items to a set use the `update()` method.  The update method accepts an iterable parameter."
   ]
  },
  {
   "cell_type": "code",
   "execution_count": 4,
   "metadata": {},
   "outputs": [
    {
     "name": "stdout",
     "output_type": "stream",
     "text": [
      "{'bananas', 'mango', 'oranges', 'apples', 'kiwi'}\n",
      "{'bananas', 'mango', 'grapes', 'oranges', 'apples', 'kiwi'}\n",
      "{'bananas', 'mango', 'cantaloupe', 'grapes', 'oranges', 'pineapple', 'apples', 'kiwi'}\n"
     ]
    }
   ],
   "source": [
    "fruits = {'apples', 'oranges', 'bananas'}\n",
    "\n",
    "morefruits = {'mango', 'kiwi'}\n",
    "fruits.update(morefruits)\n",
    "print(fruits)\n",
    "\n",
    "fruits.update(['grapes', 'apples'])\n",
    "print(fruits)\n",
    "\n",
    "fruits.update({'cantaloupe', 'pineapple'})\n",
    "print(fruits)"
   ]
  },
  {
   "cell_type": "markdown",
   "metadata": {},
   "source": [
    "To remove an element from a set, use the `discard()` method or the remove() method.\n",
    "Note that if the element does not exist, the `discard()` method will not raise an error, but the `remove()` method will."
   ]
  },
  {
   "cell_type": "code",
   "execution_count": null,
   "metadata": {},
   "outputs": [],
   "source": [
    "vegetables = set(['tomatoes', 'potatoes', 'onions', 'peas'])\n",
    "vegetables.update(['cabbage', 'carrots', 'eggplant'])\n",
    "print(vegetables)\n",
    "vegetables.remove('tomatoes')\n",
    "print(vegetables)\n",
    "\n",
    "#vegetables.remove('cauliflower') # will generate an error\n",
    "#print(vegetables)"
   ]
  },
  {
   "cell_type": "markdown",
   "metadata": {},
   "source": [
    "To remove an element from a set, use the `discard()` method or the `remove()` method.\n",
    "Note that if the element does not exist, the `discard()` method will not raise an error, but the `remove()` method will."
   ]
  },
  {
   "cell_type": "code",
   "execution_count": 5,
   "metadata": {},
   "outputs": [
    {
     "name": "stdout",
     "output_type": "stream",
     "text": [
      "{'tomatoes', 'cabbage', 'onions', 'eggplant', 'carrots', 'potatoes', 'peas'}\n",
      "{'cabbage', 'onions', 'eggplant', 'carrots', 'potatoes', 'peas'}\n",
      "{'cabbage', 'onions', 'eggplant', 'carrots', 'potatoes', 'peas'}\n"
     ]
    }
   ],
   "source": [
    "vegetables = set(['tomatoes', 'potatoes', 'onions', 'peas'])\n",
    "vegetables.update(['cabbage', 'carrots', 'eggplant'])\n",
    "print(vegetables)\n",
    "vegetables.discard('tomatoes')\n",
    "print(vegetables)\n",
    "vegetables.discard('cauliflower') # will not generate an error\n",
    "print(vegetables)"
   ]
  },
  {
   "cell_type": "markdown",
   "metadata": {},
   "source": [
    "To remove all elements from a set, use the `clear()` method."
   ]
  },
  {
   "cell_type": "code",
   "execution_count": null,
   "metadata": {},
   "outputs": [],
   "source": [
    "fruits = {'apples', 'oranges', 'bananas'}\n",
    "fruits.clear()\n",
    "print(fruits)"
   ]
  },
  {
   "cell_type": "markdown",
   "metadata": {},
   "source": [
    "To make a copy of a set, use the `copy()` method.  Note that this creates a copy of the set and stores it in a separate location."
   ]
  },
  {
   "cell_type": "code",
   "execution_count": 3,
   "metadata": {},
   "outputs": [
    {
     "name": "stdout",
     "output_type": "stream",
     "text": [
      "{'potatoes', 'tomatoes', ('onions', 'peas')}\n",
      "2261656165280 2261684743296\n",
      "2261684743296 2261684743296\n"
     ]
    }
   ],
   "source": [
    "vegetables = set(['tomatoes', 'potatoes', ('onions', 'peas')])\n",
    "vegetables_copy = vegetables.copy()\n",
    "print(vegetables_copy)\n",
    "print(id(vegetables_copy), id(vegetables)) #Note that the two ids are different\n",
    "\n",
    "veg = vegetables #This statement just provides an alias for vegetables\n",
    "print(id(veg), id(vegetables)) #Note that the two ids are the same"
   ]
  },
  {
   "cell_type": "markdown",
   "metadata": {},
   "source": [
    "To delete a set you use the `del` operator"
   ]
  },
  {
   "cell_type": "code",
   "execution_count": 6,
   "metadata": {},
   "outputs": [
    {
     "name": "stdout",
     "output_type": "stream",
     "text": [
      "{'bananas', 'mangoes', 'apples'}\n"
     ]
    },
    {
     "ename": "NameError",
     "evalue": "name 'fruits' is not defined",
     "output_type": "error",
     "traceback": [
      "\u001b[1;31m---------------------------------------------------------------------------\u001b[0m",
      "\u001b[1;31mNameError\u001b[0m                                 Traceback (most recent call last)",
      "Input \u001b[1;32mIn [6]\u001b[0m, in \u001b[0;36m<cell line: 4>\u001b[1;34m()\u001b[0m\n\u001b[0;32m      2\u001b[0m \u001b[38;5;28mprint\u001b[39m(fruits)\n\u001b[0;32m      3\u001b[0m \u001b[38;5;28;01mdel\u001b[39;00m fruits\n\u001b[1;32m----> 4\u001b[0m \u001b[38;5;28mprint\u001b[39m(\u001b[43mfruits\u001b[49m)\n",
      "\u001b[1;31mNameError\u001b[0m: name 'fruits' is not defined"
     ]
    }
   ],
   "source": [
    "fruits = {'bananas', 'apples', 'mangoes'}\n",
    "print(fruits)\n",
    "del fruits\n",
    "print(fruits) # Will result in an error since the set fruits no loner exists"
   ]
  },
  {
   "cell_type": "code",
   "execution_count": null,
   "metadata": {},
   "outputs": [],
   "source": []
  }
 ],
 "metadata": {
  "kernelspec": {
   "display_name": "Python 3 (ipykernel)",
   "language": "python",
   "name": "python3"
  },
  "language_info": {
   "codemirror_mode": {
    "name": "ipython",
    "version": 3
   },
   "file_extension": ".py",
   "mimetype": "text/x-python",
   "name": "python",
   "nbconvert_exporter": "python",
   "pygments_lexer": "ipython3",
   "version": "3.9.12"
  }
 },
 "nbformat": 4,
 "nbformat_minor": 2
}
