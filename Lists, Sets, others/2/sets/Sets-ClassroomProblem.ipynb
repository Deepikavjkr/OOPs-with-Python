{
 "cells": [
  {
   "cell_type": "markdown",
   "metadata": {},
   "source": [
    "<h3>Problem Statement</h3>\n",
    "\n",
    "Write a program that accepts a string and then displays a list of all unique characters found in it. "
   ]
  },
  {
   "cell_type": "code",
   "execution_count": 5,
   "metadata": {},
   "outputs": [
    {
     "name": "stdout",
     "output_type": "stream",
     "text": [
      "Enter the string hello world\n",
      "['e', ' ', 'o', 'r', 'h', 'd', 'w', 'l']\n"
     ]
    }
   ],
   "source": [
    "my_str = input('Enter the string ')\n",
    "my_str = my_str.lower()\n",
    "my_set = set()\n",
    "for i in my_str:\n",
    "    my_set.add(i)\n",
    "    \n",
    "my_lst = list(my_set)    \n",
    "print(my_lst)"
   ]
  },
  {
   "cell_type": "code",
   "execution_count": 6,
   "metadata": {},
   "outputs": [
    {
     "name": "stdout",
     "output_type": "stream",
     "text": [
      "Enter the string hello world\n",
      "['e', ' ', 'o', 'r', 'h', 'd', 'w', 'l']\n"
     ]
    }
   ],
   "source": [
    "my_str = input('Enter the string ')\n",
    "d=set(my_str)\n",
    "print(list(d))"
   ]
  },
  {
   "cell_type": "code",
   "execution_count": null,
   "metadata": {},
   "outputs": [],
   "source": []
  },
  {
   "cell_type": "code",
   "execution_count": null,
   "metadata": {},
   "outputs": [],
   "source": []
  }
 ],
 "metadata": {
  "kernelspec": {
   "display_name": "Python 3 (ipykernel)",
   "language": "python",
   "name": "python3"
  },
  "language_info": {
   "codemirror_mode": {
    "name": "ipython",
    "version": 3
   },
   "file_extension": ".py",
   "mimetype": "text/x-python",
   "name": "python",
   "nbconvert_exporter": "python",
   "pygments_lexer": "ipython3",
   "version": "3.9.12"
  }
 },
 "nbformat": 4,
 "nbformat_minor": 2
}
