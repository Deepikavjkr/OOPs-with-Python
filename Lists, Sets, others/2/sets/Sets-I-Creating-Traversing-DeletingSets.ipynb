{
 "cells": [
  {
   "cell_type": "markdown",
   "metadata": {},
   "source": [
    "<h3>Sets</h3>\n",
    "\n",
    "This set of notebooks covers the last builtin data structure we will discuss in this course - `Set`\n",
    "\n",
    "Some of the properties of a set are:\n",
    "-  All items are unique (no duplicate items)\n",
    "-  Sets are unordered.  Since sets are unordered, sets do not support indexing\n",
    "-  Elements in a set can be of different data types\n",
    "    \n",
    "In this notebook, we will look at how to\n",
    "1.  create a set using the `set()` function\n",
    "2.  traverse a set\n",
    "3.  find the number of elements in a set using the `len()` function\n",
    "4.  clear out the contents of a set using the `clear()` method\n",
    "5.  delete an entire set using the `del` operator"
   ]
  },
  {
   "cell_type": "markdown",
   "metadata": {},
   "source": [
    "A set is created by using the `set()` function or placing all the elements within a pair of curly braces.  Note that when using the `set()` function, the input argument must be an iterable parameter."
   ]
  },
  {
   "cell_type": "code",
   "execution_count": 1,
   "metadata": {},
   "outputs": [
    {
     "name": "stdout",
     "output_type": "stream",
     "text": [
      "{'bananas', 'oranges', 'apples'}\n",
      "{'onions', 'potatoes', 'peas', 'tomatoes'}\n",
      "<class 'set'>\n",
      "<class 'set'>\n",
      "{'o', 'l', 'e', 'h'}\n"
     ]
    }
   ],
   "source": [
    "fruits = {'apples', 'oranges', 'bananas'}\n",
    "vegetables = set(['tomatoes', 'potatoes', 'onions', 'peas'])\n",
    "print(fruits)\n",
    "print(vegetables)\n",
    "print(type(fruits))\n",
    "print(type(vegetables))\n",
    "s = print(set('hello'))\n",
    "print(s)"
   ]
  },
  {
   "cell_type": "code",
   "execution_count": 1,
   "metadata": {},
   "outputs": [
    {
     "name": "stdout",
     "output_type": "stream",
     "text": [
      "{'o', 'l', 'h', 'e'}\n"
     ]
    }
   ],
   "source": [
    "s = print(set('hello'))"
   ]
  },
  {
   "cell_type": "markdown",
   "metadata": {},
   "source": [
    "A set cannot contain a list as an element. The code below will generate an error because a list is an `unhashable type`.  `Hash` values are numeric fixed length values and uniquely identify data.  If the `hash value` of a data object stays the same throughout the life of the object, it is said to be of `hashable` type.  Since lists are mutable, their hash value can change over time and hence they are of `unhashable type`.  Sets use the hash value of an object to identify the object and hence only hashable type objects can be elements of a set. "
   ]
  },
  {
   "cell_type": "code",
   "execution_count": null,
   "metadata": {},
   "outputs": [],
   "source": [
    "fruits = {['apple', 'bananas'], ['oranges']}"
   ]
  },
  {
   "cell_type": "markdown",
   "metadata": {},
   "source": [
    "To access elements in a set, you can use the `for` loop"
   ]
  },
  {
   "cell_type": "code",
   "execution_count": null,
   "metadata": {},
   "outputs": [],
   "source": [
    "fruits = {'apples', 'oranges', 'bananas'}\n",
    "for f in fruits:\n",
    "    print(f)"
   ]
  },
  {
   "cell_type": "markdown",
   "metadata": {},
   "source": [
    "To find the number of elements in a set, use the `len()` function"
   ]
  },
  {
   "cell_type": "code",
   "execution_count": null,
   "metadata": {},
   "outputs": [],
   "source": [
    "months = {'January', 'February', 'March', 'April', 'May', 'June', 'July', 'July','August', 'September', 'October', 'November', 'December'}\n",
    "print('The number of elements in months is:', len(months))          "
   ]
  },
  {
   "cell_type": "markdown",
   "metadata": {},
   "source": [
    "To delete a set use the `del` operator."
   ]
  },
  {
   "cell_type": "code",
   "execution_count": 2,
   "metadata": {},
   "outputs": [
    {
     "name": "stdout",
     "output_type": "stream",
     "text": [
      "{1, 4, 20, 17}\n"
     ]
    },
    {
     "ename": "NameError",
     "evalue": "name 'x' is not defined",
     "output_type": "error",
     "traceback": [
      "\u001b[1;31m---------------------------------------------------------------------------\u001b[0m",
      "\u001b[1;31mNameError\u001b[0m                                 Traceback (most recent call last)",
      "Input \u001b[1;32mIn [2]\u001b[0m, in \u001b[0;36m<cell line: 4>\u001b[1;34m()\u001b[0m\n\u001b[0;32m      2\u001b[0m \u001b[38;5;28mprint\u001b[39m(x)\n\u001b[0;32m      3\u001b[0m \u001b[38;5;28;01mdel\u001b[39;00m x\n\u001b[1;32m----> 4\u001b[0m \u001b[38;5;28mprint\u001b[39m(\u001b[43mx\u001b[49m)\n",
      "\u001b[1;31mNameError\u001b[0m: name 'x' is not defined"
     ]
    }
   ],
   "source": [
    "x = {1,4,17,20}\n",
    "print(x)\n",
    "del x\n",
    "print(x) #This will generate an error"
   ]
  },
  {
   "cell_type": "code",
   "execution_count": 3,
   "metadata": {},
   "outputs": [
    {
     "name": "stdout",
     "output_type": "stream",
     "text": [
      "{1, 2}\n",
      "s: set()\n"
     ]
    }
   ],
   "source": [
    "s = set([1,2])\n",
    "print(s)\n",
    "s.clear()\n",
    "print('s:', s)"
   ]
  },
  {
   "cell_type": "code",
   "execution_count": null,
   "metadata": {},
   "outputs": [],
   "source": []
  }
 ],
 "metadata": {
  "kernelspec": {
   "display_name": "Python 3 (ipykernel)",
   "language": "python",
   "name": "python3"
  },
  "language_info": {
   "codemirror_mode": {
    "name": "ipython",
    "version": 3
   },
   "file_extension": ".py",
   "mimetype": "text/x-python",
   "name": "python",
   "nbconvert_exporter": "python",
   "pygments_lexer": "ipython3",
   "version": "3.9.12"
  }
 },
 "nbformat": 4,
 "nbformat_minor": 2
}
