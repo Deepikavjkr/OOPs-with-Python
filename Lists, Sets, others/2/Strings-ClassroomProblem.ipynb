{
 "cells": [
  {
   "cell_type": "markdown",
   "metadata": {
    "collapsed": true
   },
   "source": [
    "<h3><font color = blue>Problem Statement</font></h3>\n",
    "\n",
    "Define a function `get_address()` that accepts an email header string as input.  It should then extract the portion\n",
    "of the email address that comes after the `@` symbol\n",
    "  \n",
    "For example, given the argument-  `stephen.marquard@uct.ac.za Sat Jan 5 09:14:16 2008`  \n",
    "\n",
    "The function should return  -     should return `uct.ac.za`  \n",
    "\n",
    "Test out this function by calling it with various inputs.  \n",
    "\n",
    "Assume that sometimes the portion after the address may not exist"
   ]
  },
  {
   "cell_type": "code",
   "execution_count": 1,
   "metadata": {},
   "outputs": [],
   "source": [
    "def get_address(my_header):\n",
    "    atpos = my_header.find('@')\n",
    "    sppos = my_header.find(' ', atpos + 1)\n",
    "    if sppos == -1:  # The find() method returns -1 if it does not find the specified string.\n",
    "        my_addr = my_header[atpos + 1:]\n",
    "    else:\n",
    "        my_addr =my_header[atpos + 1:sppos]\n",
    "    return my_addr\n",
    "    "
   ]
  },
  {
   "cell_type": "code",
   "execution_count": 2,
   "metadata": {},
   "outputs": [
    {
     "name": "stdout",
     "output_type": "stream",
     "text": [
      "uct.ac.za\n"
     ]
    }
   ],
   "source": [
    "print(get_address('From stephen.marquard@uct.ac.za Sat Jan 5 09:14:16 2008'))"
   ]
  },
  {
   "cell_type": "code",
   "execution_count": 3,
   "metadata": {},
   "outputs": [
    {
     "name": "stdout",
     "output_type": "stream",
     "text": [
      "utdallas.edu\n"
     ]
    }
   ],
   "source": [
    "print(get_address('radham@utdallas.edu'))"
   ]
  },
  {
   "cell_type": "code",
   "execution_count": null,
   "metadata": {},
   "outputs": [],
   "source": []
  }
 ],
 "metadata": {
  "kernelspec": {
   "display_name": "Python 3 (ipykernel)",
   "language": "python",
   "name": "python3"
  },
  "language_info": {
   "codemirror_mode": {
    "name": "ipython",
    "version": 3
   },
   "file_extension": ".py",
   "mimetype": "text/x-python",
   "name": "python",
   "nbconvert_exporter": "python",
   "pygments_lexer": "ipython3",
   "version": "3.9.12"
  }
 },
 "nbformat": 4,
 "nbformat_minor": 2
}
