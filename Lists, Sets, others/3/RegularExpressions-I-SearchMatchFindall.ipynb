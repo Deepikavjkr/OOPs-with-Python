{
 "cells": [
  {
   "cell_type": "markdown",
   "metadata": {},
   "source": [
    "<h3>Regular Expressions</h3>\n",
    "The need to search for, and extract different patterns of substrings from a larger string is so common, that most programming languages provide an efficient way of accomplishing this task. This involves the use of __Regular Expressions__ (`regex`).\n",
    "\n",
    "In the following series of notebooks you will be introduced to Regular Expressions (`regex`) in Python.\n",
    "\n",
    "A regular expression is a combination of characters that form a search pattern.  Many complex patterns can be created using different combinations of special characters.  These patterns can then be used together with different methods to accomplish many powerful search and extraction tasks.\n",
    "\n",
    "In Python, we use the functions in the `re` module to achieve these capabilities."
   ]
  },
  {
   "cell_type": "markdown",
   "metadata": {},
   "source": [
    "The `search()` method in the re module can be used find out if the input string contains a specific substring.  We use the term `regex` to refer to the substring or pattern which is being searched for in the input string.\n",
    "\n",
    "The syntax is:  `re.search(regex, inputString)`"
   ]
  },
  {
   "cell_type": "code",
   "execution_count": 1,
   "metadata": {},
   "outputs": [],
   "source": [
    "import re\n",
    "line = 'Received: from murder (mail.umich.edu [141.211.14.39]) by frankenstein.mail.umich.edu (Cyrus v2.3.8) with LMTPA'\n",
    "if re.search('From', line):\n",
    "    print(line)"
   ]
  },
  {
   "cell_type": "markdown",
   "metadata": {},
   "source": [
    "The `search()` method returns a match object if a match is found\n",
    "\n",
    "The `match` object contains the following:\n",
    "1. span -> the location (from start to end) where the match is found\n",
    "2. match -> the exact string that was matched\n",
    "\n",
    "If a match is not found the `search()` method returns None\n",
    "\n",
    "The `search()` method only return the first match even if there are multiple occurrence of the regex."
   ]
  },
  {
   "cell_type": "code",
   "execution_count": 4,
   "metadata": {},
   "outputs": [
    {
     "name": "stdout",
     "output_type": "stream",
     "text": [
      "<re.Match object; span=(10, 14), match='from'>\n"
     ]
    }
   ],
   "source": [
    "import re\n",
    "line = 'Received: from murder (mail.umich.edu [141.211.14.39]) by from frankenstein.mail.umich.edu (Cyrus v2.3.8) with LMTPA'\n",
    "print(re.search('from', line))"
   ]
  },
  {
   "cell_type": "markdown",
   "metadata": {},
   "source": [
    "To retrieve just the matched string, we use the `group()` method of the match object.\n",
    "\n",
    "To retrieve the start location of the matched string, we use the `start()` method of the match object.\n",
    "\n",
    "To retrieve the end location of the matched string, we use the `end()` method of the match object."
   ]
  },
  {
   "cell_type": "code",
   "execution_count": 3,
   "metadata": {},
   "outputs": [
    {
     "name": "stdout",
     "output_type": "stream",
     "text": [
      "group:  from\n",
      "start:  10\n",
      "end:  14\n"
     ]
    }
   ],
   "source": [
    "import re\n",
    "line = 'Received: from murder (mail.umich.edu [141.211.14.39]) by frankenstein.mail.umich.edu (Cyrus v2.3.8) with LMTPA'\n",
    "print('group: ', re.search('from', line).group())\n",
    "print('start: ', re.search('from', line).start())\n",
    "print('end: ', re.search('from', line).end())"
   ]
  },
  {
   "cell_type": "markdown",
   "metadata": {},
   "source": [
    "The `search()` method returns a match object if the regex is found anywhere within the input string.\n",
    "However, if we only wish to match lines where the regex is at the start of the input string, \n",
    "we can use the `re.match()` method.  The `match()` method also returns a match object."
   ]
  },
  {
   "cell_type": "code",
   "execution_count": 5,
   "metadata": {},
   "outputs": [
    {
     "name": "stdout",
     "output_type": "stream",
     "text": [
      "from: Received: from murder (mail.umich.edu [141.211.14.39]) by frankenstein.mail.umich.edu (Cyrus v2.3.8) with LMTPA\n",
      "<re.Match object; span=(0, 5), match='from:'>\n"
     ]
    }
   ],
   "source": [
    "import re # import the re module\n",
    "line = 'from: Received: from murder (mail.umich.edu [141.211.14.39]) by frankenstein.mail.umich.edu (Cyrus v2.3.8) with LMTPA'\n",
    "if re.match('from:', line) :\n",
    "    print(line)\n",
    "print(re.match('from:', line))"
   ]
  },
  {
   "cell_type": "markdown",
   "metadata": {},
   "source": [
    "The `search()` methods stops immediately after it finds one occurrence of the regex.  \n",
    "The `findall()` method can be used to find and extract all occurrences.  returns a list.\n",
    "The method returns a list where each element is one occurrence of the substring we are matching.  If the substring does not appear even once, the returned list will have a length of 0."
   ]
  },
  {
   "cell_type": "code",
   "execution_count": 6,
   "metadata": {},
   "outputs": [
    {
     "name": "stdout",
     "output_type": "stream",
     "text": [
      "['there', 'there']\n",
      "<re.Match object; span=(3, 8), match='there'>\n",
      "None\n"
     ]
    }
   ],
   "source": [
    "s = 'is there and again there'\n",
    "print(re.findall('there', s))\n",
    "print(re.search('there', s))\n",
    "print(re.match('there', s))"
   ]
  },
  {
   "cell_type": "code",
   "execution_count": null,
   "metadata": {},
   "outputs": [],
   "source": []
  }
 ],
 "metadata": {
  "kernelspec": {
   "display_name": "Python 3 (ipykernel)",
   "language": "python",
   "name": "python3"
  },
  "language_info": {
   "codemirror_mode": {
    "name": "ipython",
    "version": 3
   },
   "file_extension": ".py",
   "mimetype": "text/x-python",
   "name": "python",
   "nbconvert_exporter": "python",
   "pygments_lexer": "ipython3",
   "version": "3.9.12"
  }
 },
 "nbformat": 4,
 "nbformat_minor": 2
}
