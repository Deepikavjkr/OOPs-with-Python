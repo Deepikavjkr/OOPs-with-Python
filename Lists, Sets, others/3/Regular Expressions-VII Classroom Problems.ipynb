{
 "cells": [
  {
   "cell_type": "markdown",
   "metadata": {},
   "source": [
    "<h3>Some examples using <font color = blue>Regular Expressions</font></h3>"
   ]
  },
  {
   "cell_type": "code",
   "execution_count": 1,
   "metadata": {},
   "outputs": [],
   "source": [
    "import re"
   ]
  },
  {
   "cell_type": "markdown",
   "metadata": {},
   "source": [
    "1.  Write a Python program that matches a string that has an `a` followed by three `b`. "
   ]
  },
  {
   "cell_type": "code",
   "execution_count": null,
   "metadata": {},
   "outputs": [],
   "source": [
    "string = 'this is a weird string with abbb apearing abbb and abbb times'\n",
    "print(re.findall('ab{3}', string))\n",
    "print(re.findall('abbb', string))"
   ]
  },
  {
   "cell_type": "markdown",
   "metadata": {},
   "source": [
    "2.  Write a Python program to identify strings starting with the digits 8234."
   ]
  },
  {
   "cell_type": "code",
   "execution_count": null,
   "metadata": {},
   "outputs": [],
   "source": [
    "string1 = 'this string will not be a match although it contains 82345 in it.'\n",
    "string2 = '8234 this string will be a match'\n",
    "string3 = '82345 this string will be a match'\n",
    "print(re.findall('^8234', string1))\n",
    "print(re.findall('^8234', string2))\n",
    "print(re.findall('\\A8234', string3))"
   ]
  },
  {
   "cell_type": "markdown",
   "metadata": {},
   "source": [
    "Print out only the 4 digit numbers from the following string.\n",
    "```Python\n",
    "string =  \"1995 is the year that the 2010-program will start. It will have 3010 queries and 11940 results The program will end in 2020\"\n",
    "```"
   ]
  },
  {
   "cell_type": "code",
   "execution_count": 4,
   "metadata": {},
   "outputs": [
    {
     "name": "stdout",
     "output_type": "stream",
     "text": [
      "1995\n",
      "2010\n",
      "3010\n",
      "2020\n"
     ]
    }
   ],
   "source": [
    "string =  '''1995 is the year that the 2010 program will start. It will have 3010 queries and 11940 results The program will end in 2020'''\n",
    "results = re.finditer(r'\\b\\d{4}\\b', string)\n",
    "for i in results:\n",
    "    print(i.group(0))"
   ]
  },
  {
   "cell_type": "markdown",
   "metadata": {},
   "source": [
    "Write a Python program to abbreviate the word __Lane__ or __lane__ to __Ln.__ in a given string.  "
   ]
  },
  {
   "cell_type": "code",
   "execution_count": 5,
   "metadata": {
    "scrolled": true
   },
   "outputs": [
    {
     "name": "stdout",
     "output_type": "stream",
     "text": [
      "Charlane lives in Hidden Creek Ln. and Blane lives in East Ln.\n"
     ]
    }
   ],
   "source": [
    "string = 'Charlane lives in Hidden Creek Lane and Blane lives in East lane'\n",
    "pattern = re.sub(r'\\b[l|L]ane\\b','Ln.', string)\n",
    "print(pattern)"
   ]
  },
  {
   "cell_type": "code",
   "execution_count": null,
   "metadata": {},
   "outputs": [],
   "source": []
  }
 ],
 "metadata": {
  "kernelspec": {
   "display_name": "Python 3 (ipykernel)",
   "language": "python",
   "name": "python3"
  },
  "language_info": {
   "codemirror_mode": {
    "name": "ipython",
    "version": 3
   },
   "file_extension": ".py",
   "mimetype": "text/x-python",
   "name": "python",
   "nbconvert_exporter": "python",
   "pygments_lexer": "ipython3",
   "version": "3.9.12"
  }
 },
 "nbformat": 4,
 "nbformat_minor": 2
}
