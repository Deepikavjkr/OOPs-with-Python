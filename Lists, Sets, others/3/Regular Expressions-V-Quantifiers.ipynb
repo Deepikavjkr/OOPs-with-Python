{
 "cells": [
  {
   "cell_type": "markdown",
   "metadata": {},
   "source": [
    "<h3>Quantifiers</h3>\n",
    "\n",
    "In the examples, so far, each of the meta characters and special characters we have studied, matches just one character at a time.  In this notebook, we will study a special type of metacharacter (a quantifier) that immediately follows a portion of a regex (referred to as an element) and indicates how many times that portion must occur for the match to succeed. The figure below lists the different quantifiers we will look at."
   ]
  },
  {
   "attachments": {
    "Quantifiers.png": {
     "image/png": "[encoded data removed]"
    }
   },
   "cell_type": "markdown",
   "metadata": {},
   "source": [
    "![Quantifiers.png](attachment:Quantifiers.png)"
   ]
  },
  {
   "cell_type": "code",
   "execution_count": 1,
   "metadata": {},
   "outputs": [],
   "source": [
    "import re"
   ]
  },
  {
   "cell_type": "code",
   "execution_count": 2,
   "metadata": {},
   "outputs": [
    {
     "name": "stdout",
     "output_type": "stream",
     "text": [
      "With [a-z] ['l', 'i', 'n', 'e']\n"
     ]
    }
   ],
   "source": [
    "'''\n",
    "In this example, the <regex> will match each alphabet and return a list with as many elements\n",
    "as there are matches.\n",
    "'''\n",
    "string = \"line\"\n",
    "print('With [a-z]', re.findall('[a-z]', string))"
   ]
  },
  {
   "cell_type": "code",
   "execution_count": 3,
   "metadata": {},
   "outputs": [
    {
     "name": "stdout",
     "output_type": "stream",
     "text": [
      "With \\d  ['4', '2', '8', '5']\n"
     ]
    }
   ],
   "source": [
    "'''\n",
    "Similarly, in this example, the <regex> will match each digit and return a list with as many elements\n",
    "as there are matches.\n",
    "'''\n",
    "string = \"4S285D\"\n",
    "print('With \\d ', re.findall('\\d', string))"
   ]
  },
  {
   "cell_type": "code",
   "execution_count": 4,
   "metadata": {},
   "outputs": [
    {
     "name": "stdout",
     "output_type": "stream",
     "text": [
      "['li', 'ne']\n"
     ]
    }
   ],
   "source": [
    "'''\n",
    "We can repeat an element multiple times as many times that we wish the match to occur.\n",
    "In the example below, a match will occur for every two lower case alphabets occurring together.\n",
    "'''\n",
    "string = \"lines\"\n",
    "print(re.findall('[a-z][a-z]', string))"
   ]
  },
  {
   "cell_type": "code",
   "execution_count": 5,
   "metadata": {},
   "outputs": [
    {
     "name": "stdout",
     "output_type": "stream",
     "text": [
      "['49', '25']\n"
     ]
    }
   ],
   "source": [
    "'''\n",
    "Similarly, in this example, the <regex> will match any occurrence of two digits occurring together.\n",
    "''' \n",
    "string = \"49S258D\"\n",
    "print(re.findall('\\d\\d', string))"
   ]
  },
  {
   "cell_type": "code",
   "execution_count": 6,
   "metadata": {},
   "outputs": [
    {
     "name": "stdout",
     "output_type": "stream",
     "text": [
      "String 1 ['9', 'ab5', '6', '7']\n",
      "String 2 ['a9', '7', '8', '4']\n",
      "String 3 ['6', '7', '8', 'knl8']\n"
     ]
    }
   ],
   "source": [
    "'''\n",
    "Quantifiers are used to match a preceding element multiple times.\n",
    "\n",
    "* specifies that the preceding element should occur zero or more times.\n",
    "'''\n",
    "string1 = \"9ab567A\"\n",
    "string2 = \"a9784bnghdjB\"\n",
    "string3 = \"_678knl8L\"\n",
    "print('String 1', re.findall('[a-z]*\\d', string1))\n",
    "print('String 2', re.findall('[a-z]*\\d', string2))\n",
    "print('String 3', re.findall('[a-z]*\\d', string3))"
   ]
  },
  {
   "cell_type": "code",
   "execution_count": 7,
   "metadata": {},
   "outputs": [
    {
     "name": "stdout",
     "output_type": "stream",
     "text": [
      "String 1 ['ab5']\n",
      "String 2 ['a9']\n",
      "String 3 ['knl8']\n"
     ]
    }
   ],
   "source": [
    "'''\n",
    "Quantifiers are used to match a preceding element multiple times.\n",
    "\n",
    "+ specifies that the preceding element should occur one or more times.\n",
    "'''\n",
    "string1 = \"9ab567A\"\n",
    "string2 = \"a9784ababajB\"\n",
    "string3 = \"_678knl8L\"\n",
    "print('String 1', re.findall('[a-z]+\\d', string1))\n",
    "print('String 2', re.findall('[a-z]+\\d', string2))\n",
    "print('String 3', re.findall('[a-z]+\\d', string3))"
   ]
  },
  {
   "cell_type": "code",
   "execution_count": 2,
   "metadata": {},
   "outputs": [
    {
     "name": "stdout",
     "output_type": "stream",
     "text": [
      "String 1 ['9', 'b5', '6', '7']\n",
      "String 2 ['a9', '7', '8', '4']\n",
      "String 3 ['6', '7', '8', 'l8']\n"
     ]
    }
   ],
   "source": [
    "'''\n",
    "Quantifiers are used to match a preceding element multiple times.\n",
    "\n",
    "? specifies that the preceding element should occur zero or one time.\n",
    "'''\n",
    "string1 = \"9ab567A\"\n",
    "string2 = \"a9784ababajB\"\n",
    "string3 = \"_678knl8L\"\n",
    "print('String 1', re.findall('[a-z]?\\d', string1))\n",
    "print('String 2', re.findall('[a-z]?\\d', string2))\n",
    "print('String 3', re.findall('[a-z]*\\d', string3))"
   ]
  },
  {
   "cell_type": "code",
   "execution_count": 4,
   "metadata": {},
   "outputs": [
    {
     "name": "stdout",
     "output_type": "stream",
     "text": [
      "String 1 ['ab5']\n",
      "String 2 []\n",
      "String 3 ['nl8']\n"
     ]
    }
   ],
   "source": [
    "'''\n",
    "{n} specifies that the preceding element should occur exactly n times\n",
    "'''\n",
    "string1 = \"9ab567A\"\n",
    "string2 = \"a9784ababajB\"\n",
    "string3 = \"_678knl8L\"\n",
    "print('String 1', re.findall('[a-z]{2}\\d', string1))\n",
    "print('String 2', re.findall('[a-z]{2}\\d', string2))\n",
    "print('String 3', re.findall('[a-z]{2}\\d', string3))"
   ]
  },
  {
   "cell_type": "code",
   "execution_count": 5,
   "metadata": {},
   "outputs": [
    {
     "name": "stdout",
     "output_type": "stream",
     "text": [
      "String 1 ['ab5']\n",
      "String 2 ['a9']\n",
      "String 3 ['nl8']\n"
     ]
    }
   ],
   "source": [
    "'''\n",
    "{m, n} specifies that the preceding element should occur exactly between m and n times\n",
    "here 1 or 2 is acceptable\n",
    "'''\n",
    "string1 = \"9ab567A\"\n",
    "string2 = \"a9784ababajB\"\n",
    "string3 = \"_678knl8L\"\n",
    "print('String 1', re.findall('[a-z]{1,2}\\d', string1))\n",
    "print('String 2', re.findall('[a-z]{1,2}\\d', string2))\n",
    "print('String 3', re.findall('[a-z]{1,2}\\d', string3))"
   ]
  },
  {
   "cell_type": "markdown",
   "metadata": {},
   "source": [
    "<h3>Problem Statement</h3>\n",
    "Let us suppose that we are searching for a pattern in the following sequence:  \n",
    "\n",
    "1. 2 word characters,  \n",
    "\n",
    "2. followed by 2 or 3 digits,  \n",
    "\n",
    "3. followed by 0 or more lowercase alphabets,  \n",
    "\n",
    "4. ending with one uppercase alphabet"
   ]
  },
  {
   "cell_type": "markdown",
   "metadata": {},
   "source": [
    "We will define the regex as follows:\n",
    "1.  2 word characters $\\rightarrow$ `\\w\\w`  \n",
    "2.  followed by 2 or 3 digits $\\rightarrow$ `\\d{2,3}\n",
    "3.  followed by 0 or more lowercase alphabets $\\rightarrow$ `[a-z]*`\n",
    "4.  ending with one uppercase alphabet$\\rightarrow$ `[A-Z]$`\n",
    "\n",
    "Combining the above together, we get the following regex\n",
    "`\\w\\w\\d{2,3}[a-z]*[A-Z]$`"
   ]
  },
  {
   "cell_type": "code",
   "execution_count": 3,
   "metadata": {},
   "outputs": [
    {
     "name": "stdout",
     "output_type": "stream",
     "text": [
      "String 1 ['ab567A']\n"
     ]
    }
   ],
   "source": [
    "string1 = \"ab567A\"  #Match\n",
    "print('String 1', re.findall('\\w\\w\\d{2,3}[a-z]*[A-Z]$', string1))"
   ]
  },
  {
   "cell_type": "code",
   "execution_count": 3,
   "metadata": {},
   "outputs": [
    {
     "name": "stdout",
     "output_type": "stream",
     "text": [
      "String 1 ['ab567A']\n"
     ]
    }
   ],
   "source": [
    "string2 = \"ab567A123\"  #Not a Match\n",
    "print('String 2', re.findall('\\w\\w\\d{2,3}[a-z]*[A-Z]$', string2))"
   ]
  },
  {
   "cell_type": "code",
   "execution_count": 6,
   "metadata": {},
   "outputs": [
    {
     "name": "stdout",
     "output_type": "stream",
     "text": [
      "String 3 ['f9784bnghdjB']\n"
     ]
    }
   ],
   "source": [
    "string3 = \"f9784bnghdjB\"#Match\n",
    "print('String 3', re.findall('\\w\\w\\d{2,3}[a-z]*[A-Z]$', string3))"
   ]
  },
  {
   "cell_type": "code",
   "execution_count": null,
   "metadata": {},
   "outputs": [],
   "source": [
    "string4 = \"_b678knlL\" #Match\n",
    "print('String 4', re.findall('\\w\\w\\d{2,3}[a-z]*[A-Z]$', string4))"
   ]
  },
  {
   "cell_type": "code",
   "execution_count": null,
   "metadata": {},
   "outputs": [],
   "source": [
    "string5 = \"f97bnghdjB\" # Not a match\n",
    "print('String 5', re.findall('\\w\\w\\d{2,3}[a-z]*[A-Z]$', string5))"
   ]
  }
 ],
 "metadata": {
  "kernelspec": {
   "display_name": "Python 3 (ipykernel)",
   "language": "python",
   "name": "python3"
  },
  "language_info": {
   "codemirror_mode": {
    "name": "ipython",
    "version": 3
   },
   "file_extension": ".py",
   "mimetype": "text/x-python",
   "name": "python",
   "nbconvert_exporter": "python",
   "pygments_lexer": "ipython3",
   "version": "3.9.12"
  }
 },
 "nbformat": 4,
 "nbformat_minor": 2
}
