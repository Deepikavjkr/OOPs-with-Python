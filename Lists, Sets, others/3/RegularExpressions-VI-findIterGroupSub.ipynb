{
 "cells": [
  {
   "cell_type": "markdown",
   "metadata": {},
   "source": [
    "<h3>More methods from the <font color = blue>re</font> module</h3>\n",
    "\n",
    "In this notebook you will be introduced to the `finditer()`, `group()` and `sub()` function.\n",
    "\n",
    "1. The `finditer()` returns an iterator over all matches for the regex pattern in the string. Note that an iterator object can be only used once.\n",
    "    \n",
    "2. The `group()` method of a match object can be used to selectively extract different portions of a regex pattern.  \n",
    "   a. The `group()` method accepts one argument whose value ranges between 0 and the number of groups in the regex pattern.  \n",
    "   b. The default value of 0 means that the complete match is extracted.  \n",
    "   c. You can also name  groups by using the syntax shown below\n",
    "        `?P<groupname>`\n",
    "      Inside the parenthses for a group prefix the group with the name you wish to give it\n",
    "3.   The `sub()` function replaces the matches with the text of your choice.      "
   ]
  },
  {
   "cell_type": "code",
   "execution_count": 1,
   "metadata": {},
   "outputs": [],
   "source": [
    "import re"
   ]
  },
  {
   "cell_type": "markdown",
   "metadata": {},
   "source": [
    "Write a regex to extract each word."
   ]
  },
  {
   "cell_type": "code",
   "execution_count": 2,
   "metadata": {},
   "outputs": [
    {
     "name": "stdout",
     "output_type": "stream",
     "text": [
      "['John', 'has', 'cats', 'but', 'I', 'think', 'my', 'friend', 'Susan', 'has', 'dogs', 'and', 'Mike', 'has', 'fishes']\n"
     ]
    }
   ],
   "source": [
    "string = 'John has 6 cats but I think my friend Susan has 3 dogs and Mike has 8 fishes'\n",
    "print(re.findall('[A-Za-z]+',string))"
   ]
  },
  {
   "cell_type": "markdown",
   "metadata": {},
   "source": [
    "Write a regex to extract all numbers."
   ]
  },
  {
   "cell_type": "code",
   "execution_count": 3,
   "metadata": {},
   "outputs": [
    {
     "name": "stdout",
     "output_type": "stream",
     "text": [
      "['6', '13', '8']\n"
     ]
    }
   ],
   "source": [
    "string = 'John has 6 cats but I think my friend Susan has 13 dogs and Mike has 8 fishes'\n",
    "print(re.findall('\\d+',string))"
   ]
  },
  {
   "cell_type": "markdown",
   "metadata": {},
   "source": [
    "Write a regex to extract the phrases  \n",
    "`John has 6 cats`, `Susan has 3 dogs`, `Mike has 8 fishes`"
   ]
  },
  {
   "cell_type": "code",
   "execution_count": 4,
   "metadata": {},
   "outputs": [
    {
     "name": "stdout",
     "output_type": "stream",
     "text": [
      "['h_as 6 cats', 'has 13 dogs', 'has 8 fishes']\n"
     ]
    }
   ],
   "source": [
    "string = 'John h_as 6 cats but I think my friend Susan has 13 dogs and Mike has 8 fishes'\n",
    "print(re.findall('\\w+ \\d+ \\w+', string)) # Note the spaces inside the regex"
   ]
  },
  {
   "cell_type": "markdown",
   "metadata": {},
   "source": [
    "You can extract different elements separately by creating groups.  \n",
    "Groups can be created by enclosing consecutive elements of interest inside a pair of parentheses.  \n",
    "Use `finditer()` and `group()` to extract and print the matches of the regex pattern in the example above."
   ]
  },
  {
   "cell_type": "code",
   "execution_count": 8,
   "metadata": {},
   "outputs": [
    {
     "name": "stdout",
     "output_type": "stream",
     "text": [
      "has 6 cats\n",
      "has 3 dogs\n",
      "has 8 fishes\n"
     ]
    }
   ],
   "source": [
    "string = 'John has 6 cats but I think my friend Susan has 3 dogs and Mike has 8 fishes'\n",
    "results = re.finditer('[A-Za-z]+ \\d+ \\w+', string)\n",
    "for match in results:\n",
    "    print(match.group(0))"
   ]
  },
  {
   "cell_type": "markdown",
   "metadata": {},
   "source": [
    "Extract and print only the names of the pet owners."
   ]
  },
  {
   "cell_type": "code",
   "execution_count": 5,
   "metadata": {},
   "outputs": [
    {
     "name": "stdout",
     "output_type": "stream",
     "text": [
      "John has 6 cats\n",
      "Susan has 3 dogs\n",
      "Mike has 8 fishes\n"
     ]
    }
   ],
   "source": [
    "string = 'John has 6 cats but I think my friend Susan has 3 dogs and Mike has 8 fishes'\n",
    "results = re.finditer('([A-Za-z]+) \\w+ (\\d+) (\\w+)', string)\n",
    "\n",
    "for match in results:\n",
    "    print(match.group(0))"
   ]
  },
  {
   "cell_type": "code",
   "execution_count": 9,
   "metadata": {},
   "outputs": [
    {
     "name": "stdout",
     "output_type": "stream",
     "text": [
      "John has 6 cats\n",
      "Susan has 3 dogs\n",
      "Mike has 8 fishes\n"
     ]
    }
   ],
   "source": [
    "string = 'John has 6 cats but I think my friend Susan has 3 dogs and Mike has 8 fishes'\n",
    "results = re.finditer('([A-Za-z]+) \\w+ (\\d+) (\\w+)', string)\n",
    "\n",
    "for match in results:\n",
    "    print(match.group(0))"
   ]
  },
  {
   "cell_type": "code",
   "execution_count": 20,
   "metadata": {},
   "outputs": [
    {
     "name": "stdout",
     "output_type": "stream",
     "text": [
      "John\n",
      "Susan\n",
      "Mike\n"
     ]
    }
   ],
   "source": [
    "string = 'John has 6 cats but I think my friend Susan has 3 dogs and Mike has 8 fishes'\n",
    "results = re.finditer('([A-Za-z]+) \\w+ (\\d+) (\\w+)', string)\n",
    "\n",
    "for match in results:\n",
    "    print(match.group(1))"
   ]
  },
  {
   "cell_type": "markdown",
   "metadata": {},
   "source": [
    "Extract and first print the names of the pet owners in one line and then print the number of pets owned in the next line.\n",
    "\n",
    "_Note:_  An iterator object can be used only once.  So, to print out the second line, you will need to create another iterator object."
   ]
  },
  {
   "cell_type": "code",
   "execution_count": 19,
   "metadata": {},
   "outputs": [
    {
     "name": "stdout",
     "output_type": "stream",
     "text": [
      "John Susan Mike \n",
      "6 3 8 \n"
     ]
    }
   ],
   "source": [
    "string = 'John has 6 cats but I think my friend Susan has 3 dogs and Mike has 8 fishes'\n",
    "results = re.finditer('([A-Za-z]+) \\w+ (\\d+) (\\w+)', string)\n",
    "\n",
    "for match in results:\n",
    "    print(match.group(1), end=' ')\n",
    "print()   \n",
    "\n",
    "results = re.finditer('([A-Za-z]+) \\w+ (\\d+) \\w+', string)\n",
    "for match in results:\n",
    "    print(match.group(2), end=' ')\n",
    "print()\n"
   ]
  },
  {
   "cell_type": "code",
   "execution_count": 22,
   "metadata": {},
   "outputs": [
    {
     "name": "stdout",
     "output_type": "stream",
     "text": [
      "John Susan Mike \n",
      "\n"
     ]
    }
   ],
   "source": [
    "string = 'John has 6 cats but I think my friend Susan has 3 dogs and Mike has 8 fishes'\n",
    "results = re.finditer('([A-Za-z]+) \\w+ (\\d+) (\\w+)', string)\n",
    "\n",
    "for match in results:\n",
    "    print(match.group(1), end=' ')\n",
    "print()   \n",
    "\n",
    "#results = re.finditer('([A-Za-z]+) \\w+ (\\d+) \\w+', string)\n",
    "for match in results:\n",
    "    print(match.group(2), end=' ')\n",
    "print()"
   ]
  },
  {
   "cell_type": "markdown",
   "metadata": {},
   "source": [
    "Extract and print the names of the pet owners.  \n",
    "Use a group name of _Owner_.  \n",
    "You can name groups by using the syntax shown below.  \n",
    "`?P<groupname>`  \n",
    "Inside the parenthses for a group prefix the group with the name you wish to give it"
   ]
  },
  {
   "cell_type": "code",
   "execution_count": 23,
   "metadata": {},
   "outputs": [
    {
     "name": "stdout",
     "output_type": "stream",
     "text": [
      "cats\n",
      "dogs\n",
      "fishes\n"
     ]
    }
   ],
   "source": [
    "string = 'John has 6 cats but I think my friend Susan has 3 dogs and Mike has 8 fishes'\n",
    "results = re.finditer('(?P<Owner>[A-Za-z]+) \\w+ (?P<NumOfPets>\\d+) (?P<Pet>\\w+)', string)\n",
    "\n",
    "for match in results:\n",
    "    print(match.group('Pet'))"
   ]
  },
  {
   "cell_type": "markdown",
   "metadata": {},
   "source": [
    "The `sub()` function replaces the matches with the text of your choice.  \n",
    "The syntax of the `sub()` function is as follows:  \n",
    "`re.sub(string to replace, string to replace with, input string)`"
   ]
  },
  {
   "cell_type": "code",
   "execution_count": 24,
   "metadata": {},
   "outputs": [
    {
     "name": "stdout",
     "output_type": "stream",
     "text": [
      "The*rain*in*Spain\n"
     ]
    }
   ],
   "source": [
    "string = \"The rain in Spain\"\n",
    "new_string = re.sub(\"\\s\", \"*\", string) #replace white space charater with a *\n",
    "print(new_string)"
   ]
  },
  {
   "cell_type": "markdown",
   "metadata": {},
   "source": [
    "The `sub()` function replaces the matches with the text of your choice.  You can add an additional argument to specify the number of replacements"
   ]
  },
  {
   "cell_type": "code",
   "execution_count": 25,
   "metadata": {},
   "outputs": [
    {
     "name": "stdout",
     "output_type": "stream",
     "text": [
      "The*rain*in*Spain\n"
     ]
    }
   ],
   "source": [
    "string = \"The rain in Spain\"\n",
    "new_string = re.sub(\"\\s\", \"*\", string, 5)\n",
    "print(new_string)"
   ]
  },
  {
   "cell_type": "code",
   "execution_count": 9,
   "metadata": {},
   "outputs": [
    {
     "name": "stdout",
     "output_type": "stream",
     "text": [
      "The*rain*in Spain\n"
     ]
    }
   ],
   "source": [
    "string = \"The rain in Spain\"\n",
    "new_string = re.sub(\"\\s\", \"*\", string, 2)\n",
    "print(new_string)"
   ]
  },
  {
   "cell_type": "code",
   "execution_count": null,
   "metadata": {},
   "outputs": [],
   "source": []
  }
 ],
 "metadata": {
  "kernelspec": {
   "display_name": "Python 3 (ipykernel)",
   "language": "python",
   "name": "python3"
  },
  "language_info": {
   "codemirror_mode": {
    "name": "ipython",
    "version": 3
   },
   "file_extension": ".py",
   "mimetype": "text/x-python",
   "name": "python",
   "nbconvert_exporter": "python",
   "pygments_lexer": "ipython3",
   "version": "3.9.12"
  }
 },
 "nbformat": 4,
 "nbformat_minor": 2
}
