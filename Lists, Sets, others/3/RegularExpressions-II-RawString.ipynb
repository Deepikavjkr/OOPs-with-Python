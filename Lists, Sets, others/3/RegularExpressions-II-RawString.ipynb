{
 "cells": [
  {
   "cell_type": "markdown",
   "metadata": {},
   "source": [
    "<h3>The <font color = blue> Raw String </font> Character</h3>\n",
    "\n",
    "In this notebook, we will learn about the `raw string` character.  Recall that Python uses the backslash (`\\`) to create special characters like `\\n` (newline), `\\t` (tab), etc. But sometimes, we want the two characters to be treated separately.  For example, you may want `\\t` to be treated as two separate characters `\\` and `t` instead of a single tab character.  The raw string character can be used to achieve this effect. Prefixing a string by the character `r` tells\n",
    "Python that all characters inside the string must be treated as raw characters and not as escape or special characters."
   ]
  },
  {
   "cell_type": "markdown",
   "metadata": {},
   "source": [
    "In the example below, the `\\n` will be printed as a newline character."
   ]
  },
  {
   "cell_type": "code",
   "execution_count": 1,
   "metadata": {},
   "outputs": [
    {
     "name": "stdout",
     "output_type": "stream",
     "text": [
      "Line 1\n",
      "Line 2\n",
      "\n"
     ]
    }
   ],
   "source": [
    "print(\"Line 1\\nLine 2\\n\") "
   ]
  },
  {
   "cell_type": "markdown",
   "metadata": {},
   "source": [
    "We could get rid of the special meaning of the backslash character by prefixing every occurence of the `\\` character with another `\\` character. All occurrences of  `\\n` will be printed as two separate characters as in the example below."
   ]
  },
  {
   "cell_type": "code",
   "execution_count": 2,
   "metadata": {},
   "outputs": [
    {
     "name": "stdout",
     "output_type": "stream",
     "text": [
      "Line 1\\nLine 2\\n\n",
      "\n"
     ]
    }
   ],
   "source": [
    "print(\"Line 1\\\\nLine 2\\\\n\")\n",
    "print()"
   ]
  },
  {
   "cell_type": "markdown",
   "metadata": {},
   "source": [
    "A more elegant approach is to use the raw string character.  Prefix the entire string by the raw string character `r` to achieve the same effect.  All occurrences of  `\\n` will be printed as two separate characters in the example below."
   ]
  },
  {
   "cell_type": "code",
   "execution_count": 3,
   "metadata": {},
   "outputs": [
    {
     "name": "stdout",
     "output_type": "stream",
     "text": [
      "Line 1\\nLine 2\\n\n"
     ]
    }
   ],
   "source": [
    "print(r\"Line 1\\nLine 2\\n\")"
   ]
  },
  {
   "cell_type": "markdown",
   "metadata": {},
   "source": [
    "The raw string character can also be used together with the input string when searching for `regex` expressions.\n",
    "\n",
    "See the example below:"
   ]
  },
  {
   "cell_type": "code",
   "execution_count": 4,
   "metadata": {},
   "outputs": [
    {
     "name": "stdout",
     "output_type": "stream",
     "text": [
      "First if:  False\n",
      "Second if:  True\n"
     ]
    }
   ],
   "source": [
    "import re\n",
    "# find n in \\n. \\n is treated as a new line character\n",
    "if re.search('n', '\\n'):\n",
    "    print(\"First if: \", True)\n",
    "else:\n",
    "    print(\"First if: \", False)\n",
    "#find n in r'\\n'. \\ and n are treated as separate characters due to r. so its comes as true.\n",
    "#if re.match, then its shows false as it starts from / and not n\n",
    "if re.search('n', r'\\n'):\n",
    "    print(\"Second if: \", True)\n",
    "else:\n",
    "    print(\"Second if: \", False)"
   ]
  },
  {
   "cell_type": "markdown",
   "metadata": {},
   "source": [
    "The raw string character does not work the same way when applied to a `\\n` or `\\t` inside a `<regex>`.  In the `search()` function, the first argument is the regular expression (or pattern), while the second argument is the string in which is being searched."
   ]
  },
  {
   "cell_type": "markdown",
   "metadata": {},
   "source": [
    "__Example 1__: Both the regex and the string will be interpreted as a newline character. Hence the `if` statement will return `True`."
   ]
  },
  {
   "cell_type": "code",
   "execution_count": 5,
   "metadata": {},
   "outputs": [
    {
     "name": "stdout",
     "output_type": "stream",
     "text": [
      "First if:  True\n"
     ]
    }
   ],
   "source": [
    "import re\n",
    "#\n",
    "if re.search('\\n', '\\n'):\n",
    "    print(\"First if: \", True)\n",
    "else:\n",
    "    print(\"First if: \", False)   "
   ]
  },
  {
   "cell_type": "markdown",
   "metadata": {},
   "source": [
    "__Example 2__: The string will be treated as a raw string with two characters.  Hence the if statement will return `False`. "
   ]
  },
  {
   "cell_type": "code",
   "execution_count": 2,
   "metadata": {},
   "outputs": [
    {
     "name": "stdout",
     "output_type": "stream",
     "text": [
      "Second if:  False\n"
     ]
    }
   ],
   "source": [
    "import re     \n",
    "if re.search('\\n', r'\\n'):\n",
    "    print(\"Second if: \", True)\n",
    "else:\n",
    "    print(\"Second if: \", False)"
   ]
  },
  {
   "cell_type": "markdown",
   "metadata": {},
   "source": [
    "__Example 3__: Both the regex and the string will be interpreted as a newline character.\n",
    "This is because, the raw string character does not apply to `\\n` or `\\t` in a regex expressions.  Hence the if statement will return `True`."
   ]
  },
  {
   "cell_type": "code",
   "execution_count": 3,
   "metadata": {},
   "outputs": [
    {
     "name": "stdout",
     "output_type": "stream",
     "text": [
      "Second if:  True\n"
     ]
    }
   ],
   "source": [
    "import re \n",
    "if re.search(r'\\n', '\\n'): #r doesnt operate in the left hand side\n",
    "    print(\"Second if: \", True)\n",
    "else:\n",
    "    print(\"Second if: \", False)"
   ]
  },
  {
   "cell_type": "markdown",
   "metadata": {},
   "source": [
    "__Example 4__: The regex will be interpreted as a newline character since the raw string character does not apply to \\n or \\t in a regex expressions.  But the string will be treated as two separate characters and hence the if statement will return `False`."
   ]
  },
  {
   "cell_type": "code",
   "execution_count": 4,
   "metadata": {},
   "outputs": [
    {
     "name": "stdout",
     "output_type": "stream",
     "text": [
      "Second if:  False\n"
     ]
    }
   ],
   "source": [
    "import re     \n",
    "if re.search(r'\\n', r'\\n'): #r doesnt operate in the left hand side\n",
    "    print(\"Second if: \", True)\n",
    "else:\n",
    "    print(\"Second if: \", False)"
   ]
  },
  {
   "cell_type": "code",
   "execution_count": null,
   "metadata": {},
   "outputs": [],
   "source": []
  }
 ],
 "metadata": {
  "kernelspec": {
   "display_name": "Python 3 (ipykernel)",
   "language": "python",
   "name": "python3"
  },
  "language_info": {
   "codemirror_mode": {
    "name": "ipython",
    "version": 3
   },
   "file_extension": ".py",
   "mimetype": "text/x-python",
   "name": "python",
   "nbconvert_exporter": "python",
   "pygments_lexer": "ipython3",
   "version": "3.9.12"
  }
 },
 "nbformat": 4,
 "nbformat_minor": 2
}
