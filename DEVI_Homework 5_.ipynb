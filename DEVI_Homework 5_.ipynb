{
 "cells": [
  {
   "cell_type": "markdown",
   "id": "c74c5635",
   "metadata": {},
   "source": [
    "# Question 1"
   ]
  },
  {
   "cell_type": "markdown",
   "id": "975f6262",
   "metadata": {},
   "source": [
    "Write a program to do the following:\n",
    "\n",
    "Create two lists with 1,000,000 elements each. Each element of the first list is a randomly generated integer between \n",
    "-5,000,000 and 5,000,000 both inclusive. The second list should contain the square of the elements in the first list.\n",
    "Then create a third list where every element is a tuple. The first element in the tuple is one of the numbers from the \n",
    "first list and the second element is its square from the second list. The third list should only contain those numbers \n",
    "which are greater than 450000.\n",
    "Wait one second.\n",
    "Then print the number of elements in the third list.\n",
    "Your code should perform the above tasks twice. Once using enumerate() for populating the third list and once using zip() \n",
    "for populating the third list. Print the elapsed time and the cpu time in both cases. Finally, print the difference \n",
    "between the cpu time when using enumerate() and the cpu time when using zip() for this task."
   ]
  },
  {
   "cell_type": "code",
   "execution_count": 3,
   "id": "55149d6b",
   "metadata": {},
   "outputs": [
    {
     "name": "stdout",
     "output_type": "stream",
     "text": [
      "454819\n",
      "Elapsed Execution time with zip: 1.7108588218688965 seconds\n",
      "CPU Execution time with zip: 0.703125 seconds\n",
      "455444\n",
      "Elapsed Execution time with enumerate: 1.795973300933838 seconds\n",
      "CPU Execution time with enumerate: 0.78125 seconds\n",
      "Difference between CPU time between enumerate and zip: 0.078125 seconds\n"
     ]
    }
   ],
   "source": [
    "import random\n",
    "\n",
    "randomlist = random.sample(range(-5000000, 5000000+1), 1000000)\n",
    "# print(len(randomlist))\n",
    "\n",
    "list2 = [x ** 2 for x in randomlist]\n",
    "    \n",
    "import time\n",
    "\n",
    "# get the start time\n",
    "st_elapsed_time_z = time.time()\n",
    "st_cpu_time_z = time.process_time()\n",
    "\n",
    "# main program\n",
    "l_zip = []\n",
    "for s1, s2 in zip( randomlist, list2):\n",
    "    if s1 > 450000:\n",
    "        l_zip.append((s1, s2))\n",
    "\n",
    "\n",
    "# wait for 1 second\n",
    "time.sleep(1)\n",
    "print(len(l_zip))\n",
    "\n",
    "\n",
    "# get the end time\n",
    "et_elapsed_time_z = time.time()\n",
    "et_cpu_time_z = time.process_time()\n",
    "# get the execution time\n",
    "elapsed_time_zip = et_elapsed_time_z - st_elapsed_time_z\n",
    "cpu_time_zip = et_cpu_time_z - st_cpu_time_z\n",
    "print(f'Elapsed Execution time with zip: {elapsed_time_zip} seconds')\n",
    "print(f'CPU Execution time with zip: {cpu_time_zip} seconds')\n",
    "\n",
    "#--------------------\n",
    "\n",
    "import random\n",
    "\n",
    "randomlist = random.sample(range(-5000000, 5000000+1), 1000000)\n",
    "\n",
    "\n",
    "list2 = [x ** 2 for x in randomlist]\n",
    "\n",
    "    \n",
    "# get the start time\n",
    "st_elapsed_time = time.time()\n",
    "st_cpu_time = time.process_time()\n",
    "\n",
    "# main program\n",
    "h=[]\n",
    "for i, numb in enumerate(randomlist):\n",
    "    if numb > 450000:\n",
    "        h.append((numb,list2[i]))\n",
    "\n",
    "\n",
    "\n",
    "# wait for 1 seconds\n",
    "time.sleep(1)\n",
    "print(len(h))\n",
    "\n",
    "# get the end time\n",
    "et_elapsed_time = time.time()\n",
    "et_cpu_time = time.process_time()\n",
    "# get the execution time\n",
    "elapsed_time_enu = et_elapsed_time - st_elapsed_time\n",
    "cpu_time_enu = et_cpu_time - st_cpu_time\n",
    "\n",
    "enu_zip_cpu_time =  cpu_time_enu - cpu_time_zip\n",
    "print(f'Elapsed Execution time with enumerate: {elapsed_time_enu} seconds')\n",
    "print(f'CPU Execution time with enumerate: {cpu_time_enu} seconds')\n",
    "print(f'Difference between CPU time between enumerate and zip: {enu_zip_cpu_time} seconds')\n",
    "\n",
    "\n",
    "\n"
   ]
  },
  {
   "cell_type": "code",
   "execution_count": null,
   "id": "b05a6b75",
   "metadata": {},
   "outputs": [],
   "source": []
  },
  {
   "cell_type": "code",
   "execution_count": null,
   "id": "1bc9346c",
   "metadata": {},
   "outputs": [],
   "source": []
  },
  {
   "cell_type": "markdown",
   "id": "f19cad12",
   "metadata": {},
   "source": [
    "# Question 2"
   ]
  },
  {
   "cell_type": "markdown",
   "id": "187c1f8d",
   "metadata": {},
   "source": [
    "Given a list that contains integers and other data types, write a single line of code to print the sum of\n",
    "all the integers in the list. Use a lambda function together with filter(), map() or reduce() as appropriate. \n",
    "Hint: You can nest two of the above functions together with two nested lambda functions.\n",
    "\n",
    "For example given my_lst = [5,'a', 18,'d',12,14,(15,)] the output is 49."
   ]
  },
  {
   "cell_type": "code",
   "execution_count": 11,
   "id": "cb7077fe",
   "metadata": {},
   "outputs": [],
   "source": [
    "my_lst = [5,'a', 18,'d',12,14,(15,)]"
   ]
  },
  {
   "cell_type": "code",
   "execution_count": 12,
   "id": "9d56543d",
   "metadata": {},
   "outputs": [
    {
     "name": "stdout",
     "output_type": "stream",
     "text": [
      "49\n"
     ]
    }
   ],
   "source": [
    "from functools import reduce\n",
    "print(reduce(lambda n,m:n+m,(filter(lambda x: isinstance(x, int),my_lst))))"
   ]
  },
  {
   "cell_type": "markdown",
   "id": "601933a8",
   "metadata": {},
   "source": [
    "# Question 3"
   ]
  },
  {
   "cell_type": "markdown",
   "id": "bfdd54bf",
   "metadata": {},
   "source": [
    "Find the date and time 87 days, 12 hours and 15 minutes from now. Then print today's \n",
    "date with the full week day, the full month name, the date and the year with the century.\n",
    "\n",
    "Today's time should be using a 12 hour clock and the minutes.\n",
    "\n",
    "Next print the future date with the abbreviated weekday and abbreviated month name, the date \n",
    "and the year without the century. The time should be printed out using a 24 hour clock with the hour and minutes only.\n",
    "\n",
    "Note: You will need to lookup the timedelta constructor and also look the additional strftime formatting code to \n",
    "    answer this question"
   ]
  },
  {
   "cell_type": "code",
   "execution_count": 1,
   "id": "88d9f82d",
   "metadata": {},
   "outputs": [
    {
     "name": "stdout",
     "output_type": "stream",
     "text": [
      "Today is Sunday, December 04, 2022. The time is 09:45 PM \n",
      "The future is Thu, Mar 02, 23. The time is 10:00\n"
     ]
    }
   ],
   "source": [
    "\n",
    "from datetime import date, time, datetime, timedelta\n",
    "\n",
    "c = datetime.now()\n",
    "#current_date =date.today()\n",
    "day = c.strftime(\"%A\")\n",
    "# print(day)\n",
    "date= c.strftime(\"%B %d, %Y\")\n",
    "# print(date)\n",
    "c_time = c.strftime(\"%I:%M %p\")\n",
    "# print(c_time)\n",
    "\n",
    "x= c + timedelta(days=87,hours=12,minutes=15)\n",
    "\n",
    "#day\n",
    "f_day=(x.strftime(\"%a\"))\n",
    "#date\n",
    "f_date=(x.strftime(\"%b %d, %y\"))\n",
    "#time \n",
    "f_time=(x.strftime(\"%H:%M\"))\n",
    "\n",
    "# print(f\"The future is {f_day}, {f_date}. The time is {f_time}\")\n",
    "\n",
    "print(f\"Today is {day}, {date}. The time is {c_time} \\nThe future is {f_day}, {f_date}. The time is {f_time}\")"
   ]
  },
  {
   "cell_type": "markdown",
   "id": "8dadb765",
   "metadata": {},
   "source": [
    "# Question 4"
   ]
  },
  {
   "cell_type": "markdown",
   "id": "8e7944f3",
   "metadata": {},
   "source": [
    "Give the Student class definition shown below, write a program to do the following:\n",
    "\n",
    "Read the stu_data.csv file and create a list of Student objects. Next use the any() functions to check if there \n",
    "are any students whose score is less than 50. Print There are no students who scored less than 50 or There are students\n",
    "with a score less than 50 as is appropriate.\n",
    "\n",
    "class Student:\n",
    "    def __init__(self, id, name, score):\n",
    "        self.id = id\n",
    "        self.name = name\n",
    "        self.score = score"
   ]
  },
  {
   "cell_type": "code",
   "execution_count": 1,
   "id": "ebfe8beb",
   "metadata": {},
   "outputs": [
    {
     "name": "stdout",
     "output_type": "stream",
     "text": [
      "There are students with a score less than 50\n"
     ]
    }
   ],
   "source": [
    "import csv\n",
    "\n",
    "class Student:\n",
    "    def __init__(self, id, name, score):\n",
    "        self.id = id\n",
    "        self.name = name\n",
    "        self.score = score\n",
    "\n",
    "objects = []\n",
    "\n",
    "with open('stu_data.csv', newline='\\n') as csvfile:\n",
    "    stu_data = csv.reader(csvfile, delimiter=',')\n",
    "    for entry in stu_data:\n",
    "        id, name, score = entry\n",
    "        if id=='sid':\n",
    "            continue\n",
    "        obj = Student(id, name, int(score))\n",
    "        objects.append(obj)\n",
    "\n",
    "if any(stud.score<50 for stud in objects):\n",
    "    print('There are students with a score less than 50')\n",
    "else:\n",
    "    print('There are no students who scored less than 50')"
   ]
  },
  {
   "cell_type": "code",
   "execution_count": null,
   "id": "59a53333",
   "metadata": {},
   "outputs": [],
   "source": []
  }
 ],
 "metadata": {
  "kernelspec": {
   "display_name": "Python 3 (ipykernel)",
   "language": "python",
   "name": "python3"
  },
  "language_info": {
   "codemirror_mode": {
    "name": "ipython",
    "version": 3
   },
   "file_extension": ".py",
   "mimetype": "text/x-python",
   "name": "python",
   "nbconvert_exporter": "python",
   "pygments_lexer": "ipython3",
   "version": "3.9.12"
  }
 },
 "nbformat": 4,
 "nbformat_minor": 5
}
