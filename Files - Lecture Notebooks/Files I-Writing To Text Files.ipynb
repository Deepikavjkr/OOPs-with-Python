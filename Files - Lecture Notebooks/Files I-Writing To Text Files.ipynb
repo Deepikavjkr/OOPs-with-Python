{
 "cells": [
  {
   "cell_type": "markdown",
   "metadata": {},
   "source": [
    "<h3>File Operations</h3>\n",
    "\n",
    "In the nest set of notebooks we will look at how data can be written to and read from files.\n",
    "\n",
    "We will see how to work with <font color = blue>text files, binary files and csv files</font>"
   ]
  },
  {
   "cell_type": "markdown",
   "metadata": {},
   "source": [
    "<h3> Writing to a text file</h3>\n",
    "\n",
    "In this notebook we will look at the Python syntax for writing data to a text file. \n",
    "In this course, we will __always__ use a `context manager` to work with files. Specifically, we will use the `with` statement to open our files.\n",
    "\n",
    "A `context manager` allows you to allocate and release resources precisely as needed. This means you do not have to explicitly close your files when you are done reading from or writing to them.\n",
    "The files will be automatically closed as soon as you exit the `with` block.\n",
    "\n",
    "The syntax for opening a file using a `context manager` is \n",
    "\n",
    "`with open(filename, mode) as handle\n",
    "`\n",
    "\n",
    "The open function returns  a file object (also called a __file handle__) that contains methods for working on the file.  In the code below, `f` is the name of the file handle. `out.txt` is the name of the file we are working with. The second  argument in the open function is the mode and is used to tell Python exactly what we plan to do with the file.  The value of `w` for mode indicates that we want to open this file for writing. Note that if the file exists and contains data, all that data will be wiped out and fresh data will be written into the file.  If the file does not already exist, a new file will be created and data will then be written into the file.\n",
    "\n",
    "```Python\n",
    "with open('out.txt', 'w') as f:\n",
    "```"
   ]
  },
  {
   "cell_type": "markdown",
   "metadata": {},
   "source": [
    "In the code below we:\n",
    "1.  open the file for writing.  \n",
    "    -  If the file does not exist already, it is first created and then opened.  \n",
    "    -  If the file already exists, the old data is overwritten with the new data.\n",
    "2.  We then use the `write()` method inside a loop to write out multiple lines of text to the file.  Note that you must include the `\\n` character explicitly.\n",
    "3.  All statements inside the `with` block must be indented  "
   ]
  },
  {
   "cell_type": "code",
   "execution_count": 7,
   "metadata": {},
   "outputs": [
    {
     "name": "stdout",
     "output_type": "stream",
     "text": [
      "done\n"
     ]
    }
   ],
   "source": [
    "with open('out.txt', 'w') as f:\n",
    "    for i in range(11):\n",
    "        f.write('This is line ' + str(i) + '\\n') # Note the newline character\n",
    "    print('done')\n"
   ]
  },
  {
   "cell_type": "markdown",
   "metadata": {},
   "source": [
    "The `write()` method does two things:  \n",
    "1.  It writes the string argument to the file, and  \n",
    "2.  It returns the number of characters written.\n",
    "\n",
    "In the following example, we write the string to the file while simultaneously printing out the number of characters that were written."
   ]
  },
  {
   "cell_type": "code",
   "execution_count": 8,
   "metadata": {
    "scrolled": true
   },
   "outputs": [
    {
     "name": "stdout",
     "output_type": "stream",
     "text": [
      "15\n",
      "15\n",
      "15\n",
      "15\n",
      "15\n",
      "15\n",
      "15\n",
      "15\n",
      "15\n",
      "15\n",
      "16\n",
      "\n",
      "done\n"
     ]
    }
   ],
   "source": [
    "with open('out.txt', 'w') as f: \n",
    "    for i in range(11):\n",
    "        # This line will write the string to the file and also print out the number of characters that were written\n",
    "        print(f.write('This is line ' + str(i) + '\\n')) \n",
    "    print('\\ndone')"
   ]
  },
  {
   "cell_type": "code",
   "execution_count": null,
   "metadata": {},
   "outputs": [],
   "source": []
  }
 ],
 "metadata": {
  "kernelspec": {
   "display_name": "Python 3 (ipykernel)",
   "language": "python",
   "name": "python3"
  },
  "language_info": {
   "codemirror_mode": {
    "name": "ipython",
    "version": 3
   },
   "file_extension": ".py",
   "mimetype": "text/x-python",
   "name": "python",
   "nbconvert_exporter": "python",
   "pygments_lexer": "ipython3",
   "version": "3.9.12"
  }
 },
 "nbformat": 4,
 "nbformat_minor": 2
}
