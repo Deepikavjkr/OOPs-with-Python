{
 "cells": [
  {
   "cell_type": "markdown",
   "metadata": {},
   "source": [
    "<h4>Classroom Problem I</h4>\n",
    "\n",
    "Read in the `param_trends.csv` csv file and write out a new csv file (`param_trends_i.csv`) after making the \n",
    "following changes to the input file.\n",
    " 1.  Ignore the rows where the App_Scenario is 'III'.  \n",
    " 2.  Replace the 'na' with 0.0 in the Profit column\n",
    " 3.  Only write out the App_Scenario, K, A_d and profit columns"
   ]
  },
  {
   "cell_type": "code",
   "execution_count": 1,
   "metadata": {},
   "outputs": [],
   "source": [
    "import csv\n",
    "with open('param_trends.csv') as csv_in:\n",
    "    csv_reader = csv.DictReader(csv_in)\n",
    "    col_headings = ['App_Scenario', 'K', 'A_d', 'Profit']\n",
    "    \n",
    "    with open('param_trends_i.csv', 'w') as csv_out:\n",
    "        csv_writer = csv.DictWriter(csv_out, fieldnames=col_headings, lineterminator='\\n')\n",
    "        csv_writer.writeheader()\n",
    "        for row in csv_reader:\n",
    "            if row['App_Scenario'] != 'III':\n",
    "                del row['M_a'], row['Gamma_0'],row['Gamma_1'], row['Alpha_1']\n",
    "                if row['Profit'] =='na':\n",
    "                    row['Profit'] ='0.0' \n",
    "                csv_writer.writerow(row)\n"
   ]
  },
  {
   "cell_type": "code",
   "execution_count": null,
   "metadata": {},
   "outputs": [],
   "source": []
  },
  {
   "cell_type": "code",
   "execution_count": null,
   "metadata": {},
   "outputs": [],
   "source": []
  }
 ],
 "metadata": {
  "kernelspec": {
   "display_name": "Python 3 (ipykernel)",
   "language": "python",
   "name": "python3"
  },
  "language_info": {
   "codemirror_mode": {
    "name": "ipython",
    "version": 3
   },
   "file_extension": ".py",
   "mimetype": "text/x-python",
   "name": "python",
   "nbconvert_exporter": "python",
   "pygments_lexer": "ipython3",
   "version": "3.9.12"
  }
 },
 "nbformat": 4,
 "nbformat_minor": 2
}
