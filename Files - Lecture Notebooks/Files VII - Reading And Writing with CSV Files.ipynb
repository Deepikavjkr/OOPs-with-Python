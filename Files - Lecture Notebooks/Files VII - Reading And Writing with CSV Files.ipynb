{
 "cells": [
  {
   "cell_type": "markdown",
   "metadata": {},
   "source": [
    "<h3>The <font color=blue>csv</font> module</h3>\n",
    "\n",
    "The `csv` module contains methods that can be used to work with __csv__ files."
   ]
  },
  {
   "cell_type": "markdown",
   "metadata": {},
   "source": [
    "The `csv.reader()` method can be used to create an `iterable reader object` which can then be used to read a csv file.\n",
    "\n",
    "The `csv.reader()` method has an optional argument called `delimiter`.  The default separator when using the `csv.reader()` method is `,`.  We can change the separator to something else by assigning a different value to the optional `delimiter` argument."
   ]
  },
  {
   "cell_type": "markdown",
   "metadata": {},
   "source": [
    "<h4>Reading csv files</h4>\n",
    "\n",
    "1.  Like with text files, we first open the file that we need to read from or write to using the `open()` method and the `with` statement.\n",
    "2.  Inside the body of the `with` block, we create an `iterable reader object` using the `csv.reader()` method.\n",
    "3.  Since the column heading of a file needs to be processed differently than the rest of the lines in the file, we use the `next()` method to read just the first line of the file.  \n",
    "4.  To read the rest of the file, we use a `for` loop to loop through each line of the reader object.  This is exactly the same as when reading a text file.  \n",
    "5.  The reader object returns each row as a list.  So we can either access each element of the list separately or as a whole."
   ]
  },
  {
   "cell_type": "markdown",
   "metadata": {},
   "source": [
    "In the example below, we will read the contents of a csv file __students.txt__.  \n",
    "\n",
    "We read and print the column headings and then read the rest of the file.  "
   ]
  },
  {
   "cell_type": "code",
   "execution_count": 3,
   "metadata": {},
   "outputs": [
    {
     "name": "stdout",
     "output_type": "stream",
     "text": [
      "csv_reader <_csv.reader object at 0x000001EA805826A0> \n",
      "\n",
      "['Last_Name', 'First_Name', 'Major']\n",
      "<class 'list'>\n",
      "<class 'list'>\n",
      "<class 'list'>\n",
      "<class 'list'>\n"
     ]
    }
   ],
   "source": [
    "import csv\n",
    "with open('students.txt', 'r') as csv_file:\n",
    "    csv_reader = csv.reader(csv_file) \n",
    "    print('csv_reader', csv_reader, '\\n')\n",
    "    col_headings = next(csv_reader)\n",
    "    print(col_headings)\n",
    "    for row in csv_reader:\n",
    "        #print(row[1], row[0])\n",
    "        print(type(row))"
   ]
  },
  {
   "cell_type": "markdown",
   "metadata": {},
   "source": [
    "<h4>Writing to csv files</h4>\n",
    "\n",
    "To write to a csv file, we create a writer object using the `csv.writer()` method.  \n",
    "You can change the default `,` delimiter by setting the `delimiter` option in `csv.writer()` method.  \n",
    "Use the `writerow()` method to write out a row to the output csv file.\n"
   ]
  },
  {
   "cell_type": "code",
   "execution_count": 14,
   "metadata": {},
   "outputs": [],
   "source": [
    "import csv\n",
    "with open('students.txt', 'r') as csv_in:\n",
    "    csv_reader = csv.reader(csv_in) \n",
    "    \n",
    "    with open('new_students.txt', 'w') as csv_out:\n",
    "        csv_writer = csv.writer(csv_out, delimiter='-')\n",
    "        for row in csv_reader:\n",
    "            csv_writer.writerow(row)\n",
    "        "
   ]
  },
  {
   "cell_type": "markdown",
   "metadata": {},
   "source": [
    "To suppress the extra newline character that is added to the output file, you can use:  \n",
    "1.  the `newline=''` option in the `open()` function, OR  \n",
    "2.  `lineterminator = '\\n'` in the `csv.writer()` method\n",
    "\n",
    "I have included both options in the code below.  You need to comment out one option when trying out the other.  \n",
    "The code below also uses a different delimiter insteda of the default."
   ]
  },
  {
   "cell_type": "code",
   "execution_count": 15,
   "metadata": {},
   "outputs": [],
   "source": [
    "import csv\n",
    "with open('students.txt', 'r') as csv_in:\n",
    "    csv_reader = csv.reader(csv_in) \n",
    "    \n",
    "    with open('new_students.csv', 'w', newline='') as csv_out:\n",
    "        csv_writer = csv.writer(csv_out, delimiter='-')\n",
    "   \n",
    "    #with open('new_students.txt', 'w') as csv_out:\n",
    "        #csv_writer = csv.writer(csv_out, delimiter='-', lineterminator='\\n')\n",
    "        for row in csv_reader:\n",
    "            csv_writer.writerow(row)\n",
    "        "
   ]
  },
  {
   "cell_type": "markdown",
   "metadata": {},
   "source": [
    "You must read a csv file using the same delimiter that was used to write to it.  If you do not use the correct delimiter, the file will be read in incorrectly.\n",
    "\n",
    "In the code below we read the csv file that was written above with the correct delimiter."
   ]
  },
  {
   "cell_type": "code",
   "execution_count": 16,
   "metadata": {},
   "outputs": [
    {
     "name": "stdout",
     "output_type": "stream",
     "text": [
      "['Last_Name-First_Name-Major']\n",
      "['Doe-Jane-CENT']\n",
      "['Doe-John-PHYS']\n",
      "['Gates-Jane-ICS']\n",
      "['Atkinson-Lloyd-Jane-MATH']\n"
     ]
    }
   ],
   "source": [
    "import csv\n",
    "with open('new_students.csv', 'r') as csv_in:\n",
    "    \n",
    "    csv_reader = csv.reader(csv_in)\n",
    "    for row in csv_reader:\n",
    "        print(row)\n",
    "        "
   ]
  },
  {
   "cell_type": "markdown",
   "metadata": {},
   "source": [
    "<h3>The `csv.DictReader()` method</h3>\n",
    "\n",
    "1.  While the `csv.reader()` method reads csv files using list format, the `csv.DictReader()` method is used to read csv files using `dict` format.  \n",
    "2.  The `csv.DictReader()` returns a `DictReader` iterable object.  \n",
    "3.  We can loop through the iterable object using a `for` loop as usual.  \n",
    "4.  Each row in the iterable object is a dictionary object with a collection of key-value pairs where the key is the column name and the value is the data in that row.  \n",
    "5.  We can access the entire row by using the variable name (`row` in the example below) used in the `for` loop.  We can also access individual columns separately using the appropriate column heading.  The code below, demonstrates both options. \n",
    "\n"
   ]
  },
  {
   "cell_type": "code",
   "execution_count": null,
   "metadata": {},
   "outputs": [],
   "source": [
    "import csv\n",
    "with open('new_students.csv', 'r') as csv_in:\n",
    "    csv_reader = csv.DictReader(csv_in, delimiter = '-')\n",
    "    #csv_reader = csv.reader(csv_in)\n",
    "    for row in csv_reader:\n",
    "        #print(row)\n",
    "        print( row['Last_Name'])"
   ]
  },
  {
   "cell_type": "markdown",
   "metadata": {},
   "source": [
    "<h3>The `csv.DictWriter()` method</h3>\n",
    "\n",
    "We can use the `DictWriter()` method to create a `DictWriter` object.\n",
    "\n",
    "Once a `DictWriter` object is created, we can use its `writerow()` method to write out the data one line at a time to the output csv file.  \n",
    "The `DictWriter()` method has a __required__ `fieldnames` attribute which accepts a list containing the column headings.  \n",
    "To actually write out the headings to the output file, you must use the `writeheader()` method.\n",
    "Writing to a csv file using the `DictWriter()` function.  "
   ]
  },
  {
   "cell_type": "code",
   "execution_count": 1,
   "metadata": {},
   "outputs": [],
   "source": [
    "import csv\n",
    "with open('students.txt', 'r') as csv_in:\n",
    "    csv_reader = csv.DictReader(csv_in) \n",
    "    with open('new_students.csv','w') as csv_out:\n",
    "        csv_writer=csv.DictWriter(csv_out,fieldnames=['Last_Name', 'First_Name', 'Major'],lineterminator='\\n')\n",
    "        csv_writer.writeheader() \n",
    "        for row in csv_reader:\n",
    "            csv_writer.writerow(row)"
   ]
  },
  {
   "cell_type": "markdown",
   "metadata": {},
   "source": [
    "To write out only some of the columns:  \n",
    "1.  give the correct column names in the fieldnames attritube  \n",
    "2.  delete the unneeded elements from each `dict` object and write out the rest of the `dict` object"
   ]
  },
  {
   "cell_type": "code",
   "execution_count": 2,
   "metadata": {},
   "outputs": [],
   "source": [
    "\n",
    "import csv\n",
    "with open('students.txt', 'r') as csv_in:\n",
    "    csv_reader = csv.DictReader(csv_in) \n",
    "    col_headings=['Last_Name', 'First_Name'] \n",
    "    with open('new_students.csv','w') as csv_out:        \n",
    "        csv_writer=csv.DictWriter(csv_out, fieldnames=col_headings, lineterminator='\\n')        \n",
    "        csv_writer.writeheader() \n",
    "        for row in csv_reader:  \n",
    "            del row['Major'] \n",
    "            csv_writer.writerow(row)"
   ]
  },
  {
   "cell_type": "code",
   "execution_count": null,
   "metadata": {},
   "outputs": [],
   "source": []
  }
 ],
 "metadata": {
  "kernelspec": {
   "display_name": "Python 3 (ipykernel)",
   "language": "python",
   "name": "python3"
  },
  "language_info": {
   "codemirror_mode": {
    "name": "ipython",
    "version": 3
   },
   "file_extension": ".py",
   "mimetype": "text/x-python",
   "name": "python",
   "nbconvert_exporter": "python",
   "pygments_lexer": "ipython3",
   "version": "3.9.12"
  }
 },
 "nbformat": 4,
 "nbformat_minor": 2
}
