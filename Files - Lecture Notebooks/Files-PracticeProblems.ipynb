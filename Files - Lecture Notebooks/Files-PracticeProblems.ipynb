{
 "cells": [
  {
   "cell_type": "markdown",
   "metadata": {},
   "source": [
    "PPQ1.What is the output produced by the following lines of program code?\n",
    "For what (words, lines, characters, list element, etc.) is the length being returned? \n",
    "\n",
    "```Python\n",
    "with open('testtext.txt') as f:\n",
    "    lines = f.readlines()\n",
    "    print(len(lines))\n",
    "    print(type(lines))\n",
    "```"
   ]
  },
  {
   "cell_type": "markdown",
   "metadata": {},
   "source": [
    "<h3><font color = blue>Solution to QPP1</font></h3>\n",
    "\n",
    "The output is:  \n",
    "\n",
    "1  \n",
    "\n",
    "<class 'list'>\n"
   ]
  },
  {
   "cell_type": "markdown",
   "metadata": {},
   "source": [
    "PPQ2.What is the output produced by the following lines of program code?\n",
    "For what (words, lines, characters, list element, etc.) is the length being returned? \n",
    "\n",
    "```Python\n",
    "with open('testtext.txt') as f:\n",
    "    lines = f.read()\n",
    "    print(len(lines))\n",
    "    print(type(lines))\n",
    "```"
   ]
  },
  {
   "cell_type": "markdown",
   "metadata": {},
   "source": [
    "<h3><font color = blue>Solution to QPP2</font></h3>\n",
    "\n",
    "The output is:  \n",
    "\n",
    "545  \n",
    "\n",
    "<class 'str'>\n"
   ]
  },
  {
   "cell_type": "markdown",
   "metadata": {},
   "source": [
    "PPQ3.What is the output produced by the following lines of program code?\n",
    "For what (words, lines, characters, list element, etc.) is the length being returned? \n",
    "\n",
    "```Python\n",
    "with open('testtext.txt') as f:\n",
    "    lines = f.read().split('.')\n",
    "    print(len(lines))\n",
    "    print(type(lines))\n",
    "```"
   ]
  },
  {
   "cell_type": "markdown",
   "metadata": {},
   "source": [
    "<h3><font color = blue>Solution to QPP3</font></h3>\n",
    "\n",
    "The output is:  \n",
    "\n",
    "9  \n",
    "\n",
    "<class 'list'>\n"
   ]
  },
  {
   "cell_type": "markdown",
   "metadata": {},
   "source": [
    "PPQ4.What is the output produced by the following lines of program code?\n",
    "For what (words, lines, characters, list element, etc.) is the length being returned? \n",
    "\n",
    "```Python\n",
    "with open('testtext.txt') as f:\n",
    "    lines = f.read().split()\n",
    "    print(len(lines))\n",
    "    print(type(lines))\n",
    "```"
   ]
  },
  {
   "cell_type": "markdown",
   "metadata": {},
   "source": [
    "<h3><font color = blue>Solution to QPP4</font></h3>\n",
    "\n",
    "The output is:  \n",
    "\n",
    "99  \n",
    "\n",
    "<class 'list'>\n"
   ]
  },
  {
   "cell_type": "markdown",
   "metadata": {},
   "source": [
    "PPQ5.  Write a program that reads an input file and then prints out the number of lines in the file.  \n",
    "Use `AndAlso.txt` to test out your program.\n"
   ]
  },
  {
   "cell_type": "code",
   "execution_count": 4,
   "metadata": {},
   "outputs": [
    {
     "name": "stdout",
     "output_type": "stream",
     "text": [
      "The number of lines in AndAlso.txt is 11\n"
     ]
    }
   ],
   "source": [
    "#<h3><font color = blue>Solution to QPP5</font></h3>\n",
    "\n",
    "#```Python\n",
    "with open('out.txt') as f1:\n",
    "    f1_lst = f1.readlines()\n",
    "print('The number of lines in AndAlso.txt is {0}'.format(len(f1_lst)))\n",
    "#```"
   ]
  },
  {
   "cell_type": "markdown",
   "metadata": {},
   "source": [
    "PPQ6. Write a program that reads in an input file and returns the longest word. Use `sunnyday.txt` to test out your program.\n"
   ]
  },
  {
   "cell_type": "markdown",
   "metadata": {
    "collapsed": true
   },
   "source": [
    "<h3><font color = blue>Solution to QPP6</font></h3>\n",
    "\n",
    "```Python\n",
    "def longest_word(filename):\n",
    "    with open(filename, 'r') as infile:\n",
    "          words = infile.read().split()\n",
    "    return max(words, key=len)\n",
    "print(longest_word('sunnyday.txt'))\n",
    "```"
   ]
  },
  {
   "cell_type": "markdown",
   "metadata": {},
   "source": [
    "PPQ7. Write a program that reads `testtext.txt` into a list splitting the file by using the ‘.’ character.  \n",
    "Then write the list object that is created to a binary file."
   ]
  },
  {
   "cell_type": "markdown",
   "metadata": {
    "collapsed": true
   },
   "source": [
    "<h3><font color = blue>Solution to QPP7</font></h3>\n",
    "\n",
    "```Python\n",
    "import pickle\n",
    "with open('testtext.txt') as f:\n",
    "    lines = f.read().split('.')\n",
    "with open('objectlisttest.dat', 'wb') as oo:\n",
    "    pickle.dump(lines, oo)\n",
    "```"
   ]
  },
  {
   "cell_type": "markdown",
   "metadata": {},
   "source": [
    "PPQ8.  Write a program to read the binary file that was created above and load the list object into a list variable.  \n",
    "Print the length of the list object and the data type of the list object."
   ]
  },
  {
   "cell_type": "markdown",
   "metadata": {
    "collapsed": true
   },
   "source": [
    "<h3><font color = blue>Solution to QPP8</font></h3>\n",
    "\n",
    "```Python\n",
    "import pickle\n",
    "with open('objectlisttest.dat', 'rb') as oi:\n",
    "    lines = pickle.load(oi)\n",
    "print(len(lines))\n",
    "print(type(lines))\n",
    "```"
   ]
  },
  {
   "cell_type": "markdown",
   "metadata": {},
   "source": [
    "PPQ9.  Get an integer between 20 and 30 from the user.  Then read file `sunnyday.txt` as follows.  Repeatedly read the \n",
    "number of characters entered by the user and then skip the same number.  Do this until you reach end of file."
   ]
  },
  {
   "cell_type": "markdown",
   "metadata": {},
   "source": [
    "<h3><font color = blue>Solution to QPP9</font></h3>\n",
    "\n",
    "```Python\n",
    "from random import randrange\n",
    "with open('sunnyday.txt') as fb:\n",
    "    ln = len(fb.read())\n",
    "    fb.seek(0,0)\n",
    "    n = int(input('enter a number between 10 and 16: '))\n",
    "    pos = 0\n",
    "    while pos < ln - 2*n:\n",
    "        print(fb.read(n))\n",
    "        pos = fb.tell()\n",
    "        fb.seek(pos + n)\n",
    "        pos = fb.tell()\n",
    "    print('\\n DONE!!!')\n",
    "```"
   ]
  },
  {
   "cell_type": "markdown",
   "metadata": {},
   "source": [
    "QPP10:  The file `MtWheeler.txt` has an error in it.  The portion `3 miles (4.8 km)` should actually be `2 miles (3.2 km)`.\n",
    "\n",
    "Modify the file contents to correct this error."
   ]
  },
  {
   "cell_type": "markdown",
   "metadata": {},
   "source": [
    "<h3><font color = blue>Solution to QPP10</font></h3>\n",
    "\n",
    "```Python\n",
    "with open('MtWheeler.txt') as f_read:\n",
    "    l = o.read()\n",
    "idx_3 = l.index('3')\n",
    "\n",
    "with open('MtWheeler.txt', 'r+') as f_readplus:\n",
    "    f_readplus.seek(idx_3)\n",
    "    f_readplus.write('3 miles (4.8 km)')\n",
    "```"
   ]
  },
  {
   "cell_type": "markdown",
   "metadata": {},
   "source": [
    "QPP11:  Find the errors in the following code.  Identify the errors and correct them.  \n",
    "\n",
    "```Python\n",
    "from random import randint\n",
    "with open('randomout.txt') as f:\n",
    "\tf.write(randint(8,55))\n",
    "```"
   ]
  },
  {
   "cell_type": "markdown",
   "metadata": {},
   "source": [
    "<h3><font color = blue>Solution to QPP11</font></h3>\n",
    "\n",
    "The file has not been opened for write mode.\n",
    "\n",
    "```Python\n",
    "from random import randint\n",
    "with open('randomout.txt', 'w') as f:\n",
    "\tf.write(randint(8,55))\n",
    "```"
   ]
  },
  {
   "cell_type": "markdown",
   "metadata": {},
   "source": [
    "QPP12:  Find the errors in the following code.  Identify the errors and correct them. \n",
    "    \n",
    "```Python    \n",
    "with open('randomout.txt', ‘a’) as f:\n",
    "    for line in f:\n",
    "        print(line)\n",
    "```"
   ]
  },
  {
   "cell_type": "markdown",
   "metadata": {},
   "source": [
    "<h3><font color = blue>Solution to QPP12</font></h3>\n",
    "\n",
    "You cannot read from a file opned in append mode. \n",
    "\n",
    "```Python\n",
    "with open('randomout.txt', ‘r’) as f:\n",
    "    for line in f:\n",
    "        print(line)\n",
    "```"
   ]
  },
  {
   "cell_type": "markdown",
   "metadata": {},
   "source": [
    "QPP13:  Find the errors in the following code.  Identify the errors and correct them. \n",
    "    \n",
    "```Python  \n",
    "f = open(‘randomout.txt’,’w’)\n",
    "for i in range(15, 86):\n",
    "\tf.write(f‘The square of {i} is {i**2}\\n’)\n",
    "```"
   ]
  },
  {
   "cell_type": "markdown",
   "metadata": {},
   "source": [
    "<h3><font color = blue>Solution to QPP13</font></h3>\n",
    "\n",
    "The file is not closed in the code.  Open using a context manager or call the `close()` function at the end of the code. \n",
    "\n",
    "```Python\n",
    "with open('randomout.txt', ‘w’) as f:\n",
    "    for i in range(15, 86):\n",
    "        f.write(f‘The square of {i} is {i**2}\\n’)\n",
    "```\n",
    "\n",
    "__OR__\n",
    "\n",
    "```Python  \n",
    "f = open(‘randomout.txt’,’w’)\n",
    "for i in range(15, 86):\n",
    "\tf.write(f‘The square of {i} is {i**2}\\n’)\n",
    "    f.close()\n",
    "```"
   ]
  }
 ],
 "metadata": {
  "kernelspec": {
   "display_name": "Python 3 (ipykernel)",
   "language": "python",
   "name": "python3"
  },
  "language_info": {
   "codemirror_mode": {
    "name": "ipython",
    "version": 3
   },
   "file_extension": ".py",
   "mimetype": "text/x-python",
   "name": "python",
   "nbconvert_exporter": "python",
   "pygments_lexer": "ipython3",
   "version": "3.9.12"
  }
 },
 "nbformat": 4,
 "nbformat_minor": 2
}
