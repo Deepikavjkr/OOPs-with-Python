{
 "cells": [
  {
   "cell_type": "markdown",
   "metadata": {
    "collapsed": true
   },
   "source": [
    "<h3>Writing <font color=blue>objects</font> to a file</h3>\n",
    "In this notebook we will discuss how objects of a class can be written to a file. We know that classes can have multiple\n",
    "instance variables and some of these variables can be objects having their own instance variables and so on. Hence writing the contents of an object to a text file is not very easy. \n",
    "\n",
    "The term `Serialization` refers to the process of converting a data object into a format that allows us to store the data and then recreate the object when needed using the reverse process of `deserialization`.\n",
    "\n",
    "Python provides an easy way for us to achieve serialization using  the `pickle` module.\n",
    "\n",
    "We will need to use the `wb` (_write binary_) mode to write object to a binary file and the `rb` (_read binary_) mode to read objects from a binary file.  "
   ]
  },
  {
   "cell_type": "markdown",
   "metadata": {},
   "source": [
    "In the example below, we will write objects of the Automobile class to a binary file.\n",
    "\n",
    "1.  First import the `pickle` module as well as automobile.py.  \n",
    "2.  Next, use `mode= 'wb'` for writing to a binary file.  \n",
    "3.  Use the pickle module's `dump` function is used to write objects to the file.  \n",
    "4.  The `dump` function accepts two parameters:  \n",
    "    a. the object that is to be written, and  \n",
    "    b.  the file handle"
   ]
  },
  {
   "cell_type": "code",
   "execution_count": 1,
   "metadata": {},
   "outputs": [],
   "source": [
    "#import the necessary modules\n",
    "import pickle\n",
    "from automobile import Automobile\n",
    "\n",
    "# create a few Automobile objects\n",
    "auto1 = Automobile('Honda', 'Accord', 15555, 78)\n",
    "auto2 = Automobile('Toyota', 'Camry', 65555, 68)\n",
    "auto3 = Automobile('Toyota', 'Corolla', 55289, 75)\n",
    "auto4 = Automobile('Honda', 'Pilot', 7267, 58)\n",
    "\n",
    "#open the file to write binary\n",
    "with open('autos.dat', 'wb') as fb: \n",
    "    \n",
    "    #write the objects to the file.  \n",
    "    pickle.dump(auto1, fb) # pass the necessary arguments to the pickle module's dump function.\n",
    "    pickle.dump(auto2, fb)\n",
    "    pickle.dump(auto3, fb)\n",
    "    pickle.dump(auto4, fb)"
   ]
  },
  {
   "cell_type": "markdown",
   "metadata": {},
   "source": [
    "We can also append objects to an existing file using the `ab` mode."
   ]
  },
  {
   "cell_type": "code",
   "execution_count": 2,
   "metadata": {},
   "outputs": [],
   "source": [
    "#import the necessary modules\n",
    "import pickle\n",
    "from automobile import Automobile\n",
    "\n",
    "# create a few more Automobile objects\n",
    "auto1 = Automobile('Honda', 'AccordNew', 15555, 78)\n",
    "auto2 = Automobile('Toyota', 'CamryNew', 65555, 68)\n",
    "auto3 = Automobile('Toyota', 'CorollaNew', 55289, 75)\n",
    "auto4 = Automobile('Honda', 'PilotNew', 7267, 58)\n",
    "\n",
    "#open the file to write binary\n",
    "with open('autos.dat', 'ab') as fb: #We use the 'ab' mode to create a file handle for appending to binary files\n",
    "    \n",
    "    #write the objects to the file.  \n",
    "    pickle.dump(auto1, fb) \n",
    "    pickle.dump(auto2, fb)\n",
    "    pickle.dump(auto3, fb)\n",
    "    pickle.dump(auto4, fb)"
   ]
  },
  {
   "cell_type": "code",
   "execution_count": null,
   "metadata": {},
   "outputs": [],
   "source": []
  }
 ],
 "metadata": {
  "kernelspec": {
   "display_name": "Python 3 (ipykernel)",
   "language": "python",
   "name": "python3"
  },
  "language_info": {
   "codemirror_mode": {
    "name": "ipython",
    "version": 3
   },
   "file_extension": ".py",
   "mimetype": "text/x-python",
   "name": "python",
   "nbconvert_exporter": "python",
   "pygments_lexer": "ipython3",
   "version": "3.9.12"
  }
 },
 "nbformat": 4,
 "nbformat_minor": 2
}
