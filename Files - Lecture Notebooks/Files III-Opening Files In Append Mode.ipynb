{
 "cells": [
  {
   "cell_type": "markdown",
   "metadata": {
    "collapsed": true
   },
   "source": [
    "<h3>The <font color=blue>Append</font> Mode</h3>\n",
    "\n",
    "In this notebook we look at another mode when using text files.  The `append` mode. To add new lines of data to an existing file, you must open it for append by setting the mode to `a`.  If you open an existing file with `a` mode, the file will not be overwritten, but rather, data will be added to the end of the file.  This is unlike the case when you open a file with `w` mode. When the mode is `w`, if the file already exists, the data will be overwritten by new data.\n",
    "Aside from this difference, writing to a file with mode = `a` is no different than writing to a file with mode = `w`"
   ]
  },
  {
   "cell_type": "markdown",
   "metadata": {},
   "source": [
    "We will first take a look at __out.txt__ to see what it contains. \n",
    "\n",
    "Recall that we can process each line separately, using the `for` construct only if the input file was written with a newline character at the end of each line.\n",
    "\n",
    "By default, the print statement also adds a newline character at the end of each line that is printed.  Which is why we see the blank line between each pair of lines.  If we do not want that we can edit the print statement, setting `end=''`"
   ]
  },
  {
   "cell_type": "markdown",
   "metadata": {},
   "source": [
    "In the code below, the `print()` statement will result in a blank line between each pair of lines from the text file."
   ]
  },
  {
   "cell_type": "code",
   "execution_count": 24,
   "metadata": {},
   "outputs": [
    {
     "name": "stdout",
     "output_type": "stream",
     "text": [
      "done\n"
     ]
    }
   ],
   "source": [
    "with open('out.txt', 'w') as f:\n",
    "    for i in range(11):\n",
    "        f.write('This is line ' + str(i) + '\\n') # Note the newline character\n",
    "    print('done')"
   ]
  },
  {
   "cell_type": "code",
   "execution_count": 21,
   "metadata": {},
   "outputs": [
    {
     "name": "stdout",
     "output_type": "stream",
     "text": [
      "This is line 0\n",
      "This is line 1\n",
      "This is line 2\n",
      "This is line 3\n",
      "This is line 4\n",
      "This is line 5\n",
      "This is line 6\n",
      "This is line 7\n",
      "This is line 8\n",
      "This is line 9\n",
      "This is line 10\n"
     ]
    }
   ],
   "source": [
    "with open('out.txt') as f:\n",
    "    for i in f:\n",
    "        print(i, end='') "
   ]
  },
  {
   "cell_type": "markdown",
   "metadata": {},
   "source": [
    "The code below demonstrates the `a` mode.  We add more lines of text to the existing __out.txt__ file. "
   ]
  },
  {
   "cell_type": "code",
   "execution_count": 10,
   "metadata": {},
   "outputs": [],
   "source": [
    "with open('out.txt', 'w') as f:\n",
    "    for i in range(12, 21):\n",
    "        f.write('This is line ' + str(i) + '\\n')\n"
   ]
  },
  {
   "cell_type": "code",
   "execution_count": 22,
   "metadata": {},
   "outputs": [],
   "source": [
    "with open('out.txt', 'a+') as f:\n",
    "    for i in range(11, 21):\n",
    "        f.write('This is line ' + str(i) + '\\n')\n"
   ]
  },
  {
   "cell_type": "code",
   "execution_count": 23,
   "metadata": {},
   "outputs": [
    {
     "name": "stdout",
     "output_type": "stream",
     "text": [
      "This is line 0\n",
      "This is line 1\n",
      "This is line 2\n",
      "This is line 3\n",
      "This is line 4\n",
      "This is line 5\n",
      "This is line 6\n",
      "This is line 7\n",
      "This is line 8\n",
      "This is line 9\n",
      "This is line 10\n",
      "This is line 11\n",
      "This is line 12\n",
      "This is line 13\n",
      "This is line 14\n",
      "This is line 15\n",
      "This is line 16\n",
      "This is line 17\n",
      "This is line 18\n",
      "This is line 19\n",
      "This is line 20\n"
     ]
    }
   ],
   "source": [
    "with open('out.txt') as f:\n",
    "    for i in f:\n",
    "        print(i, end='') "
   ]
  },
  {
   "cell_type": "markdown",
   "metadata": {},
   "source": [
    "Finally, we test out the code written above by reading the file.    \n",
    "\n",
    "I have also changed the __end__ in the print statement, so that the extra blank line will not be printed after each line.\n",
    "\n",
    "Notice that the new lines have now been appended to __out.txt__."
   ]
  },
  {
   "cell_type": "code",
   "execution_count": 7,
   "metadata": {},
   "outputs": [
    {
     "name": "stdout",
     "output_type": "stream",
     "text": [
      "This is line 12\n",
      "This is line 13\n",
      "This is line 14\n",
      "This is line 15\n",
      "This is line 16\n",
      "This is line 17\n",
      "This is line 18\n",
      "This is line 19\n",
      "This is line 20\n"
     ]
    }
   ],
   "source": [
    "with open('out.txt') as f:\n",
    "    for i in f:\n",
    "        print(i, end = '')"
   ]
  },
  {
   "cell_type": "code",
   "execution_count": null,
   "metadata": {},
   "outputs": [],
   "source": []
  }
 ],
 "metadata": {
  "kernelspec": {
   "display_name": "Python 3 (ipykernel)",
   "language": "python",
   "name": "python3"
  },
  "language_info": {
   "codemirror_mode": {
    "name": "ipython",
    "version": 3
   },
   "file_extension": ".py",
   "mimetype": "text/x-python",
   "name": "python",
   "nbconvert_exporter": "python",
   "pygments_lexer": "ipython3",
   "version": "3.9.12"
  }
 },
 "nbformat": 4,
 "nbformat_minor": 2
}
