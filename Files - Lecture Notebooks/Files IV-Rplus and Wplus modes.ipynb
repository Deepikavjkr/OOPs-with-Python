{
 "cells": [
  {
   "cell_type": "markdown",
   "metadata": {
    "collapsed": true
   },
   "source": [
    "<h3>The <font color = blue>r+</font> and <font color = blue>w+</font> modes.</h3>"
   ]
  },
  {
   "cell_type": "markdown",
   "metadata": {},
   "source": [
    "In this notebook, we introduce the `r+` and `w+` modes.  Both modes are used to read __and__ write to a text file."
   ]
  },
  {
   "cell_type": "markdown",
   "metadata": {},
   "source": [
    "The `w+` mode is used to both read from and write to a text file\n",
    "\n",
    "If the file already exists the `w+` mode overwrites the contents of the file and resets the pointer to 0.  \n",
    "The file is created if it does not already exist. \n",
    "\n",
    "In the example below we print the current position of the file pointer and the contents of the file multiple times:\n",
    "1.  We first open the file in `w+` mode\n",
    "2.  The results of the first print statement demonstrate that the file pointer is at 0.\n",
    "3.  We also see that the file is empty since the second print statement prints out nothing.\n",
    "4.  We then write a few lines to the file.  \n",
    "5.  The results of the third print statement demonstrates that the pointer has now moved forward to the end of the file. \n",
    "6.  We the execute the `read()` method again and print out the data. But since it is at the end of the file nothing is read.  \n",
    "7.  Next we use the `seek()` method to move the pointer to a location in the middle of the file.  \n",
    "8.  We then only read a few characters from the file.  \n",
    "9.  Next, we reset the position to the start of the file and write to the file.  \n",
    "10.  After writing, we again reset the pointer to the start\n",
    "11.  The last print statement displays the contents of the whole file and demonstrates that the `write()` method overwrites existing content only as needed.  That is, the `write()` method does not overwrite the entire file."
   ]
  },
  {
   "cell_type": "code",
   "execution_count": 1,
   "metadata": {},
   "outputs": [
    {
     "name": "stdout",
     "output_type": "stream",
     "text": [
      "f.tell() 0\n",
      "f_data \n",
      "\n",
      "second f.tell() 65\n",
      "f_data \n",
      "\n",
      "third f.tell() 14\n",
      "third f.read() is some t\n",
      "\n",
      "Last f.read()\n",
      " inserts some text\n",
      "This is some more text\n",
      "This is even more text\n"
     ]
    }
   ],
   "source": [
    "with open('wplus.txt', 'w+') as f:\n",
    "    \n",
    "    print('f.tell()', f.tell())\n",
    "    f_data = f.read()\n",
    "    print('f_data', f_data)\n",
    "    \n",
    "    f.write('This is some text\\nThis is some more text\\nThis is even more text')\n",
    "    \n",
    "    print('\\nsecond f.tell()', f.tell())\n",
    "    f_data = f.read()\n",
    "    print('f_data', f_data)\n",
    "    \n",
    "    f.seek(5)\n",
    "    f_data = f.read(9)\n",
    "    print('\\nthird f.tell()', f.tell())\n",
    "    print('third f.read()', f_data)\n",
    "    \n",
    "    f.seek(0)\n",
    "    f.write('insert')\n",
    "    f.seek(0)\n",
    "    f_data = f.read()\n",
    "    print('\\nLast f.read()\\n', f_data)"
   ]
  },
  {
   "cell_type": "markdown",
   "metadata": {},
   "source": [
    "The `r+` mode is also used to both read from and write to a text file.  The `r+` mode behaves just like the `w+` mode except for the differences described below.\n",
    "\n",
    "Unlike in the case of the `w+` mode:  \n",
    "1.  The `r+` mode does not overwrite the contents of the file.  \n",
    "2.  An error is thrown if the file does not already exist. \n",
    "\n",
    "However, just like the `w+` mode,  the pointer is set to 0.  \n",
    "\n",
    "We continue with the same file from above to demonstrate the `r+` mode.  \n",
    "\n",
    "As can be seen by the second print statement, the file is not overwritten.  The rest of the behavior is similar of that of the `w+` mode"
   ]
  },
  {
   "cell_type": "code",
   "execution_count": 4,
   "metadata": {},
   "outputs": [
    {
     "name": "stdout",
     "output_type": "stream",
     "text": [
      "f.tell() 0\n",
      "f_data inserts some text\n",
      "This is some more text\n",
      "This is even more text\n",
      "\n",
      "Last f.read()\n",
      " wplusts some text\n",
      "This is some more text\n",
      "This is even more text\n"
     ]
    }
   ],
   "source": [
    "with open('wplus.txt', 'r+') as f:\n",
    "    \n",
    "    print('f.tell()', f.tell())    \n",
    "    f_data = f.read()\n",
    "    print('f_data', f_data)\n",
    "    \n",
    "    f.seek(0)\n",
    "    f.write('wplus')\n",
    "    f.seek(0)\n",
    "    print('\\nLast f.read()\\n', f.read())\n",
    "    "
   ]
  }
 ],
 "metadata": {
  "kernelspec": {
   "display_name": "Python 3 (ipykernel)",
   "language": "python",
   "name": "python3"
  },
  "language_info": {
   "codemirror_mode": {
    "name": "ipython",
    "version": 3
   },
   "file_extension": ".py",
   "mimetype": "text/x-python",
   "name": "python",
   "nbconvert_exporter": "python",
   "pygments_lexer": "ipython3",
   "version": "3.9.12"
  }
 },
 "nbformat": 4,
 "nbformat_minor": 2
}
