{
 "cells": [
  {
   "cell_type": "markdown",
   "metadata": {},
   "source": [
    "<h4>Classroom Problem I</h4>\n",
    "\n",
    "Write a program to write the following data into a file called `students1.txt`\n",
    "\n",
    "Doe,Jane,CENT  \n",
    "Doe,John,PHYS  \n",
    "Gates,Bill,ICS  \n",
    "Raymond,Eric,MATH"
   ]
  },
  {
   "cell_type": "code",
   "execution_count": 1,
   "metadata": {},
   "outputs": [],
   "source": [
    "with open('students1.txt', 'w') as f:\n",
    "    f.write('Doe,Jane,CENT\\n')\n",
    "    f.write('Doe,John,PHYS\\n')\n",
    "    f.write('Gates,Jane,ICS\\n')\n",
    "    f.write('Raymond,Jane,MATH\\n')"
   ]
  },
  {
   "cell_type": "markdown",
   "metadata": {},
   "source": [
    "<h4>Classroom Problem II</h4>\n",
    "\n",
    "Write a program that can process the input file, `students1.txt` and produce output as shown below:\n",
    "\n",
    "Jane Doe is a CENT major.  \n",
    "John Doe is a PHYS major.  \n",
    "Bill Gates is a ICS major.  \n",
    "Jane Raymond is a MATH major."
   ]
  },
  {
   "cell_type": "code",
   "execution_count": 2,
   "metadata": {},
   "outputs": [
    {
     "name": "stdout",
     "output_type": "stream",
     "text": [
      "Jane Doe is a CENT major\n",
      "John Doe is a PHYS major\n",
      "Jane Gates is a ICS major\n",
      "Jane Raymond is a MATH major\n"
     ]
    }
   ],
   "source": [
    "with open('students1.txt') as f:\n",
    "    for l in f:\n",
    "        l = l.rstrip()\n",
    "        lst = l.split(',')\n",
    "        print(lst[1], lst[0], 'is a', lst[2], 'major')\n"
   ]
  },
  {
   "cell_type": "markdown",
   "metadata": {},
   "source": [
    "<h4>Classroom Problem III</h4>\n",
    "\n",
    "Write a program to write the following data into a file called `scores.txt`. Note that all lines dont have the amount of data\n",
    "\n",
    "Smith,Jane,94,91,92  \n",
    "Park,John,78,88  \n",
    "Gross,Bill,50,100,54  \n",
    "Hughes,Tim, 82,56"
   ]
  },
  {
   "cell_type": "code",
   "execution_count": 3,
   "metadata": {},
   "outputs": [],
   "source": [
    "with open('scores.txt', 'w') as f:\n",
    "    f.write('Smith,Jane,94,91,92\\n')\n",
    "    f.write('Park,John,78,88\\n')\n",
    "    f.write('Gross,Bill,50,100,54\\n')\n",
    "    f.write('Hughes,Tim, 82,56\\n')\n"
   ]
  },
  {
   "cell_type": "markdown",
   "metadata": {},
   "source": [
    "<h4>Classroom Problem IV</h4>\n",
    "\n",
    "Write a program that can process the input file, `scores.txt` and produce output as shown below:  \n",
    "\n",
    "Jane Smith's average score is: 92.33  \n",
    "John Park's average score is: 79.33  \n",
    "Bill Gross's average score is: 75.00  \n",
    "Tim Hughes's average score is: 69.00"
   ]
  },
  {
   "cell_type": "code",
   "execution_count": 4,
   "metadata": {},
   "outputs": [
    {
     "name": "stdout",
     "output_type": "stream",
     "text": [
      "Average score for Smith Jane is 92.33\n",
      "Average score for Park John is 83.00\n",
      "Average score for Gross Bill is 68.00\n",
      "Average score for Hughes Tim is 69.00\n"
     ]
    }
   ],
   "source": [
    "with open('scores.txt', 'r') as f:\n",
    "    for line in f:\n",
    "        line = line.rstrip()\n",
    "        score_lst = line.split(',')\n",
    "        total = 0\n",
    "        num_score = len(score_lst)\n",
    "        for i in range(2, num_score):\n",
    "            total += int(score_lst[i])\n",
    "        print(f'Average score for {score_lst[0]} {score_lst[1]} is {total/(num_score - 2):0.2f}')"
   ]
  },
  {
   "cell_type": "markdown",
   "metadata": {},
   "source": [
    "<h4>Classroom Problem V</h4>\n",
    "\n",
    "Write the program to read a text file `TMB.txt` one line at a time.  If the line begins with the word 'It',  replace 'It' with 'The TMB' and write it to the output file.  If the line begins with anything else, just write the line to the output file."
   ]
  },
  {
   "cell_type": "code",
   "execution_count": 6,
   "metadata": {},
   "outputs": [],
   "source": [
    "with open('TMB.txt') as f_read:\n",
    "    with open('TMB_Corrected.txt', 'w') as f_write:\n",
    "        for l in f_read:\n",
    "            if l.startswith('It'):\n",
    "                new_str = l.replace('It', 'The TMB')\n",
    "                f_write.write(new_str)\n",
    "            else:\n",
    "                f_write.write(l)"
   ]
  }
 ],
 "metadata": {
  "kernelspec": {
   "display_name": "Python 3 (ipykernel)",
   "language": "python",
   "name": "python3"
  },
  "language_info": {
   "codemirror_mode": {
    "name": "ipython",
    "version": 3
   },
   "file_extension": ".py",
   "mimetype": "text/x-python",
   "name": "python",
   "nbconvert_exporter": "python",
   "pygments_lexer": "ipython3",
   "version": "3.9.12"
  }
 },
 "nbformat": 4,
 "nbformat_minor": 2
}
