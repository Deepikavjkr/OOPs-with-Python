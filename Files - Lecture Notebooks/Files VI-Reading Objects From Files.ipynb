{
 "cells": [
  {
   "cell_type": "markdown",
   "metadata": {
    "collapsed": true
   },
   "source": [
    "<h3>Reading <font color=blue>objects</font> to a file</h3>\n",
    "\n",
    "In this notebook we will discuss how to read objects written to a binary file.  We again use the `pickle` module.\n",
    "This time though, we will use the `load()` function.  The `load()` function accepts just one argument $\\rightarrow$ _the file handle_.\n",
    "The file is opened with mode = `rb`."
   ]
  },
  {
   "cell_type": "markdown",
   "metadata": {},
   "source": [
    "In the example below, we will use the `load()` function to _deserialize_ and read back the Automobile objects we _serialized_ and wrote out in the earlier notebook."
   ]
  },
  {
   "cell_type": "markdown",
   "metadata": {},
   "source": [
    "Another idea is also introduced in this example.\n",
    "\n",
    "If we knew the exact number of objects written to the file, we can use a `for` loop.  But most times, we will not know this.  We get around this situation by enclosing our reading of the file inside a `try/except` block. \n",
    "We then create an indefinite loop that will keep reading the next object in the file.  Eventually, all objects will be \n",
    "read and the pickle module's load statement will encounter an end of file situation, resulting in an `EOFError` exception.\n",
    "When this happens, code execution will transfer to the the `except EOFError` block. The body of the `except EOFError` need not contain anything by the `pass` statement that is only required for syntactical reasons.\n",
    "\n",
    "I have included a copy of the code with comments.\n",
    "\n",
    "```Python\n",
    "#import the required modules\n",
    "import pickle\n",
    "from automobile import Automobile\n",
    "with open('autos.dat', 'rb') as fb:\n",
    "    try: # start of the try block\n",
    "        while (True): # this while loop will be alway entered since the conditional expression will always be True\n",
    "            auto = pickle.load(fb) #use the pickle module's load statement to read the object\n",
    "            print(auto) #print the object (or do whatever processing you want of the object)\n",
    "    except EOFError: #code execution will transfer here when the EOF condition is encountered    \n",
    "        pass \n",
    "```"
   ]
  },
  {
   "cell_type": "code",
   "execution_count": 1,
   "metadata": {},
   "outputs": [
    {
     "name": "stdout",
     "output_type": "stream",
     "text": [
      "Make: Honda, Model: Accord, Mileage 15555, current speed: 78\n",
      "Make: Toyota, Model: Camry, Mileage 65555, current speed: 68\n",
      "Make: Toyota, Model: Corolla, Mileage 55289, current speed: 75\n",
      "Make: Honda, Model: Pilot, Mileage 7267, current speed: 58\n",
      "Make: Honda, Model: AccordNew, Mileage 15555, current speed: 78\n",
      "Make: Toyota, Model: CamryNew, Mileage 65555, current speed: 68\n",
      "Make: Toyota, Model: CorollaNew, Mileage 55289, current speed: 75\n",
      "Make: Honda, Model: PilotNew, Mileage 7267, current speed: 58\n"
     ]
    }
   ],
   "source": [
    "import pickle\n",
    "from automobile import Automobile\n",
    "with open('autos.dat', 'rb') as fb:\n",
    "    try:\n",
    "        while True: \n",
    "            auto = pickle.load(fb) \n",
    "            print(auto) \n",
    "    except EOFError:     \n",
    "        pass "
   ]
  },
  {
   "cell_type": "code",
   "execution_count": null,
   "metadata": {},
   "outputs": [],
   "source": []
  }
 ],
 "metadata": {
  "kernelspec": {
   "display_name": "Python 3 (ipykernel)",
   "language": "python",
   "name": "python3"
  },
  "language_info": {
   "codemirror_mode": {
    "name": "ipython",
    "version": 3
   },
   "file_extension": ".py",
   "mimetype": "text/x-python",
   "name": "python",
   "nbconvert_exporter": "python",
   "pygments_lexer": "ipython3",
   "version": "3.9.12"
  }
 },
 "nbformat": 4,
 "nbformat_minor": 2
}
