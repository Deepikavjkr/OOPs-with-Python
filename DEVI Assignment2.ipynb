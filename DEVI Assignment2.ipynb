{
 "cells": [
  {
   "cell_type": "markdown",
   "id": "0c8bb855",
   "metadata": {},
   "source": [
    "# Question 1"
   ]
  },
  {
   "cell_type": "markdown",
   "id": "a430e6c3",
   "metadata": {},
   "source": [
    "Write a python program to sum of the squares of the first n positive integers \n",
    "after accepting the value of n from the user. \n",
    "Your program should print the output using the `f` string and a comma separator. "
   ]
  },
  {
   "cell_type": "code",
   "execution_count": 6,
   "id": "0cc45952",
   "metadata": {},
   "outputs": [
    {
     "name": "stdout",
     "output_type": "stream",
     "text": [
      "Enter the positive integer: 23\n",
      "The sum of square of 23 positive numbers is: 4324\n"
     ]
    }
   ],
   "source": [
    "n=int(input('Enter the positive integer: '))\n",
    "if n > 0:\n",
    "    a=(n * (n + 1) * (2 * n + 1)) // 6\n",
    "    print(f'The sum of square of {n} positive numbers is: {a}')\n",
    "else: print('enter a positive number')"
   ]
  },
  {
   "cell_type": "markdown",
   "id": "bc78b00d",
   "metadata": {},
   "source": [
    "# Question 2"
   ]
  },
  {
   "cell_type": "markdown",
   "id": "9f5e919e",
   "metadata": {},
   "source": [
    "Given two positive integers x and y, \n",
    "write a program to print the Greatest Common Divisor (GCD) of x and y."
   ]
  },
  {
   "cell_type": "code",
   "execution_count": 7,
   "id": "6896d3f7",
   "metadata": {},
   "outputs": [
    {
     "name": "stdout",
     "output_type": "stream",
     "text": [
      "Enter the first number: 12\n",
      "Enter the second number: 35\n",
      "The gcd of 12 and 35 is : 1\n"
     ]
    }
   ],
   "source": [
    "x=int(input('Enter the first number: '))\n",
    "y=int(input(\"Enter the second number: \"))\n",
    "\n",
    "def GCD(x, y):\n",
    " \n",
    "    if x > y:\n",
    "        small = y\n",
    "    else:\n",
    "        small = x\n",
    "    for i in range(1, small + 1):\n",
    "        if((x % i == 0) and (y % i == 0)):\n",
    "            gcd = i\n",
    "             \n",
    "    return gcd\n",
    " \n",
    "print (f\"The gcd of {x} and {y} is : \", end=\"\")\n",
    "print (GCD(x,y))"
   ]
  },
  {
   "cell_type": "markdown",
   "id": "1b45bc87",
   "metadata": {},
   "source": [
    "# Question 3"
   ]
  },
  {
   "cell_type": "markdown",
   "id": "7fb92b15",
   "metadata": {},
   "source": [
    "An integer, greater than 1, that is only divisible by 1 and itself is called a prime number. \n",
    "All other numbers greater than 1 are called composite numbers. The integers 0 and 1 are \n",
    "neither prime nor composite. Write a python program that requests a positive integer from \n",
    "the user, determines if it is a prime, composite or neither prime or composite and prints the \n",
    "message."
   ]
  },
  {
   "cell_type": "code",
   "execution_count": 14,
   "id": "570ac974",
   "metadata": {},
   "outputs": [
    {
     "name": "stdout",
     "output_type": "stream",
     "text": [
      "Enter any number:0\n",
      "0  is neither prime nor composite\n"
     ]
    }
   ],
   "source": [
    "#Input a number and check if the number is prime or composite number\n",
    "n= int(input(\"Enter any number:\"))\n",
    "if(n ==0 or n == 1):\n",
    "    print(n,\" is neither prime nor composite\")\n",
    "elif n>1 :\n",
    "    for i in range(2,n):\n",
    "        if(n%i == 0):\n",
    "            print(n,\" is a composite number\")\n",
    "            break\n",
    "    else:\n",
    "        print(n,\" is prime number\")\n",
    "else :\n",
    "    print(\"Please enter positive number only \")"
   ]
  },
  {
   "cell_type": "markdown",
   "id": "08943fed",
   "metadata": {},
   "source": [
    "# Questions 4"
   ]
  },
  {
   "cell_type": "markdown",
   "id": "5a963124",
   "metadata": {},
   "source": [
    "Write a Python function called `print_square()` that accepts an integer as input and \n",
    "prints out the square of all numbers between 1 and that integer (both included). Then call\n",
    "the function from `main()` after getting the value of n from the user.  Note:  Your \n",
    "submission MUST consist of the functions definitions for both `main()` as well as\n",
    "`print_square()`.\n",
    "    "
   ]
  },
  {
   "cell_type": "code",
   "execution_count": 1,
   "id": "c8a3a13f",
   "metadata": {},
   "outputs": [
    {
     "name": "stdout",
     "output_type": "stream",
     "text": [
      "12\n",
      "The square of 1 is 1\n",
      "The square of 2 is 4\n",
      "The square of 3 is 9\n",
      "The square of 4 is 16\n",
      "The square of 5 is 25\n",
      "The square of 6 is 36\n",
      "The square of 7 is 49\n",
      "The square of 8 is 64\n",
      "The square of 9 is 81\n",
      "The square of 10 is 100\n",
      "The square of 11 is 121\n",
      "The square of 12 is 144\n"
     ]
    }
   ],
   "source": [
    "def print_square(n):\n",
    "    for i in range(1,n+1):\n",
    "        print(f'The square of {i} is {i**2}')\n",
    "def main():\n",
    "    n=int(input())\n",
    "    print_square(n)\n",
    "\n",
    "    \n",
    "main()\n"
   ]
  },
  {
   "cell_type": "code",
   "execution_count": null,
   "id": "7f7c3212",
   "metadata": {},
   "outputs": [],
   "source": []
  },
  {
   "cell_type": "code",
   "execution_count": null,
   "id": "a637f3d4",
   "metadata": {},
   "outputs": [],
   "source": []
  }
 ],
 "metadata": {
  "kernelspec": {
   "display_name": "Python 3 (ipykernel)",
   "language": "python",
   "name": "python3"
  },
  "language_info": {
   "codemirror_mode": {
    "name": "ipython",
    "version": 3
   },
   "file_extension": ".py",
   "mimetype": "text/x-python",
   "name": "python",
   "nbconvert_exporter": "python",
   "pygments_lexer": "ipython3",
   "version": "3.9.12"
  }
 },
 "nbformat": 4,
 "nbformat_minor": 5
}
