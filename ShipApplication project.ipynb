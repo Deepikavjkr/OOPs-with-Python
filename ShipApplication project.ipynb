{
 "cells": [
  {
   "cell_type": "markdown",
   "metadata": {},
   "source": [
    "<h1><center>MIS 6382 Fall 2022 Homework Four</center></h1>\n",
    "\n",
    "This assignment is worth __9%__ of the course grade and is due by __11:00 pm of 11/27/2022__.\n",
    "\n",
    "\n",
    "<h3>Submission instructions</h3>\n",
    "   \n",
    "   1.\tSubmit a single notebook containing all class definitions together with the driver code.\n",
    " \n",
    "   2.\tYou must also submit the data file (shipdata.dat)  with the records containing all data for the ships given in the test data file.  You must execute your program and enter data for all the ships listed in the test data file.  The resultant `shipdata.dat` will therefore contain all the data I have provided as test data.  This will enable the TA to more easily grade your homework.\n",
    " \n",
    "   3. You will automatically lose `40%` of the grade if your program does not compile.\n",
    "\n",
    "__*The following guidelines should be followed and will be used to grade your homework:*__ \n",
    "-  Write code as directed below.\n",
    "-  This is an individual homework assignment; no group submissions will be accepted. Any evidence of cheating will result in severe penalties being imposed.\n",
    "-  Sample runs shown in the question should be used as a guide for implementation. However extensive testing needs to be done on your code to deal with all test cases that might possibly be executed.\n",
    "-  The screen shots below show how your program should function with correct input.  Screenshots for handling incorrect input are not shown. However, your code should use exception handling to validate user input.\n",
    "-  Rename your .ipynb file by adding the first two letters of your firstname followed by the first two letters of your last name and submit the file as your response for this assignment.\n"
   ]
  },
  {
   "cell_type": "markdown",
   "metadata": {},
   "source": [
    "<h3>Refer to the `MISFall2022-LibraryBookApp` notebook for help with this assignment</h3>\n",
    "\n",
    "    \n",
    "I.\tIn this assignment you will create an `Ships Application` by fulfilling the requirements given below.  You must first create the classes as described.  Then write a driver program that will use these classes to build an application for an `Ships Database`.  All ship data is stored in a file called `shipdata.dat`.\n",
    "    \n",
    "II.\tEach time you run the program, the user is allowed to repeatedly select from the five choices described below:\n",
    "    \n",
    "    1.\tAdd a new ship\n",
    "    2.\tDisplay Ship information including Company name and year for all ships in the system.  Data specific to each ship type should also be displayed.\n",
    "    3.\tCompute and print the ship name and together with its revenue for all ships in the system\n",
    "    4.\tPrint the ship name with the company information for all companies incorporated in WA, TX, or NY. \n",
    "    5.\tExit the application \n",
    "    \n",
    "III.\tThe first time you execute the program, your file will have no employees in it. Second time onwards, all ship data from previous executions of the program, should be available\n",
    "\n",
    "<h3>Ship Application</h3>\n",
    "\n",
    "-\tCreate a base class `Ship` that has the following attributes:\n",
    "    -  shipName (String)\n",
    "    -   yearBuilt (String)  \n",
    "    -   crewSize (int)\n",
    "    -   companyInfo (Company). \n",
    "    \n",
    "\n",
    "-\tThe child classes `CruiseShip`, `DryCargoShip` and `LiquidCargoShip` that inherit from `Ship` have the following additional properties \n",
    "    -   CruiseShip –            \n",
    "            . max_num_pass (int),  \n",
    "            . percent_full (double),  \n",
    "            . cabin_rate (double)  \n",
    "            \n",
    "    -   DryCargoShip -          \n",
    "            . size_catg (one of 3 values:  `handysize`, `capesize`, `large`),  \n",
    "            . percent_full (double)     \n",
    "            \n",
    "    -   LiquidCargoShip –       \n",
    "            .  liquid_type (one of 3 values:  `vege`, `crude`, `other`),  \n",
    "            .  capacity (in thousands of litres, int)\n",
    " \n",
    "\n",
    "-    All these classes must have the appropriate `__init_\\()` method.  In addition, they have additional methods required to complete the application as described below. \n",
    "\n",
    "__Revenue for each employee type is to be computed as follows:__  \n",
    "\n",
    "__CruiseShip:__  Revenue is the product of the number of occupants in the ship times the cabin rate.  The number of occupants is just the maximum number of passengers times the percentage filled. Note that fractional number of passengers should be rounded up to the next integer value.\n",
    "\n",
    "__DryCargoShip:__ Total revenue is amount of dry cargo the ship is carrying (based on percentage filled and maximum capacity) times the revenue per ton based on size category.  The revenue per ton for each size category is given in the table below.\n",
    "\n",
    "<img src=\"Sample Interactions\\drycargoShipRev.png\" />     \n",
    "\n",
    "__LiquidCargoShip__:  Revenue per thousand liters is given in the table below.  Total revenue is to be computed assuming that the ship is filled to capacity.\n",
    "\n",
    "<img src = \"Sample Interactions\\liquidcargoShipRev.png\" />\n",
    "The`Company` class is described next.  The `Company class has three instance variables – company name, year of incorporation and US state the ship was incorporated in.  The class definition should have an appropriate constructor (\\_\\_init\\_\\_ method ).  You may use aggregation or composition to include a Company object in your Ship data. \n",
    "\n",
    "__Once the fives classes, Ship, CruiseShip, DryCargoShip, LiquidCargoShip and Company have all been defined and tested per the requirements stated above, write a driver program to do the following:__\n",
    "1.\tAdd a new ship\n",
    "2.\tDisplay ship name, year built, scSompany name for all ships in the system.  Maximumum number of passengers should be displayed for CruiseShips, size category should be built for Dry Cargo Ships, and liquid type should be displayed for LiquidCargoShips.  \n",
    "3.\tCompute and print the ship name and together with its revenue for all ships in the system\n",
    "4.\tPrint the ship name with the company information for all companies incorporated in WA, TX, or NY. \n",
    "5.\tExit the application after writing all information to a file \n",
    "\n",
    "The program must repeatedly display the above options and allow the user to select one of them until she chooses option 5.  The program must save all data to a file and then exit the system once the user selects option 5.\n",
    "\n",
    "__Note:__ Any ship data from earlier executions of the application must be available in subsequent executions.\n",
    "\n",
    "__Additional Requirements:__  \n",
    "Your program should use exception handling to validate user input for the following variables:  \n",
    "\n",
    "    -  Positive integer values for:  \n",
    "        .  crewSize  \n",
    "        .  max_num_pass (CruiseShip)  \n",
    "        .  capacity (LiquidCargoShip)  \n",
    "    \n",
    "    -  Positive float values (between 0 and 100) for:  \n",
    "        . percent_full (CruiseShip)\n",
    "        . percent_full (DryCargoShip)  \n",
    "    \n",
    "    -  The only acceptable values for `sizeCatg` for `DryCargoShips` are: `handysize`, `capesize`, or `large`.  \n",
    "    -  The only acceptable values for `liquid_type` for `LiquidCargoShips` are: `vege`, `crude`, or `other`.\n",
    "    -  The only acceptable values for `state_inc` for `Company` are 'CA', 'TX', 'WA', 'FL', 'ME', 'NH'  \n",
    "    \n",
    "\n",
    "-  If the user enters invalid values for any of the variables above, print an appropriate message and ask the user to re-enter a valid value.\n",
    "-  Your program should also ensure that the user enters valid values for the menu options as well as the choice of ship type.  If the user enters incorrect options for either the menu option or the ship type, your program should display an appropriate message and display the menu or the choice of ship types again.\n"
   ]
  },
  {
   "cell_type": "markdown",
   "metadata": {},
   "source": [
    "The screen shots below show how your program should function with correct input.  Screenshots for handling incorrect input are not shown. However, as described earlier, your code should use exception handling to validate user input"
   ]
  },
  {
   "cell_type": "markdown",
   "metadata": {},
   "source": [
    "<h3>Adding a Cruise Ship</h3>"
   ]
  },
  {
   "cell_type": "markdown",
   "metadata": {},
   "source": [
    "<h3>Adding a Cruise Ship</h3>\n",
    "\n",
    "<img src=\"Sample Interactions\\AddCruiseShip.png\" />"
   ]
  },
  {
   "cell_type": "markdown",
   "metadata": {},
   "source": [
    "<h3> Adding Dry Cargo Ship </h3>\n",
    "\n",
    "<img src = \"Sample Interactions\\AddDryCargoShip.png\" />"
   ]
  },
  {
   "cell_type": "markdown",
   "metadata": {},
   "source": [
    "<h3> Adding Liquid Cargo Ship </h3>\n",
    "\n",
    "<img src=\"Sample Interactions\\AddLiquidCargoShip.png\" />"
   ]
  },
  {
   "cell_type": "markdown",
   "metadata": {},
   "source": [
    "<h3>Executing Option 2</h3>\n",
    "\n",
    "<img src=\"Sample Interactions\\ExecutingOption2.png\" />"
   ]
  },
  {
   "cell_type": "markdown",
   "metadata": {},
   "source": [
    "<h3>Executing Option 3</h3>\n",
    "\n",
    "<img src = \"Sample Interactions\\ExecutingOption3.png\" />"
   ]
  },
  {
   "cell_type": "markdown",
   "metadata": {},
   "source": [
    "<h3>Executing Option 4</h3>\n",
    "\n",
    "<img src=\"Sample Interactions\\ExecutingOption4.png\" />"
   ]
  },
  {
   "cell_type": "markdown",
   "metadata": {},
   "source": [
    "<h3>Executing Option 5</h3>\n",
    "\n",
    "<img src=\"Sample Interactions\\ExecutingOption5.png\" />\n"
   ]
  }
 ],
 "metadata": {
  "kernelspec": {
   "display_name": "Python 3 (ipykernel)",
   "language": "python",
   "name": "python3"
  },
  "language_info": {
   "codemirror_mode": {
    "name": "ipython",
    "version": 3
   },
   "file_extension": ".py",
   "mimetype": "text/x-python",
   "name": "python",
   "nbconvert_exporter": "python",
   "pygments_lexer": "ipython3",
   "version": "3.9.12"
  }
 },
 "nbformat": 4,
 "nbformat_minor": 4
}
