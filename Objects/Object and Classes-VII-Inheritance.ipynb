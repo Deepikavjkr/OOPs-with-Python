{
 "cells": [
  {
   "cell_type": "markdown",
   "metadata": {
    "collapsed": true
   },
   "source": [
    "<h3>Inheritance</h3>\n",
    "\n",
    "In this notebook we introduce the concept of `inheritance` - an important principle in object oriented programming.   \n",
    "Inheritance helps to build a new class using an existing class, thereby promoting reuse and enabling `polymorphism`.\n",
    "Using inheritance, a new class (called the `child` class or the `sub` class) can be created by extending an old class\n",
    "(called the `base` class, the `parent` class or the `super` class).  The child class is a `specialization` of the base class and the base class is a `generalization` of the child class.  The `is-a` relationship is used to depict the relationship between a base class and a child class. In other words, we say that a child class object `is` (also) `a` base class object. The child class implicitly inherits all the attributes and methods of the base class and in addition can \n",
    "have its own attributes and methods.\n",
    "\n",
    "<font color = blue>In Python, all classes (except the class `object` ) inherit from the `object` class </font>"
   ]
  },
  {
   "cell_type": "markdown",
   "metadata": {},
   "source": [
    "We will study inheritance via a simple example.  We will begin by defining the parent class - `Employee`.  \n",
    "The Employee class has just two instance variables; first name and last name.  It also has the `__init__()` and the `__str__()` methods. "
   ]
  },
  {
   "cell_type": "code",
   "execution_count": 1,
   "metadata": {},
   "outputs": [],
   "source": [
    "class Employee:\n",
    "\n",
    "    def __init__(self, first_name, last_name):\n",
    "        self.first_name = first_name\n",
    "        self.last_name = last_name\n",
    "    def __str__(self):\n",
    "        return f\"The employee's name is {self.first_name} {self.last_name}\""
   ]
  },
  {
   "cell_type": "markdown",
   "metadata": {
    "collapsed": true
   },
   "source": [
    "We will next define a child class that has the `Employee` class as a parent - `Full_Time_Employee`.  Note that a \n",
    "`Full_Time_Employee` is also an `Employee` and hence has all the methods and attributes of the `Employee` class.  We therefore need not define them again.\n",
    "\n",
    "The `Full_Time_Employee` has two instance variables in addition to first name and last name - salary and job title. We \n",
    "will define the `__init__()` and `__str()__` methods.\n"
   ]
  },
  {
   "cell_type": "markdown",
   "metadata": {},
   "source": [
    "<h4>Class heading when using inheritance</h4>\n",
    "\n",
    "We will begin with the class statement for the Full_Time_Employee class.  To indicate that one class is the child of \n",
    "another class, we use the syntax shown below  \n",
    "`class ChildClass(ParentClass)`\n"
   ]
  },
  {
   "cell_type": "code",
   "execution_count": 2,
   "metadata": {},
   "outputs": [],
   "source": [
    "class Full_Time_Employee(Employee):\n",
    "    pass"
   ]
  },
  {
   "cell_type": "markdown",
   "metadata": {},
   "source": [
    "We next write the `__init__()` method.  Since the child class has all the attributes of the parent class, we need to\n",
    "initialize those attributes as well as the additional attributes of the child.  To initialize the instance variables of the parent class, we reuse the `__init__()` method for the parent class.  This is done by calling the parent class's `__init__()` method using the following syntax.  \n",
    "\n",
    "`super().__init__(param1, param2.....)`  \n",
    "\n",
    "-- where  param1, param2 etc.  are the parameters that need to be passed to the parent class's `__init__()` method. After initializing the parent class attributes, we can initialize the child class as usual."
   ]
  },
  {
   "cell_type": "code",
   "execution_count": 3,
   "metadata": {},
   "outputs": [],
   "source": [
    "class Full_Time_Employee(Employee):\n",
    "    def __init__(self, first_name, last_name, job_title, salary):\n",
    "        super().__init__(first_name, last_name) #initializing the instance variables of the base class\n",
    "        self.salary = salary\n",
    "        self.job_title = job_title       "
   ]
  },
  {
   "cell_type": "markdown",
   "metadata": {},
   "source": [
    "Finally, we will write the `__str__()` method for the child class. We do this by first calling the parent class's `__str__()` method and then adding to it."
   ]
  },
  {
   "cell_type": "code",
   "execution_count": 4,
   "metadata": {},
   "outputs": [],
   "source": [
    "class Full_Time_Employee(Employee):\n",
    "    def __init__(self, first_name, last_name, job_title, salary):\n",
    "        super().__init__(first_name, last_name) \n",
    "        self.salary = salary\n",
    "        self.job_title = job_title       \n",
    "        \n",
    "    def __str__(self):\n",
    "        op = super().__str__() #we call the parent class's __str__method first.\n",
    "        op += f\". The salary is: {self.salary} and the job title is: {self.job_title}\"\n",
    "        return op\n",
    "    \n",
    "#if there a child class that calls a __str__, the prarent must have super()"
   ]
  },
  {
   "cell_type": "markdown",
   "metadata": {},
   "source": [
    "Test your child class by creating a child object and printing out the details.  "
   ]
  },
  {
   "cell_type": "code",
   "execution_count": 5,
   "metadata": {},
   "outputs": [
    {
     "name": "stdout",
     "output_type": "stream",
     "text": [
      "The employee's name is Jane Doe. The salary is: 45000 and the job title is: Teacher\n"
     ]
    }
   ],
   "source": [
    "child = Full_Time_Employee('Jane', 'Doe', 'Teacher', 45000)\n",
    "print(child)"
   ]
  },
  {
   "cell_type": "markdown",
   "metadata": {},
   "source": [
    "Note that the child class has access to all the methods and attributes in the parent class. "
   ]
  },
  {
   "cell_type": "code",
   "execution_count": 6,
   "metadata": {},
   "outputs": [
    {
     "name": "stdout",
     "output_type": "stream",
     "text": [
      "Doe\n"
     ]
    }
   ],
   "source": [
    "print(child.last_name)"
   ]
  },
  {
   "cell_type": "markdown",
   "metadata": {},
   "source": [
    "<h4>The isinstance() method</h4>\n",
    "\n",
    "The `isinstance(a, B)` method returns `True` if  object a is an instance of class B.  It returns `False` otherwise.  \n",
    "The `isinstance()` method returns `True` if the object is an indirect or direct child of the class\n"
   ]
  },
  {
   "cell_type": "code",
   "execution_count": 7,
   "metadata": {},
   "outputs": [
    {
     "name": "stdout",
     "output_type": "stream",
     "text": [
      "isinstance(child, Full_Time_Employee):  True\n"
     ]
    },
    {
     "ename": "NameError",
     "evalue": "name 'Part_Time_Employee' is not defined",
     "output_type": "error",
     "traceback": [
      "\u001b[1;31m---------------------------------------------------------------------------\u001b[0m",
      "\u001b[1;31mNameError\u001b[0m                                 Traceback (most recent call last)",
      "Input \u001b[1;32mIn [7]\u001b[0m, in \u001b[0;36m<cell line: 4>\u001b[1;34m()\u001b[0m\n\u001b[0;32m      1\u001b[0m child \u001b[38;5;241m=\u001b[39m Full_Time_Employee(\u001b[38;5;124m'\u001b[39m\u001b[38;5;124mJane\u001b[39m\u001b[38;5;124m'\u001b[39m, \u001b[38;5;124m'\u001b[39m\u001b[38;5;124mDoe\u001b[39m\u001b[38;5;124m'\u001b[39m, \u001b[38;5;124m'\u001b[39m\u001b[38;5;124mTeacher\u001b[39m\u001b[38;5;124m'\u001b[39m, \u001b[38;5;241m45000\u001b[39m)\n\u001b[0;32m      3\u001b[0m \u001b[38;5;28mprint\u001b[39m(\u001b[38;5;124m'\u001b[39m\u001b[38;5;124misinstance(child, Full_Time_Employee): \u001b[39m\u001b[38;5;124m'\u001b[39m, \u001b[38;5;28misinstance\u001b[39m(child, Full_Time_Employee)) \n\u001b[1;32m----> 4\u001b[0m \u001b[38;5;28mprint\u001b[39m(\u001b[38;5;124m'\u001b[39m\u001b[38;5;124misinstance(child, Full_Time_Employee): \u001b[39m\u001b[38;5;124m'\u001b[39m, \u001b[38;5;28misinstance\u001b[39m(child, \u001b[43mPart_Time_Employee\u001b[49m)) \n\u001b[0;32m      6\u001b[0m \u001b[38;5;28mprint\u001b[39m(\u001b[38;5;124m'\u001b[39m\u001b[38;5;124misinstance(child, Employee):\u001b[39m\u001b[38;5;124m'\u001b[39m, \u001b[38;5;28misinstance\u001b[39m(child, Employee))\n",
      "\u001b[1;31mNameError\u001b[0m: name 'Part_Time_Employee' is not defined"
     ]
    }
   ],
   "source": [
    "child = Full_Time_Employee('Jane', 'Doe', 'Teacher', 45000)\n",
    "\n",
    "print('isinstance(child, Full_Time_Employee): ', isinstance(child, Full_Time_Employee)) \n",
    "print('isinstance(child, Full_Time_Employee): ', isinstance(child, Part_Time_Employee)) \n",
    "\n",
    "print('isinstance(child, Employee):', isinstance(child, Employee)) "
   ]
  },
  {
   "cell_type": "markdown",
   "metadata": {},
   "source": [
    "<h4>The issubclass() method</h4>\n",
    "\n",
    "The `issubclass(A, B)` method returns `True` if class A is a subclass of class B.  \n",
    "Also note that a class is considered to be a subclass of itself."
   ]
  },
  {
   "cell_type": "code",
   "execution_count": 8,
   "metadata": {},
   "outputs": [
    {
     "name": "stdout",
     "output_type": "stream",
     "text": [
      "issubclass(Full_Time_Employee, Employee): True\n",
      "issubclass(Full_Time_Employee, Employee): True\n",
      "issubclass(Full_Time_Employee, Full_Time_Employee): True\n",
      "False\n"
     ]
    }
   ],
   "source": [
    "print('issubclass(Full_Time_Employee, Employee):', issubclass(Full_Time_Employee, Employee)) \n",
    "print('issubclass(Full_Time_Employee, Employee):', issubclass(Employee, Employee)) \n",
    "\n",
    "print('issubclass(Full_Time_Employee, Full_Time_Employee):', issubclass(Full_Time_Employee, Full_Time_Employee)) \n",
    "print(issubclass(Employee, Full_Time_Employee))"
   ]
  },
  {
   "cell_type": "code",
   "execution_count": null,
   "metadata": {},
   "outputs": [],
   "source": []
  }
 ],
 "metadata": {
  "kernelspec": {
   "display_name": "Python 3 (ipykernel)",
   "language": "python",
   "name": "python3"
  },
  "language_info": {
   "codemirror_mode": {
    "name": "ipython",
    "version": 3
   },
   "file_extension": ".py",
   "mimetype": "text/x-python",
   "name": "python",
   "nbconvert_exporter": "python",
   "pygments_lexer": "ipython3",
   "version": "3.9.12"
  }
 },
 "nbformat": 4,
 "nbformat_minor": 2
}
