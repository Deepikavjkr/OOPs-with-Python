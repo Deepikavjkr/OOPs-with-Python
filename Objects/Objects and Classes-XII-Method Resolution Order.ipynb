{
 "cells": [
  {
   "cell_type": "markdown",
   "metadata": {
    "collapsed": true
   },
   "source": [
    "<h3>Method Resolution Order</h3>\n",
    "\n",
    "In this notebook we will discuss `Method Resolution Order (MRO)`.  `MRO` refers to the order in which methods are searched for among groups of classes that are connected together in a inheritance hierarchy."
   ]
  },
  {
   "cell_type": "markdown",
   "metadata": {},
   "source": [
    "Consider the figure and the associated code below.\n",
    "\n",
    "\n",
    "<img src=\"MROSingleInheritance.JPG\" alt=\"Drawing\" style=\"width: 500px;\"/>"
   ]
  },
  {
   "cell_type": "markdown",
   "metadata": {
    "collapsed": true
   },
   "source": [
    "In the example above, Method Resolution Order (MRO) for Class `D` is computed as follows: First search for the method in class `D`.  If not found, search in the next class above it in the hierarchy, class `C`, then search in the class above that, class `B`, then class `A` and finally class `object`."
   ]
  },
  {
   "cell_type": "markdown",
   "metadata": {},
   "source": [
    "<h4>MRO gets more complex with multiple inheritance.</h4>\n",
    "\n",
    "The MRO for a class can be computed using the following rules:\n",
    "1.  Start at the class for which you wish to compute the MRO.  \n",
    "2.  Add the class to the order list and go up to the next level in the hierarchy\n",
    "3.  If at any level, you visit a class that has subclasses that have not yet been visited, you are temporarily done with this path.\n",
    "4.  Move back to the previous level and visit the next class.\n",
    "\n",
    "We will use the term <font color = blue>a good class </font> to refer to any class which has no other subclasses that have not been visited.\n"
   ]
  },
  {
   "cell_type": "markdown",
   "metadata": {},
   "source": [
    "<img src=\"MROExampleI.png\" alt=\"Drawing\" style=\"width: 500px;\"/>"
   ]
  },
  {
   "cell_type": "markdown",
   "metadata": {},
   "source": [
    "\n",
    "In the example above, compute the <font color = blue>MRO of A</font> in the following manner:\n",
    "1. Start with class A.\n",
    "\n",
    "2. Next, go to B.  This is because A inherits from (B, C) and B is first in this tuple. B can be added to the list since it has no other subclasses.  B is therefore a <font color = blue>good class</font>  -> __[A, B]__\n",
    "\n",
    "3.  Go one more level up in the hierarchy: This is to class E, since B inherits from E.  E is also a <font color = blue>good class</font> -> __[A, B, E]__\n",
    "\n",
    "4. The next class in the hierarchy is class <font color = blue>object</font>.  However, since it has many other subclasses, we will skip it now and add it at the very end.  Note that the class <font color=blue>object</font> will ALWAYS be the last class in the MRO for any other class.\n",
    "\n",
    "5. Since all classes have been added, we drop back to the next class in the tuple for A.  This is class C. It is a good class and can be added to the list.    ->__ [A, B, E, C]__\n",
    "\n",
    "6. Go up the hierarchy.  Add F since it is a good class. -> __[A, B, E, C, F]__\n",
    "\n",
    "7.  Finally add O. ->__ [A, B, E, C, F, O] __\n",
    "\n",
    "We are done!!\n"
   ]
  },
  {
   "cell_type": "markdown",
   "metadata": {},
   "source": [
    "<h4>You can use the mro() function to find a class's MRO.</h4>"
   ]
  },
  {
   "cell_type": "code",
   "execution_count": 1,
   "metadata": {},
   "outputs": [
    {
     "name": "stdout",
     "output_type": "stream",
     "text": [
      "[<class '__main__.A'>, <class '__main__.B'>, <class '__main__.E'>, <class '__main__.C'>, <class '__main__.F'>, <class 'object'>]\n"
     ]
    }
   ],
   "source": [
    "class F:\n",
    "    pass\n",
    "\t\n",
    "class E:\n",
    "    pass\n",
    "\n",
    "class C(F):\n",
    "    pass\n",
    "\t\n",
    "class B(E):\n",
    "    pass\n",
    "\n",
    "class A(B,C):\n",
    "    pass\n",
    "\n",
    "print(A.mro()) #This will give the MRO for class A"
   ]
  },
  {
   "cell_type": "markdown",
   "metadata": {},
   "source": [
    "<img src=\"MROExampleII.png\" alt=\"Drawing\" style=\"width: 500px;\"/>"
   ]
  },
  {
   "cell_type": "markdown",
   "metadata": {},
   "source": [
    "In the example above, compute the MRO of A in the following manner:\n",
    "1. Start with class A.\n",
    "2. Next, go to B.  This is because A inherits from (B, C) and B is first in this tuple. B can be added to the  list since it has no other subclasses.  B is therefore a <font color = blue>good class</font>  ->__ [A, B]__\n",
    "3.  Go one more level up in the hierarchy: This is to class D, since B inherits from D and E with D being first in the tuple of classes.  D can be added since it has no other subclasses -> __[A, B, D]__\n",
    "4. The next class in the hierarchy is class <font color=blue>object</font>.  However, since it has many other subclasses, we will skip it now and add it at the very end.  Note that the class <font color=blue>object</font> will ALWAYS be the last class in the MRO for any other class.\n",
    "5. We drop back to the next class in the tuple for B.  This is class E. It is a good class and can be added to the list. ->__ [A, B, D, E]__\n",
    "6. We cannot go further up the hierarchy since <font color=blue>object</font> cannot yet be added.\n",
    "7. Drop back to the next class in the tuple for A.  This is class C.  Add it to the list. -> __[A, B, D, E, C]__\n",
    "6. Go up the hierarchy.  Add F. -> __[A, B, D, E, C, F]__\n",
    "7.  Finally add O. ->__ [A, B, D, E, C, F, O] __\n",
    "\n",
    "We are done!!\n"
   ]
  },
  {
   "cell_type": "code",
   "execution_count": 2,
   "metadata": {},
   "outputs": [
    {
     "name": "stdout",
     "output_type": "stream",
     "text": [
      "[<class '__main__.A'>, <class '__main__.B'>, <class '__main__.D'>, <class '__main__.E'>, <class '__main__.C'>, <class '__main__.F'>, <class 'object'>]\n"
     ]
    }
   ],
   "source": [
    "class F:\n",
    "    pass\n",
    "\t\n",
    "class E:\n",
    "    pass\n",
    "\t\n",
    "class D:\n",
    "    pass\n",
    "\n",
    "class C(F):\n",
    "    pass\n",
    "\t\n",
    "class B(D, E):\n",
    "    pass\n",
    "\n",
    "class A(B,C):\n",
    "    pass\n",
    "\n",
    "print(A.mro())\n"
   ]
  },
  {
   "cell_type": "markdown",
   "metadata": {},
   "source": [
    "<img src=\"MROExampleIII.png\" alt=\"Drawing\" style=\"width: 500px;\"/>"
   ]
  },
  {
   "cell_type": "markdown",
   "metadata": {
    "collapsed": true
   },
   "source": [
    "\n",
    "\n",
    "1. Start with A [A]\n",
    "2. Next, go to B.  This is because A inherits from (B, C) and B is first in this tuple. B can be added to the \n",
    "list since it has no other subclasses -> __[A, B]__\n",
    "3. Go up the hierarchy from B.B inherits from (D,E) in that order.  D is not a <font color = blue> good class</font>  since it has a subclass C which has not yet been visited. \n",
    "4.  So we drop down to B and visit the other class in the same level of the hierarchy C.  This is a <font color = blue> good class</font> and can be added.  ->__[A, B, C]__\n",
    "4. Now go back to B and go up to the next level.  D can now be added -> __[A, B, C, D]__\n",
    "5. The next class at this level is E.  It is a good class and can be added to the list. -> __[A, B, C, D, E]__\n",
    "6. Go back to C and go up one level that path.  F can be added now. -> __[A, B, C, D, E, F] \n",
    "9. Finally add O -> [A, B, C, D, E, F,O]\n",
    "10. DONE!!\n",
    "'''"
   ]
  },
  {
   "cell_type": "code",
   "execution_count": 3,
   "metadata": {},
   "outputs": [
    {
     "name": "stdout",
     "output_type": "stream",
     "text": [
      "[<class '__main__.A'>, <class '__main__.B'>, <class '__main__.C'>, <class '__main__.D'>, <class '__main__.E'>, <class '__main__.F'>, <class 'object'>]\n"
     ]
    }
   ],
   "source": [
    "class F: \n",
    "    pass\n",
    "\t\n",
    "class E:\n",
    "    pass\n",
    "\t\n",
    "class D:\n",
    "    pass\n",
    "\n",
    "class C(D, F):\n",
    "    pass\n",
    "\t\n",
    "class B(D, E):\n",
    "    pass\n",
    "\n",
    "class A(B,C):\n",
    "    pass\n",
    "\n",
    "print(A.mro())"
   ]
  },
  {
   "cell_type": "code",
   "execution_count": null,
   "metadata": {},
   "outputs": [],
   "source": []
  }
 ],
 "metadata": {
  "kernelspec": {
   "display_name": "Python 3 (ipykernel)",
   "language": "python",
   "name": "python3"
  },
  "language_info": {
   "codemirror_mode": {
    "name": "ipython",
    "version": 3
   },
   "file_extension": ".py",
   "mimetype": "text/x-python",
   "name": "python",
   "nbconvert_exporter": "python",
   "pygments_lexer": "ipython3",
   "version": "3.9.12"
  }
 },
 "nbformat": 4,
 "nbformat_minor": 2
}
