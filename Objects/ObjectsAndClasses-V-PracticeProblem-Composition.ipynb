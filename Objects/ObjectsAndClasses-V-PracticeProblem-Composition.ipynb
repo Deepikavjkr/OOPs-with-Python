{
 "cells": [
  {
   "cell_type": "markdown",
   "metadata": {
    "collapsed": true
   },
   "source": [
    "<h3>Objects And Classes - Practice Problem - Composition </h3>\n",
    "\n",
    "In this notebook we will add to the Automobile class another instance variable to practice composition.  Let us suppose that we want to keep track of the wheels in the automobile object.  Specifically we want to track the make and diameter for the wheels. We will first create a simple Wheel class with the appropriate instance variables and then include the Wheel object in the Automobile class using composition.\n"
   ]
  },
  {
   "cell_type": "markdown",
   "metadata": {},
   "source": [
    "<h4> The Wheel class definition</h4>\n",
    "\n",
    "We will first create the Wheel class.  It has just two instance variables, make and diameter.  We are not interested in \n",
    "any methods other than the `__init__()` method and the `__str__()` method for this class."
   ]
  },
  {
   "cell_type": "code",
   "execution_count": 1,
   "metadata": {},
   "outputs": [],
   "source": [
    "class Wheel:\n",
    "    def __init__(self, make, diameter):\n",
    "        self.make = make\n",
    "        self.diameter = diameter    \n",
    "    def __str__(self):\n",
    "        return 'wheel make: ' + self.make + '; wheel diameter: ' + str(self.diameter)"
   ]
  },
  {
   "cell_type": "markdown",
   "metadata": {},
   "source": [
    "Modify the Automobile class definition from the previous notebook to include the wheel object using composition. To do this, we include the parameters for the instance variable for the Wheel object to the Automobile class's `__init__()` method.  The wheel object will then be created inside the `__init__()` method.  "
   ]
  },
  {
   "cell_type": "code",
   "execution_count": 2,
   "metadata": {},
   "outputs": [],
   "source": [
    "class Automobile:\n",
    "    num_of_autos = 0\n",
    "    def __init__(self, make, model, mileage, speed, wh_make, wh_dia):\n",
    "        if mileage <= 0 or speed <= 0:\n",
    "            print('Invalid input.  Object not created.')\n",
    "            return\n",
    "        Automobile.num_of_autos += 1\n",
    "        self.make = make\n",
    "        self.model = model\n",
    "        self.mileage = mileage\n",
    "        self.speed = speed\n",
    "        self.auto_wheel = Wheel(wh_make, wh_dia)\n",
    "        \n",
    "    def accelerate(self):\n",
    "        self.speed += 5\n",
    "        \n",
    "    def brake(self):\n",
    "        if self.speed < 5:\n",
    "            print('Speed already below 5 mph.  Cannot slow down further')  \n",
    "        else:\n",
    "            self.speed -= 5\n",
    "    \n",
    "    def __str__(self):\n",
    "        outstr = 'Make: ' + self.make + ', Model: ' + self.model  + ', Mileage ' \\\n",
    "        + str(self.mileage)  + ', Speed '  + str(self.speed) + '; ' + self.auto_wheel.__str__()\n",
    "        return outstr\n",
    "    \n",
    "    @classmethod\n",
    "    def return_auto_count(cls):\n",
    "        if  cls.num_of_autos < 3:\n",
    "            return f'There are {cls.num_of_autos} autos.  That is not enough' \n",
    "        else:\n",
    "            return f'There are {cls.num_of_autos} autos.  That is enough'"
   ]
  },
  {
   "cell_type": "markdown",
   "metadata": {},
   "source": [
    "<h4>Testing the class definition</h4>"
   ]
  },
  {
   "cell_type": "code",
   "execution_count": 4,
   "metadata": {},
   "outputs": [
    {
     "name": "stdout",
     "output_type": "stream",
     "text": [
      "Make: Honda, Model: Accord, Mileage 1555, Speed 55; wheel make: goodyear; wheel diameter: 36.5\n"
     ]
    }
   ],
   "source": [
    "car1 = Automobile('Honda','Accord',1555,55, 'goodyear', 36.5) \n",
    "print(car1)"
   ]
  }
 ],
 "metadata": {
  "kernelspec": {
   "display_name": "Python 3 (ipykernel)",
   "language": "python",
   "name": "python3"
  },
  "language_info": {
   "codemirror_mode": {
    "name": "ipython",
    "version": 3
   },
   "file_extension": ".py",
   "mimetype": "text/x-python",
   "name": "python",
   "nbconvert_exporter": "python",
   "pygments_lexer": "ipython3",
   "version": "3.9.12"
  }
 },
 "nbformat": 4,
 "nbformat_minor": 2
}
