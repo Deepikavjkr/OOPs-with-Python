{
 "cells": [
  {
   "cell_type": "markdown",
   "metadata": {},
   "source": [
    "<h3>Practice Problem for Inheritance and Polymorphism</h3>"
   ]
  },
  {
   "cell_type": "markdown",
   "metadata": {
    "collapsed": true
   },
   "source": [
    "<h4>Problem Statement</h4>\n",
    "\n",
    "Write a class definition for an Animal class.\n",
    "This class has just one method that we care about. `makeNoise()`.  This will return the string 'Makes some sound'\n",
    "\n",
    "Then create three child classes, cat, dog, and cow.\n",
    "\n",
    "For each child class, redefine the `makeNoise()` method as follows:\n",
    "cat: returns 'meowww'\n",
    "dog: returns 'bow wow'\n",
    "cow: returns 'moooo'\n",
    "\n",
    "Then write a driver program, to create 8 instances of different animals.\n",
    "Finally call the `makeNoise()` method for each of them and print the result"
   ]
  },
  {
   "cell_type": "code",
   "execution_count": 1,
   "metadata": {},
   "outputs": [],
   "source": [
    "\n",
    "class Animal:\n",
    "    def makeNoise(self):\n",
    "        return 'Makes some sound'\n",
    "\n",
    "class Dog(Animal):\n",
    "    def makeNoise(self):\n",
    "        return 'bow wow'\n",
    "\n",
    "class Cat(Animal):\n",
    "    def makeNoise(self):\n",
    "        return 'meoww'\n",
    "\n",
    "class Cow(Animal):\n",
    "    def makeNoise(self):\n",
    "        return 'moooo'"
   ]
  },
  {
   "cell_type": "code",
   "execution_count": 3,
   "metadata": {},
   "outputs": [
    {
     "name": "stdout",
     "output_type": "stream",
     "text": [
      "1\n",
      "0\n",
      "1\n",
      "2\n",
      "1\n",
      "3\n",
      "3\n",
      "0\n",
      "bow wow\n",
      "Makes some sound\n",
      "bow wow\n",
      "meoww\n",
      "bow wow\n",
      "moooo\n",
      "moooo\n",
      "Makes some sound\n",
      "<__main__.Dog object at 0x000001CC6488D988>\n",
      "<__main__.Animal object at 0x000001CC6488D648>\n",
      "<__main__.Dog object at 0x000001CC6488D748>\n",
      "<__main__.Cat object at 0x000001CC6488D888>\n",
      "<__main__.Dog object at 0x000001CC6488D588>\n",
      "<__main__.Cow object at 0x000001CC6488D848>\n",
      "<__main__.Cow object at 0x000001CC6488D948>\n",
      "<__main__.Animal object at 0x000001CC6488D0C8>\n"
     ]
    }
   ],
   "source": [
    "from random import choice\n",
    "animal_list = []\n",
    "for i in range(8):\n",
    "    j = choice((0,1,2,3))\n",
    "    print(j)\n",
    "    if j == 1:\n",
    "        animal_list.append(Dog())\n",
    "    elif j == 2:\n",
    "        animal_list.append(Cat())\n",
    "    elif j == 3:\n",
    "        animal_list.append(Cow())\n",
    "    else:\n",
    "        animal_list.append(Animal())\n",
    "\n",
    "for i in animal_list:\n",
    "    print(i.makeNoise())\n",
    "    \n",
    "for i in animal_list:\n",
    "    print(i)"
   ]
  }
 ],
 "metadata": {
  "kernelspec": {
   "display_name": "Python 3 (ipykernel)",
   "language": "python",
   "name": "python3"
  },
  "language_info": {
   "codemirror_mode": {
    "name": "ipython",
    "version": 3
   },
   "file_extension": ".py",
   "mimetype": "text/x-python",
   "name": "python",
   "nbconvert_exporter": "python",
   "pygments_lexer": "ipython3",
   "version": "3.9.12"
  }
 },
 "nbformat": 4,
 "nbformat_minor": 2
}
