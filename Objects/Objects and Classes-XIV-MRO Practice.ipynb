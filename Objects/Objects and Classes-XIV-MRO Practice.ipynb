{
 "cells": [
  {
   "cell_type": "markdown",
   "id": "4c224431",
   "metadata": {},
   "source": [
    "<h3>MRO Practice</h3>\n",
    "\n",
    "In this notebook, I have provided another example for figuring out the Method Resolution Order (MRO).  Since the focus is just on the MRO, the class definitions do not contain any methods."
   ]
  },
  {
   "cell_type": "markdown",
   "id": "4a494e71",
   "metadata": {},
   "source": [
    "<img src=\"MROPractice.png\" />"
   ]
  },
  {
   "cell_type": "code",
   "execution_count": null,
   "id": "4d843f60",
   "metadata": {},
   "outputs": [],
   "source": [
    "G\n",
    "PGO\n",
    "YGOHO - YGHO\n",
    "TKHO\n",
    "SY.MROP.MRO- SYGHOPGO - SYHPGO\n",
    "\n",
    "TKHO\n",
    "SYGHOPGO\n"
   ]
  },
  {
   "cell_type": "code",
   "execution_count": 1,
   "id": "623ec38b",
   "metadata": {},
   "outputs": [],
   "source": [
    "class G():\n",
    "    pass\n",
    "class H():\n",
    "    pass\n",
    "class K():\n",
    "    pass\n",
    "class P(G):\n",
    "    pass\n",
    "class Y(G, H):\n",
    "    pass\n",
    "class T(K, H):\n",
    "    pass\n",
    "class S(Y, P):\n",
    "    pass\n",
    "class R(Y, T):\n",
    "    pass\n",
    "class Q(T, K):\n",
    "    pass"
   ]
  },
  {
   "cell_type": "markdown",
   "id": "24a73ecb",
   "metadata": {},
   "source": [
    "Given the above class definition, let us begin with deriving the MRO for the easiest of the classes.  These are the ones listed below.\n",
    "\n",
    "  -  Class G\n",
    "  -  Class H\n",
    "  -  Class K\n",
    "  \n",
    "None of these classes inherit from any class other than the <font color = blue>__object()__</font> class in Python.  Hence the MRO for each of these is very straight forward. \n",
    "\n",
    "The MRO for each of the three classes is as shown below:  Note that in the classroom problems, I have used the class name <font color = blue>__object__</font> to depict the <font color = blue>__object__</font> class\n",
    "\n",
    "Class <font color = blue>__G__</font> --> The MRO is <font color = blue>__G__</font> followed by <font color = blue>__object__</font>.  \n",
    "\n",
    "Class <font color = blue>__H__</font> --> The MRO is <font color = blue>__H__</font> followed by <font color = blue>__object__</font>. \n",
    "\n",
    "Class <font color = blue>__K__</font> --> The MRO is <font color = blue>__K__</font> followed by <font color = blue>__object__</font>. "
   ]
  },
  {
   "cell_type": "code",
   "execution_count": 7,
   "id": "5f51940c",
   "metadata": {},
   "outputs": [
    {
     "data": {
      "text/plain": [
       "[__main__.G, object]"
      ]
     },
     "execution_count": 7,
     "metadata": {},
     "output_type": "execute_result"
    }
   ],
   "source": [
    "G.mro()"
   ]
  },
  {
   "cell_type": "code",
   "execution_count": 4,
   "id": "4bde89b3",
   "metadata": {},
   "outputs": [
    {
     "data": {
      "text/plain": [
       "[__main__.H, object]"
      ]
     },
     "execution_count": 4,
     "metadata": {},
     "output_type": "execute_result"
    }
   ],
   "source": [
    "H.mro() "
   ]
  },
  {
   "cell_type": "code",
   "execution_count": 5,
   "id": "b6512c4f",
   "metadata": {},
   "outputs": [
    {
     "data": {
      "text/plain": [
       "[__main__.K, object]"
      ]
     },
     "execution_count": 5,
     "metadata": {},
     "output_type": "execute_result"
    }
   ],
   "source": [
    "K.mro()"
   ]
  },
  {
   "cell_type": "markdown",
   "id": "077304a7",
   "metadata": {},
   "source": [
    "<h2><font color = blue>MRO for class P</font></h2>\n",
    "\n",
    "We will next consider Class <font color = blue>__P__</font>.  This class is next in terms of its simplicity since it only directly inherits from one class, Class <font color = blue>__G__</font>.\n",
    "\n",
    "Let <font color = blue>__objP__</font> be an object of Class <font color = blue>__P__</font>.  To execute the statement <font color = blue>__objP.methodX()__</font>, where <font color = blue>__methodX()__</font> is some method, the search for the method will first begin in Class <font color = blue>__P__</font>.  If the method is not found, the search will proceed to the superclass of Class <font color = blue>__P__</font>, which in this case will be Class <font color = blue>__G__</font> and from there to Class <font color = blue>__object__</font>.  \n",
    "\n",
    "The MRO for Class <font color = blue>__P__</font> is therefore Class <font color = blue>__P, G, O__</font>"
   ]
  },
  {
   "cell_type": "code",
   "execution_count": 8,
   "id": "477ce518",
   "metadata": {},
   "outputs": [
    {
     "data": {
      "text/plain": [
       "[__main__.P, __main__.G, object]"
      ]
     },
     "execution_count": 8,
     "metadata": {},
     "output_type": "execute_result"
    }
   ],
   "source": [
    "P.mro()"
   ]
  },
  {
   "cell_type": "markdown",
   "id": "f9f4ea7f",
   "metadata": {},
   "source": [
    "<h2><font color = blue>MRO for class Y</font></h2>\n",
    "\n",
    "Classes  <font color = blue>__Y__</font> and <font color = blue>__T__</font> are a little trickier, since multiple inheritance is involved."
   ]
  },
  {
   "cell_type": "markdown",
   "id": "5a3d0e08",
   "metadata": {},
   "source": [
    "We will start with class <font color = blue>__Y__</font>.\n",
    "Let us first look at all the classes, that class <font color = blue>__Y__</font>, directly or indirectly, inherits from.\n",
    "\n",
    "They are <font color = blue>__G__</font>,  <font color = blue>__H__</font> and <font color = blue>__object__</font>.\n",
    "\n",
    "Since <font color = blue>__Y__</font> first inherits from <font color = blue>__G__</font> and then from <font color = blue>__H__</font>, you can think of the MRO for <font color = blue>__Y__</font> as follows\n",
    "\n",
    "<font color = blue>Y, G.mro(), H.mro()</font>\n",
    "\n",
    "We can expand this as shown (refer to the cells above):\n",
    "\n",
    "<font color = blue>Y, G, object, H, object</font>\n",
    "\n",
    "Since <font color = blue>object</font> appears multiple times in the above, we discard all but the last occurence of \n",
    "<font color = blue>object</font> and the final MRO for class <font color = blue>__Y__</font> is:\n",
    "\n",
    "<font color = blue>Y, G, H, object</font>\n"
   ]
  },
  {
   "cell_type": "code",
   "execution_count": 3,
   "id": "efe2995d",
   "metadata": {},
   "outputs": [
    {
     "data": {
      "text/plain": [
       "[__main__.Y, __main__.G, __main__.H, object]"
      ]
     },
     "execution_count": 3,
     "metadata": {},
     "output_type": "execute_result"
    }
   ],
   "source": [
    "Y.mro()"
   ]
  },
  {
   "cell_type": "markdown",
   "id": "a11f9739",
   "metadata": {},
   "source": [
    "<h2><font color = blue>MRO for class T</font></h2>\n",
    "\n",
    "The MRO for class <font color = blue>__T__</font> can be resolved following an identical approach.\n",
    "    \n",
    "1. <font color = blue>T, K.mro(), H.mro()</font>\n",
    "\n",
    "2. <font color = blue>T, K, object, H, object</font>\n",
    "    \n",
    "3. Final MRO is therefore:  <font color = blue>T, K, H, object</font>\n",
    "\n"
   ]
  },
  {
   "cell_type": "code",
   "execution_count": 10,
   "id": "751a71ec",
   "metadata": {},
   "outputs": [
    {
     "data": {
      "text/plain": [
       "[__main__.T, __main__.K, __main__.H, object]"
      ]
     },
     "execution_count": 10,
     "metadata": {},
     "output_type": "execute_result"
    }
   ],
   "source": [
    "T.mro()"
   ]
  },
  {
   "attachments": {
    "MROPractice.png": {
     "image/png": "[encoded data removed]"
    }
   },
   "cell_type": "markdown",
   "id": "ba60e9be",
   "metadata": {},
   "source": [
    "![MROPractice.png](attachment:MROPractice.png)"
   ]
  },
  {
   "cell_type": "markdown",
   "id": "1f680264",
   "metadata": {},
   "source": [
    "<h2><font color = blue> MRO for class S</font></h2>\n",
    "\n",
    "The MRO for class <font color = blue>S</font> is slightly more complicated.  \n",
    "\n",
    "1. <font color = blue>S, Y.mro(), P.mro()</font>\n",
    "\n",
    "    a. <font color = blue>Y.mro()</font> = Y, G, H, object\n",
    "    \n",
    "    b. <font color = blue>P.mro()</font> = P, G, object\n",
    "    \n",
    "\n",
    "2. Just expanding the above mro's for the two classes will give us: \n",
    "  \n",
    "  <font color = blue>S, Y, G, H, object, P, G, object</font> \n",
    "\n",
    "Since in the above list, `G` comes before `H` and `P` comes before `G`, we must first search in `P` before moving on to search in `G` and finally `H`  \n",
    "\n",
    "\n",
    "3.  So the final result is <font color = blue>S, Y, P, G,H, object</font>"
   ]
  },
  {
   "cell_type": "code",
   "execution_count": 11,
   "id": "fdbda49e",
   "metadata": {},
   "outputs": [
    {
     "data": {
      "text/plain": [
       "[__main__.S, __main__.Y, __main__.P, __main__.G, __main__.H, object]"
      ]
     },
     "execution_count": 11,
     "metadata": {},
     "output_type": "execute_result"
    }
   ],
   "source": [
    "S.mro()"
   ]
  },
  {
   "cell_type": "markdown",
   "id": "afa50e74",
   "metadata": {},
   "source": [
    "<h2><font color = blue> MRO for class R</font></h2>\n",
    "\n",
    "The MRO for class <font color = blue>R</font>\n",
    "1.  <font color = blue>R,Y.mro(), T.mro()</font>\n",
    "\n",
    "    a. <font color = blue>Y.mro()</font> = Y, G, H, object\n",
    "    \n",
    "    b. <font color = blue>T.mro()</font> = K, H, object\n",
    "    \n",
    "    \n",
    "2.  Expanding the above we get:\n",
    "\n",
    "<font color = blue>R, Y, G, H object, T, K, H, object </font>\n",
    "    \n",
    "3.  Since in the above list `K` comes before `H`, we must first search for a method in `K` before searching in `H`. We also discard all but the last occurrence of `object` and our final result is :\n",
    "\n",
    "<font color = blue>R, Y, G, T, K, H, object</font> "
   ]
  },
  {
   "cell_type": "code",
   "execution_count": 4,
   "id": "b2655f08",
   "metadata": {},
   "outputs": [
    {
     "data": {
      "text/plain": [
       "[__main__.R,\n",
       " __main__.Y,\n",
       " __main__.G,\n",
       " __main__.T,\n",
       " __main__.K,\n",
       " __main__.H,\n",
       " object]"
      ]
     },
     "execution_count": 4,
     "metadata": {},
     "output_type": "execute_result"
    }
   ],
   "source": [
    "R.mro()"
   ]
  },
  {
   "cell_type": "markdown",
   "id": "18304a05",
   "metadata": {},
   "source": [
    "<h2><font color = blue> MRO for class Q</font></h2>\n",
    "\n",
    "Finally we discuss the MRO for class <font color = blue>Q</font>.  \n",
    "\n",
    "1. <font color = blue>Q, T.mro(), K.mro()</font>\n",
    "\n",
    "    a. <font color = blue>T.mro()</font> = T, K, H, object\n",
    "    \n",
    "    b. <font color = blue>K.mro()</font> = K, object\n",
    "    \n",
    "2.  Expanding the above we get:\n",
    "\n",
    "<font color = blue>Q, T, K, H object, K, object </font>\n",
    "    \n",
    "\n",
    "3. Since <font color = blue>K</font> appears in both <font color = blue>K.mro()</font> and <font color = blue>T.mro()</font>, we discard the first occurence of <font color = blue>K</font> and the final result is <font color = blue>Q, T, K, H, object</font>\n"
   ]
  },
  {
   "cell_type": "code",
   "execution_count": 13,
   "id": "8044106b",
   "metadata": {},
   "outputs": [
    {
     "data": {
      "text/plain": [
       "[__main__.Q, __main__.T, __main__.K, __main__.H, object]"
      ]
     },
     "execution_count": 13,
     "metadata": {},
     "output_type": "execute_result"
    }
   ],
   "source": [
    "Q.mro()"
   ]
  }
 ],
 "metadata": {
  "kernelspec": {
   "display_name": "Python 3 (ipykernel)",
   "language": "python",
   "name": "python3"
  },
  "language_info": {
   "codemirror_mode": {
    "name": "ipython",
    "version": 3
   },
   "file_extension": ".py",
   "mimetype": "text/x-python",
   "name": "python",
   "nbconvert_exporter": "python",
   "pygments_lexer": "ipython3",
   "version": "3.9.12"
  }
 },
 "nbformat": 4,
 "nbformat_minor": 5
}
