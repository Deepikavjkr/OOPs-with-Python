{
 "cells": [
  {
   "cell_type": "markdown",
   "metadata": {
    "collapsed": true
   },
   "source": [
    "<h3>Polymorphism</h3>\n",
    "In this notebook we introduce polymorphism, another very important principle of object oriented programming.  \n",
    "Polymorphism enables the same object to be processed in different ways depending on the class under consideration."
   ]
  },
  {
   "cell_type": "markdown",
   "metadata": {
    "collapsed": true
   },
   "source": [
    "We will study polymorphism via a simple example. We will use the same Employee and Full_TimeEmployee classes from before. In addition, we will add another child class called Part_Time_Employee. The details of this class are given below. We also add an additional method to all three classes. This method will have the same name, but will function differently for each of the three classes. This is the `compute_income()` method."
   ]
  },
  {
   "cell_type": "markdown",
   "metadata": {},
   "source": [
    "<h4>The Employee class</h4>\n",
    "\n",
    "The Employee class defined here is almost the same as the one in the previous example, except that it has an additional\n",
    "method called compute_income().   This method does nothing and just serves as a placeholder for later use."
   ]
  },
  {
   "cell_type": "code",
   "execution_count": 1,
   "metadata": {},
   "outputs": [],
   "source": [
    "class Employee:\n",
    "\n",
    "    def __init__(self, first_name, last_name):\n",
    "        self.first_name = first_name\n",
    "        self.last_name = last_name\n",
    "        \n",
    "    def __str__(self):\n",
    "        return \"The employee's name is {self.first_name} {self.last_name}.\"\n",
    "\n",
    "    def compute_income(self):\n",
    "        return 'Objects which are only objects of the Employee class do not have an income'"
   ]
  },
  {
   "cell_type": "markdown",
   "metadata": {},
   "source": [
    "<h4> The FullTimeEmployee class</h4>\n",
    "This is the FullTimeEmployee class. The only change is the inclusion of the compute_income() method. This method returns the mothly income of the employee by dividing the salary by 12."
   ]
  },
  {
   "cell_type": "code",
   "execution_count": 2,
   "metadata": {},
   "outputs": [],
   "source": [
    "class FullTimeEmp(Employee):\n",
    "    def __init__(self, fn, last_name, jt, salary):\n",
    "        super().__init__(fn, last_name)\n",
    "        self.salary = salary\n",
    "        self.job_title = jt\n",
    "        \n",
    "    def __str__(self):\n",
    "        op = super().__str__() \n",
    "        op += f\"The salary is: ${self.salary:,.2f} and the job title is: {self.job_title}\"\n",
    "        return op    \n",
    "   \n",
    "    def compute_income(self):\n",
    "        return f'The monthly income for this full time employee is ${self.salary / 12:,.2f}'"
   ]
  },
  {
   "cell_type": "markdown",
   "metadata": {},
   "source": [
    "<h4>The PartTimeEmployee</h4>\n",
    "This is the new child class we define. Like FullTimeEmployee, PartTimeEmployee is also a child of the Employee class. Therefore, any object of the PartTimeEmployee class is also an object of the Employee class and hence has all the methods and attributes of the Employee class.  We therefore need not define them again.\n",
    "\n",
    "The PartTimeEmployee has two instance variables in addition to first name and last name - _hourly rate_ and \n",
    "_number of hours worked_.  In addition to the  `__init__()` and `__str__()` methods, this class too has a method called `compute_income()`.  When called, this method will return the product of the number of hours worked times the hourly rate."
   ]
  },
  {
   "cell_type": "code",
   "execution_count": 3,
   "metadata": {},
   "outputs": [],
   "source": [
    "class PartTimeEmp(Employee):\n",
    "    def __init__(self, fn, last_name, rate, num):\n",
    "        super().__init__(fn, last_name)\n",
    "        self.hourly_rate = rate\n",
    "        self.num_hrs_wrkd  = num\n",
    "    \n",
    "    def __str__(self):\n",
    "        op = super().__str__() \n",
    "        op += f\"The hourly rate is: {self.hourly_rate} and the number of hours worked is: {self.num_hrs_wrkd}\"\n",
    "\n",
    "    def compute_income(self):\n",
    "        return f'The monthly income for this part time employee is ${self.hourly_rate * self.num_hrs_wrkd:,.2f}'"
   ]
  },
  {
   "cell_type": "markdown",
   "metadata": {},
   "source": [
    "We are now ready to test out our class definitions.  \n",
    "\n",
    "The term `polymorphism` (in object oriented programming) comes from the fact that the same object can behave differently. Any object which `is-a` object of different classes, can exhibit polymorphic behavior.\n",
    "\n",
    "As discussed earlier, a child object is also an object of the parent class.  Therefore, in this example, an object of the\n",
    "PartTimeEmployee (or FullTimeEmployee) class is also an object of the Employee class.  This is true since a PartTimeEmployee (FullTimeEmployee) is also an Employee.\n",
    "\n",
    "Our driver program will do the following.  It will create five Employee objects.  Two will be part time employees,\n",
    "two will be full time employees and one will be just an employee.  Once these objects have been created, we will print out \n",
    "the monthly income for each object."
   ]
  },
  {
   "cell_type": "markdown",
   "metadata": {},
   "source": [
    "Note that in the code below, when calling the `compute_income()` method, we do not have to worry about which specific version is being called. This is due to the polymorphic behavior of the objects."
   ]
  },
  {
   "cell_type": "code",
   "execution_count": 4,
   "metadata": {},
   "outputs": [
    {
     "name": "stdout",
     "output_type": "stream",
     "text": [
      "The monthly income for this part time employee is $760.00\n",
      "The monthly income for this full time employee is $10,416.67\n",
      "The monthly income for this part time employee is $490.50\n",
      "Objects which are only objects of the Employee class do not have an income\n",
      "The monthly income for this full time employee is $2,083,333.33\n"
     ]
    }
   ],
   "source": [
    "emp1 = PartTimeEmp('Amy', 'Johnson', 15.20, 50)\n",
    "emp2 = FullTimeEmp('Barbie', 'Doll', 'Manager', 125_000)\n",
    "emp3 = PartTimeEmp('Jackie', 'Shroff', 10.90, 45)\n",
    "emp4 = Employee('Tracie', 'Bones')\n",
    "emp5 = FullTimeEmp('Lily', 'Singh', 'Talk show host', 25_000_000)\n",
    "emp_lst =  [emp1, emp2, emp3, emp4, emp5]\n",
    "\n",
    "for emp in emp_lst:\n",
    "    print(emp.compute_income())\n",
    "    \n",
    "    \n",
    "#5 employee objects"
   ]
  },
  {
   "cell_type": "code",
   "execution_count": 7,
   "metadata": {},
   "outputs": [
    {
     "name": "stdout",
     "output_type": "stream",
     "text": [
      "The monthly income for this part time employee is $30.00\n",
      "The monthly income for this full time employee is $2,000.00\n",
      "The monthly income for this part time employee is $30.00\n",
      "Objects which are only objects of the Employee class do not have an income\n",
      "The monthly income for this full time employee is $2,000,000.00\n"
     ]
    }
   ],
   "source": [
    "emp1 = PartTimeEmp('Amy', 'Johnson', 15, 2)\n",
    "emp2 = FullTimeEmp('Amy', 'Johnson', 'Manager',24_000)\n",
    "emp3 = PartTimeEmp('Amy', 'Johnson', 15, 2)\n",
    "emp4 = Employee('Tracie', 'Bones')\n",
    "emp5 = FullTimeEmp('Lily', 'Singh', 'Talk show host', 24_000_000)\n",
    "emp_lst =  [emp1, emp2, emp3, emp4, emp5]\n",
    "\n",
    "for emp in emp_lst:\n",
    "    print(emp.compute_income())"
   ]
  },
  {
   "cell_type": "code",
   "execution_count": null,
   "metadata": {},
   "outputs": [],
   "source": []
  }
 ],
 "metadata": {
  "kernelspec": {
   "display_name": "Python 3 (ipykernel)",
   "language": "python",
   "name": "python3"
  },
  "language_info": {
   "codemirror_mode": {
    "name": "ipython",
    "version": 3
   },
   "file_extension": ".py",
   "mimetype": "text/x-python",
   "name": "python",
   "nbconvert_exporter": "python",
   "pygments_lexer": "ipython3",
   "version": "3.9.12"
  }
 },
 "nbformat": 4,
 "nbformat_minor": 2
}
