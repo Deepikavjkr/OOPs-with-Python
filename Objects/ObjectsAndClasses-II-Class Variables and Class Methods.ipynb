{
 "cells": [
  {
   "cell_type": "markdown",
   "metadata": {
    "collapsed": true
   },
   "source": [
    "<h3>Objects And Classes - II- Class Variables and Class Methods"
   ]
  },
  {
   "cell_type": "markdown",
   "metadata": {},
   "source": [
    "In the previous notebook, we saw how to define instance variables and instance methods.  \n",
    "\n",
    "`Instance variables` are associated with objects or instances of a class and `instance methods` operate on objects or instances of a class.\n",
    "\n",
    "On the other hand, class variables are variables shared by all instances of a class.    Class methods are methods that operate on the class.\n",
    "\n",
    "We will continue with the `BankAccount` example.  Assume all `BankAccount` objects earn the same interest rate. We will store this interest rate as a class variable.  We will also define a class method that will update the account balance for each account by the appropriate interest amount."
   ]
  },
  {
   "cell_type": "markdown",
   "metadata": {},
   "source": [
    "<h4>Adding a class variable</h4>\n",
    "\n",
    "Class variables are declared outside the method definitions.\n",
    "In the cell below, we declare and initialize the variable `int_rate` outside all method definitions."
   ]
  },
  {
   "cell_type": "code",
   "execution_count": 1,
   "metadata": {},
   "outputs": [],
   "source": [
    "class BankAccount:\n",
    "    int_rate = 1.035\n",
    "    def __init__(self, cust_name, acc_balance):\n",
    "        self.cust_name = cust_name\n",
    "        self.acc_balance = acc_balance\n",
    "        \n",
    "    def withdraw(self, with_amt):\n",
    "        if self.acc_balance - with_amt <= 0:\n",
    "            print('Insufficient funds')\n",
    "        else:\n",
    "            self.acc_balance -= with_amt\n",
    "            print(f'Your new balance is ${self.acc_balance:,.2f}')  \n",
    "            \n",
    "    def deposit(self, dep_amt):\n",
    "        if dep_amt <= 0:\n",
    "            print('Deposit amount should be positive')\n",
    "        else:\n",
    "            self.acc_balance += dep_amt\n",
    "            print(f'Your new balance is ${self.acc_balance:,.2f}')  \n",
    "    def __str__(self):\n",
    "        return f'{self.cust_name} has an account balance of ${self.acc_balance:0,.2f}'"
   ]
  },
  {
   "cell_type": "markdown",
   "metadata": {},
   "source": [
    "<h4>Accessing class variables</h4>\n",
    "Class variables can be accessed by prefixing the variable with either the class name or the name of any object of that class."
   ]
  },
  {
   "cell_type": "code",
   "execution_count": 2,
   "metadata": {},
   "outputs": [
    {
     "name": "stdout",
     "output_type": "stream",
     "text": [
      "1.035\n"
     ]
    }
   ],
   "source": [
    "print(BankAccount.int_rate)"
   ]
  },
  {
   "cell_type": "code",
   "execution_count": 3,
   "metadata": {},
   "outputs": [
    {
     "name": "stdout",
     "output_type": "stream",
     "text": [
      "1.035\n",
      "1.035\n"
     ]
    }
   ],
   "source": [
    "acc_1 = BankAccount('Jim', 1200)\n",
    "acc_2 = BankAccount('Jill', 18000)\n",
    "print(acc_1.int_rate)\n",
    "print(acc_2.int_rate)"
   ]
  },
  {
   "cell_type": "markdown",
   "metadata": {},
   "source": [
    "<h4>Updating class Variables</h4>\n",
    "\n",
    "To update a class variable, you must prefix it by the class name.\n",
    "\n",
    "If you prefix by the name of an object, the variable is treated as an instance variable for that object alone.\n",
    "\n",
    "The `__dict__` attribute can be used to get the attributes and methods that are available to a class or an object.  \n",
    "\n",
    "Consider the example below:  \n",
    "1.  We first update the `int_rate` variable by prefixing with the class name.  It can be seen from the print statements that follow that all objects of the class have the same value for `int_rate`.  This is because the `int_rate` variable exists only in the class namespace and not in the object's namespace.  See the output of printing the  `__dict__` attribute"
   ]
  },
  {
   "cell_type": "code",
   "execution_count": 5,
   "metadata": {},
   "outputs": [
    {
     "name": "stdout",
     "output_type": "stream",
     "text": [
      "1.05\n",
      "1.05\n"
     ]
    }
   ],
   "source": [
    "BankAccount.int_rate = 1.05\n",
    "print(acc_1.int_rate)\n",
    "print(acc_2.int_rate)"
   ]
  },
  {
   "cell_type": "code",
   "execution_count": 6,
   "metadata": {},
   "outputs": [
    {
     "name": "stdout",
     "output_type": "stream",
     "text": [
      "{'cust_name': 'Jim', 'acc_balance': 1200}\n",
      "\n",
      " {'__module__': '__main__', 'int_rate': 1.05, '__init__': <function BankAccount.__init__ at 0x000001FB7D0BA438>, 'withdraw': <function BankAccount.withdraw at 0x000001FB7D0BA4C8>, 'deposit': <function BankAccount.deposit at 0x000001FB7D0BA558>, '__str__': <function BankAccount.__str__ at 0x000001FB7D0BA5E8>, '__dict__': <attribute '__dict__' of 'BankAccount' objects>, '__weakref__': <attribute '__weakref__' of 'BankAccount' objects>, '__doc__': None}\n"
     ]
    }
   ],
   "source": [
    "print(acc_1.__dict__)\n",
    "print('\\n', BankAccount.__dict__)"
   ]
  },
  {
   "cell_type": "markdown",
   "metadata": {},
   "source": [
    "<h4><font color = blue>__my_dict__</font> after updating using class name</h4>\n",
    "\n",
    "It can be seen from the cell below, that any changes made to the `int_rate` variable using the class name applies to every object of the class.\n",
    "\n",
    "UNLESS: we update using the name of an object as shown later."
   ]
  },
  {
   "cell_type": "code",
   "execution_count": 7,
   "metadata": {},
   "outputs": [
    {
     "name": "stdout",
     "output_type": "stream",
     "text": [
      "1.06\n"
     ]
    }
   ],
   "source": [
    "BankAccount.int_rate = 1.06\n",
    "print(acc_1.int_rate)"
   ]
  },
  {
   "cell_type": "markdown",
   "metadata": {},
   "source": [
    "<h4><font color = blue>__my_dict__</font> after updating using object name</h4>\n",
    "\n",
    "If we update `int_rate` by prefixng with an object name, then what is really happening is that a new __instance__ variable is created for that object alone."
   ]
  },
  {
   "cell_type": "code",
   "execution_count": 8,
   "metadata": {},
   "outputs": [
    {
     "name": "stdout",
     "output_type": "stream",
     "text": [
      "BA: 1.06\n",
      "acc_2: 1.06\n",
      "acc_1: 1.025\n",
      "acc_1.__dict__ {'cust_name': 'Jim', 'acc_balance': 1200, 'int_rate': 1.025}\n",
      "\n",
      "BankAccount.__dict__ {'__module__': '__main__', 'int_rate': 1.06, '__init__': <function BankAccount.__init__ at 0x000001FB7D0BA438>, 'withdraw': <function BankAccount.withdraw at 0x000001FB7D0BA4C8>, 'deposit': <function BankAccount.deposit at 0x000001FB7D0BA558>, '__str__': <function BankAccount.__str__ at 0x000001FB7D0BA5E8>, '__dict__': <attribute '__dict__' of 'BankAccount' objects>, '__weakref__': <attribute '__weakref__' of 'BankAccount' objects>, '__doc__': None}\n"
     ]
    }
   ],
   "source": [
    "acc_1.int_rate = 1.025\n",
    "print('BA:', BankAccount.int_rate)\n",
    "print('acc_2:', acc_2.int_rate)\n",
    "print('acc_1:', acc_1.int_rate)\n",
    "print('acc_1.__dict__', acc_1.__dict__)\n",
    "print('\\nBankAccount.__dict__',BankAccount.__dict__)"
   ]
  },
  {
   "cell_type": "markdown",
   "metadata": {},
   "source": [
    "<h3>Class Methods</h3>\n",
    "\n",
    "<h4>Defining Class Methods</h4>\n",
    "\n",
    "We will create a class method to update the `int_rate` variable.\n",
    "\n",
    "Defining class methods is very similar to defining an instance method except for the following two differences:  \n",
    "1.  Add the `@classmethod` decorator right above the start of the class method definition.  \n",
    "2.  Instead of passing the `self` parameter, we will pass the `cls` parameter, where `cls` represents the class"
   ]
  },
  {
   "cell_type": "code",
   "execution_count": 9,
   "metadata": {},
   "outputs": [],
   "source": [
    "class BankAccount:\n",
    "    int_rate = 1.035\n",
    "    def __init__(self, cust_name, acc_balance):\n",
    "        self.cust_name = cust_name\n",
    "        self.acc_balance = acc_balance\n",
    "        \n",
    "    def withdraw(self, with_amt):\n",
    "        if self.acc_balance - with_amt <= 0:\n",
    "            print('Insufficient funds')\n",
    "        else:\n",
    "            self.acc_balance -= with_amt\n",
    "            print(f'Your new balance is ${self.acc_balance:,.2f}')  \n",
    "            \n",
    "    def deposit(self, dep_amt):\n",
    "        if dep_amt <= 0:\n",
    "            print('Deposit amount should be positive')\n",
    "        else:\n",
    "            self.acc_balance += dep_amt\n",
    "            print(f'Your new balance is ${self.acc_balance:,.2f}')  \n",
    "    def __str__(self):\n",
    "        return f'{self.cust_name} has an account balance of ${self.acc_balance:0,.2f}'\n",
    "    \n",
    "    @classmethod\n",
    "    def update_int_rate(cls, new_int_rate):\n",
    "        if new_int_rate <= 0:\n",
    "            print('Interest Rate must be strictly positive!')\n",
    "        else:\n",
    "            cls.int_rate = new_int_rate"
   ]
  },
  {
   "cell_type": "markdown",
   "metadata": {},
   "source": [
    "<h4>Calling Class Methods</h4>\n",
    "\n",
    "To call a class method, you can prefix the method name with the class name or object name.  In either case, the class variable is updated."
   ]
  },
  {
   "cell_type": "code",
   "execution_count": 10,
   "metadata": {},
   "outputs": [],
   "source": [
    "acc_1 = BankAccount('Jim', 1200)\n",
    "acc_2 = BankAccount('Jill', 18000)"
   ]
  },
  {
   "cell_type": "code",
   "execution_count": 11,
   "metadata": {},
   "outputs": [
    {
     "name": "stdout",
     "output_type": "stream",
     "text": [
      "1.02\n"
     ]
    }
   ],
   "source": [
    "BankAccount.update_int_rate(1.02)\n",
    "print(BankAccount.int_rate)"
   ]
  },
  {
   "cell_type": "code",
   "execution_count": 12,
   "metadata": {},
   "outputs": [],
   "source": [
    "acc_1.update_int_rate(1.09)"
   ]
  },
  {
   "cell_type": "code",
   "execution_count": 13,
   "metadata": {},
   "outputs": [
    {
     "name": "stdout",
     "output_type": "stream",
     "text": [
      "1.09\n"
     ]
    }
   ],
   "source": [
    "print(BankAccount.int_rate)"
   ]
  }
 ],
 "metadata": {
  "kernelspec": {
   "display_name": "Python 3 (ipykernel)",
   "language": "python",
   "name": "python3"
  },
  "language_info": {
   "codemirror_mode": {
    "name": "ipython",
    "version": 3
   },
   "file_extension": ".py",
   "mimetype": "text/x-python",
   "name": "python",
   "nbconvert_exporter": "python",
   "pygments_lexer": "ipython3",
   "version": "3.9.12"
  }
 },
 "nbformat": 4,
 "nbformat_minor": 2
}
