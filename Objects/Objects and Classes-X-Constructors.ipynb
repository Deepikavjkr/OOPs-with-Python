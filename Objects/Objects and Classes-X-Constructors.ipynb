{
 "cells": [
  {
   "cell_type": "markdown",
   "metadata": {
    "collapsed": true
   },
   "source": [
    "<h3> Constructors (the <font color = blue>__init__()</font> method)</h3>\n",
    "\n",
    "In this notebook, we discuss calls to constructors.  Recall that the constructor (`__init__() method`) is automatically called whenever we create an object of the class.  All classes have a default constructor that we can override if needed. In most of the examples so far, we have choosen to override the default constructor and redefine it.\n",
    "\n",
    "We need to override the default constructor for one or both of the following reasons:\n",
    "1. We wish to initialize the instance variables or do some other processing that REQUIRES parameters to be passed to the constructor.  This will be the case for most of the classes we write in this course.  In this scenario, we MUST redefine the default constructor so that it accepts the requisite parameters.  \n",
    "2.  We wish to initialize the instance variables or do some other processing NOT REQUIRING parameters to be passed to the constructor.  In this scenario too, we MUST redefine the default constructor so that any necessary processing can be performed..\n",
    "\n",
    "We will take a closer look at calling constructors via examples.  We will first consider the possibilities when we have a single class and there is no inheritance."
   ]
  },
  {
   "cell_type": "markdown",
   "metadata": {},
   "source": [
    "In this example, class A only has a default constructor, that is, we have not overridden the `__init__()` method. This is automatically called and hence the call to `method1()` is valid and functions as desired. "
   ]
  },
  {
   "cell_type": "code",
   "execution_count": 1,
   "metadata": {},
   "outputs": [
    {
     "name": "stdout",
     "output_type": "stream",
     "text": [
      "from method1: class A\n"
     ]
    }
   ],
   "source": [
    "class A:\n",
    "    def method1(self):\n",
    "        print('from method1: class A')\n",
    "        \n",
    "    def method2(self):\n",
    "        print('from method2: class A')   \n",
    "        \n",
    "objA = A()\n",
    "objA.method1()"
   ]
  },
  {
   "cell_type": "markdown",
   "metadata": {},
   "source": [
    "In this example, class A has an overridden constructor that requires no arguments. But the `__init__()` method was redefined in order to do some extra processing. "
   ]
  },
  {
   "cell_type": "code",
   "execution_count": 3,
   "metadata": {},
   "outputs": [
    {
     "name": "stdout",
     "output_type": "stream",
     "text": [
      "In constructor of class A\n",
      "from method1: class A\n",
      "15\n"
     ]
    }
   ],
   "source": [
    "class A:\n",
    "    def __init__(self):\n",
    "        print('In constructor of class A')\n",
    "        self.x = 15\n",
    "        \n",
    "    def method1(self):\n",
    "        print('from method1: class A')\n",
    "        print(self.x) #Note that the value of x is correctly printed.\n",
    "        \n",
    "    def method2(self):\n",
    "        print('from method2: class A')   \n",
    "        \n",
    "objA = A()\n",
    "objA.method1()"
   ]
  },
  {
   "cell_type": "markdown",
   "metadata": {},
   "source": [
    "In this example, class A has an overridden constructor that requires one argument.  Hence this constructor must be called by providing the parameter value as required. Otherwise an error will result. This can be seen from the fact that objA is successfully created since we pass the parameter value as needed. However, when we attempt to create objB without the required parameter value, this results in an error."
   ]
  },
  {
   "cell_type": "code",
   "execution_count": null,
   "metadata": {},
   "outputs": [],
   "source": [
    "class A:\n",
    "    def __init__(self, x):\n",
    "        print('In constructor of class A')\n",
    "        self.x = x\n",
    "        \n",
    "    def method1(self):\n",
    "        print('from method1: class A')\n",
    "        print(self.x)\n",
    "        \n",
    "    def method2(self):\n",
    "        print('from method2: class A')   \n",
    "        \n",
    "objA = A(12)\n",
    "objA.method1()\n",
    "#objB = A() #This will result in an error"
   ]
  },
  {
   "cell_type": "code",
   "execution_count": null,
   "metadata": {},
   "outputs": [],
   "source": [
    "obj=A()"
   ]
  },
  {
   "cell_type": "markdown",
   "metadata": {},
   "source": [
    "Now let us consider the case when we have inheritance.  Class B inherits from Class A.  To begin with, we will study\n",
    "the case where BOTH the subclass and the superclass DO NOT REQUIRE ANY ARGUMENTS to be passed to the `__init__()` method.  \n",
    "\n",
    "We will see what happens when we create an object of the subclass (i.e., an object of class B).   There are four possibilities:\n",
    "1. Neither subclass B not superclass A has a redefined `__init__()` method.  \n",
    "2. Superclass A has an redefined `__init__()` method but subclass B uses the default `__init__()` method.\n",
    "3. Subclass B has an redefined `__init__()` method but superclass A uses the default `__init__()` method.  \n",
    "4. Both classes A and B have redefined `__init__()` methods.\n",
    "\n",
    "In all of these cases, except for the last one the constructors need not be explicitly called.  However, if both the subclass and the superclass have redefined constructors, then the subclass MUST explictly call the superclass constructor.  Otherwise an error will result.\n"
   ]
  },
  {
   "cell_type": "markdown",
   "metadata": {},
   "source": [
    "<h3>NO PARAMETERS REQUIRED BY EITHER SUBCLASS OR SUPERCLASS</h3>"
   ]
  },
  {
   "cell_type": "markdown",
   "metadata": {},
   "source": [
    "<h4>Case 1. Neither the subclass nor the superclass have a redefined construtor:</h4>  \n",
    "\n",
    "If an object of B  is created, the default `__init__()` method of B is automatically called which then automatically calls the default `__init__()` method of A.\n",
    "\n",
    "Hence, B:  \n",
    "1.  inherits `method1()` from A  \n",
    "2.  overrides `method2()` from A  \n",
    "3.  has an additional method - `method3()`"
   ]
  },
  {
   "cell_type": "code",
   "execution_count": 4,
   "metadata": {},
   "outputs": [
    {
     "name": "stdout",
     "output_type": "stream",
     "text": [
      "from method2: class A\n",
      "from method1: class A\n",
      "from method2: class B\n",
      "from method3: class B\n"
     ]
    }
   ],
   "source": [
    "class A:\n",
    "    def method1(self):\n",
    "        print('from method1: class A')\n",
    "        \n",
    "    def method2(self):\n",
    "        print('from method2: class A')   \n",
    "\n",
    "class B(A):\n",
    "    def method2(self):\n",
    "        print('from method2: class B')\n",
    "        \n",
    "    def method3(self):\n",
    "        print('from method3: class B')\n",
    "        \n",
    "objB = B()\n",
    "objA = A()\n",
    "objA.method2()\n",
    "objB.method1()  # The method1() defined in A will be executed\n",
    "objB.method2()  # The method2() defined in B will be executed\n",
    "objB.method3()\n"
   ]
  },
  {
   "cell_type": "code",
   "execution_count": 5,
   "metadata": {},
   "outputs": [],
   "source": [
    "objB = B()\n",
    "objA = A()"
   ]
  },
  {
   "cell_type": "code",
   "execution_count": 6,
   "metadata": {},
   "outputs": [
    {
     "name": "stdout",
     "output_type": "stream",
     "text": [
      "from method2: class A\n",
      "from method1: class A\n",
      "from method2: class B\n",
      "from method3: class B\n"
     ]
    }
   ],
   "source": [
    "objA.method2()\n",
    "objB.method1()  # The method1() defined in A will be executed\n",
    "objB.method2()  # The method2() defined in B will be executed\n",
    "objB.method3()"
   ]
  },
  {
   "cell_type": "markdown",
   "metadata": {},
   "source": [
    "<h4>Case 2: Overridden super class constructor and default subclass constructor: </h4>\n",
    "\n",
    "If an object of B  is created, the default `__init__()` method of B is automatically called which then automatically \n",
    "calls the overridden `__init__()` method of A. \n",
    "\n",
    "As before, B:  \n",
    "1.  inherits `method1()` from A  \n",
    "2.  overrides `method2()` from A  \n",
    "3.  has an additional method - `method3()`"
   ]
  },
  {
   "cell_type": "code",
   "execution_count": 7,
   "metadata": {
    "scrolled": true
   },
   "outputs": [
    {
     "name": "stdout",
     "output_type": "stream",
     "text": [
      "objB.x 20\n",
      "from method1: class A\n",
      "from method2: class B\n",
      "from method3: class B\n"
     ]
    }
   ],
   "source": [
    "class A:\n",
    "    def __init__(self):\n",
    "        self.x = 20\n",
    "        \n",
    "    def method1(self):\n",
    "        print('from method1: class A')\n",
    "        \n",
    "    def method2(self):\n",
    "        print('from method2: class A')   \n",
    "\n",
    "class B(A):\n",
    "\n",
    "    def method2(self):\n",
    "        print('from method2: class B')\n",
    "        \n",
    "    def method3(self):\n",
    "        print('from method3: class B')\n",
    "\n",
    "objB = B()\n",
    "print('objB.x',objB.x) #This will correctly print out the value of the variable x that is inherited from class A\n",
    "objB.method1()  # The method1() defined in A will be executed\n",
    "objB.method2()  # The method2() defined in B will be executed\n",
    "objB.method3()        "
   ]
  },
  {
   "cell_type": "markdown",
   "metadata": {},
   "source": [
    "<h4>Case 3: Default super class constructor and overridden subclass constructor: </h4>\n",
    "\n",
    "If an object of B  is created, the overridden `__init__()` method of B will be automatically called.  The `__init__()` method of B will then automatically call the default constructor of A."
   ]
  },
  {
   "cell_type": "code",
   "execution_count": 8,
   "metadata": {},
   "outputs": [
    {
     "name": "stdout",
     "output_type": "stream",
     "text": [
      "from method1: class A\n",
      "from method2: class B\n",
      "from method3: class B\n",
      "20\n"
     ]
    }
   ],
   "source": [
    "class A:    \n",
    "    def method1(self):\n",
    "        print('from method1: class A')\n",
    "        \n",
    "    def method2(self):\n",
    "        print('from method2: class A')   \n",
    "\n",
    "class B(A):\n",
    "    def __init__(self):\n",
    "        self.x = 20\n",
    "        \n",
    "    def method2(self):\n",
    "        print('from method2: class B')\n",
    "        \n",
    "    def method3(self):\n",
    "        print('from method3: class B')\n",
    "        \n",
    "objB = B()\n",
    "\n",
    "objB.method1()  # The method1() defined in A will be executed\n",
    "objB.method2()  # The method2() defined in B will be executed\n",
    "objB.method3()\n",
    "print(objB.x)\n",
    "        "
   ]
  },
  {
   "cell_type": "markdown",
   "metadata": {},
   "source": [
    "<h4>Case 4:  Both superclass and subclass have overridden `__init__()` methods.</h4>\n",
    "\n",
    "In this case, the overridden constructor of the child class must explcitly call the overridden constructor of the parent.  \n",
    "\n",
    "In the example below, since the `__init__()` method of the subclass does not explicitly call the `__init__()` method of the\n",
    "superclass, the call to `objB.x` will result in an error.  This is because a redefined method of a subclass automatically\n",
    "calls only the DEFAULT method of the superclass.  If you need to call a redefined constructor of the superclass from a \n",
    "redefined constructor of the subclass, this call must be explicitly made."
   ]
  },
  {
   "cell_type": "code",
   "execution_count": 9,
   "metadata": {
    "scrolled": false
   },
   "outputs": [
    {
     "name": "stdout",
     "output_type": "stream",
     "text": [
      "From constructor of A\n",
      "from method1: class A\n",
      "from method1: class A\n",
      "from method2: class B\n",
      "from method3: class B\n",
      "objB.y 50\n",
      "objA.x 20\n"
     ]
    }
   ],
   "source": [
    "class A:\n",
    "    def __init__(self):\n",
    "        print('From constructor of A')\n",
    "        self.x = 20\n",
    "        \n",
    "    def method1(self):\n",
    "        print('from method1: class A')\n",
    "        \n",
    "    def method2(self):\n",
    "        print('from method2: class A')   \n",
    "\n",
    "class B(A):\n",
    "    def __init__(self):\n",
    "        self.y = 50\n",
    "\n",
    "    def method2(self):\n",
    "        print('from method2: class B')\n",
    "        \n",
    "    def method3(self):\n",
    "        print('from method3: class B')\n",
    "        \n",
    "objA =A()\n",
    "objB = B()\n",
    "\n",
    "objA.method1()\n",
    "objB.method1()  # The method1() defined in A will be executed\n",
    "objB.method2()  # The method2() defined in B will be executed\n",
    "objB.method3()\n",
    "#print('objB.x', objB.x) # This line will return an error\n",
    "print('objB.y', objB.y)\n",
    "print('objA.x', objA.x)\n",
    "        "
   ]
  },
  {
   "cell_type": "markdown",
   "metadata": {},
   "source": [
    "<h4>Case 4:  Both superclass and subclass have overridden `__init__()` methods.</h4>  \n",
    "\n",
    "This is the same example as above.  The only difference is that now, the subclass constructor explicitly calls the superclass constructor thus eliminating the error that would otherwise occur."
   ]
  },
  {
   "cell_type": "code",
   "execution_count": 10,
   "metadata": {},
   "outputs": [
    {
     "name": "stdout",
     "output_type": "stream",
     "text": [
      "From constructor of A\n",
      "From constructor of A\n",
      "from method1: class A\n",
      "from method2: class B\n",
      "from method3: class B\n",
      "objB.x 20\n",
      "objB.y 50\n"
     ]
    }
   ],
   "source": [
    "\n",
    "class A:\n",
    "    def __init__(self):\n",
    "        print('From constructor of A')\n",
    "        self.x = 20\n",
    "        \n",
    "    def method1(self):\n",
    "        print('from method1: class A')\n",
    "        \n",
    "    def method2(self):\n",
    "        print('from method2: class A')   \n",
    "\n",
    "class B(A):\n",
    "    def __init__(self):\n",
    "        self.y = 50\n",
    "        super().__init__()\n",
    "\n",
    "    def method2(self):\n",
    "        print('from method2: class B')\n",
    "        \n",
    "    def method3(self):\n",
    "        print('from method3: class B')\n",
    "\n",
    "objA =A()\n",
    "objB = B()\n",
    "\n",
    "objB.method1()  # The method1() defined in A will be executed\n",
    "objB.method2()  # The method2() defined in B will be executed\n",
    "objB.method3()\n",
    "print('objB.x', objB.x) # This line will execute as desired since an explicit call was made to the super class constructor\n",
    "print('objB.y', objB.y)\n",
    "        "
   ]
  },
  {
   "cell_type": "markdown",
   "metadata": {},
   "source": [
    "Now we move on to the case where either the subclass or the superclass constructor requires parameters.  As stated earlier,\n",
    "the `__init__()` method needs to be redefined for the subclass anytime parameters are needed for the method\n",
    "and the `__init__()` method must be called with the correct arguments passed to it.\n",
    "\n",
    "In addition, if the superclass constructor requires parameters, the subclass constructor MUST be redefined.  Further, the\n",
    "subclass constructor MUST explicitly call the superclass constructor with the appropriate arguments."
   ]
  },
  {
   "cell_type": "markdown",
   "metadata": {},
   "source": [
    "<h3>PARAMETERS REQUIRED BY EITHER SUBCLASS OR SUPERCLASS</h3>"
   ]
  },
  {
   "cell_type": "markdown",
   "metadata": {},
   "source": [
    "<h4>Case 1:  Subclass requires a parameter.  Superclass does not.</h4>\n",
    "\n",
    "The subclass constructor needs to explicitly call the superclass constructor only if the superclass constructor is redefined."
   ]
  },
  {
   "cell_type": "code",
   "execution_count": 11,
   "metadata": {},
   "outputs": [
    {
     "name": "stdout",
     "output_type": "stream",
     "text": [
      "from method1: class A\n",
      "from method1: class A\n",
      "from method2: class B\n",
      "from method3: class B\n",
      "objB.y 15\n"
     ]
    }
   ],
   "source": [
    "class A:        \n",
    "    def method1(self):\n",
    "        print('from method1: class A')\n",
    "        \n",
    "    def method2(self):\n",
    "        print('from method2: class A')   \n",
    "\n",
    "class B(A):\n",
    "    def __init__(self, y): #Note that there is no explicit call to the superclass constructor.  \n",
    "        self.y = y\n",
    "\n",
    "    def method2(self):\n",
    "        print('from method2: class B')\n",
    "        \n",
    "    def method3(self):\n",
    "        print('from method3: class B')\n",
    "        \n",
    "\n",
    "        \n",
    "objB = B(15) #You have to explicitly call B() with the correct argument.\n",
    "objA = A()\n",
    "objA.method1()\n",
    "objB.method1()  # The method1() defined in A will be executed\n",
    "objB.method2()  # The method2() defined in B will be executed\n",
    "objB.method3()\n",
    "\n",
    "print('objB.y', objB.y)"
   ]
  },
  {
   "cell_type": "markdown",
   "metadata": {},
   "source": [
    "<h4>Case 2:  Subclass does not require a parameter.  Superclass requires a parameter. </h4>\n",
    "\n",
    "The subclass constructor MUST be redefined and MUST explicitly call the superclass constructor passing to it the correct argument.\n",
    "\n",
    "In this cell, we will consider the case where the subclass constructor is not redefined.\n",
    "Therefore, the default `__init__()` method of the superclass is called resulting in an error. "
   ]
  },
  {
   "cell_type": "code",
   "execution_count": null,
   "metadata": {},
   "outputs": [],
   "source": [
    "class A:    \n",
    "    def __init__(self,x):\n",
    "        print('Calling from constructor of class A') #This line will not be printed when creating an object of class B\n",
    "        self.x = x\n",
    "        \n",
    "    def method1(self):\n",
    "        print('from method1: class A')\n",
    "        \n",
    "    def method2(self):\n",
    "        print('from method2: class A')   \n",
    "\n",
    "class B(A):\n",
    "    #Note that the subclass constructor is not redefined. \n",
    "\n",
    "    def method2(self):\n",
    "        print('from method2: class B')\n",
    "        \n",
    "    def method3(self):\n",
    "        print('from method3: class B')\n",
    "        \n",
    "\n",
    "        \n",
    "#objB = B() #This line results in an error since the superclass constructor will be called without an argument\n",
    "objB = B(12)\n",
    "objB.method1()  # The method1() defined in A will be executed\n",
    "objB.method2()  # The method2() defined in B will be executed\n",
    "objB.method3()\n",
    "\n",
    "\n",
    "print('objB.x', objB.x) "
   ]
  },
  {
   "cell_type": "markdown",
   "metadata": {},
   "source": [
    "<h4>Case 2:  Subclass does not require a parameter.  Superclass requires a parameter.</h4>\n",
    "The subclass constructor MUST be redefined and MUST explicitly call the superclass constructor passing to it the correct argument.\n",
    "\n",
    "In this cell, we will consider the case where the subclass constructor is redefined and explicitly calls the superclass.\n"
   ]
  },
  {
   "cell_type": "code",
   "execution_count": null,
   "metadata": {},
   "outputs": [],
   "source": [
    "class A:    \n",
    "    def __init__(self, x):\n",
    "        print('Calling from constructor of class A') #This line will not be printed when creating an object of class B\n",
    "        self.x = x\n",
    "        \n",
    "    def method1(self):\n",
    "        print('from method1: class A')\n",
    "        \n",
    "    def method2(self):\n",
    "        print('from method2: class A')   \n",
    "\n",
    "class B(A):\n",
    "    def __init__(self, x):  #Requires a parameter to pass to the superclass\n",
    "        print('From init() method of class B')\n",
    "        super().__init__(x)\n",
    "        \n",
    "\n",
    "    def method2(self):\n",
    "        print('from method2: class B')\n",
    "        \n",
    "    def method3(self):\n",
    "        print('from method3: class B')\n",
    "            \n",
    "objB = B(15) #Parameter is being passed correctly.\n",
    "objB.method1()  # The method1() defined in A will be executed\n",
    "objB.method2()  # The method2() defined in B will be executed\n",
    "objB.method3()\n",
    "\n",
    "\n",
    "print('objB.x', objB.x) "
   ]
  },
  {
   "cell_type": "markdown",
   "metadata": {},
   "source": [
    "<h4>Case 3:  Both subclass and superclass require parameters.</h4>\n",
    "The subclass constructor MUST be redefined and MUST explicitly call the superclass constructor.\n",
    "\n",
    "The example below is the same as the one above except that this time, both the subclass constructor as well as the\n",
    "superclass constructor require parameters.  The redefined subclass correctly accepts both parameters  and explictly calls the superclass constructor with the appropriate argument."
   ]
  },
  {
   "cell_type": "code",
   "execution_count": null,
   "metadata": {},
   "outputs": [],
   "source": [
    "class A:    \n",
    "    def __init__(self, x):\n",
    "        print('Calling from constructor of class A') #This line will not be printed when creating an object of class B\n",
    "        self.x = x\n",
    "        \n",
    "    def method1(self):\n",
    "        print('from method1: class A')\n",
    "        \n",
    "    def method2(self):\n",
    "        print('from method2: class A')   \n",
    "\n",
    "class B(A):\n",
    "    def __init__(self, y, x): #Note the two arguments and the explicit call to the superclass constructor.  \n",
    "        self.y = y\n",
    "        super().__init__(x) #The argument to the superclass must be passed\n",
    "\n",
    "    def method2(self):\n",
    "        print('from method2: class B')\n",
    "        \n",
    "    def method3(self):\n",
    "        print('from method3: class B')\n",
    "        \n",
    "\n",
    "        \n",
    "objB = B(15, 20) #You have to explicitly call B() with the correct argument.\n",
    "objB.method1()  # The method1() defined in A will be executed\n",
    "objB.method2()  # The method2() defined in B will be executed\n",
    "objB.method3()\n",
    "\n",
    "print('objB.y', objB.y)\n",
    "print('objB.x', objB.x) "
   ]
  }
 ],
 "metadata": {
  "kernelspec": {
   "display_name": "Python 3 (ipykernel)",
   "language": "python",
   "name": "python3"
  },
  "language_info": {
   "codemirror_mode": {
    "name": "ipython",
    "version": 3
   },
   "file_extension": ".py",
   "mimetype": "text/x-python",
   "name": "python",
   "nbconvert_exporter": "python",
   "pygments_lexer": "ipython3",
   "version": "3.9.12"
  }
 },
 "nbformat": 4,
 "nbformat_minor": 2
}
