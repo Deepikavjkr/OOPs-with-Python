{
 "cells": [
  {
   "cell_type": "markdown",
   "metadata": {
    "collapsed": true
   },
   "source": [
    "<h3>Objects And Classes - Practice Problem - Class Definition</h3>\n",
    "\n",
    "In this notebook we will define the Automobile class. First we describe the attributes and methods for the class. The Automobile class has the following attributes:\n",
    "1.  Make\n",
    "2.  Model\n",
    "4.  Mileage\n",
    "5.  Speed\n",
    "\n",
    "The class also has a class variable: `num_of_autos`\n",
    "1.  Define the `__init__()` method as appropriate. Your `__init__()` should also:  \n",
    "  a.  increment the class variable.  \n",
    "  b.  ensure that `mileage` and `speed` are positive values.  \n",
    "\n",
    "2.  Define the `__str__()` method.  \n",
    "\n",
    "3.  In addition the class has the following two methods:  \n",
    "  a.  `accelerate()`:  Every time this method is called, the speed of the automobile increases by 5 miles.  \n",
    "  b.  `brake()`:  Every time this method is called, the speed of the automobile decreases by 5 miles.  \n",
    "\n",
    "4.  Finally define a class method that prints <font color = blue>There are n autos in the fleet. That is not enough.</font> if the number of Automobile objects is less than 3 and prints <font color = blue>There are n autos in the fleet. That is enough.</font> Replace `n` with the correct number of objects."
   ]
  },
  {
   "cell_type": "markdown",
   "metadata": {},
   "source": [
    "<h4>The Line Continuation Character</h4>\n",
    "\n",
    "In Python, you can use a `\\` (backslash) to split a statement across multiple lines.  We use the `line continuation` character in the `__str__()` method and in the `return_auto_count()` method."
   ]
  },
  {
   "cell_type": "markdown",
   "metadata": {},
   "source": [
    "<h3>The randint() method</h3>\n",
    "\n",
    "The `randint()` method accepts two integers (both required) and returns a randomly selected integer in the range specified by them.  Note that the range includes both the start and the end values."
   ]
  },
  {
   "cell_type": "markdown",
   "metadata": {},
   "source": [
    "__Line Continuation Character Example__\n",
    "\n",
    "In the example below the long `if` condition has been split across multiple lines using the line continuation character."
   ]
  },
  {
   "cell_type": "code",
   "execution_count": 3,
   "metadata": {},
   "outputs": [
    {
     "name": "stdout",
     "output_type": "stream",
     "text": [
      "False\n"
     ]
    }
   ],
   "source": [
    "import random\n",
    "a_var = random.randint(0,25)\n",
    "b_var = random.randint(0,25)\n",
    "c_var = random.randint(0,25)\n",
    "d_var = random.randint(0,25)\n",
    "e_var = random.randint(0,25)\n",
    "f_var = random.randint(0,25)\n",
    "g_var = random.randint(0,25)\n",
    "\n",
    "if a_var <15 and b_var < 15 and c_var < 15 \\\n",
    "and d_var < 15 and e_var < 15 and f_var < 15 and g_var < 15:\n",
    "    print(True)\n",
    "else:\n",
    "    print(False)"
   ]
  },
  {
   "cell_type": "code",
   "execution_count": 4,
   "metadata": {},
   "outputs": [],
   "source": [
    "class Automobile:\n",
    "    num_of_autos = 0\n",
    "    def __init__(self, make, model, mileage, speed):\n",
    "        if mileage <= 0 or speed <= 0:\n",
    "            print('Invalid input.  Object not created.')\n",
    "            return\n",
    "        Automobile.num_of_autos += 1\n",
    "        self.make = make\n",
    "        self.model = model\n",
    "        self.mileage = mileage\n",
    "        self.speed = speed      \n",
    "        \n",
    "    def accelerate(self):\n",
    "        self.speed += 5\n",
    "        \n",
    "    def brake(self):\n",
    "        if self.speed < 5:\n",
    "            print('Speed already below 5 mph.  Cannot slow down further')  \n",
    "        else:\n",
    "            self.speed -= 5\n",
    "    \n",
    "    def __str__(self):\n",
    "        outstr = 'Make: ' + self.make + ', Model: ' + self.model  + ', Mileage ' \\\n",
    "        + str(self.mileage)  + ', Speed '  + str(self.speed)\n",
    "        return outstr\n",
    "    \n",
    "    @classmethod\n",
    "    def return_auto_count(cls):\n",
    "        if  cls.num_of_autos < 3:\n",
    "            return f'There are {cls.num_of_autos} autos.  That is not enough' \n",
    "        else:\n",
    "            return f'There are {cls.num_of_autos} autos.  That is enough'"
   ]
  },
  {
   "cell_type": "markdown",
   "metadata": {},
   "source": [
    "Test out the class definition by creating a car object and testing out different methods."
   ]
  },
  {
   "cell_type": "code",
   "execution_count": 8,
   "metadata": {},
   "outputs": [
    {
     "name": "stdout",
     "output_type": "stream",
     "text": [
      "Invalid input.  Object not created.\n"
     ]
    },
    {
     "ename": "AttributeError",
     "evalue": "'Automobile' object has no attribute 'speed'",
     "output_type": "error",
     "traceback": [
      "\u001b[1;31m---------------------------------------------------------------------------\u001b[0m",
      "\u001b[1;31mAttributeError\u001b[0m                            Traceback (most recent call last)",
      "Input \u001b[1;32mIn [8]\u001b[0m, in \u001b[0;36m<cell line: 2>\u001b[1;34m()\u001b[0m\n\u001b[0;32m      1\u001b[0m car1 \u001b[38;5;241m=\u001b[39m Automobile(\u001b[38;5;124m\"\u001b[39m\u001b[38;5;124mf\u001b[39m\u001b[38;5;124m\"\u001b[39m,\u001b[38;5;124m\"\u001b[39m\u001b[38;5;124mg\u001b[39m\u001b[38;5;124m\"\u001b[39m,\u001b[38;5;241m-\u001b[39m\u001b[38;5;241m3\u001b[39m,\u001b[38;5;241m-\u001b[39m\u001b[38;5;241m3\u001b[39m)\n\u001b[1;32m----> 2\u001b[0m \u001b[43mcar1\u001b[49m\u001b[38;5;241;43m.\u001b[39;49m\u001b[43mbrake\u001b[49m\u001b[43m(\u001b[49m\u001b[43m)\u001b[49m\n",
      "Input \u001b[1;32mIn [4]\u001b[0m, in \u001b[0;36mAutomobile.brake\u001b[1;34m(self)\u001b[0m\n\u001b[0;32m     16\u001b[0m \u001b[38;5;28;01mdef\u001b[39;00m \u001b[38;5;21mbrake\u001b[39m(\u001b[38;5;28mself\u001b[39m):\n\u001b[1;32m---> 17\u001b[0m     \u001b[38;5;28;01mif\u001b[39;00m \u001b[38;5;28;43mself\u001b[39;49m\u001b[38;5;241;43m.\u001b[39;49m\u001b[43mspeed\u001b[49m \u001b[38;5;241m<\u001b[39m \u001b[38;5;241m5\u001b[39m:\n\u001b[0;32m     18\u001b[0m         \u001b[38;5;28mprint\u001b[39m(\u001b[38;5;124m'\u001b[39m\u001b[38;5;124mSpeed already below 5 mph.  Cannot slow down further\u001b[39m\u001b[38;5;124m'\u001b[39m)  \n\u001b[0;32m     19\u001b[0m     \u001b[38;5;28;01melse\u001b[39;00m:\n",
      "\u001b[1;31mAttributeError\u001b[0m: 'Automobile' object has no attribute 'speed'"
     ]
    }
   ],
   "source": [
    "car1 = Automobile(\"f\",\"g\",-3,-3)\n",
    "car1.brake()"
   ]
  },
  {
   "cell_type": "code",
   "execution_count": 5,
   "metadata": {},
   "outputs": [
    {
     "name": "stdout",
     "output_type": "stream",
     "text": [
      "Make: Honda, Model: Accord, Mileage 1555, Speed 85\n",
      "Make: Honda, Model: Accord, Mileage 1555, Speed 75\n",
      "Make: Honda, Model: Accord, Mileage 1555, Speed 80\n",
      "There are 1 autos.  That is not enough\n"
     ]
    }
   ],
   "source": [
    "car2 = Automobile('Honda','Accord',1555,85)\n",
    "print(car2)\n",
    "car2.brake()\n",
    "car2.brake()\n",
    "print(car2)\n",
    "car2.accelerate()\n",
    "print(car2)\n",
    "print(Automobile.return_auto_count())"
   ]
  },
  {
   "cell_type": "code",
   "execution_count": null,
   "metadata": {},
   "outputs": [],
   "source": []
  }
 ],
 "metadata": {
  "kernelspec": {
   "display_name": "Python 3 (ipykernel)",
   "language": "python",
   "name": "python3"
  },
  "language_info": {
   "codemirror_mode": {
    "name": "ipython",
    "version": 3
   },
   "file_extension": ".py",
   "mimetype": "text/x-python",
   "name": "python",
   "nbconvert_exporter": "python",
   "pygments_lexer": "ipython3",
   "version": "3.9.12"
  }
 },
 "nbformat": 4,
 "nbformat_minor": 2
}
