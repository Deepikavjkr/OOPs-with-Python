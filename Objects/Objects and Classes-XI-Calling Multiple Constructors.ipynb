{
 "cells": [
  {
   "cell_type": "markdown",
   "metadata": {
    "collapsed": true
   },
   "source": [
    "<h3>Objects And Classes - Calling Multiple Constructors </h3>\n",
    "\n",
    "When creating objects of a class that inherits from more than one parent class, the calling of constructors is slightly more complex.   \n",
    "In this notebook we will look at an elegant approach to write constructors in the presence of multiple inheritance. This \n",
    "approach enables us to eliminate any ambiguities that might arise and also provides for easy updates and modifications\n",
    "in the future.  We follow the process laid out in the _Fundamentals of Python Programming_ in the section on _Multiple Inheritance_, in the chapter _Class Design: Composition and Inheritance_."
   ]
  },
  {
   "cell_type": "markdown",
   "metadata": {},
   "source": [
    "As always, we will study this idea via an example.  There are three classes A, B, and C in this example.\n",
    "C inherits from (A, B) in that order.  Each of A and C have one instance variable that needs to be initialized during the constructor call. B has two instance variables that need to be initialized\n",
    "\n",
    "<img src=\"CallingMultipleConstructors.png\" />"
   ]
  },
  {
   "cell_type": "markdown",
   "metadata": {},
   "source": [
    "We begin with writing a dummy class from which all the other objects in our hierarchy will inherit.  We will call this class `Top` by convention. Further, all construtors in this hierarchy will have the __same__ heading \n",
    "`__init__(self, **kwargs)`\n",
    "\n",
    "Recall that the term `**kwargs` refers to a dictionary of keyword arguments.  Essentially this means that you can provide any number of arguments to the method as long as they are provided as key-value pairs where the key is the variable name and the value is the value for that variable. \n",
    "\n",
    "The `Top` class does nothing and will just have the `pass` keyword to terminate the constructor call chain."
   ]
  },
  {
   "cell_type": "code",
   "execution_count": 1,
   "metadata": {},
   "outputs": [],
   "source": [
    "class Top:\n",
    "    def __init__(self, **kwargs):\n",
    "        pass "
   ]
  },
  {
   "cell_type": "markdown",
   "metadata": {},
   "source": [
    "Next, we define the other classes as usual. The only requirement is that the constructor of each class begins in the same manner as discussed for the `Top` class.\n",
    "\n",
    "If the constructor for any class requires parameters, they will be available in the `**kwargs`.  Any parameter required by the constructor can be accessed by using the appropriate key. Once the parameter is retrieved, it can be\n",
    "removed from the keyword dictionary by using the `pop` method. Call to the super class constructor is done by \n",
    "passing the `**kwargs` as an argument."
   ]
  },
  {
   "cell_type": "markdown",
   "metadata": {},
   "source": [
    "```Python\n",
    "\n",
    "#All top level classes will inherit from the dummy class 'Top'\n",
    "class A(Top): \n",
    "    \n",
    "    #Use the same heading for all constructors \n",
    "    def __init__(self, **kwargs): \n",
    "        print(\"Making an A object\")\n",
    "        \n",
    "        #Retrieve the required parameter value by using the associated paramter name as the key\n",
    "        self.value_a = kwargs['value_a'] \n",
    "        \n",
    "        #Once the parameter value is retrieved you can delete the parameter from the dictionary\n",
    "        kwargs.pop('value_a') \n",
    "        \n",
    "        #Call the super class passing to it the dictionary as a parameter\n",
    "        super().__init__(**kwargs) \n",
    "```"
   ]
  },
  {
   "cell_type": "markdown",
   "metadata": {},
   "source": [
    "We follow the process described above to write the class definitions for every class in our problem."
   ]
  },
  {
   "cell_type": "code",
   "execution_count": 1,
   "metadata": {},
   "outputs": [],
   "source": [
    "class Top():\n",
    "    def __init__(self, **kwargs):\n",
    "        pass \n",
    "\n",
    "class A(Top):\n",
    "    def __init__(self, **kwargs):\n",
    "        print(\"Making an A object\")        \n",
    "       \n",
    "        self.value_a = kwargs['value_a']\n",
    "        kwargs.pop('value_a')\n",
    "        super().__init__(**kwargs)\n",
    "\n",
    "class B(Top):\n",
    "    def __init__(self, **kwargs):\n",
    "        print(\"Making a B object\")\n",
    "        \n",
    "        self.value_b1 = kwargs['value_b1'] \n",
    "        self.value_b2 = kwargs['value_b2']\n",
    "                \n",
    "        kwargs.pop('value_b1') \n",
    "        kwargs.pop('value_b2') \n",
    "        super().__init__(**kwargs)\n",
    "\n",
    "class C(A, B):\n",
    "    def __init__(self, **kwargs):\n",
    "        print(\"Making a C object\")\n",
    "                \n",
    "        self.value_c = kwargs['value_c']\n",
    "                        \n",
    "        kwargs.pop('value_c')\n",
    "        super().__init__(**kwargs)\n"
   ]
  },
  {
   "cell_type": "markdown",
   "metadata": {},
   "source": [
    "To create an object in the heirarchy, you need to provide the parameter values as `key-value` pairs as shown below."
   ]
  },
  {
   "cell_type": "code",
   "execution_count": 5,
   "metadata": {
    "scrolled": true
   },
   "outputs": [
    {
     "name": "stdout",
     "output_type": "stream",
     "text": [
      "Making a C object\n",
      "Making an A object\n",
      "Making a B object\n",
      "===========\n",
      "{'value_c': 18, 'value_a': 15, 'value_b1': 8, 'value_b2': 23}\n"
     ]
    }
   ],
   "source": [
    "\n",
    "c_obj = C(value_a=15, value_c=18, value_b1=8, value_b2=23) \n",
    "\n",
    "print(\"===========\")\n",
    "print(c_obj.__dict__)"
   ]
  },
  {
   "cell_type": "code",
   "execution_count": null,
   "metadata": {},
   "outputs": [],
   "source": []
  }
 ],
 "metadata": {
  "kernelspec": {
   "display_name": "Python 3 (ipykernel)",
   "language": "python",
   "name": "python3"
  },
  "language_info": {
   "codemirror_mode": {
    "name": "ipython",
    "version": 3
   },
   "file_extension": ".py",
   "mimetype": "text/x-python",
   "name": "python",
   "nbconvert_exporter": "python",
   "pygments_lexer": "ipython3",
   "version": "3.9.12"
  }
 },
 "nbformat": 4,
 "nbformat_minor": 2
}
