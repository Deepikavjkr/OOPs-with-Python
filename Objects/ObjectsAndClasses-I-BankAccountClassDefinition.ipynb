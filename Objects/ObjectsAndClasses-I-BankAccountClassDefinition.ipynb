{
 "cells": [
  {
   "cell_type": "markdown",
   "metadata": {
    "collapsed": true
   },
   "source": [
    "<h3>Objects And Classes - I - Class Definition</h3>\n",
    "\n",
    "This lecture will discuss the most important construct in object oriented programming - `classes`.  A class can be thought of as a blueprint for creating objects. Each object is described by its attributes and has behavior associated with it.  \n",
    "\n",
    "The behavior is captured through the `methods` of an object while the `attributes` describe different properties of the object. While all objects of a class will have the same set of attributes and methods, the values of the attributes will likely be different for each object.\n",
    "\n",
    "An object of a class is an `instance` of a class and hence the attributes asscociated with an object are also called `instance variables`.\n",
    "\n",
    "For example:  \n",
    "<font color='blue'>Class:</font> Dog \n",
    "\n",
    "<font color='blue'>Attributes:</font>  name, age, breed, color  \n",
    "\n",
    "<font color='blue'>Methods:</font> bark, eat, sleep\n",
    "\n",
    "<font color='blue'>Object:</font> dog object\n",
    "\n",
    "<font color='blue'>attributes:</font> name='Kaazi', age=6, breed='labrador mix', color = 'black and white'\n",
    "\n",
    "In this notebook we will study how to\n",
    "1.   write class definitions\n",
    "2.   associate attributes of an object (also called instance variables) to a class\n",
    "3.   write methods for a class\n",
    "4.   create an object of a class\n"
   ]
  },
  {
   "cell_type": "markdown",
   "metadata": {
    "collapsed": true
   },
   "source": [
    "<h4>In this notebook, we will write the class definition for a class called BankAccount.  We begin by specifying the requirements for the BankAccount class are as described below.</h4>\n",
    "\n",
    "1. We will create the definition for a simple BankAccount class. \n",
    "2. This class has two instance variables (or attributes) - customer name and bank balance\n",
    "3. The class also has two methods: `deposit()` and `withdraw()`\n",
    "4. We  also desire to print out the details (name and balance) of every customer object \n",
    "   and need an appropriate method for this."
   ]
  },
  {
   "cell_type": "markdown",
   "metadata": {},
   "source": [
    "<h4>Class Definition</h4>\n",
    "\n",
    "In the cell below, we write the first statement for defining the `BankAccount` class. Ignoring any `import` statements your class may require, a class definition always begins with the word `class`  followed by the name of the class and then `:`. If the definition requires any import statements, they will, as usual, go before the class statement.\n",
    "\n",
    "By convention, a class name always begins with an upper case letter. The names of the objects of a class always begin with lower case letters just as has been the case for all other variables so far.  In this course, we will strictly follow this convention.\n",
    "\n",
    "In the cell below, we write the simplest class definition, just the class heading.  The `pass` keyword is used just for syntactical reasons.  "
   ]
  },
  {
   "cell_type": "code",
   "execution_count": 1,
   "metadata": {},
   "outputs": [],
   "source": [
    "class BankAccount: \n",
    "    pass"
   ]
  },
  {
   "cell_type": "markdown",
   "metadata": {},
   "source": [
    "We can now create an object of a class.  Note that an `object` of a class is also referred to as an `instance` of a class.\n",
    "\n",
    "In the cell below, we create an `instance` of the `BankAccount` class and then print it."
   ]
  },
  {
   "cell_type": "code",
   "execution_count": 2,
   "metadata": {},
   "outputs": [
    {
     "name": "stdout",
     "output_type": "stream",
     "text": [
      "<__main__.BankAccount object at 0x000001EFEB1C56D0>\n"
     ]
    }
   ],
   "source": [
    "acc_1 = BankAccount()\n",
    "print(acc_1)"
   ]
  },
  {
   "cell_type": "markdown",
   "metadata": {},
   "source": [
    "Attributes, together with the appropriate values, can be associated with an object."
   ]
  },
  {
   "cell_type": "markdown",
   "metadata": {},
   "source": [
    "In the example below, we associate the two attributes `cust_name` and `acc_balance` with our `acc_1` account object and then print out the information.\n",
    "\n",
    "Also note the use of the `_` instead of a `,` to make it easier to read large numbers. The compiler ingores the `_`."
   ]
  },
  {
   "cell_type": "code",
   "execution_count": 3,
   "metadata": {},
   "outputs": [
    {
     "name": "stdout",
     "output_type": "stream",
     "text": [
      "Spiderman's account balance is $15,000,251.00\n"
     ]
    }
   ],
   "source": [
    "acc_1.cust_name = 'Spiderman'\n",
    "acc_1.acc_balance = 15_000_251\n",
    "print(f'{acc_1.cust_name}\\'s account balance is ${acc_1.acc_balance:,.2f}')"
   ]
  },
  {
   "cell_type": "markdown",
   "metadata": {},
   "source": [
    "We can follow the same process to create as many `BankAccount` objects as needed. "
   ]
  },
  {
   "cell_type": "code",
   "execution_count": 4,
   "metadata": {},
   "outputs": [
    {
     "name": "stdout",
     "output_type": "stream",
     "text": [
      "Spiderman\n"
     ]
    }
   ],
   "source": [
    "print(acc_1.cust_name)"
   ]
  },
  {
   "cell_type": "code",
   "execution_count": null,
   "metadata": {},
   "outputs": [],
   "source": [
    "acc_2 = BankAccount()\n",
    "acc_2.cust_name = 'Batman'\n",
    "acc_2.acc_balance = 12725.22\n",
    "print(f'{acc_2.cust_name}\\'s account balance is ${acc_2.acc_balance:,.2f}')"
   ]
  },
  {
   "cell_type": "markdown",
   "metadata": {},
   "source": [
    "But associating attributes and initializing them in this manner is both inefficient and cumbersome. \n",
    "\n",
    "Python provided some special methods for classes.  One of them is the `__init__()` method.  Note the two double underscore characters (referred to as `dunder`)  before and after the word `init`.  \n",
    "\n",
    "The `__init__()` method is a special method (called a `constructor`) which is automatically called when a new object is created. Python provides a default `__init__()` method which can be redefined if needed.  In this course, we will ALWAYS redefine the `__init()__` method and initialize all instance variables.\n",
    "\n",
    "When an object calls a method created inside a class, Python automatically sends the object to the method.  Therefore, when defining the method, the first parameter is ALWAYS, the object.  By convention, we use the name `self` for that parameter. In other words, the `self` parameter denotes the specific instance of the class that the method should apply to. Methods which operate on an instance of a class are also called `instance` methods.\n",
    "\n",
    "In addition to the `self` parameter, an instance method may also have other parameters as needed.  The other parameters will always be listed after the `self` parameter.  \n",
    "\n",
    "In addition to the `self` parameter, in this example, we will also include the customer's name and account balance as two additional parameters.  \n",
    "\n",
    "Inside the method, every reference to an instance variable must be prefixed by `self.`\n",
    "\n",
    "Note:  \n",
    "1.  the names of the parameters in the `__init__()` method need not be the same as the name of the instance variables they are initializing.   \n",
    "2.  In addition to initializing the instance variables, the `__init__()` method is also a good place to validate your inputs as needed.  In our example, we will validate that the `acc_balance` is not a negative or zero value.\n",
    "\n"
   ]
  },
  {
   "cell_type": "code",
   "execution_count": 20,
   "metadata": {},
   "outputs": [],
   "source": [
    "import sys\n",
    "class BankAccount:\n",
    "    def __init__(self, cust_name, acc_balance): \n",
    "        self.cust_name = cust_name\n",
    "        if acc_balance <= 0:\n",
    "            print('Cannot create an account object with a negative or zero balance. \\n Exiting the program')\n",
    "            sys.exit(0)\n",
    "        else:\n",
    "            self.balance = acc_balance\n",
    "    "
   ]
  },
  {
   "cell_type": "markdown",
   "metadata": {},
   "source": [
    "<h4>Creating BankAccount objects</h4>\n",
    "We can test out the class definition by creating two BankAccount objects.  We will also print the objects."
   ]
  },
  {
   "cell_type": "code",
   "execution_count": 21,
   "metadata": {},
   "outputs": [
    {
     "name": "stdout",
     "output_type": "stream",
     "text": [
      "<__main__.BankAccount object at 0x000001EFEC2A1F10>\n",
      "<__main__.BankAccount object at 0x000001EFEC33BBE0>\n"
     ]
    }
   ],
   "source": [
    "acc_1 = BankAccount('Spiderman', 15_000_251)\n",
    "acc_2 = BankAccount('Batman', 12725.22) \n",
    "\n",
    "print(acc_1)\n",
    "print(acc_2)"
   ]
  },
  {
   "cell_type": "markdown",
   "metadata": {},
   "source": [
    "Next, we define the `withdraw()` and the `deposit()` methods."
   ]
  },
  {
   "cell_type": "markdown",
   "metadata": {},
   "source": [
    "<h4> withdraw()</h4>\n",
    "\n",
    " The `withdraw()` method should ensure that the balance after withdrawal should not become negative.  In that case, the method should just print an appropriate message. \n",
    " \n",
    "It should also correctly update the account balance.\n",
    "\n",
    " As stated above, the first parameter in every method should be the `self` parameter.  In addition, for the `withdraw()` method, we also need to specify the amount that should be withdrawn."
   ]
  },
  {
   "cell_type": "code",
   "execution_count": 7,
   "metadata": {},
   "outputs": [],
   "source": [
    "class BankAccount:\n",
    "    def __init__(self, cust_name, acc_balance):\n",
    "        self.cust_name = cust_name\n",
    "        self.balance = acc_balance\n",
    "        \n",
    "    def withdraw(self, with_amt):\n",
    "        if self.acc_balance - with_amt < 0:\n",
    "            print('Insufficient funds')\n",
    "        else:\n",
    "            self.acc_balance -= with_amt\n",
    "            print(f'Your new balance is ${self.acc_balance:,.2f}')      "
   ]
  },
  {
   "cell_type": "markdown",
   "metadata": {},
   "source": [
    "<h4> deposit()</h4>\n",
    "\n",
    "The `deposit()` method should check that the deposit amount is non-negative.  \n",
    "It should also correctly update the account balance."
   ]
  },
  {
   "cell_type": "code",
   "execution_count": null,
   "metadata": {},
   "outputs": [],
   "source": [
    "class BankAccount:\n",
    "    def __init__(self, cust_name, acc_balance):\n",
    "        self.cust_name = cust_name\n",
    "        self.balance = acc_balance\n",
    "        \n",
    "    def withdraw(self, with_amt):\n",
    "        if self.acc_balance - with_amt < 0:\n",
    "            print('Insufficient funds')\n",
    "        else:\n",
    "            self.acc_balance -= with_amt\n",
    "            print(f'Your new balance is ${self.acc_balance:,.2f}')  \n",
    "            \n",
    "    def deposit(self, dep_amt):\n",
    "        if dep_amt <= 0:\n",
    "            print('Deposit amount should be positive')\n",
    "        else:\n",
    "            self.acc_balance += dep_amt\n",
    "            print(f'Your new balance is ${self.acc_balance:,.2f}')  "
   ]
  },
  {
   "cell_type": "markdown",
   "metadata": {},
   "source": [
    "Another common requirement is to print out the values of all instance variables of an object. To do this, we redefine a builtin method called <font color = 'blue'>\\_\\_str\\_\\_()</font>.  This method returns a string value containing the instance variable values as desired. Other methods can then use the print function to automatically print out the data."
   ]
  },
  {
   "cell_type": "markdown",
   "metadata": {},
   "source": [
    "We will define the `__str__()` method.  This method just requires the `self` parameter.\n",
    "This method will return a string containing any content you think is needed of the object that you are interested in.\n",
    "\n",
    "You must ensure that your redefined code correctly returns a string."
   ]
  },
  {
   "cell_type": "code",
   "execution_count": 4,
   "metadata": {},
   "outputs": [],
   "source": [
    "\n",
    "class BankAccount:\n",
    "    def __init__(self, cust_name, acc_balance):\n",
    "        self.cust_name = cust_name\n",
    "        self.acc_balance = acc_balance\n",
    "        \n",
    "    def withdraw(self, with_amt):\n",
    "        if self.acc_balance - with_amt <= 0:\n",
    "            print('Insufficient funds')\n",
    "        else:\n",
    "            self.acc_balance -= with_amt\n",
    "            print(f'Your new balance is ${self.acc_balance:,.2f}')  \n",
    "            \n",
    "    def deposit(self, dep_amt):\n",
    "        if dep_amt <= 0:\n",
    "            print('Deposit amount should be positive')\n",
    "        else:\n",
    "            self.acc_balance += dep_amt\n",
    "            print(f'Your new balance is ${self.acc_balance:,.2f}')  \n",
    "    def __str__(self):\n",
    "        return f'{self.cust_name} has an account balance of ${self.acc_balance:0,.2f}'"
   ]
  },
  {
   "cell_type": "markdown",
   "metadata": {},
   "source": [
    "<h4>Testing our BankAccount class definition</h4>\n",
    "\n",
    "We will test our class definition by doing the following:\n",
    "\n",
    "1.  We will first print our the Employee objects created above. Notice the difference in the output from when we printed the objects earlier.  \n",
    "2.  We will also test the `withdraw()` and `deposit()` methods"
   ]
  },
  {
   "cell_type": "code",
   "execution_count": 5,
   "metadata": {},
   "outputs": [
    {
     "name": "stdout",
     "output_type": "stream",
     "text": [
      "Spiderman has an account balance of $15,000,251.00\n",
      "Batman has an account balance of $12,725.22\n"
     ]
    }
   ],
   "source": [
    "acc_1 = BankAccount('Spiderman', 15_000_251)\n",
    "acc_2 = BankAccount('Batman', 12725.22) \n",
    "\n",
    "print(acc_1)\n",
    "print(acc_2)\n"
   ]
  },
  {
   "cell_type": "markdown",
   "metadata": {},
   "source": [
    "<h4>Calling (executing) an instance method</h4>\n",
    "\n",
    "To call an instance method of a class, we prefix the method name with the name of the object on which the method should operate.  \n",
    "\n",
    "For example, in the cell below, we want to withdraw $2000 from the `acc_2` object and hence we prefix the call to the `withdraw()` method by the `acc_2` object."
   ]
  },
  {
   "cell_type": "code",
   "execution_count": 6,
   "metadata": {},
   "outputs": [
    {
     "name": "stdout",
     "output_type": "stream",
     "text": [
      "Your new balance is $10,725.22\n"
     ]
    }
   ],
   "source": [
    "acc_2.withdraw(2000.00)"
   ]
  },
  {
   "cell_type": "code",
   "execution_count": 12,
   "metadata": {},
   "outputs": [
    {
     "name": "stdout",
     "output_type": "stream",
     "text": [
      "Insufficient funds\n"
     ]
    }
   ],
   "source": [
    "acc_2.withdraw(12000.00)"
   ]
  },
  {
   "cell_type": "code",
   "execution_count": 13,
   "metadata": {},
   "outputs": [
    {
     "name": "stdout",
     "output_type": "stream",
     "text": [
      "Your new balance is $15,018,251.00\n"
     ]
    }
   ],
   "source": [
    "acc_1.deposit(18000)"
   ]
  },
  {
   "cell_type": "markdown",
   "metadata": {},
   "source": [
    "<h4>Calling an instance method with the class name</h4>\n",
    "\n",
    "You can also call an instance method with a class name.\n",
    "When calling an instance method with a class name, in addition to any parameters the method might need, you will also need to pass the object as the first parameter.\n",
    "\n",
    "In the example below, we call the `withdraw()` method from the class name. Note that you will get an error if you do not also pass the object as an argument."
   ]
  },
  {
   "cell_type": "code",
   "execution_count": 14,
   "metadata": {},
   "outputs": [
    {
     "name": "stdout",
     "output_type": "stream",
     "text": [
      "Your new balance is $14,018,251.00\n"
     ]
    }
   ],
   "source": [
    "acc_1.withdraw(1_000_000)"
   ]
  },
  {
   "cell_type": "code",
   "execution_count": 15,
   "metadata": {},
   "outputs": [
    {
     "ename": "TypeError",
     "evalue": "withdraw() missing 1 required positional argument: 'with_amt'",
     "output_type": "error",
     "traceback": [
      "\u001b[1;31m---------------------------------------------------------------------------\u001b[0m",
      "\u001b[1;31mTypeError\u001b[0m                                 Traceback (most recent call last)",
      "\u001b[1;32m<ipython-input-15-45a4fc92675a>\u001b[0m in \u001b[0;36m<module>\u001b[1;34m\u001b[0m\n\u001b[1;32m----> 1\u001b[1;33m \u001b[0mBankAccount\u001b[0m\u001b[1;33m.\u001b[0m\u001b[0mwithdraw\u001b[0m\u001b[1;33m(\u001b[0m\u001b[1;36m1_000_000\u001b[0m\u001b[1;33m)\u001b[0m\u001b[1;33m\u001b[0m\u001b[1;33m\u001b[0m\u001b[0m\n\u001b[0m",
      "\u001b[1;31mTypeError\u001b[0m: withdraw() missing 1 required positional argument: 'with_amt'"
     ]
    }
   ],
   "source": [
    "BankAccount.withdraw(1_000_000)"
   ]
  },
  {
   "cell_type": "code",
   "execution_count": 16,
   "metadata": {},
   "outputs": [
    {
     "name": "stdout",
     "output_type": "stream",
     "text": [
      "Your new balance is $13,018,251.00\n"
     ]
    }
   ],
   "source": [
    "BankAccount.withdraw(acc_1,1_000_000)"
   ]
  }
 ],
 "metadata": {
  "kernelspec": {
   "display_name": "Python 3 (ipykernel)",
   "language": "python",
   "name": "python3"
  },
  "language_info": {
   "codemirror_mode": {
    "name": "ipython",
    "version": 3
   },
   "file_extension": ".py",
   "mimetype": "text/x-python",
   "name": "python",
   "nbconvert_exporter": "python",
   "pygments_lexer": "ipython3",
   "version": "3.9.12"
  }
 },
 "nbformat": 4,
 "nbformat_minor": 2
}
