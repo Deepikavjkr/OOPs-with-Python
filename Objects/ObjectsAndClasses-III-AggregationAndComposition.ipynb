{
 "cells": [
  {
   "cell_type": "markdown",
   "metadata": {
    "collapsed": true
   },
   "source": [
    "<h3>Objects And Classes - Aggregation and Composition</h3>\n",
    "\n",
    "In this notebook we cover another aspect of creating classes.  Oftentimes, a class can include an instance variable which \n",
    "is itself the object of another class.  This type of relationship between the two classes can be one of two kinds:\n",
    "\n",
    "__Composition:__ If the inner object is such that it cannot exist without the outer object, we use `composition` to include the inner object as an instance variable in the outer object. \n",
    "\n",
    "__Aggregation:__ If the inner object can exist outside the outer object, we use `aggregation` to include the inner object as an instance variable in the outer object. \n",
    "\n",
    "In this notebook we will consider a simple example to demonstrate both composition and aggregation.\n",
    "\n",
    "Consider an `Employee` class which includes, in addition to other instance variables, an instance variable which is an object of the `Department` class.  Henceforth we will refer to the `Department` object as an object of the inner class (or inner class object) while the `Employee` object will be referred to an object of the outer class (or outer class object).\n",
    "\n",
    "We will first write the class definition of the inner class object.  Note that this class definition is a simple one and\n",
    "will be written like we did the previous example. We will then write two versions of the `Employee` class.  In one we use composition to include the `Department` object and in the other we will use aggregation. Finally, we will write a simple function to test out the `Employee` class by creating one `Employee` object and printing it out.\n"
   ]
  },
  {
   "cell_type": "markdown",
   "metadata": {
    "collapsed": true
   },
   "source": [
    "__We will begin by writing the class definition for the `Department`.__\n",
    "\n",
    "1. The class has two instance variables, department name and number of employees.  \n",
    "2. When the object is created, your code should check to make sure that the number of employees is strictly positive.  If not, print an appropriate message.   \n",
    "3. In addition to the `__init__()` method , your class definition should also redefine the `__str__`() method to print out the name of the department and the number of employees"
   ]
  },
  {
   "cell_type": "code",
   "execution_count": 1,
   "metadata": {},
   "outputs": [],
   "source": [
    "import sys\n",
    "class Department:\n",
    "    def __init__(self, dept_name, num_emp):\n",
    "        if num_emp <= 0: \n",
    "            print('Invalid value for number of employees')\n",
    "            sys.exit(0)\n",
    "        self.num_emp = num_emp\n",
    "        self.dept_name = dept_name\n",
    "        \n",
    "    def __str__(self):\n",
    "        return  'Department Name: ' + self.dept_name + ', Number of employees: ' + str(self.num_emp)"
   ]
  },
  {
   "cell_type": "code",
   "execution_count": 2,
   "metadata": {},
   "outputs": [
    {
     "name": "stdout",
     "output_type": "stream",
     "text": [
      "Department Name: sales, Number of employees: 4\n"
     ]
    }
   ],
   "source": [
    "r=Department('sales',4)\n",
    "print(r)"
   ]
  },
  {
   "cell_type": "markdown",
   "metadata": {
    "collapsed": true
   },
   "source": [
    "Next we will write two different class definitions for the `Employee` class: one using Composition for the `Department`\n",
    "instance variable and the other using Aggregation for the `Department` instance variable. Except for this difference, the two class definitions are identical and described below.\n",
    "\n",
    "The `Employee` class has four instance variables, employee name, job title, department and salary.\n",
    "Note that the department variable is an object of the `Department` class\n",
    "\n",
    "When the object is created, your code should check to make sure that the salary is strictly positive. If not, print an appropriate message.\n",
    "\n",
    "In addition to the constructor, your class definition should also create a redefined `__str__()` method to print the name, title, department name and salary of each employee object."
   ]
  },
  {
   "cell_type": "markdown",
   "metadata": {},
   "source": [
    "<h4>Employee class definition using Composition</h4>\n",
    "\n",
    "Note that since we are using composition, the Department object is created inside the  `__init__()` method of the employee object.  We therefore pass the arguments corresponding to the instance variables of the Department object.      \n",
    "\n",
    "Also, since we are creating the department object inside the `__init__()` method of the Employee class,this object cannot be accessed without the Employee object."
   ]
  },
  {
   "cell_type": "code",
   "execution_count": 12,
   "metadata": {},
   "outputs": [],
   "source": [
    "import sys\n",
    "class EmployeeComposition:\n",
    "    def __init__(self,emp_name, job_title, emp_sal, dept_name, num_emp):\n",
    "        if emp_sal <= 0:\n",
    "            print('Invalid value for salary')\n",
    "            sys.exit(0)\n",
    "        self.emp_name = emp_name\n",
    "        self.job_title = job_title\n",
    "        self.emp_sal = emp_sal\n",
    "        self.dept = Department(dept_name, num_emp)\n",
    "\n",
    "    def __str__(self):        \n",
    "        emp = f'Emp Name: {self.emp_name}, Job Title: {self.job_title}, Salary: ${self.emp_sal:0,.2f}, '\n",
    "        emp += self.dept.__str__()\n",
    "        return emp"
   ]
  },
  {
   "cell_type": "code",
   "execution_count": 13,
   "metadata": {},
   "outputs": [
    {
     "name": "stdout",
     "output_type": "stream",
     "text": [
      "Emp Name: er, Job Title: err, Salary: $34.00, Department Name: re, Number of employees: 3\n"
     ]
    }
   ],
   "source": [
    "s=EmployeeComposition(\"er\",\"err\",34,\"re\",3)\n",
    "print(s)"
   ]
  },
  {
   "cell_type": "markdown",
   "metadata": {},
   "source": [
    "<h4> Employee class definition using Aggregation</h4>\n",
    "\n",
    "Note that since we are using aggregation, the Department object is created outside the  `__init__()` method of the employee object.  We then pass the Department object as an argument to the  `__init__()` method.\n",
    "\n",
    "We directly assign the department argument to the department instance variable inside the `__init__()` method of the Employee class.  In this case (when using `aggregation`) the Department object can be accessed independently (without the Employee object). "
   ]
  },
  {
   "cell_type": "code",
   "execution_count": 5,
   "metadata": {},
   "outputs": [],
   "source": [
    "class EmployeeAggregation:\n",
    "    \n",
    "    def __init__(self, emp_name, job_title, emp_sal, dept):\n",
    "        if emp_sal <= 0:\n",
    "            print('Invalid value for salary')\n",
    "            sys.exit(0)\n",
    "        self.emp_name = emp_name\n",
    "        self.job_title = job_title\n",
    "        self.emp_sal = emp_sal\n",
    "        \n",
    "        self.dept = dept \n",
    "\n",
    "        \n",
    "    def __str__(self):        \n",
    "        emp = f'Emp Name: {self.emp_name}, Job Title: {self.job_title}, Salary: ${self.emp_sal:0,.2f}, '\n",
    "        emp += self.dept.__str__()\n",
    "        return emp"
   ]
  },
  {
   "cell_type": "markdown",
   "metadata": {},
   "source": [
    "<h4>Testing our class definitions</h4>\n",
    "\n",
    "Below we test out the `EmployeeComposition` class and the `EmployeeAggregation` class by creating one object each of the two classes.  \n",
    "\n",
    "The only difference in how we create objects of the two different classes is the parameters that are passed each time we create the object."
   ]
  },
  {
   "cell_type": "markdown",
   "metadata": {},
   "source": [
    "<h4> Creating an object of the <font color = blue>EmployeeComposition</font> class</h4>\n",
    "\n",
    "Since the `Department` object is created inside the `__init__()` method of the `EmployeeComposition` class, when calling the `__init__()` method we need to pass arguments for the __instance variables__ of the `Department`."
   ]
  },
  {
   "cell_type": "code",
   "execution_count": 3,
   "metadata": {},
   "outputs": [
    {
     "name": "stdout",
     "output_type": "stream",
     "text": [
      "Emp Name: Jane Doe, Job Title: Senior Product Manager, Salary: $98,520.00, Department Name: Marketing, Number of employees: 54\n"
     ]
    }
   ],
   "source": [
    "emp1 = EmployeeComposition('Jane Doe', 'Senior Product Manager', 98520, 'Marketing', 54)\n",
    "print(emp1)"
   ]
  },
  {
   "cell_type": "markdown",
   "metadata": {},
   "source": [
    "<h4> Creating an object of the <font color = blue>EmployeeAggregation</font> class</h4>\n",
    "\n",
    "On the other hand when creating an object of the `EmployeeAggregation` class, since the `Department` object is created outside  the `__init__()` method of the `EmployeeAggregation` class, we first create the `Department` object and then pass the __Department object__ as an argument to the `__init__()` method of the  when calling the `__init__()` method. "
   ]
  },
  {
   "cell_type": "code",
   "execution_count": 6,
   "metadata": {},
   "outputs": [
    {
     "name": "stdout",
     "output_type": "stream",
     "text": [
      "Emp Name: Jane Doe, Job Title: Senior Product Manager, Salary: $98,520.00, Department Name: Marketing, Number of employees: 54\n"
     ]
    }
   ],
   "source": [
    "dept2 = Department('Marketing', 54) \n",
    "emp2 = EmployeeAggregation('Jane Doe', 'Senior Product Manager', 98520, dept2)\n",
    "print(emp2)"
   ]
  }
 ],
 "metadata": {
  "kernelspec": {
   "display_name": "Python 3 (ipykernel)",
   "language": "python",
   "name": "python3"
  },
  "language_info": {
   "codemirror_mode": {
    "name": "ipython",
    "version": 3
   },
   "file_extension": ".py",
   "mimetype": "text/x-python",
   "name": "python",
   "nbconvert_exporter": "python",
   "pygments_lexer": "ipython3",
   "version": "3.9.12"
  }
 },
 "nbformat": 4,
 "nbformat_minor": 2
}
